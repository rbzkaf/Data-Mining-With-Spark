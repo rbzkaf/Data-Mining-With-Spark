{
 "cells": [
  {
   "cell_type": "code",
   "execution_count": 922,
   "metadata": {
    "collapsed": true
   },
   "outputs": [],
   "source": [
    "import math\n",
    "\n",
    "from pyspark import RDD, SparkContext\n",
    "from sklearn.cluster import KMeans\n",
    "from collections import defaultdict\n",
    "import random\n",
    "from itertools import combinations\n",
    "\n",
    "from copy import deepcopy"
   ]
  },
  {
   "cell_type": "code",
   "execution_count": 373,
   "outputs": [],
   "source": [],
   "metadata": {
    "collapsed": false,
    "pycharm": {
     "name": "#%%\n"
    }
   }
  },
  {
   "cell_type": "code",
   "execution_count": 374,
   "outputs": [
    {
     "ename": "ValueError",
     "evalue": "Cannot run multiple SparkContexts at once; existing SparkContext(app=HW4, master=local) created by __init__ at <ipython-input-2-0a2feb455107>:1 ",
     "output_type": "error",
     "traceback": [
      "\u001B[0;31m---------------------------------------------------------------------------\u001B[0m",
      "\u001B[0;31mValueError\u001B[0m                                Traceback (most recent call last)",
      "\u001B[0;32m<ipython-input-374-0a2feb455107>\u001B[0m in \u001B[0;36m<module>\u001B[0;34m\u001B[0m\n\u001B[0;32m----> 1\u001B[0;31m \u001B[0msc\u001B[0m \u001B[0;34m=\u001B[0m \u001B[0mSparkContext\u001B[0m\u001B[0;34m(\u001B[0m\u001B[0;34m\"local\"\u001B[0m\u001B[0;34m,\u001B[0m \u001B[0;34m\"HW4\"\u001B[0m\u001B[0;34m)\u001B[0m\u001B[0;34m.\u001B[0m\u001B[0mgetOrCreate\u001B[0m\u001B[0;34m(\u001B[0m\u001B[0;34m)\u001B[0m\u001B[0;34m\u001B[0m\u001B[0;34m\u001B[0m\u001B[0m\n\u001B[0m\u001B[1;32m      2\u001B[0m \u001B[0msc\u001B[0m\u001B[0;34m.\u001B[0m\u001B[0msetLogLevel\u001B[0m\u001B[0;34m(\u001B[0m\u001B[0;34m\"WARN\"\u001B[0m\u001B[0;34m)\u001B[0m\u001B[0;34m\u001B[0m\u001B[0;34m\u001B[0m\u001B[0m\n",
      "\u001B[0;32m~/.pyenv/versions/3.6.15/envs/sparkhw/lib/python3.6/site-packages/pyspark/context.py\u001B[0m in \u001B[0;36m__init__\u001B[0;34m(self, master, appName, sparkHome, pyFiles, environment, batchSize, serializer, conf, gateway, jsc, profiler_cls)\u001B[0m\n\u001B[1;32m    142\u001B[0m                 \" is not allowed as it is a security risk.\")\n\u001B[1;32m    143\u001B[0m \u001B[0;34m\u001B[0m\u001B[0m\n\u001B[0;32m--> 144\u001B[0;31m         \u001B[0mSparkContext\u001B[0m\u001B[0;34m.\u001B[0m\u001B[0m_ensure_initialized\u001B[0m\u001B[0;34m(\u001B[0m\u001B[0mself\u001B[0m\u001B[0;34m,\u001B[0m \u001B[0mgateway\u001B[0m\u001B[0;34m=\u001B[0m\u001B[0mgateway\u001B[0m\u001B[0;34m,\u001B[0m \u001B[0mconf\u001B[0m\u001B[0;34m=\u001B[0m\u001B[0mconf\u001B[0m\u001B[0;34m)\u001B[0m\u001B[0;34m\u001B[0m\u001B[0;34m\u001B[0m\u001B[0m\n\u001B[0m\u001B[1;32m    145\u001B[0m         \u001B[0;32mtry\u001B[0m\u001B[0;34m:\u001B[0m\u001B[0;34m\u001B[0m\u001B[0;34m\u001B[0m\u001B[0m\n\u001B[1;32m    146\u001B[0m             self._do_init(master, appName, sparkHome, pyFiles, environment, batchSize, serializer,\n",
      "\u001B[0;32m~/.pyenv/versions/3.6.15/envs/sparkhw/lib/python3.6/site-packages/pyspark/context.py\u001B[0m in \u001B[0;36m_ensure_initialized\u001B[0;34m(cls, instance, gateway, conf)\u001B[0m\n\u001B[1;32m    345\u001B[0m                         \u001B[0;34m\" created by %s at %s:%s \"\u001B[0m\u001B[0;34m\u001B[0m\u001B[0;34m\u001B[0m\u001B[0m\n\u001B[1;32m    346\u001B[0m                         % (currentAppName, currentMaster,\n\u001B[0;32m--> 347\u001B[0;31m                             callsite.function, callsite.file, callsite.linenum))\n\u001B[0m\u001B[1;32m    348\u001B[0m                 \u001B[0;32melse\u001B[0m\u001B[0;34m:\u001B[0m\u001B[0;34m\u001B[0m\u001B[0;34m\u001B[0m\u001B[0m\n\u001B[1;32m    349\u001B[0m                     \u001B[0mSparkContext\u001B[0m\u001B[0;34m.\u001B[0m\u001B[0m_active_spark_context\u001B[0m \u001B[0;34m=\u001B[0m \u001B[0minstance\u001B[0m\u001B[0;34m\u001B[0m\u001B[0;34m\u001B[0m\u001B[0m\n",
      "\u001B[0;31mValueError\u001B[0m: Cannot run multiple SparkContexts at once; existing SparkContext(app=HW4, master=local) created by __init__ at <ipython-input-2-0a2feb455107>:1 "
     ]
    }
   ],
   "source": [
    "sc = SparkContext(\"local\", \"HW4\").getOrCreate()\n",
    "sc.setLogLevel(\"WARN\")"
   ],
   "metadata": {
    "collapsed": false,
    "pycharm": {
     "name": "#%%\n"
    }
   }
  },
  {
   "cell_type": "code",
   "execution_count": null,
   "outputs": [],
   "source": [],
   "metadata": {
    "collapsed": false,
    "pycharm": {
     "name": "#%%\n"
    }
   }
  },
  {
   "cell_type": "code",
   "execution_count": 1560,
   "outputs": [],
   "source": [
    "def zero_vector():\n",
    "    return [0.0 for _ in range(n_dim)]\n",
    "\n",
    "\n",
    "def maha_dist(point, DS_N, DS_SUM, DS_SUM_SQ):\n",
    "\n",
    "    distances_to_cluster = {}\n",
    "    for cluster,_ in DS_N.items():\n",
    "\n",
    "        d = 0\n",
    "        N = DS_N[cluster]\n",
    "        SUM = DS_SUM[cluster]\n",
    "        SUM_SQ = DS_SUM_SQ[cluster]\n",
    "        #print(N,SUM, SUM_SQ)\n",
    "\n",
    "        centroid = [sum/N for sum in SUM]\n",
    "        sigma =  [ ((SUM_SQ[i]/N) - centroid[i]**2)**0.5 for i in range(len(SUM_SQ))]\n",
    "\n",
    "        for i in range(len(centroid)):\n",
    "            d += pow((point[i] - centroid[i]) / sigma[i], 2)\n",
    "\n",
    "        distances_to_cluster[cluster] = d**0.5\n",
    "\n",
    "\n",
    "    return(point, distances_to_cluster)\n",
    "\n",
    "def summarize_results_of_round(round_num):\n",
    "    num_discard_pts = 0\n",
    "    for cluster,points in DS_N.items():\n",
    "        num_discard_pts+=points\n",
    "\n",
    "    num_cs_clusters = 0\n",
    "    num_cs_pts = 0\n",
    "    for cluster,points in CS_N.items():\n",
    "        num_cs_clusters+=1\n",
    "        num_cs_pts+=points\n",
    "\n",
    "    num_rs_points = len(RS_set)\n",
    "    round_output.append([round_num, num_discard_pts, num_cs_clusters, num_cs_pts, num_rs_points])\n",
    "\n",
    "def inter_cluster_maha_distance_CS(CS_id1, CS_id2):\n",
    "    distances_to_cluster = {}\n",
    "    # CLUSTER 1\n",
    "    N1 = CS_N[CS_id1]\n",
    "    SUM1 = CS_SUM[CS_id1]\n",
    "    SUM_SQ1 = CS_SUM_SQ[CS_id1]\n",
    "\n",
    "    centroid1 = [sum/N1 for sum in SUM1]\n",
    "    sigma1 =  [ ((SUM_SQ1[i]/N1) - centroid1[i]**2)**0.5 for i in range(len(SUM_SQ1))]\n",
    "\n",
    "    #print(centroid1,sigma1)\n",
    "    #CLUSTER 2\n",
    "    N2 = CS_N[CS_id2]\n",
    "    SUM2 = CS_SUM[CS_id2]\n",
    "    SUM_SQ2 = CS_SUM_SQ[CS_id2]\n",
    "\n",
    "    centroid2 = [sum/N2 for sum in SUM2]\n",
    "    sigma2 =  [ ((SUM_SQ2[i]/N2) - centroid2[i]**2)**0.5 for i in range(len(SUM_SQ2))]\n",
    "    #print(centroid2,sigma2)\n",
    "\n",
    "    d = 0\n",
    "    #d2 = 0\n",
    "    for i in range(len(centroid1)):\n",
    "        d += pow((centroid1[i] - centroid2[i]) / (sigma1[i] * sigma2[i]), 2)\n",
    "        #d2 += pow((centroid1[i] - centroid2[i]) / sigma2[i], 2)\n",
    "\n",
    "\n",
    "    return d**0.5\n",
    "\n",
    "\n",
    "\n",
    "def merge_CS_cluster(cluster1, cluster2):\n",
    "\n",
    "    CS_N[cluster1] += CS_N[cluster2]\n",
    "    CS_SUM[cluster1]=[sum(x) for x in zip(CS_SUM[cluster1], CS_SUM[cluster2])]\n",
    "    CS_SUM_SQ[cluster1]=[sum(x) for x in zip(CS_SUM_SQ[cluster1], CS_SUM_SQ[cluster2])]\n",
    "    CS_N.pop(cluster2)\n",
    "    CS_SUM.pop(cluster2)\n",
    "    CS_SUM_SQ.pop(cluster2)\n",
    "\n",
    "def inter_cluster_maha_distance_CS_DS(CS_id1, DS_ID):\n",
    "    distances_to_cluster = {}\n",
    "    # CLUSTER 1\n",
    "    N1 = CS_N[CS_id1]\n",
    "    SUM1 = CS_SUM[CS_id1]\n",
    "    SUM_SQ1 = CS_SUM_SQ[CS_id1]\n",
    "    #print(N1, SUM1,SUM_SQ1)\n",
    "    centroid1 = [sum/N1 for sum in SUM1]\n",
    "    sigma1 =  [ ((SUM_SQ1[i]/N1) - centroid1[i]**2)**0.5 for i in range(len(SUM_SQ1))]\n",
    "    #print(centroid1, sigma1)\n",
    "\n",
    "    #CLUSTER 2\n",
    "    N2 = DS_N[DS_ID]\n",
    "    SUM2 = DS_SUM[DS_ID]\n",
    "    SUM_SQ2 = DS_SUM_SQ[DS_ID]\n",
    "    #print(N2, SUM2,SUM_SQ2)\n",
    "    centroid2 = [sum/N2 for sum in SUM2]\n",
    "    sigma2 =  [ ((SUM_SQ2[i]/N2) - centroid2[i]**2)**0.5 for i in range(len(SUM_SQ2))]\n",
    "    #print(centroid2,sigma2)\n",
    "\n",
    "    d = 0\n",
    "    #d2 = 0\n",
    "    for i in range(len(centroid1)):\n",
    "        d += pow((centroid1[i] - centroid2[i]) / (sigma1[i] * sigma2[i]), 2)\n",
    "    return d**1/2\n",
    "\n",
    "\n",
    "def get_cluster_distances(point):\n",
    "    distance = {}\n",
    "    for cluster, centroid in DS_Centroids.items():\n",
    "        c_dist = 0\n",
    "        for i in range(len(point)):\n",
    "            c_dist += (point[i] - centroid[i]) ** 2\n",
    "        distance[cluster] = float(c_dist ** (0.5))\n",
    "\n",
    "    return (distance)\n",
    "\n",
    "\n",
    "def assign_cluster(point):\n",
    "    id = point[0]\n",
    "    vector = point[1]\n",
    "    if vector in RS_set:\n",
    "        return -1\n",
    "    dist_dict = get_cluster_distances(vector)\n",
    "    closest = min(dist_dict.items(), key=lambda x: x[1])\n",
    "    return (closest[0])"
   ],
   "metadata": {
    "collapsed": false,
    "pycharm": {
     "name": "#%%\n"
    }
   }
  },
  {
   "cell_type": "code",
   "execution_count": 1634,
   "outputs": [],
   "source": [
    "input = \"data.txt\"\n",
    "\n",
    "n_cluster = 10\n",
    "output = \"outpu22t.txt\"\n",
    "round_output = []\n",
    "\n"
   ],
   "metadata": {
    "collapsed": false,
    "pycharm": {
     "name": "#%%\n"
    }
   }
  },
  {
   "cell_type": "markdown",
   "source": [],
   "metadata": {
    "collapsed": false
   }
  },
  {
   "cell_type": "code",
   "execution_count": 1562,
   "outputs": [],
   "source": [
    "inputRDD = sc.textFile(input).map(lambda line: [float(x) for x in line.split(',')])"
   ],
   "metadata": {
    "collapsed": false,
    "pycharm": {
     "name": "#%%\n"
    }
   }
  },
  {
   "cell_type": "markdown",
   "source": [
    "STEP 1"
   ],
   "metadata": {
    "collapsed": false
   }
  },
  {
   "cell_type": "code",
   "execution_count": 1563,
   "outputs": [],
   "source": [
    "random.seed(23)"
   ],
   "metadata": {
    "collapsed": false,
    "pycharm": {
     "name": "#%%\n"
    }
   }
  },
  {
   "cell_type": "code",
   "execution_count": 1564,
   "outputs": [],
   "source": [
    "shuffled_data = inputRDD.map(lambda x: (x, random.random())).sortBy(lambda x:x[1]).map(lambda x:x[0]).collect()"
   ],
   "metadata": {
    "collapsed": false,
    "pycharm": {
     "name": "#%%\n"
    }
   }
  },
  {
   "cell_type": "code",
   "execution_count": 1565,
   "outputs": [],
   "source": [
    "subset_size = int(len(shuffled_data)/5)"
   ],
   "metadata": {
    "collapsed": false,
    "pycharm": {
     "name": "#%%\n"
    }
   }
  },
  {
   "cell_type": "code",
   "execution_count": 1566,
   "outputs": [],
   "source": [
    "splits = [0, subset_size, subset_size*2, subset_size*3, subset_size*4, len(shuffled_data)]"
   ],
   "metadata": {
    "collapsed": false,
    "pycharm": {
     "name": "#%%\n"
    }
   }
  },
  {
   "cell_type": "code",
   "execution_count": 1567,
   "outputs": [],
   "source": [
    "k_means_input = [i[2:] for i in shuffled_data[splits[0]:splits[1]]]"
   ],
   "metadata": {
    "collapsed": false,
    "pycharm": {
     "name": "#%%\n"
    }
   }
  },
  {
   "cell_type": "code",
   "execution_count": 1568,
   "outputs": [],
   "source": [
    "n_dim = len(k_means_input[0])\n",
    "threshold = 2 * (n_dim ** (0.5))"
   ],
   "metadata": {
    "collapsed": false,
    "pycharm": {
     "name": "#%%\n"
    }
   }
  },
  {
   "cell_type": "markdown",
   "source": [
    "STEP 2"
   ],
   "metadata": {
    "collapsed": false
   }
  },
  {
   "cell_type": "code",
   "execution_count": 1569,
   "outputs": [],
   "source": [
    "k_means = KMeans(n_clusters=n_cluster*15).fit(k_means_input)"
   ],
   "metadata": {
    "collapsed": false,
    "pycharm": {
     "name": "#%%\n"
    }
   }
  },
  {
   "cell_type": "markdown",
   "source": [
    "STEP 3"
   ],
   "metadata": {
    "collapsed": false
   }
  },
  {
   "cell_type": "code",
   "execution_count": 1570,
   "outputs": [],
   "source": [
    "RS_dict = defaultdict(int)"
   ],
   "metadata": {
    "collapsed": false,
    "pycharm": {
     "name": "#%%\n"
    }
   }
  },
  {
   "cell_type": "code",
   "execution_count": 1571,
   "outputs": [],
   "source": [
    "for assignment in k_means.labels_:\n",
    "    RS_dict[assignment]+=1"
   ],
   "metadata": {
    "collapsed": false,
    "pycharm": {
     "name": "#%%\n"
    }
   }
  },
  {
   "cell_type": "code",
   "execution_count": 1572,
   "outputs": [],
   "source": [
    "RS_clusters  = [k for k,v in RS_dict.items() if v==1]"
   ],
   "metadata": {
    "collapsed": false,
    "pycharm": {
     "name": "#%%\n"
    }
   }
  },
  {
   "cell_type": "code",
   "execution_count": 1573,
   "outputs": [],
   "source": [
    "RS_set = []\n",
    "RS_idx = []"
   ],
   "metadata": {
    "collapsed": false,
    "pycharm": {
     "name": "#%%\n"
    }
   }
  },
  {
   "cell_type": "code",
   "execution_count": 1574,
   "outputs": [],
   "source": [
    "for idx, cluster in enumerate(k_means.labels_):\n",
    "    if cluster in RS_clusters:\n",
    "        RS_idx.append(idx)\n",
    "        RS_set.append(k_means_input[idx])"
   ],
   "metadata": {
    "collapsed": false,
    "pycharm": {
     "name": "#%%\n"
    }
   }
  },
  {
   "cell_type": "code",
   "execution_count": 1575,
   "outputs": [],
   "source": [
    "k_means_input_2 = [point for idx,point in enumerate(k_means_input) if idx not in RS_idx]"
   ],
   "metadata": {
    "collapsed": false,
    "pycharm": {
     "name": "#%%\n"
    }
   }
  },
  {
   "cell_type": "markdown",
   "source": [
    "STEP 4"
   ],
   "metadata": {
    "collapsed": false
   }
  },
  {
   "cell_type": "code",
   "execution_count": 1576,
   "outputs": [],
   "source": [
    "k_means = KMeans(n_clusters=n_cluster).fit(k_means_input_2)"
   ],
   "metadata": {
    "collapsed": false,
    "pycharm": {
     "name": "#%%\n"
    }
   }
  },
  {
   "cell_type": "markdown",
   "source": [
    "STEP 5"
   ],
   "metadata": {
    "collapsed": false
   }
  },
  {
   "cell_type": "code",
   "execution_count": 1577,
   "outputs": [],
   "source": [
    "DS_N = defaultdict(int)\n",
    "DS_SUM = defaultdict(zero_vector)\n",
    "DS_SUM_SQ = defaultdict(zero_vector)\n",
    "for idx, cluster in enumerate(k_means.labels_):\n",
    "    DS_N[cluster]+=1\n",
    "    #DS_SUM[cluster]=k_means_input_2[idx]\n",
    "    DS_SUM[cluster]=[sum(x) for x in zip(DS_SUM[cluster], k_means_input_2[idx])]\n",
    "    DS_SUM_SQ[cluster]=[sum(x) for x in zip(DS_SUM_SQ[cluster], [x**2 for x in k_means_input_2[idx]])]"
   ],
   "metadata": {
    "collapsed": false,
    "pycharm": {
     "name": "#%%\n"
    }
   }
  },
  {
   "cell_type": "code",
   "execution_count": 1578,
   "outputs": [
    {
     "data": {
      "text/plain": "defaultdict(<function __main__.zero_vector()>,\n            {4: [978561.7243845094,\n              -864129.3929123798,\n              932660.1178491778,\n              -841067.7083465558,\n              -932405.8763028594,\n              878818.5391262601,\n              -956067.6776580799,\n              940398.4401614534,\n              -985980.615347457,\n              -886602.7681569222],\n             7: [616747.1408328012,\n              -594004.582612324,\n              547227.2018264135,\n              582006.7706795882,\n              -595627.4490728762,\n              -630659.3316867265,\n              -575234.4679668192,\n              -490086.5542190606,\n              -558720.3504178697,\n              630792.0430051644],\n             2: [762466.7753325464,\n              -790400.8500304486,\n              -796490.6963693078,\n              -743156.8813795155,\n              796851.9896124286,\n              752142.4571814474,\n              810495.2763102924,\n              799606.143945496,\n              781112.5565558788,\n              776322.3437647809],\n             3: [-1025848.9481025084,\n              -976112.9814755447,\n              -964087.8415906165,\n              -958046.5394059978,\n              -1013765.4367584545,\n              -995333.6330444998,\n              1044802.4744275184,\n              -1026064.8406714923,\n              1050085.6479707446,\n              988138.6981984643],\n             6: [-513310.1062924455,\n              -439443.8939084326,\n              -536827.6168587852,\n              -517925.7192701801,\n              432782.34406209143,\n              542746.9300511847,\n              -536266.9512400477,\n              -439870.76444890274,\n              -519504.65035372647,\n              -543144.4359455081],\n             1: [1457952.6594837122,\n              -1556102.489577088,\n              -1442490.2674455813,\n              1525371.700208116,\n              1564861.4455143916,\n              -1473744.5504778484,\n              1541010.2872922723,\n              1563069.762683143,\n              1488663.8397505796,\n              -1540912.8119976108],\n             9: [30413.966124920396,\n              -266.2522550943059,\n              -43455.131851192935,\n              54767.324375290824,\n              -36745.18189256274,\n              55233.704562290826,\n              48803.0432478591,\n              515.611062688998,\n              -42981.46048718177,\n              -42945.25336322914],\n             0: [-218813.31737667954,\n              252782.9093642987,\n              304196.40180641017,\n              290181.66884696035,\n              -252065.88516646228,\n              -316708.3133458961,\n              -213320.70114899546,\n              -206861.9227797644,\n              -246935.41910813245,\n              -303959.79256826726],\n             8: [-369267.2631590908,\n              -247696.1283865393,\n              -305440.731121076,\n              288889.7906077861,\n              -361265.74149855826,\n              337298.9015013067,\n              313262.778533531,\n              288972.9865533636,\n              272953.5990825587,\n              368031.74036005035],\n             5: [-588561.6416829189,\n              -543513.2035370916,\n              -538454.7441975371,\n              534985.024786527,\n              542938.8672577296,\n              -524544.1936232737,\n              502621.6912150739,\n              575048.7882156101,\n              -543415.2766011715,\n              547496.4722698771]})"
     },
     "execution_count": 1578,
     "metadata": {},
     "output_type": "execute_result"
    }
   ],
   "source": [
    "DS_SUM"
   ],
   "metadata": {
    "collapsed": false,
    "pycharm": {
     "name": "#%%\n"
    }
   }
  },
  {
   "cell_type": "markdown",
   "source": [
    "STEP 6"
   ],
   "metadata": {
    "collapsed": false
   }
  },
  {
   "cell_type": "code",
   "execution_count": 1579,
   "outputs": [],
   "source": [
    "try:\n",
    "    k_means = KMeans(n_clusters=int(len(RS_set)*0.9)).fit(RS_set)\n",
    "    #k_means = KMeans(n_clusters=n_cluster*2).fit(RS_set)\n",
    "except(ValueError):\n",
    "    k_means = KMeans(n_clusters=len(RS_set)).fit(RS_set)"
   ],
   "metadata": {
    "collapsed": false,
    "pycharm": {
     "name": "#%%\n"
    }
   }
  },
  {
   "cell_type": "code",
   "execution_count": 1580,
   "outputs": [],
   "source": [
    "# Leave RS that has single elements alone\n",
    "RS_dict_new = defaultdict(int)\n",
    "#for assignment in k_means.labels_:\n",
    "for assignment in k_means.labels_:\n",
    "    RS_dict_new[assignment] += 1"
   ],
   "metadata": {
    "collapsed": false,
    "pycharm": {
     "name": "#%%\n"
    }
   }
  },
  {
   "cell_type": "code",
   "execution_count": 1581,
   "outputs": [],
   "source": [
    "RS_set_new = []"
   ],
   "metadata": {
    "collapsed": false,
    "pycharm": {
     "name": "#%%\n"
    }
   }
  },
  {
   "cell_type": "code",
   "execution_count": 1582,
   "outputs": [],
   "source": [
    "RS_clusters_new = [k for k, v in RS_dict_new.items() if v == 1]"
   ],
   "metadata": {
    "collapsed": false,
    "pycharm": {
     "name": "#%%\n"
    }
   }
  },
  {
   "cell_type": "code",
   "execution_count": 1583,
   "outputs": [],
   "source": [
    "for idx, cluster in enumerate(k_means.labels_):\n",
    "    if cluster in RS_clusters_new:\n",
    "        RS_set_new.append(RS_set[idx])"
   ],
   "metadata": {
    "collapsed": false,
    "pycharm": {
     "name": "#%%\n"
    }
   }
  },
  {
   "cell_type": "code",
   "execution_count": 1584,
   "outputs": [
    {
     "data": {
      "text/plain": "12"
     },
     "execution_count": 1584,
     "metadata": {},
     "output_type": "execute_result"
    }
   ],
   "source": [
    "len(RS_set_new)"
   ],
   "metadata": {
    "collapsed": false,
    "pycharm": {
     "name": "#%%\n"
    }
   }
  },
  {
   "cell_type": "code",
   "execution_count": 1585,
   "outputs": [],
   "source": [
    "CS_set = []"
   ],
   "metadata": {
    "collapsed": false,
    "pycharm": {
     "name": "#%%\n"
    }
   }
  },
  {
   "cell_type": "code",
   "execution_count": 1586,
   "outputs": [],
   "source": [
    "CS_clusters_new = [k for k, v in RS_dict_new.items() if v != 1]"
   ],
   "metadata": {
    "collapsed": false,
    "pycharm": {
     "name": "#%%\n"
    }
   }
  },
  {
   "cell_type": "code",
   "execution_count": 1587,
   "outputs": [
    {
     "data": {
      "text/plain": "[3, 7]"
     },
     "execution_count": 1587,
     "metadata": {},
     "output_type": "execute_result"
    }
   ],
   "source": [
    "CS_clusters_new"
   ],
   "metadata": {
    "collapsed": false,
    "pycharm": {
     "name": "#%%\n"
    }
   }
  },
  {
   "cell_type": "code",
   "execution_count": 1588,
   "outputs": [],
   "source": [
    "#for idx, cluster in enumerate(k_means.labels_):\n",
    "for idx, cluster in enumerate(k_means.labels_):\n",
    "    if cluster in CS_clusters_new:\n",
    "        CS_set.append((cluster, RS_set[idx]))"
   ],
   "metadata": {
    "collapsed": false,
    "pycharm": {
     "name": "#%%\n"
    }
   }
  },
  {
   "cell_type": "code",
   "execution_count": 1589,
   "outputs": [
    {
     "data": {
      "text/plain": "[(3,\n  [727.9210742312863,\n   855.8532659456439,\n   645.3926646449108,\n   549.2529438142071,\n   882.5475231322887,\n   822.3497185455697,\n   680.5010772147245,\n   941.4391835684437,\n   786.365706185587,\n   511.36150889816304]),\n (3,\n  [633.935278461237,\n   827.3916656957927,\n   787.731869223562,\n   713.225653725925,\n   883.2224037489441,\n   812.5208518305931,\n   742.7999339388975,\n   792.9131072654568,\n   633.8048379858103,\n   596.7692107130416]),\n (7,\n  [926.3919413069962,\n   636.1659751280349,\n   717.0570669250868,\n   897.9535339242541,\n   788.3146958601612,\n   672.7337145809307,\n   590.6979270459199,\n   896.0154170747182,\n   887.4563722204036,\n   851.8592279550278]),\n (7,\n  [836.864423352014,\n   804.4107284103391,\n   532.8135000398509,\n   760.8771569892986,\n   550.8845688899164,\n   662.1520455102433,\n   739.2301733918056,\n   801.4815742066087,\n   736.730931435796,\n   712.2317369411039])]"
     },
     "execution_count": 1589,
     "metadata": {},
     "output_type": "execute_result"
    }
   ],
   "source": [
    "CS_set"
   ],
   "metadata": {
    "collapsed": false,
    "pycharm": {
     "name": "#%%\n"
    }
   }
  },
  {
   "cell_type": "code",
   "execution_count": 1591,
   "outputs": [],
   "source": [
    "CS_N = defaultdict(int)\n",
    "CS_SUM = defaultdict(zero_vector)\n",
    "CS_SUM_SQ = defaultdict(zero_vector)\n",
    "for cluster, point in CS_set:\n",
    "    CS_N[cluster]+=1\n",
    "    CS_SUM[cluster]=[sum(x) for x in zip(CS_SUM[cluster], point)]\n",
    "    CS_SUM_SQ[cluster]=[sum(x) for x in zip(CS_SUM_SQ[cluster], [x**2 for x in point])]"
   ],
   "metadata": {
    "collapsed": false,
    "pycharm": {
     "name": "#%%\n"
    }
   }
  },
  {
   "cell_type": "code",
   "execution_count": 1592,
   "outputs": [
    {
     "data": {
      "text/plain": "defaultdict(int, {3: 2, 7: 2})"
     },
     "execution_count": 1592,
     "metadata": {},
     "output_type": "execute_result"
    }
   ],
   "source": [
    "CS_N"
   ],
   "metadata": {
    "collapsed": false,
    "pycharm": {
     "name": "#%%\n"
    }
   }
  },
  {
   "cell_type": "code",
   "execution_count": 1593,
   "outputs": [],
   "source": [
    "RS_set = RS_set_new"
   ],
   "metadata": {
    "collapsed": false,
    "pycharm": {
     "name": "#%%\n"
    }
   }
  },
  {
   "cell_type": "code",
   "execution_count": 1594,
   "outputs": [],
   "source": [
    "summarize_results_of_round(1)"
   ],
   "metadata": {
    "collapsed": false,
    "pycharm": {
     "name": "#%%\n"
    }
   }
  },
  {
   "cell_type": "code",
   "execution_count": 1595,
   "outputs": [
    {
     "data": {
      "text/plain": "[[1, 64446, 2, 4, 12]]"
     },
     "execution_count": 1595,
     "metadata": {},
     "output_type": "execute_result"
    }
   ],
   "source": [
    "round_output"
   ],
   "metadata": {
    "collapsed": false,
    "pycharm": {
     "name": "#%%\n"
    }
   }
  },
  {
   "cell_type": "markdown",
   "source": [
    "STEP 7"
   ],
   "metadata": {
    "collapsed": false
   }
  },
  {
   "cell_type": "code",
   "execution_count": 1598,
   "outputs": [
    {
     "name": "stdout",
     "output_type": "stream",
     "text": [
      "defaultdict(<class 'int'>, {4: 7643, 7: 7000, 2: 4794, 3: 6179, 6: 6099, 1: 7555, 9: 6135, 0: 6458, 8: 8019, 5: 4564})\n",
      "defaultdict(<function zero_vector at 0x1a7bba048>, {4: [978561.7243845094, -864129.3929123798, 932660.1178491778, -841067.7083465558, -932405.8763028594, 878818.5391262601, -956067.6776580799, 940398.4401614534, -985980.615347457, -886602.7681569222], 7: [616747.1408328012, -594004.582612324, 547227.2018264135, 582006.7706795882, -595627.4490728762, -630659.3316867265, -575234.4679668192, -490086.5542190606, -558720.3504178697, 630792.0430051644], 2: [762466.7753325464, -790400.8500304486, -796490.6963693078, -743156.8813795155, 796851.9896124286, 752142.4571814474, 810495.2763102924, 799606.143945496, 781112.5565558788, 776322.3437647809], 3: [-1025848.9481025084, -976112.9814755447, -964087.8415906165, -958046.5394059978, -1013765.4367584545, -995333.6330444998, 1044802.4744275184, -1026064.8406714923, 1050085.6479707446, 988138.6981984643], 6: [-513310.1062924455, -439443.8939084326, -536827.6168587852, -517925.7192701801, 432782.34406209143, 542746.9300511847, -536266.9512400477, -439870.76444890274, -519504.65035372647, -543144.4359455081], 1: [1457952.6594837122, -1556102.489577088, -1442490.2674455813, 1525371.700208116, 1564861.4455143916, -1473744.5504778484, 1541010.2872922723, 1563069.762683143, 1488663.8397505796, -1540912.8119976108], 9: [30413.966124920396, -266.2522550943059, -43455.131851192935, 54767.324375290824, -36745.18189256274, 55233.704562290826, 48803.0432478591, 515.611062688998, -42981.46048718177, -42945.25336322914], 0: [-218813.31737667954, 252782.9093642987, 304196.40180641017, 290181.66884696035, -252065.88516646228, -316708.3133458961, -213320.70114899546, -206861.9227797644, -246935.41910813245, -303959.79256826726], 8: [-369267.2631590908, -247696.1283865393, -305440.731121076, 288889.7906077861, -361265.74149855826, 337298.9015013067, 313262.778533531, 288972.9865533636, 272953.5990825587, 368031.74036005035], 5: [-588561.6416829189, -543513.2035370916, -538454.7441975371, 534985.024786527, 542938.8672577296, -524544.1936232737, 502621.6912150739, 575048.7882156101, -543415.2766011715, 547496.4722698771]})\n",
      "New RS points\n",
      "(7, 237.00934996798964)\n",
      "still in rs\n",
      "(7, 341.486666532288)\n",
      "still in rs\n",
      "(7, 287.5425312165581)\n",
      "still in rs\n",
      "(7, 12.257678500596729)\n",
      "still in rs\n",
      "(7, 49.352128018545116)\n",
      "still in rs\n",
      "(7, 225.94112267001378)\n",
      "still in rs\n",
      "(7, 60.80521990800457)\n",
      "still in rs\n",
      "(7, 329.07443289249886)\n",
      "still in rs\n",
      "(7, 312.05323542855575)\n",
      "still in rs\n",
      "(7, 32.095107643855414)\n",
      "still in rs\n",
      "(7, 27.917470513419833)\n",
      "still in rs\n",
      "(7, 255.41082696263953)\n",
      "still in rs\n",
      "(7, 249.28251156293035)\n",
      "still in rs\n",
      "(7, 148.69285901540673)\n",
      "still in rs\n",
      "(7, 78.3572680781136)\n",
      "still in rs\n",
      "(7, 281.6644054522424)\n",
      "still in rs\n",
      "(7, 298.5542076774858)\n",
      "still in rs\n",
      "(7, 16.33479342399703)\n",
      "still in rs\n",
      "(7, 298.1150732597352)\n",
      "still in rs\n",
      "(7, 19.565443107855668)\n",
      "still in rs\n",
      "(7, 219.27131491105305)\n",
      "still in rs\n",
      "(7, 244.26797693939253)\n",
      "still in rs\n",
      "(7, 145.32396456048943)\n",
      "still in rs\n",
      "(7, 343.2398147136217)\n",
      "still in rs\n",
      "defaultdict(<class 'int'>, {4: 15026, 7: 13969, 2: 9622, 3: 12621, 6: 12116, 1: 15137, 9: 12500, 0: 12886, 8: 15894, 5: 9113})\n",
      "defaultdict(<function zero_vector at 0x1a7bba048>, {4: [1923603.0046675194, -1698062.2218292197, 1833003.8248563258, -1653441.5550951282, -1832901.015429191, 1728257.6257706191, -1878990.7886716586, 1848675.6015901556, -1938156.911049856, -1742518.7617966102], 7: [1230179.9737756439, -1186657.608632246, 1090103.0252870573, 1160346.661356864, -1188586.721948423, -1258496.1839862885, -1146593.2911899756, -978524.4792903803, -1116583.9456431356, 1256934.5212150665], 2: [1531106.2780162196, -1587286.35457922, -1597378.670301596, -1492189.6648646279, 1597611.2731860878, 1510666.0245387065, 1626558.0492045186, 1605198.717679403, 1568503.858197174, 1558031.8248494344], 3: [-2095244.3107222135, -1994218.5799788835, -1969006.3677350858, -1957201.0600287006, -2070384.5408352881, -2032724.5809046794, 2133656.591527874, -2094790.4844286758, 2145892.3421482123, 2019621.9260534025], 6: [-1018772.2583173815, -873212.2241724296, -1065602.9669303687, -1028896.290622023, 861072.6941366325, 1079756.6714484906, -1066160.026381757, -874145.5185295775, -1031532.6279390418, -1079587.530415216], 1: [2921034.3345210054, -3117833.191013773, -2890712.9907735516, 3057079.052404706, 3135155.820681411, -2951649.159198199, 3087915.4157351055, 3132752.475234065, 2981978.039671154, -3087523.2276152777], 9: [62073.666060104355, -646.018346972332, -88215.49916573439, 112131.30679628911, -75115.13454762589, 112339.08104458898, 99411.74420953885, 240.40279381043263, -86892.0451836404, -87100.02092513248], 0: [-436986.9619805273, 503248.3429585017, 605206.2634700697, 578549.8722627722, -501688.6800203453, -631685.5503780253, -425898.269402663, -412781.8466286085, -491045.2428470447, -604722.0184824171], 8: [-731660.7686792039, -491579.53941813076, -603994.3814912996, 571939.2334427794, -716748.8537885502, 668443.5308344328, 619653.523610332, 572446.0734273962, 541002.819926702, 730495.3863833908], 5: [-1175538.8286629356, -1084829.1333586555, -1075228.1417358033, 1067218.6807574779, 1083987.3570189024, -1047655.5351814167, 1002085.5640613734, 1147666.1762266683, -1084005.7228945424, 1093752.263301399]})\n",
      "New RS points\n",
      "(3, 2.1179036118611765)\n",
      "move to cs\n",
      "(3, 6.460254120443063)\n",
      "still in rs\n",
      "(3, 2.085328442933445)\n",
      "move to cs\n",
      "(3, 2.742722511398721)\n",
      "move to cs\n",
      "(3, 1.7663135461198967)\n",
      "move to cs\n",
      "(3, 2.3394051305887755)\n",
      "move to cs\n",
      "(3, 8.557891589532234)\n",
      "still in rs\n",
      "(3, 7.482561597344271)\n",
      "still in rs\n",
      "(3, 2.498945076613034)\n",
      "move to cs\n",
      "(3, 2.5464216313413015)\n",
      "move to cs\n",
      "(3, 8.771424624291605)\n",
      "still in rs\n",
      "(3, 2.6846933838750338)\n",
      "move to cs\n",
      "(3, 7.6875988470946846)\n",
      "still in rs\n",
      "(3, 8.456622115632168)\n",
      "still in rs\n",
      "(3, 7.723977889894718)\n",
      "still in rs\n",
      "(3, 1.7643560300975318)\n",
      "move to cs\n",
      "(3, 7.583082245052979)\n",
      "still in rs\n",
      "(3, 1.3970669015032318)\n",
      "move to cs\n",
      "defaultdict(<class 'int'>, {4: 22599, 7: 21061, 2: 14388, 3: 18895, 6: 18152, 1: 22755, 9: 18812, 0: 19363, 8: 23742, 5: 13561})\n",
      "defaultdict(<function zero_vector at 0x1a7bba048>, {4: [2892679.092326875, -2553764.7887778105, 2757365.5736129847, -2486389.830816398, -2757268.6077184873, 2599464.1536266697, -2825566.6221798714, 2780046.157334416, -2915426.3172952714, -2621383.9544340554], 7: [1854650.1259229097, -1790370.001123573, 1643340.3644476286, 1749108.8327156517, -1792288.1045844185, -1895689.3206066266, -1726990.8702180309, -1474366.1204167006, -1684411.7408070036, 1895447.7332135483], 2: [2288271.7440417535, -2373475.1322322236, -2388171.9341825517, -2230044.619804363, 2389591.433322253, 2258838.545130191, 2431794.668980051, 2401169.5909086796, 2345669.252959312, 2330956.4159475174], 3: [-3135956.84434496, -2985810.2560376297, -2947965.7428429695, -2928421.7092186813, -3098707.587631583, -3042964.680533154, 3192017.472533867, -3136304.458713313, 3211024.53616824, 3024304.880712162], 6: [-1526311.5058344305, -1309152.6297869214, -1596954.6738868563, -1542150.85375176, 1289435.267052592, 1618003.3682469416, -1596628.7972467362, -1308448.414271892, -1545010.7403606737, -1616149.9712665053], 1: [4391974.879308594, -4686650.007752168, -4346675.473977422, 4596011.154871783, 4711440.597827254, -4437135.033201577, 4641968.647907854, 4709904.638890568, 4482719.691191814, -4641727.803691002], 9: [93502.27416418068, -625.3880643071902, -131913.54802750758, 168965.62292437046, -112581.2662953629, 169689.1277968987, 149712.3131079301, 217.88258927937585, -130638.0003968513, -131195.25359071928], 0: [-656986.092698669, 756125.9988604434, 910739.2286741458, 869947.7045451653, -753411.3008575501, -949209.2941303996, -640676.5121855751, -619831.1359283198, -737735.9829978405, -909179.5994045368], 8: [-1093696.1205332053, -736345.9103062827, -902841.203793472, 852813.5071478551, -1068861.4889857515, 997469.6756644007, 925880.12397088, 855286.4382382358, 808003.4851320196, 1091194.3007304182], 5: [-1748943.9687420223, -1614194.1416917683, -1600242.714051744, 1588220.3654638121, 1613313.8074013735, -1559018.5709757656, 1491470.0150004947, 1707729.6940344116, -1613826.0091493248, 1627253.1449254435]})\n",
      "New RS points\n",
      "(3, 3.906610178343154)\n",
      "move to cs\n",
      "(3, 3.987389219702316)\n",
      "move to cs\n",
      "(3, 2.94114578949944)\n",
      "move to cs\n",
      "(3, 2.1543081952726877)\n",
      "move to cs\n",
      "(3, 2.0550653774815806)\n",
      "move to cs\n",
      "(3, 3.661873560814328)\n",
      "move to cs\n",
      "(3, 3.490785386263161)\n",
      "move to cs\n",
      "(3, 2.782440035961888)\n",
      "move to cs\n",
      "(3, 3.976071998249983)\n",
      "move to cs\n",
      "(3, 2.9130553688917726)\n",
      "move to cs\n",
      "(3, 2.4303317360311807)\n",
      "move to cs\n",
      "(3, 2.689302248957006)\n",
      "move to cs\n",
      "(3, 0.8803064179255625)\n",
      "move to cs\n",
      "(3, 4.337227090303577)\n",
      "move to cs\n",
      "(3, 0.7819164364024421)\n",
      "move to cs\n",
      "(3, 3.7949312692374826)\n",
      "move to cs\n",
      "(3, 3.059077856639991)\n",
      "move to cs\n",
      "(3, 3.126086207539363)\n",
      "move to cs\n",
      "(3, 2.0262773890279413)\n",
      "move to cs\n",
      "(3, 2.3345979991537877)\n",
      "move to cs\n",
      "(3, 4.5673799648134805)\n",
      "move to cs\n",
      "(3, 3.9418402595866757)\n",
      "move to cs\n",
      "(3, 2.6322842113952856)\n",
      "move to cs\n",
      "(3, 4.453003075548644)\n",
      "move to cs\n",
      "(3, 2.5691834478689417)\n",
      "move to cs\n",
      "(3, 3.833699334797298)\n",
      "move to cs\n",
      "(3, 3.1608274545893082)\n",
      "move to cs\n",
      "(3, 1.1981700958990535)\n",
      "move to cs\n",
      "(3, 4.418064130111907)\n",
      "move to cs\n",
      "defaultdict(<class 'int'>, {4: 30215, 7: 28075, 2: 19099, 3: 25391, 6: 24252, 1: 30261, 9: 25033, 0: 25799, 8: 31687, 5: 17949})\n",
      "defaultdict(<function zero_vector at 0x1a7bba048>, {4: [3867964.076671421, -3413835.463393712, 3686064.803394655, -3324314.117865107, -3686656.7209443683, 3475539.957188348, -3777319.1713564727, 3716136.120472219, -3897840.7981247045, -3503950.5098254206], 7: [2471269.8771343403, -2386536.7445388883, 2189802.693006472, 2332016.865603878, -2388314.5217699716, -2526658.137539544, -2303706.7813060847, -1965234.1803784426, -2245835.8399412283, 2526522.6497796155], 2: [3037366.0172299165, -3150485.1294017592, -3170776.981168895, -2960660.4245919376, 3171607.569038706, 2997923.107669319, 3226574.791579833, 3187498.7677177815, 3113376.635812799, 3094119.685861], 3: [-4213849.808709828, -4011816.056192686, -3961652.3774871402, -3934499.1656778967, -4163620.298103888, -4090006.5232948284, 4289661.163678271, -4214820.605862039, 4315309.275101044, 4063698.032590528], 6: [-2039033.867404227, -1748440.336859815, -2134283.7682449445, -2060992.045793227, 1723034.4872325205, 2161810.0946177742, -2134402.192256037, -1746927.0592355588, -2064313.6491686902, -2160131.870731382], 1: [5840988.432430085, -6231967.750584952, -5780726.429709494, 6111958.538269033, 6265457.87969742, -5900473.501884263, 6173556.042029938, 6263438.027464551, 5962001.752509344, -6172988.480397536], 9: [124687.04735222679, -739.5419362405245, -175019.73209933046, 224844.57414256546, -149665.39157670594, 225440.47512261814, 198961.8767022855, 488.428729474049, -174073.16433732718, -175037.61941171665], 0: [-875768.0222154335, 1007854.7575485092, 1213062.0619180296, 1160314.6561629237, -1004949.4461557418, -1265305.7777193983, -853282.3799416098, -825431.6166347769, -983155.4380330862, -1211514.8775361506], 8: [-1459244.6295710122, -983548.1225177044, -1203052.140566548, 1138558.0084513188, -1425923.1372005895, 1329299.7831292213, 1235668.8179633894, 1140439.7881015819, 1078862.7237161617, 1457078.5630283605], 5: [-2315729.2095261742, -2136515.9533797572, -2117829.8123986777, 2100405.9652184513, 2135264.4319155416, -2063504.4032762265, 1974279.6605877355, 2260735.814955889, -2135723.569384608, 2153918.38029757]})\n",
      "New RS points\n",
      "(3, 3.412153366722244)\n",
      "move to cs\n",
      "(3, 4.1116448255012354)\n",
      "move to cs\n",
      "(3, 3.204743265420249)\n",
      "move to cs\n",
      "(3, 3.4492522052432255)\n",
      "move to cs\n",
      "(3, 3.4874760541409358)\n",
      "move to cs\n",
      "(3, 3.302265494400252)\n",
      "move to cs\n",
      "(3, 2.8213500957170017)\n",
      "move to cs\n",
      "(3, 2.9278097162182206)\n",
      "move to cs\n",
      "(3, 3.163095036619495)\n",
      "move to cs\n",
      "(3, 3.968777778242226)\n",
      "move to cs\n",
      "(3, 3.554864653272825)\n",
      "move to cs\n",
      "(3, 3.8055706687258364)\n",
      "move to cs\n",
      "(3, 3.2899903935942394)\n",
      "move to cs\n",
      "(3, 3.236740693192572)\n",
      "move to cs\n",
      "(3, 3.0099169994896546)\n",
      "move to cs\n",
      "(3, 3.104866159929512)\n",
      "move to cs\n",
      "(3, 2.5843725736685776)\n",
      "move to cs\n",
      "(3, 3.357827658041661)\n",
      "move to cs\n"
     ]
    },
    {
     "ename": "RuntimeError",
     "evalue": "dictionary changed size during iteration",
     "output_type": "error",
     "traceback": [
      "\u001B[0;31m---------------------------------------------------------------------------\u001B[0m",
      "\u001B[0;31mRuntimeError\u001B[0m                              Traceback (most recent call last)",
      "\u001B[0;32m<ipython-input-1598-e814cf478ab0>\u001B[0m in \u001B[0;36m<module>\u001B[0;34m\u001B[0m\n\u001B[1;32m     99\u001B[0m \u001B[0;34m\u001B[0m\u001B[0m\n\u001B[1;32m    100\u001B[0m     \u001B[0;32mif\u001B[0m \u001B[0mround\u001B[0m\u001B[0;34m==\u001B[0m\u001B[0;36m5\u001B[0m\u001B[0;34m:\u001B[0m\u001B[0;34m\u001B[0m\u001B[0;34m\u001B[0m\u001B[0m\n\u001B[0;32m--> 101\u001B[0;31m         \u001B[0;32mfor\u001B[0m \u001B[0mC_cluster\u001B[0m\u001B[0;34m,\u001B[0m\u001B[0m_\u001B[0m \u001B[0;32min\u001B[0m \u001B[0mCS_N\u001B[0m\u001B[0;34m.\u001B[0m\u001B[0mitems\u001B[0m\u001B[0;34m(\u001B[0m\u001B[0;34m)\u001B[0m\u001B[0;34m:\u001B[0m\u001B[0;34m\u001B[0m\u001B[0;34m\u001B[0m\u001B[0m\n\u001B[0m\u001B[1;32m    102\u001B[0m             \u001B[0mdists\u001B[0m \u001B[0;34m=\u001B[0m \u001B[0;34m[\u001B[0m\u001B[0;34m]\u001B[0m\u001B[0;34m\u001B[0m\u001B[0;34m\u001B[0m\u001B[0m\n\u001B[1;32m    103\u001B[0m             \u001B[0mmin_dist\u001B[0m \u001B[0;34m=\u001B[0m \u001B[0mmath\u001B[0m\u001B[0;34m.\u001B[0m\u001B[0minf\u001B[0m\u001B[0;34m\u001B[0m\u001B[0;34m\u001B[0m\u001B[0m\n",
      "\u001B[0;31mRuntimeError\u001B[0m: dictionary changed size during iteration"
     ]
    }
   ],
   "source": [
    "for round in range(2,6):\n",
    "    print(DS_N)\n",
    "    print(DS_SUM)\n",
    "    # STEP 7\n",
    "    next_round_input = sc.parallelize([i[2:] for i in shuffled_data[splits[round-1]:splits[round]]])\n",
    "    Mahalanobis_distances = next_round_input.map(lambda x: maha_dist(x, DS_N, DS_SUM, DS_SUM_SQ)).collect()\n",
    "\n",
    "    threshold = 2 * (n_dim ** (1 / 2))\n",
    "    to_include_in_DS = []\n",
    "    to_include_in_RS = []\n",
    "\n",
    "    # STEP 8\n",
    "    for i in Mahalanobis_distances:\n",
    "        point = i[0]\n",
    "        distances = i[1]\n",
    "        min_dist = min(distances.items(), key = lambda x:x[1])\n",
    "        closest_cluster = min_dist[0]\n",
    "        min_dist = min_dist[1]\n",
    "        RS_flag = True\n",
    "        if min_dist<threshold:\n",
    "            to_include_in_DS.append(point)\n",
    "            DS_N[closest_cluster] += 1\n",
    "            DS_SUM[closest_cluster] = [sum(x) for x in zip(DS_SUM[closest_cluster], point)]\n",
    "            DS_SUM_SQ[closest_cluster] = [sum(x) for x in zip(DS_SUM_SQ[closest_cluster], [x ** 2 for x in point])]\n",
    "        else:\n",
    "            to_include_in_RS.append(point)\n",
    "\n",
    "    print(\"New RS points\")\n",
    "\n",
    "\n",
    "    #STEP 9\n",
    "    new_RS = []\n",
    "    for point in to_include_in_RS:\n",
    "        _, distances = maha_dist(point, CS_N, CS_SUM, CS_SUM_SQ)\n",
    "        min_dist = min(distances.items(), key = lambda x:x[1])\n",
    "        print(min_dist)\n",
    "        closest_cluster = min_dist[0]\n",
    "        min_dist = min_dist[1]\n",
    "        #print(min_dist)\n",
    "        if min_dist<threshold:\n",
    "            print(\"move to cs\")\n",
    "            CS_N[closest_cluster]+=1\n",
    "\n",
    "            CS_SUM[closest_cluster]=[sum(x) for x in zip(CS_SUM[closest_cluster], point)]\n",
    "            CS_SUM_SQ[closest_cluster]=[sum(x) for x in zip(CS_SUM_SQ[closest_cluster], [x**2 for x in point])]\n",
    "        else:\n",
    "            print(\"still in rs\")\n",
    "            new_RS.append(point)\n",
    "            #RS_set_new.append(point)\n",
    "\n",
    "    # Step 10\n",
    "    RS_set = new_RS + RS_set_new\n",
    "    try:\n",
    "        k_means = KMeans(n_clusters=int(len(RS_set) * 0.9)).fit(RS_set)\n",
    "        #k_means = KMeans(n_clusters=n_cluster*2).fit(RS_set)\n",
    "    except(ValueError):\n",
    "        k_means = KMeans(n_clusters=len(RS_set)).fit(RS_set)\n",
    "    RS_dict_new = defaultdict(int)\n",
    "\n",
    "    for assignment in k_means.labels_:\n",
    "        RS_dict_new[assignment] += 1\n",
    "    RS_set_new = []\n",
    "    RS_clusters_new = [k for k, v in RS_dict_new.items() if v == 1]\n",
    "    for idx, cluster in enumerate(k_means.labels_):\n",
    "        if cluster in RS_clusters_new:\n",
    "            RS_set_new.append(RS_set[idx])\n",
    "\n",
    "    CS_set_new = []\n",
    "    CS_clusters_new = [k for k, v in RS_dict_new.items() if v != 1]\n",
    "\n",
    "    for idx, cluster in enumerate(k_means.labels_):\n",
    "        if cluster in CS_clusters_new:\n",
    "            CS_set_new.append((cluster, RS_set[idx]))\n",
    "    for cluster, point in CS_set_new:\n",
    "        cluster = round * 100 + cluster\n",
    "        CS_N[cluster] += 1\n",
    "        #DS_SUM[cluster]=k_means_input_2[idx]\n",
    "        CS_SUM[cluster] = [sum(x) for x in zip(CS_SUM[cluster], point)]\n",
    "        CS_SUM_SQ[cluster] = [sum(x) for x in zip(CS_SUM_SQ[cluster], [x ** 2 for x in point])]\n",
    "\n",
    "\n",
    "    #STEP 12\n",
    "    combine_continue = True\n",
    "    while combine_continue:\n",
    "        #print(\"new_list\")\n",
    "        combine_continue = False\n",
    "        merge_list = combinations(CS_N.keys(),2)\n",
    "\n",
    "        for cluster1, cluster2 in merge_list:\n",
    "            #print(cluster1,cluster2)\n",
    "            if inter_cluster_maha_distance_CS(cluster1, cluster2) < threshold:\n",
    "                merge_CS_cluster(cluster1, cluster2)\n",
    "                combine_continue = True\n",
    "                break\n",
    "\n",
    "    RS_set = RS_set_new\n",
    "\n",
    "\n",
    "\n",
    "    if round==5:\n",
    "        for C_cluster,_ in CS_N.items():\n",
    "            dists = []\n",
    "            min_dist = math.inf\n",
    "            cluster = -99\n",
    "            for D_cluster,_ in DS_N.items():\n",
    "                d = inter_cluster_maha_distance_CS_DS(C_cluster,D_cluster)\n",
    "                if d < min_dist:\n",
    "                    cluster=D_cluster\n",
    "                    min_dist = d\n",
    "            if min_dist<threshold:\n",
    "                DS_N[cluster] += CS_N[C_cluster]\n",
    "                DS_SUM[cluster]=[sum(x) for x in zip(DS_SUM[cluster], CS_SUM[C_cluster])]\n",
    "                DS_SUM_SQ[cluster]=[sum(x) for x in zip(DS_SUM_SQ[cluster], CS_SUM_SQ[C_cluster])]\n",
    "\n",
    "    summarize_results_of_round(round)\n"
   ],
   "metadata": {
    "collapsed": false,
    "pycharm": {
     "name": "#%%\n"
    }
   }
  },
  {
   "cell_type": "code",
   "execution_count": 1602,
   "outputs": [],
   "source": [
    "DS_Centroids = {}\n",
    "\n",
    "for cluster, _ in DS_N.items():\n",
    "    N = DS_N[cluster]\n",
    "    SUM2 = DS_SUM[cluster]\n",
    "    centroid = [sum/N for sum in SUM2]\n",
    "    DS_Centroids[cluster] = centroid"
   ],
   "metadata": {
    "collapsed": false,
    "pycharm": {
     "name": "#%%\n"
    }
   }
  },
  {
   "cell_type": "code",
   "execution_count": 1603,
   "outputs": [
    {
     "data": {
      "text/plain": "{4: [128.01941571279153,\n  -112.96421920271874,\n  122.01486400783547,\n  -110.00949715690436,\n  -121.99346613667595,\n  115.035376383252,\n  -125.01087352912008,\n  122.97390266047401,\n  -129.00541564358988,\n  -115.96037339411946],\n 7: [88.03397177922389,\n  -85.01622045586313,\n  78.02362385726973,\n  83.04258674868119,\n  -85.07742345336621,\n  -90.00159576455623,\n  -82.05711199978707,\n  -69.98735237215888,\n  -80.03914868244333,\n  90.00453844208744],\n 2: [159.02823276704058,\n  -164.95215951299193,\n  -166.01598642426015,\n  -154.98951620914573,\n  166.0257229285877,\n  157.0157000873583,\n  168.96246529643935,\n  166.8667037617559,\n  163.0221442610985,\n  161.9684890222442],\n 3: [-165.95674555923543,\n  -157.98847124511227,\n  -156.01280819698246,\n  -154.96720205639346,\n  -163.98263639833823,\n  -161.06244038000824,\n  169.0050914616159,\n  -166.0117602980612,\n  169.9661397414631,\n  160.0355862563673],\n 6: [-84.0234007336881,\n  -72.11967009626412,\n  -88.006790434342,\n  -84.9653979532689,\n  71.02021415457432,\n  89.12381728210376,\n  -88.02945411115523,\n  -72.02919964420248,\n  -85.06492248927948,\n  -89.0759193799711],\n 1: [192.9925093432329,\n  -205.96854252115023,\n  -191.02349808064727,\n  201.98866792041568,\n  207.04714034168464,\n  -194.97296505798974,\n  204.0097935261033,\n  206.97120822704778,\n  196.99829963407032,\n  -203.97554230069548],\n 9: [4.991268023063027,\n  -0.022217845461727673,\n  -6.996611978846176,\n  9.003610596325489,\n  -5.975575325511564,\n  9.010362965706365,\n  7.940967331671793,\n  0.010231563577481288,\n  -6.966607685181661,\n  -6.974343327442026],\n 0: [-33.986649217296176,\n  39.0254776577348,\n  46.99402333301111,\n  44.973157400326585,\n  -38.99586142602247,\n  -49.01066597787341,\n  -33.066639765566975,\n  -31.980543413102883,\n  -38.080398144566594,\n  -46.94424867256214],\n 8: [-45.81020972721521,\n  -30.868544991331394,\n  -37.77661483373918,\n  36.00397529760902,\n  -44.78301668973585,\n  41.95851184232191,\n  39.06327022026265,\n  36.074693087820144,\n  34.12115980172285,\n  46.085317490141875],\n 5: [-129.0270502313745,\n  -119.03350323059779,\n  -117.99374364041141,\n  117.02828842864581,\n  118.9728954983838,\n  -114.97235130921396,\n  110.00204708105868,\n  125.95535052542988,\n  -118.99896451275072,\n  119.99707242508386]}"
     },
     "execution_count": 1603,
     "metadata": {},
     "output_type": "execute_result"
    }
   ],
   "source": [
    "DS_Centroids"
   ],
   "metadata": {
    "collapsed": false,
    "pycharm": {
     "name": "#%%\n"
    }
   }
  },
  {
   "cell_type": "code",
   "execution_count": 1630,
   "outputs": [],
   "source": [
    "assignments_RDD = inputRDD.map(lambda x: (x[0], x[2:])).map(lambda x: (x[0], assign_cluster(x))).collect()"
   ],
   "metadata": {
    "collapsed": false,
    "pycharm": {
     "name": "#%%\n"
    }
   }
  },
  {
   "cell_type": "code",
   "execution_count": 1655,
   "outputs": [],
   "source": [
    "assignments_RDD = assignments_RDD.collect()"
   ],
   "metadata": {
    "collapsed": false,
    "pycharm": {
     "name": "#%%\n"
    }
   }
  },
  {
   "cell_type": "code",
   "execution_count": 1661,
   "outputs": [],
   "source": [
    "with open(output, 'w') as f:\n",
    "    f.write(\"The intermediate results:\\n\")\n",
    "    for r in round_output:\n",
    "        j = \"Round {}: {},{},{},{}\\n\".format(r[0],r[1],r[2],r[3],r[4])\n",
    "        f.write(j)\n",
    "\n",
    "    f.write(\"\\nThe clustering results:\\n\")\n",
    "\n",
    "    for i in assignments_RDD:\n",
    "        j = str(int(i[0])) +  \",\" + str(int(i[1])) + \"\\n\"\n",
    "        f.write(j)"
   ],
   "metadata": {
    "collapsed": false,
    "pycharm": {
     "name": "#%%\n"
    }
   }
  },
  {
   "cell_type": "code",
   "execution_count": null,
   "outputs": [],
   "source": [],
   "metadata": {
    "collapsed": false,
    "pycharm": {
     "name": "#%%\n"
    }
   }
  }
 ],
 "metadata": {
  "kernelspec": {
   "display_name": "Python 3",
   "language": "python",
   "name": "python3"
  },
  "language_info": {
   "codemirror_mode": {
    "name": "ipython",
    "version": 2
   },
   "file_extension": ".py",
   "mimetype": "text/x-python",
   "name": "python",
   "nbconvert_exporter": "python",
   "pygments_lexer": "ipython2",
   "version": "2.7.6"
  }
 },
 "nbformat": 4,
 "nbformat_minor": 0
}