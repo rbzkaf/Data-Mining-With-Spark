{
 "cells": [
  {
   "cell_type": "code",
   "execution_count": 1,
   "metadata": {
    "collapsed": true
   },
   "outputs": [],
   "source": [
    "from pyspark import RDD, SparkContext\n",
    "from pyspark.sql import SparkSession\n",
    "from graphframes import *\n",
    "\n",
    "import os\n",
    "import sys\n",
    "import math\n",
    "import time"
   ]
  },
  {
   "cell_type": "code",
   "execution_count": 4,
   "outputs": [],
   "source": [
    "os.environ[\"PYSPARK_SUBMIT_ARGS\"] = \"--packages graphframes:graphframes:0.8.2-spark3.1-s_2.12 pyspark-shell\""
   ],
   "metadata": {
    "collapsed": false,
    "pycharm": {
     "name": "#%%\n"
    }
   }
  },
  {
   "cell_type": "code",
   "execution_count": 5,
   "outputs": [],
   "source": [
    "sc = SparkContext(\"local\", \"HW4\").getOrCreate()\n",
    "sc.setLogLevel(\"WARN\")"
   ],
   "metadata": {
    "collapsed": false,
    "pycharm": {
     "name": "#%%\n"
    }
   }
  },
  {
   "cell_type": "code",
   "execution_count": 6,
   "outputs": [],
   "source": [
    "spark = SparkSession.builder.appName('hw4').getOrCreate()"
   ],
   "metadata": {
    "collapsed": false,
    "pycharm": {
     "name": "#%%\n"
    }
   }
  },
  {
   "cell_type": "code",
   "execution_count": 7,
   "outputs": [],
   "source": [
    "input = \"ub_sample_data.csv\"\n",
    "\n",
    "filter_threshold = 7\n",
    "test_file = \"yelp_val.csv\"\n",
    "output = \"output.csv\"\n"
   ],
   "metadata": {
    "collapsed": false,
    "pycharm": {
     "name": "#%%\n"
    }
   }
  },
  {
   "cell_type": "code",
   "execution_count": 8,
   "outputs": [],
   "source": [
    "to_csv_RDD = sc.textFile(input).map(lambda line: line.split(','))\n",
    "header = to_csv_RDD.first()\n",
    "to_csv_RDD = to_csv_RDD.filter(lambda data: data != header)\n"
   ],
   "metadata": {
    "collapsed": false,
    "pycharm": {
     "name": "#%%\n"
    }
   }
  },
  {
   "cell_type": "code",
   "execution_count": 9,
   "outputs": [],
   "source": [
    "user_biz_RDD = to_csv_RDD.map(lambda x: (x[0], x[1])).groupByKey().mapValues(lambda x:set(x))"
   ],
   "metadata": {
    "collapsed": false,
    "pycharm": {
     "name": "#%%\n"
    }
   }
  },
  {
   "cell_type": "code",
   "execution_count": 10,
   "outputs": [
    {
     "data": {
      "text/plain": "3374"
     },
     "execution_count": 10,
     "metadata": {},
     "output_type": "execute_result"
    }
   ],
   "source": [
    "len(user_biz_RDD.collect())"
   ],
   "metadata": {
    "collapsed": false,
    "pycharm": {
     "name": "#%%\n"
    }
   }
  },
  {
   "cell_type": "code",
   "execution_count": 60,
   "outputs": [],
   "source": [
    "all_pairs = user_biz_RDD.cartesian(user_biz_RDD).filter(lambda x: x[0] != x[1])     #Not filtering allows undirected\n",
    "filtered_pairs = all_pairs.map(lambda x: ((x[0][0],x[1][0]), len(x[0][1].intersection(x[1][1])))).filter(lambda x:x[1]>=filter_threshold)"
   ],
   "metadata": {
    "collapsed": false,
    "pycharm": {
     "name": "#%%\n"
    }
   }
  },
  {
   "cell_type": "code",
   "execution_count": 61,
   "outputs": [],
   "source": [
    "edges = filtered_pairs.map(lambda x:x[0])\n",
    "vertices = filtered_pairs.flatMap(lambda x:x[0]).distinct()"
   ],
   "metadata": {
    "collapsed": false,
    "pycharm": {
     "name": "#%%\n"
    }
   }
  },
  {
   "cell_type": "code",
   "execution_count": 64,
   "outputs": [],
   "source": [
    "e = edges.collect()"
   ],
   "metadata": {
    "collapsed": false,
    "pycharm": {
     "name": "#%%\n"
    }
   }
  },
  {
   "cell_type": "code",
   "execution_count": 65,
   "outputs": [
    {
     "data": {
      "text/plain": "996"
     },
     "execution_count": 65,
     "metadata": {},
     "output_type": "execute_result"
    }
   ],
   "source": [
    "len(e)"
   ],
   "metadata": {
    "collapsed": false,
    "pycharm": {
     "name": "#%%\n"
    }
   }
  },
  {
   "cell_type": "code",
   "execution_count": 62,
   "outputs": [],
   "source": [
    "vertex_spark_df = spark.createDataFrame(vertices, \"String\").toDF(\"id\")"
   ],
   "metadata": {
    "collapsed": false,
    "pycharm": {
     "name": "#%%\n"
    }
   }
  },
  {
   "cell_type": "code",
   "execution_count": 35,
   "outputs": [],
   "source": [
    "edge_spark_df = spark.createDataFrame(edges).toDF(\"src\", \"dst\")"
   ],
   "metadata": {
    "collapsed": false,
    "pycharm": {
     "name": "#%%\n"
    }
   }
  },
  {
   "cell_type": "code",
   "execution_count": 66,
   "outputs": [],
   "source": [
    "g = GraphFrame(vertex_spark_df, edge_spark_df)"
   ],
   "metadata": {
    "collapsed": false,
    "pycharm": {
     "name": "#%%\n"
    }
   }
  },
  {
   "cell_type": "code",
   "execution_count": 68,
   "outputs": [],
   "source": [
    "communities = g.labelPropagation(maxIter=5)"
   ],
   "metadata": {
    "collapsed": false,
    "pycharm": {
     "name": "#%%\n"
    }
   }
  },
  {
   "cell_type": "code",
   "execution_count": 69,
   "outputs": [],
   "source": [
    "communities = communities.rdd.map(lambda x: tuple(x)).map(lambda x: (x[1], x[0])).groupByKey().map(lambda x: sorted(x[1])).collect()"
   ],
   "metadata": {
    "collapsed": false,
    "pycharm": {
     "name": "#%%\n"
    }
   }
  },
  {
   "cell_type": "code",
   "execution_count": 39,
   "outputs": [],
   "source": [
    "output_format_comm = sorted(communities, key = lambda x: (len(x),x))"
   ],
   "metadata": {
    "collapsed": false,
    "pycharm": {
     "name": "#%%\n"
    }
   }
  },
  {
   "cell_type": "code",
   "execution_count": 50,
   "outputs": [
    {
     "data": {
      "text/plain": "[['23y0Nv9FFWn_3UWudpnFMA'],\n ['3Vd_ATdvvuVVgn_YCpz8fw'],\n ['453V8MlGr8y61PpsDAFjKQ'],\n ['46HhzhpBfTdTSB5ceTx_Og'],\n ['Cf0chERnfd06ltnN45xLNQ'],\n ['F47atsRPw-KHmRVk5exBFw'],\n ['JeOHA8tW7gr-FDYOcPJoeA'],\n ['QYKexxaOJQlseGWmc6soRg'],\n ['Si3aMsOVGSVlsc54iuiPwA'],\n ['YVQFzWm0H72mLUh-8gzd5w'],\n ['_m1ot2zZetDgjerAD2Sidg'],\n ['cyuDrrG5eEK-TZI867MUPA'],\n ['d5WLqmTMvmL7-RmUDVKqqQ'],\n ['eqWEgMH-DCP74i82BEAZzw'],\n ['gH0dJQhyKUOVCKQA6sqAnw'],\n ['gUu0uaiU7UEUVIgCdnqPVQ'],\n ['jJDUCuPwVqwjbth3s92whA'],\n ['jSbXY_rno4hYHQCFftsWXg'],\n ['tX0r-C9BaHYEolRUfufTsQ'],\n ['vENR70IrUsDNTDebbuxyQA'],\n ['0KhRPd66BZGHCtsb9mGh_g', '5fQ9P6kbQM_E0dx8DL6JWA'],\n ['98rLDXbloLXekGjieuQSlA', 'MJ0Wphhko2-LbJ0uZ5XyQA'],\n ['EY8h9IJimXDNbPXVFpYF3A', 'LiNx18WUre9WFCEQlUhtKA'],\n ['Gr-MqCunME2K_KmsAwjpTA', '_6Zg4ukwS0kst9UtkfVw3w'],\n ['QRsuZ_LqrRU65dTs5CL4Lw', 'lJFBgSAccsMGwIjfD7LMeQ'],\n ['S1cjSFKcS5NVc3o1MkfpwA', 'mm9WYrFhiNqvHCyhQKw3Mg'],\n ['jgoG_hHqnhZvQEoBK0-82w', 'qd16czwFUVHICKF7A4qWsQ'],\n ['750rhwO7D_Cul7_GtO9Jsg',\n  'DjcRgZ0cJbf6-W2TxvFlBA',\n  'MwpK7PqQX7fgTFM2Pfy61w'],\n ['9W73B44Iw8WslrTNB2CdCg',\n  'UmTMCfPlhA6kJLAsLycSfg',\n  'Uo5dPwoDpYBzOnmUnjxJ6A'],\n ['CLbpPUqP6XpeAfoqScGaJQ',\n  'drTMOo4p8nL0pnMNEyat2A',\n  'xhlcoVm3FOKcxZ0phkdO6Q'],\n ['CyrRjt_7iJ8_lSHeH1_TlA',\n  'JhFK9D3LYl23Se3x4oPUxA',\n  'ZW-XoteNlRuuK-19q1spmw',\n  'lL-wNa0TKK6LXrlcVmjYrQ'],\n ['6YmRpoIuiq8I19Q8dHKTHw',\n  'XrRLaAeV20MRwdSIGjj2SQ',\n  'a48HhwcmjFLApZhiax41IA',\n  'angEr2YcXmCl20s8WQu32w',\n  'frQs7y5qa-X1pvAM0sJe1w'],\n ['2GUjO7NU88cPXpoffYCU8w',\n  '6xi9tBoZ6r_v41u_XFsSnA',\n  'BDmxm7aeWFOLT35gSvkmig',\n  'H4EQn0rjFuGRgIm6c9NFLg',\n  'H5Asta4LpiKmRhSjWaogIg',\n  'e5sdXDOkCf0sIUAivXVluA'],\n ['JM0GL6Dx4EuZ1mprLk5Gyg',\n  'JqjAthJThuVYgTh4iWDZ2A',\n  'XEqQG61fetXhuEV9RPslIA',\n  'ajxohdcsKhRGFlEvHZDyTw',\n  'hilL60vuuh06sMxs6Ckkog',\n  'kwIhn1_cnQeUaLN0CuWWHw'],\n ['1st2ltGKJ00ZcRsev-Ieew',\n  '4ZQq0ozRs-gXSz1z55iIDw',\n  'HLY9oDcVBH9D25lU4X_V5Q',\n  'Hv_q_ZnSIoZwdcoH0CyV2Q',\n  'Ih85YhFRDzOnB09yS__94g',\n  'KBoIRjxSW7OWczv8OS9Bew',\n  'LaiylSIbrA3aPvOYtl-J4A',\n  'SVC0CajvmYfH5uAq4JnGvg',\n  'Z9a1tDT8fVI75qXYwNhPpw',\n  'ZEq0WtRJD9Bl_vYgCsbfOg',\n  'ZZvfGGLnAkSBSUduV7KN-w',\n  'e0Jn0ZjqL-dWi7Brs0bbmg',\n  'fOut10lknIp64tm3z6UTNg',\n  'l-1cva9rA8_ugLrtSdKAqA',\n  'oegRUjhGbP62M18WyAL6pQ',\n  'wXdrUQg4-VkSZH1FG4Byzw'],\n ['37HswRimgBEf7_US-c3CDA',\n  '903YwVSoAKyzudc8LH_HMA',\n  '9S52XHEyrvOv4OZxU6pCLw',\n  'DPtOaWemjBPvFiZJBi0m8A',\n  'IuaAfrkirlfzY3f4PkgSmw',\n  'MrsRJa4SWLq8XLU1RtPdlw',\n  'MtdSCXtmrSxj_uZOJ5ZycQ',\n  'PKEzKWv_FktMm2mGPjwd0Q',\n  'UwV6jBuTR1S9acT6bPTBPw',\n  'VdoTNYWuoXo01umgannw8A',\n  'WaAOt_eG0_-yLpG3fI--3g',\n  'cIbbfJEGLB3B-c8Po4AL5g',\n  'e5kg9bLvlJz-MEUrGjIeVQ',\n  'fcWM-oqjgS94yi1INhZa0g',\n  'm1IVpXClMox1VGw5hO2LhQ',\n  'nOTl4aPC4tKHK35T3bNauQ',\n  'xrvyW1ruKS0uz9RtFewC0Q'],\n ['2k8OVAPxlXHsA5X6EIoQpQ',\n  '2xVrxhQJUBmOyG4ML77XKw',\n  '5DgFmyjW6hkBtXtTMKl4tA',\n  '7G8w2SnaC-qDVQ7_GqTxMg',\n  '8oYMqhC5fhqAK_yxRjE7dQ',\n  'JRqMFKGxx6DnTGZrxwQZaA',\n  'NUtVG7jNPLJR2cxMXMH2-A',\n  'NlNlyQynkyEU3l7TR3LXdg',\n  'SsOiVav4V5_NjTl21Lj92w',\n  'TZ974xcbw2kqjYxAhDUYVg',\n  'UYcmGbelzRa0Q6JqzLoguw',\n  'Y0-lLNc2Y7gUGXPzSsMueQ',\n  'ZA1OT-PIZwz2kdHDA6mShw',\n  'Zk95TMXDx0zMUhYq5u8pxw',\n  'fLnkI1uHtXEsjtF6KoBHbQ',\n  'hLVq7VSJBHZwqurwWoCmpg',\n  'jcriwcTidug0fK8sgAloHA',\n  'tekHDsd0fskYG3tqu4sHQw'],\n ['0gZ8E5tBWTEtGEZDuTzhzw',\n  '4ONcRRisDZkbV1cviA7nFw',\n  '9SWtEX1k9AjRg93BAzMCpg',\n  'A-U-K9z9oraMH7eBZW1dOA',\n  'B7IvZ26ZUdL2jGbYsFVGxQ',\n  'BE4fE4R3TaVn8xy4sYYjbg',\n  'DgfsJqg_gozVgaeZ5vjllA',\n  'EI9ijI9Wh66LrVW-GmWkOg',\n  'FyQrUamokaPLDrBxGmzPnA',\n  'Gua5GdTlTWJpovtG7Hdtyg',\n  'LKP0Yq9T7Ss6oiDZnVtQwQ',\n  'LgFDWZTLi1w9OGi5BtKORg',\n  'Nf_Jw_W_CwOz5WJ7ApSMxg',\n  'ORJnGXXkS9tQBTNyPQJF9A',\n  'QUYbGl1DL-9faG150MQ7zA',\n  'QvLg2kxqHHahxxOlHlEIZw',\n  'SX_SMrddkDU5dySbsZMu9A',\n  'WXlxViTwXHPBvhioljN9PQ',\n  'YA-caxALI4C-eCiSM97new',\n  'ZXyGw3Z1DyhK1sfNtpcyYA',\n  'ae7zi8F0B6l_JCITh1mXDg',\n  'h-ajC_UHD0QAyAzySN6g2A',\n  'jnn504CkjtfbYIwBquWmBw',\n  'k24kSTpZHUdEd-QYXLy3fQ',\n  'k58KNO8Rya-q8njKq8-uBQ',\n  'o-t-i7nbT5N_cmkCXs5oDQ',\n  'pDNeS1nbkKS7mJmhRQJPig',\n  'tcWnoX_IfuDmlDl6o6y3_g'],\n ['0FMte0z-repSVWSJ_BaQTg',\n  '0FVcoJko1kfZCrJRfssfIA',\n  '0QREkWHGO8-Z_70qx1BIWw',\n  '1KQi8Ymatd4ySAd4fhSfaw',\n  '23o7tyUGlC6FCDVcyqLeFA',\n  '2XYdguaaZ7dgi6fAlddujg',\n  '2quguRdKBzul3GpRi9e1mA',\n  '39FT2Ui8KUXwmUt6hnwy-g',\n  '4PQhC-zTQ4ACEN0-r39JuQ',\n  '4pc_EyanaC3ARh0MZZyouA',\n  '79yaBDbLASfIdB-C2c8DzA',\n  '7RCz4Ln_FaTvNrdwe251Dg',\n  '7Vfy39A_totC-w70qZi0MA',\n  '97j2wkFU46OOgm6ErRAb7w',\n  '9xM8upr_n9jchUDKxqSGHw',\n  'Ams0iLRd0AhZZectGKA8fw',\n  'B0ENvYKQdNNr1Izd2r-BAA',\n  'BDjiEmXljD2ZHT61Iv9rrQ',\n  'CebjpVd3PsofCgotWp60pg',\n  'ChshgCKJTdIDg17JKtFuJw',\n  'DKolrsBSwMTpTJL22dqJRQ',\n  'DkLSyxogCcJXY5DbTZ-f2A',\n  'ELfzWgdf64VBLi5z1ECItw',\n  'EiwxlbR8fb68lMgEXhcWKA',\n  'IXD-jdycm7m34b_Nliy82g',\n  'JLv2Dmfj73-I0d9N41tz1A',\n  'JteQGisqOf_pklq7GA0Rww',\n  'KHjroLTG6Ah8LyItTyB2yw',\n  'KLB3wIYUwKDPMbijIE92vg',\n  'KgJdBWS3ReP6TVhYWJRKmg',\n  'KtE55izPs1ubJn3ofF2IrA',\n  'LcCRMIDz1JgshpPGYfLDcA',\n  'O9pMFJSPg80YVzpMfNikxw',\n  'OoyQYSeYNyRVOmdO3tsxYA',\n  'PE8s8ACYABRNANI-T_WmzA',\n  'R4l3ONHzGBakKKNo4TN9iQ',\n  'S9dDf0JqSMAvusp5f-9bGw',\n  'SdXxLZQQnQNUEL1rGMOQ6w',\n  'T88y73qdOSutuvzLlhWtqQ',\n  'TjsBbWAfwxWEXPxaLNv5SQ',\n  'Tk_FWXueutKii3f9yJFsdw',\n  'UAB1Zyg6Q0oEpXeYRf5K_g',\n  'WoKCLSctS7G2547xKcED-Q',\n  'XPAJ2KHkCwBA0vafF-2Zcg',\n  'XUEwSGOGARxW-3gPiGJKUg',\n  '_Pn-EmWO-pFPFg81ZIEiDw',\n  '_VTEyUzzH92X3w-IpGaXVA',\n  'ay4M5J28kBUf0odOQct0BA',\n  'bE7Yd0jI_P6g27MWEKKalA',\n  'bHufZ2OTlC-OUxBDRXxViw',\n  'bJguBxPlnTW29tRTAF0nkQ',\n  'bSUS0YcvS7UelmHvCzNWBA',\n  'bbK1mL-AyYCHZncDQ_4RgA',\n  'cm3_8c_NDhPcpwJQ96Aixw',\n  'dTeSvET2SR5LDF_J07wJAQ',\n  'dW6bAWM1HbPdk_cGS_a2HA',\n  'dzJDCQ5vubQBJTfYTEmcbg',\n  'e8uzNcSC5tQMD22GNAQEQA',\n  'hd343st7cOIUSfAd5r0U7A',\n  'hqmnMdDS-Opjp3BfBJA8qA',\n  'j8Dts8irvVBwEhEEae_-wA',\n  'jPcrABeWgWlTPi-E0Op_aA',\n  'kKTcYPz47sCDH1_ylnE4ZQ',\n  'ma6206bmu-a_Ja7Iv-yRCw',\n  'mnoe2vwouRADn97dTDkw4A',\n  'mu4XvWvJOb3XpG1C_CHCWA',\n  'p9942XebvxZ9ubHm4SXmMQ',\n  'qtOCfMTrozmUSHWIcohc6Q',\n  'sBqCpEUn0qYdpSF4DbWlAQ',\n  'sO6iNKgv_ToVfof-aQWgXg',\n  'sdLns7062kz3Ur_b8wgeYw',\n  'tAcY4S3vIuNlAoRlCcz5VA',\n  'tL2pS5UOmN6aAOi3Z-qFGg',\n  'tRZAC_H5RHrjvyvtufcNXQ',\n  'voXU5A3FfOcXZ2VNsJ0q4w',\n  'waN6iwcphiVEoCews4f4CA',\n  'y6jsaAXFstAJkf53R4_y4Q',\n  'yCaDISH0R8e5U376zDWTpQ',\n  'zBi_JWB5uUdVuz3JLoAxGQ']]"
     },
     "execution_count": 50,
     "metadata": {},
     "output_type": "execute_result"
    }
   ],
   "source": [
    "output_format_comm"
   ],
   "metadata": {
    "collapsed": false,
    "pycharm": {
     "name": "#%%\n"
    }
   }
  },
  {
   "cell_type": "code",
   "execution_count": 51,
   "outputs": [],
   "source": [
    "with open(output, 'w+') as f:\n",
    "    for comm in output_format_comm:\n",
    "        for i in range(len(comm)):\n",
    "            f.write(\"\\'\" + comm[i] + \"\\'\")\n",
    "            if i == len(comm) - 1:\n",
    "                f.write(\"\\n\")\n",
    "            else:\n",
    "                f.write(\", \")"
   ],
   "metadata": {
    "collapsed": false,
    "pycharm": {
     "name": "#%%\n"
    }
   }
  },
  {
   "cell_type": "code",
   "execution_count": null,
   "outputs": [],
   "source": [],
   "metadata": {
    "collapsed": false,
    "pycharm": {
     "name": "#%%\n"
    }
   }
  }
 ],
 "metadata": {
  "kernelspec": {
   "display_name": "Python 3",
   "language": "python",
   "name": "python3"
  },
  "language_info": {
   "codemirror_mode": {
    "name": "ipython",
    "version": 2
   },
   "file_extension": ".py",
   "mimetype": "text/x-python",
   "name": "python",
   "nbconvert_exporter": "python",
   "pygments_lexer": "ipython2",
   "version": "2.7.6"
  }
 },
 "nbformat": 4,
 "nbformat_minor": 0
}