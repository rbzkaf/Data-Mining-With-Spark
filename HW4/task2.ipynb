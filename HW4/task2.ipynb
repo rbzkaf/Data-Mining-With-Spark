{
 "cells": [
  {
   "cell_type": "code",
   "execution_count": 1,
   "metadata": {
    "collapsed": true
   },
   "outputs": [],
   "source": [
    "from pyspark import RDD, SparkContext\n",
    "from pyspark.sql import SparkSession\n",
    "from graphframes import *\n",
    "from collections import defaultdict\n",
    "import os\n",
    "import sys\n",
    "import math\n",
    "import time\n"
   ]
  },
  {
   "cell_type": "code",
   "execution_count": 3,
   "outputs": [],
   "source": [
    "os.environ[\"PYSPARK_SUBMIT_ARGS\"] = \"--packages graphframes:graphframes:0.8.2-spark3.1-s_2.12 pyspark-shell\""
   ],
   "metadata": {
    "collapsed": false,
    "pycharm": {
     "name": "#%%\n"
    }
   }
  },
  {
   "cell_type": "code",
   "execution_count": 2,
   "outputs": [],
   "source": [
    "sc = SparkContext(\"local\", \"HW4\").getOrCreate()\n",
    "sc.setLogLevel(\"WARN\")\n",
    "spark = SparkSession.builder.appName('hw4').getOrCreate()"
   ],
   "metadata": {
    "collapsed": false,
    "pycharm": {
     "name": "#%%\n"
    }
   }
  },
  {
   "cell_type": "code",
   "execution_count": 3,
   "outputs": [],
   "source": [
    "input = \"ub_sample_data.csv\"\n",
    "filter_threshold = 7\n",
    "output = \"output2.txt\"\n",
    "commie = \"output2.txt\""
   ],
   "metadata": {
    "collapsed": false,
    "pycharm": {
     "name": "#%%\n"
    }
   }
  },
  {
   "cell_type": "code",
   "execution_count": 4,
   "outputs": [],
   "source": [
    "to_csv_RDD = sc.textFile(input).map(lambda line: line.split(','))\n",
    "header = to_csv_RDD.first()\n",
    "to_csv_RDD = to_csv_RDD.filter(lambda data: data != header)"
   ],
   "metadata": {
    "collapsed": false,
    "pycharm": {
     "name": "#%%\n"
    }
   }
  },
  {
   "cell_type": "code",
   "execution_count": 5,
   "outputs": [],
   "source": [
    "user_biz_RDD = to_csv_RDD.map(lambda x: (x[0], x[1])).groupByKey().mapValues(lambda x: set(x))"
   ],
   "metadata": {
    "collapsed": false,
    "pycharm": {
     "name": "#%%\n"
    }
   }
  },
  {
   "cell_type": "code",
   "execution_count": 48,
   "outputs": [],
   "source": [
    "all_pairs = user_biz_RDD.cartesian(user_biz_RDD).filter(lambda x: x[0] != x[1])  #Not filtering allows undirected\n",
    "filtered_pairs = all_pairs.map(lambda x: ((x[0][0], x[1][0]), len(x[0][1].intersection(x[1][1])))).filter(\n",
    "    lambda x: x[1] >= filter_threshold)"
   ],
   "metadata": {
    "collapsed": false,
    "pycharm": {
     "name": "#%%\n"
    }
   }
  },
  {
   "cell_type": "code",
   "execution_count": 49,
   "outputs": [],
   "source": [
    "edges = filtered_pairs.map(lambda x: x[0])"
   ],
   "metadata": {
    "collapsed": false,
    "pycharm": {
     "name": "#%%\n"
    }
   }
  },
  {
   "cell_type": "code",
   "execution_count": 50,
   "outputs": [],
   "source": [
    "vertices = filtered_pairs.flatMap(lambda x: x[0]).distinct()"
   ],
   "metadata": {
    "collapsed": false,
    "pycharm": {
     "name": "#%%\n"
    }
   }
  },
  {
   "cell_type": "code",
   "execution_count": 51,
   "outputs": [],
   "source": [
    "network = edges.groupByKey().mapValues(set).collectAsMap()"
   ],
   "metadata": {
    "collapsed": false,
    "pycharm": {
     "name": "#%%\n"
    }
   }
  },
  {
   "cell_type": "code",
   "execution_count": 10,
   "outputs": [],
   "source": [
    "expected_edges = edges.collect()"
   ],
   "metadata": {
    "collapsed": false,
    "pycharm": {
     "name": "#%%\n"
    }
   }
  },
  {
   "cell_type": "code",
   "execution_count": 36,
   "outputs": [
    {
     "data": {
      "text/plain": "996"
     },
     "execution_count": 36,
     "metadata": {},
     "output_type": "execute_result"
    }
   ],
   "source": [
    "len(expected_edges)"
   ],
   "metadata": {
    "collapsed": false,
    "pycharm": {
     "name": "#%%\n"
    }
   }
  },
  {
   "cell_type": "code",
   "execution_count": 11,
   "outputs": [],
   "source": [
    "class Node:\n",
    "    def __init__(self, id):\n",
    "        self.id = id\n",
    "        self.height = 0\n",
    "        self.node_credits = 1\n",
    "        self.edge_credits = 0\n",
    "        self.parents = {}\n",
    "        self.children = {}"
   ],
   "metadata": {
    "collapsed": false,
    "pycharm": {
     "name": "#%%\n"
    }
   }
  },
  {
   "cell_type": "code",
   "execution_count": 43,
   "outputs": [],
   "source": [
    "def betweeness_score(network):\n",
    "\n",
    "    scores = defaultdict(float)\n",
    "    for user in network.keys():\n",
    "\n",
    "        # Shortest Paths\n",
    "        cur_level = 0\n",
    "        start_node = Node(user)\n",
    "        bfs_tree = defaultdict(set)\n",
    "        visited = {}\n",
    "        bfs_tree[cur_level].add(user)\n",
    "        visited[user] = start_node\n",
    "        bfs_q = [start_node]\n",
    "\n",
    "        while bfs_q:\n",
    "            cur_node = bfs_q.pop(0)\n",
    "            for adjacent_node in network[cur_node.id]:\n",
    "\n",
    "                if adjacent_node in visited.keys():\n",
    "                    adjacent_node = visited[adjacent_node]\n",
    "                    if adjacent_node.height > visited[cur_node.id].height:\n",
    "                        adjacent_node.node_credits += visited[cur_node.id].node_credits\n",
    "                        visited[cur_node.id].children[adjacent_node] = adjacent_node\n",
    "                        adjacent_node.parents[cur_node.id] = visited[cur_node.id]\n",
    "\n",
    "                elif adjacent_node not in visited.keys():\n",
    "                    new_Node = Node(adjacent_node)\n",
    "                    new_Node.height = 1 + visited[cur_node.id].height\n",
    "                    new_Node.parents[cur_node.id] = visited[cur_node.id]\n",
    "                    new_Node.node_credits = visited[cur_node.id].node_credits\n",
    "                    bfs_tree[visited[cur_node.id].height + 1].add(new_Node)\n",
    "                    visited[cur_node.id].children[adjacent_node] = new_Node\n",
    "                    visited[adjacent_node] = new_Node\n",
    "                    bfs_q.append(new_Node)\n",
    "\n",
    "        max_depth = max(bfs_tree.keys())\n",
    "\n",
    "\n",
    "        # Calculating Betweenness\n",
    "        for i in range(max_depth, 0, -1):\n",
    "            for node in bfs_tree[i]:\n",
    "                edge_score = 1 + node.edge_credits\n",
    "                for id, pnode in node.parents.items():\n",
    "                    r = (edge_score / node.node_credits)\n",
    "                    edge_contribution = r *pnode.node_credits\n",
    "                    pnode.edge_credits += edge_contribution\n",
    "                    edge = frozenset({node.id, id})\n",
    "                    scores[edge] += edge_contribution\n",
    "\n",
    "    for score in scores:\n",
    "        scores[score] /= 2\n",
    "    return scores"
   ],
   "metadata": {
    "collapsed": false,
    "pycharm": {
     "name": "#%%\n"
    }
   }
  },
  {
   "cell_type": "code",
   "execution_count": 46,
   "outputs": [],
   "source": [
    "ordered_output = []\n",
    "for pair, score in b.items():\n",
    "    ordered_pair = tuple((sorted(tuple(pair)), score))\n",
    "    ordered_output.append(ordered_pair)"
   ],
   "metadata": {
    "collapsed": false,
    "pycharm": {
     "name": "#%%\n"
    }
   }
  },
  {
   "cell_type": "code",
   "execution_count": 47,
   "outputs": [],
   "source": [
    "with open(output, \"w+\") as f:\n",
    "    for pair, score in sorted(ordered_output, key= lambda x:(x[1],x[0][1]), reverse=True):\n",
    "        f.write(\"(\" + str(pair[0]) + \",\" + str(pair[1]) + \"),\" + str(score) +\"\\n\")\n"
   ],
   "metadata": {
    "collapsed": false,
    "pycharm": {
     "name": "#%%\n"
    }
   }
  },
  {
   "cell_type": "code",
   "execution_count": 52,
   "outputs": [],
   "source": [
    "degree_map = {}\n",
    "two_m = 0\n",
    "for node in network:\n",
    "    degree_map[node] = len(network[node])\n",
    "    two_m+=len(network[node])"
   ],
   "metadata": {
    "collapsed": false,
    "pycharm": {
     "name": "#%%\n"
    }
   }
  },
  {
   "cell_type": "code",
   "execution_count": 53,
   "outputs": [
    {
     "data": {
      "text/plain": "{'39FT2Ui8KUXwmUt6hnwy-g': 23,\n '0FVcoJko1kfZCrJRfssfIA': 53,\n '_6Zg4ukwS0kst9UtkfVw3w': 2,\n 'JM0GL6Dx4EuZ1mprLk5Gyg': 28,\n 'bSUS0YcvS7UelmHvCzNWBA': 31,\n 'LcCRMIDz1JgshpPGYfLDcA': 9,\n 'lJFBgSAccsMGwIjfD7LMeQ': 2,\n 'DKolrsBSwMTpTJL22dqJRQ': 12,\n 'sdLns7062kz3Ur_b8wgeYw': 1,\n 'MtdSCXtmrSxj_uZOJ5ZycQ': 12,\n '23o7tyUGlC6FCDVcyqLeFA': 1,\n 'CLbpPUqP6XpeAfoqScGaJQ': 1,\n '_VTEyUzzH92X3w-IpGaXVA': 26,\n 'qtOCfMTrozmUSHWIcohc6Q': 4,\n 'zBi_JWB5uUdVuz3JLoAxGQ': 17,\n 'KLB3wIYUwKDPMbijIE92vg': 13,\n '1KQi8Ymatd4ySAd4fhSfaw': 3,\n '_Pn-EmWO-pFPFg81ZIEiDw': 8,\n 'dTeSvET2SR5LDF_J07wJAQ': 12,\n 'EiwxlbR8fb68lMgEXhcWKA': 4,\n '4pc_EyanaC3ARh0MZZyouA': 7,\n '2XYdguaaZ7dgi6fAlddujg': 2,\n 'bE7Yd0jI_P6g27MWEKKalA': 17,\n 'm1IVpXClMox1VGw5hO2LhQ': 4,\n 'IuaAfrkirlfzY3f4PkgSmw': 4,\n 'ay4M5J28kBUf0odOQct0BA': 13,\n 'dzJDCQ5vubQBJTfYTEmcbg': 4,\n 'mu4XvWvJOb3XpG1C_CHCWA': 2,\n 'OoyQYSeYNyRVOmdO3tsxYA': 3,\n 'PE8s8ACYABRNANI-T_WmzA': 1,\n 'sBqCpEUn0qYdpSF4DbWlAQ': 5,\n '7RCz4Ln_FaTvNrdwe251Dg': 7,\n '1st2ltGKJ00ZcRsev-Ieew': 4,\n 'Gr-MqCunME2K_KmsAwjpTA': 1,\n 'tekHDsd0fskYG3tqu4sHQw': 9,\n 'ZA1OT-PIZwz2kdHDA6mShw': 3,\n 'hLVq7VSJBHZwqurwWoCmpg': 2,\n '5fQ9P6kbQM_E0dx8DL6JWA': 2,\n 'e5kg9bLvlJz-MEUrGjIeVQ': 12,\n 'JteQGisqOf_pklq7GA0Rww': 2,\n '37HswRimgBEf7_US-c3CDA': 1,\n 'UmTMCfPlhA6kJLAsLycSfg': 2,\n 'qd16czwFUVHICKF7A4qWsQ': 1,\n '98rLDXbloLXekGjieuQSlA': 1,\n '79yaBDbLASfIdB-C2c8DzA': 1,\n 'Uo5dPwoDpYBzOnmUnjxJ6A': 3,\n 'R4l3ONHzGBakKKNo4TN9iQ': 2,\n 'y6jsaAXFstAJkf53R4_y4Q': 12,\n 'tL2pS5UOmN6aAOi3Z-qFGg': 5,\n 'SdXxLZQQnQNUEL1rGMOQ6w': 2,\n 'dW6bAWM1HbPdk_cGS_a2HA': 7,\n 'CebjpVd3PsofCgotWp60pg': 2,\n 'KgJdBWS3ReP6TVhYWJRKmg': 1,\n '2quguRdKBzul3GpRi9e1mA': 7,\n '0QREkWHGO8-Z_70qx1BIWw': 4,\n 'KHjroLTG6Ah8LyItTyB2yw': 3,\n 'TZ974xcbw2kqjYxAhDUYVg': 1,\n '8oYMqhC5fhqAK_yxRjE7dQ': 1,\n 'fLnkI1uHtXEsjtF6KoBHbQ': 5,\n 'SsOiVav4V5_NjTl21Lj92w': 1,\n 'kwIhn1_cnQeUaLN0CuWWHw': 6,\n 'UwV6jBuTR1S9acT6bPTBPw': 2,\n 'tX0r-C9BaHYEolRUfufTsQ': 3,\n 'jPcrABeWgWlTPi-E0Op_aA': 1,\n '0KhRPd66BZGHCtsb9mGh_g': 1,\n '9W73B44Iw8WslrTNB2CdCg': 2,\n 'DPtOaWemjBPvFiZJBi0m8A': 3,\n '750rhwO7D_Cul7_GtO9Jsg': 1,\n 'd5WLqmTMvmL7-RmUDVKqqQ': 1,\n 'bHufZ2OTlC-OUxBDRXxViw': 3,\n 'ChshgCKJTdIDg17JKtFuJw': 1,\n 'B0ENvYKQdNNr1Izd2r-BAA': 2,\n 'Ams0iLRd0AhZZectGKA8fw': 2,\n '97j2wkFU46OOgm6ErRAb7w': 2,\n 'QRsuZ_LqrRU65dTs5CL4Lw': 1,\n 'bJguBxPlnTW29tRTAF0nkQ': 3,\n 'JLv2Dmfj73-I0d9N41tz1A': 1,\n 'ajxohdcsKhRGFlEvHZDyTw': 4,\n 'T88y73qdOSutuvzLlhWtqQ': 1,\n '5DgFmyjW6hkBtXtTMKl4tA': 5,\n 'DkLSyxogCcJXY5DbTZ-f2A': 1,\n '7G8w2SnaC-qDVQ7_GqTxMg': 3,\n 'NUtVG7jNPLJR2cxMXMH2-A': 2,\n 'WoKCLSctS7G2547xKcED-Q': 4,\n 'hilL60vuuh06sMxs6Ckkog': 4,\n 'S9dDf0JqSMAvusp5f-9bGw': 2,\n 'QYKexxaOJQlseGWmc6soRg': 2,\n 'PKEzKWv_FktMm2mGPjwd0Q': 1,\n 'xrvyW1ruKS0uz9RtFewC0Q': 1,\n 'fcWM-oqjgS94yi1INhZa0g': 1,\n 'nOTl4aPC4tKHK35T3bNauQ': 1,\n 'EY8h9IJimXDNbPXVFpYF3A': 1,\n '9S52XHEyrvOv4OZxU6pCLw': 3,\n 'LiNx18WUre9WFCEQlUhtKA': 1,\n 'MJ0Wphhko2-LbJ0uZ5XyQA': 1,\n 'vENR70IrUsDNTDebbuxyQA': 1,\n 'tRZAC_H5RHrjvyvtufcNXQ': 3,\n 'e8uzNcSC5tQMD22GNAQEQA': 2,\n '7Vfy39A_totC-w70qZi0MA': 1,\n 'UAB1Zyg6Q0oEpXeYRf5K_g': 1,\n 'voXU5A3FfOcXZ2VNsJ0q4w': 1,\n 'jcriwcTidug0fK8sgAloHA': 2,\n 'NlNlyQynkyEU3l7TR3LXdg': 1,\n '2xVrxhQJUBmOyG4ML77XKw': 1,\n 'hd343st7cOIUSfAd5r0U7A': 1,\n '903YwVSoAKyzudc8LH_HMA': 1,\n 'ELfzWgdf64VBLi5z1ECItw': 1,\n 'XEqQG61fetXhuEV9RPslIA': 1,\n 'cIbbfJEGLB3B-c8Po4AL5g': 2,\n 'MwpK7PqQX7fgTFM2Pfy61w': 1,\n 'gUu0uaiU7UEUVIgCdnqPVQ': 1,\n 'eqWEgMH-DCP74i82BEAZzw': 1,\n 'ma6206bmu-a_Ja7Iv-yRCw': 1,\n 'yCaDISH0R8e5U376zDWTpQ': 1,\n 'cm3_8c_NDhPcpwJQ96Aixw': 3,\n 'BDjiEmXljD2ZHT61Iv9rrQ': 1,\n 'p9942XebvxZ9ubHm4SXmMQ': 1,\n 'KtE55izPs1ubJn3ofF2IrA': 5,\n '0FMte0z-repSVWSJ_BaQTg': 1,\n 'UYcmGbelzRa0Q6JqzLoguw': 1,\n 'Zk95TMXDx0zMUhYq5u8pxw': 2,\n 'tAcY4S3vIuNlAoRlCcz5VA': 3,\n 'Y0-lLNc2Y7gUGXPzSsMueQ': 1,\n 'O9pMFJSPg80YVzpMfNikxw': 1,\n 'HLY9oDcVBH9D25lU4X_V5Q': 10,\n 'WaAOt_eG0_-yLpG3fI--3g': 1,\n 'JqjAthJThuVYgTh4iWDZ2A': 2,\n 'jJDUCuPwVqwjbth3s92whA': 1,\n 'mm9WYrFhiNqvHCyhQKw3Mg': 3,\n 'Cf0chERnfd06ltnN45xLNQ': 4,\n 'F47atsRPw-KHmRVk5exBFw': 1,\n 'a48HhwcmjFLApZhiax41IA': 11,\n 'XPAJ2KHkCwBA0vafF-2Zcg': 2,\n 'hqmnMdDS-Opjp3BfBJA8qA': 3,\n 'XUEwSGOGARxW-3gPiGJKUg': 1,\n 'bbK1mL-AyYCHZncDQ_4RgA': 1,\n '4PQhC-zTQ4ACEN0-r39JuQ': 2,\n 'JRqMFKGxx6DnTGZrxwQZaA': 1,\n 'mnoe2vwouRADn97dTDkw4A': 1,\n 'Tk_FWXueutKii3f9yJFsdw': 1,\n 'Si3aMsOVGSVlsc54iuiPwA': 1,\n 'jgoG_hHqnhZvQEoBK0-82w': 1,\n 'DjcRgZ0cJbf6-W2TxvFlBA': 1,\n '4ZQq0ozRs-gXSz1z55iIDw': 5,\n 'pDNeS1nbkKS7mJmhRQJPig': 26,\n 'jSbXY_rno4hYHQCFftsWXg': 1,\n '3Vd_ATdvvuVVgn_YCpz8fw': 1,\n 'Z9a1tDT8fVI75qXYwNhPpw': 3,\n 'waN6iwcphiVEoCews4f4CA': 1,\n 'IXD-jdycm7m34b_Nliy82g': 1,\n '2k8OVAPxlXHsA5X6EIoQpQ': 1,\n 'VdoTNYWuoXo01umgannw8A': 1,\n 'JeOHA8tW7gr-FDYOcPJoeA': 1,\n 'oegRUjhGbP62M18WyAL6pQ': 6,\n 'lL-wNa0TKK6LXrlcVmjYrQ': 1,\n 'Gua5GdTlTWJpovtG7Hdtyg': 7,\n 'QvLg2kxqHHahxxOlHlEIZw': 22,\n '0gZ8E5tBWTEtGEZDuTzhzw': 2,\n 'TjsBbWAfwxWEXPxaLNv5SQ': 1,\n 'MrsRJa4SWLq8XLU1RtPdlw': 2,\n 'kKTcYPz47sCDH1_ylnE4ZQ': 1,\n '_m1ot2zZetDgjerAD2Sidg': 1,\n 'wXdrUQg4-VkSZH1FG4Byzw': 3,\n 'o-t-i7nbT5N_cmkCXs5oDQ': 4,\n 'XrRLaAeV20MRwdSIGjj2SQ': 4,\n 'LKP0Yq9T7Ss6oiDZnVtQwQ': 14,\n 'tcWnoX_IfuDmlDl6o6y3_g': 14,\n 'cyuDrrG5eEK-TZI867MUPA': 16,\n 'A-U-K9z9oraMH7eBZW1dOA': 11,\n 'j8Dts8irvVBwEhEEae_-wA': 1,\n 'sO6iNKgv_ToVfof-aQWgXg': 1,\n 'xhlcoVm3FOKcxZ0phkdO6Q': 1,\n 'e0Jn0ZjqL-dWi7Brs0bbmg': 2,\n 'ZW-XoteNlRuuK-19q1spmw': 1,\n 'S1cjSFKcS5NVc3o1MkfpwA': 3,\n '2GUjO7NU88cPXpoffYCU8w': 3,\n 'jnn504CkjtfbYIwBquWmBw': 8,\n 'B7IvZ26ZUdL2jGbYsFVGxQ': 6,\n 'k24kSTpZHUdEd-QYXLy3fQ': 1,\n 'Hv_q_ZnSIoZwdcoH0CyV2Q': 9,\n '9xM8upr_n9jchUDKxqSGHw': 1,\n '23y0Nv9FFWn_3UWudpnFMA': 1,\n 'l-1cva9rA8_ugLrtSdKAqA': 7,\n 'CyrRjt_7iJ8_lSHeH1_TlA': 1,\n 'BDmxm7aeWFOLT35gSvkmig': 2,\n '6xi9tBoZ6r_v41u_XFsSnA': 3,\n 'H5Asta4LpiKmRhSjWaogIg': 1,\n 'H4EQn0rjFuGRgIm6c9NFLg': 1,\n 'ZZvfGGLnAkSBSUduV7KN-w': 4,\n 'JhFK9D3LYl23Se3x4oPUxA': 1,\n 'ae7zi8F0B6l_JCITh1mXDg': 14,\n 'Nf_Jw_W_CwOz5WJ7ApSMxg': 14,\n 'EI9ijI9Wh66LrVW-GmWkOg': 14,\n 'SX_SMrddkDU5dySbsZMu9A': 2,\n 'YA-caxALI4C-eCiSM97new': 4,\n 'ORJnGXXkS9tQBTNyPQJF9A': 1,\n 'KBoIRjxSW7OWczv8OS9Bew': 1,\n 'drTMOo4p8nL0pnMNEyat2A': 1,\n 'LaiylSIbrA3aPvOYtl-J4A': 3,\n 'ZEq0WtRJD9Bl_vYgCsbfOg': 3,\n 'Ih85YhFRDzOnB09yS__94g': 3,\n 'SVC0CajvmYfH5uAq4JnGvg': 4,\n 'LgFDWZTLi1w9OGi5BtKORg': 1,\n '4ONcRRisDZkbV1cviA7nFw': 2,\n 'fOut10lknIp64tm3z6UTNg': 1,\n 'frQs7y5qa-X1pvAM0sJe1w': 3,\n 'angEr2YcXmCl20s8WQu32w': 3,\n 'e5sdXDOkCf0sIUAivXVluA': 1,\n '6YmRpoIuiq8I19Q8dHKTHw': 3,\n 'QUYbGl1DL-9faG150MQ7zA': 2,\n 'k58KNO8Rya-q8njKq8-uBQ': 14,\n 'WXlxViTwXHPBvhioljN9PQ': 14,\n 'h-ajC_UHD0QAyAzySN6g2A': 14,\n 'BE4fE4R3TaVn8xy4sYYjbg': 14,\n 'FyQrUamokaPLDrBxGmzPnA': 14,\n 'DgfsJqg_gozVgaeZ5vjllA': 14,\n 'ZXyGw3Z1DyhK1sfNtpcyYA': 14,\n '9SWtEX1k9AjRg93BAzMCpg': 14,\n 'gH0dJQhyKUOVCKQA6sqAnw': 1,\n '453V8MlGr8y61PpsDAFjKQ': 1,\n 'YVQFzWm0H72mLUh-8gzd5w': 1,\n '46HhzhpBfTdTSB5ceTx_Og': 1}"
     },
     "execution_count": 53,
     "metadata": {},
     "output_type": "execute_result"
    }
   ],
   "source": [
    "degree_map"
   ],
   "metadata": {
    "collapsed": false,
    "pycharm": {
     "name": "#%%\n"
    }
   }
  },
  {
   "cell_type": "code",
   "execution_count": 58,
   "outputs": [
    {
     "data": {
      "text/plain": "(0.07852292704956468,\n [{'0FMte0z-repSVWSJ_BaQTg',\n   '0FVcoJko1kfZCrJRfssfIA',\n   '0KhRPd66BZGHCtsb9mGh_g',\n   '0QREkWHGO8-Z_70qx1BIWw',\n   '0gZ8E5tBWTEtGEZDuTzhzw',\n   '1KQi8Ymatd4ySAd4fhSfaw',\n   '1st2ltGKJ00ZcRsev-Ieew',\n   '23o7tyUGlC6FCDVcyqLeFA',\n   '2GUjO7NU88cPXpoffYCU8w',\n   '2XYdguaaZ7dgi6fAlddujg',\n   '2k8OVAPxlXHsA5X6EIoQpQ',\n   '2quguRdKBzul3GpRi9e1mA',\n   '2xVrxhQJUBmOyG4ML77XKw',\n   '37HswRimgBEf7_US-c3CDA',\n   '39FT2Ui8KUXwmUt6hnwy-g',\n   '4ONcRRisDZkbV1cviA7nFw',\n   '4PQhC-zTQ4ACEN0-r39JuQ',\n   '4ZQq0ozRs-gXSz1z55iIDw',\n   '4pc_EyanaC3ARh0MZZyouA',\n   '5DgFmyjW6hkBtXtTMKl4tA',\n   '5fQ9P6kbQM_E0dx8DL6JWA',\n   '6YmRpoIuiq8I19Q8dHKTHw',\n   '6xi9tBoZ6r_v41u_XFsSnA',\n   '750rhwO7D_Cul7_GtO9Jsg',\n   '79yaBDbLASfIdB-C2c8DzA',\n   '7G8w2SnaC-qDVQ7_GqTxMg',\n   '7RCz4Ln_FaTvNrdwe251Dg',\n   '7Vfy39A_totC-w70qZi0MA',\n   '8oYMqhC5fhqAK_yxRjE7dQ',\n   '903YwVSoAKyzudc8LH_HMA',\n   '97j2wkFU46OOgm6ErRAb7w',\n   '9S52XHEyrvOv4OZxU6pCLw',\n   '9SWtEX1k9AjRg93BAzMCpg',\n   '9W73B44Iw8WslrTNB2CdCg',\n   '9xM8upr_n9jchUDKxqSGHw',\n   'A-U-K9z9oraMH7eBZW1dOA',\n   'Ams0iLRd0AhZZectGKA8fw',\n   'B0ENvYKQdNNr1Izd2r-BAA',\n   'B7IvZ26ZUdL2jGbYsFVGxQ',\n   'BDjiEmXljD2ZHT61Iv9rrQ',\n   'BDmxm7aeWFOLT35gSvkmig',\n   'BE4fE4R3TaVn8xy4sYYjbg',\n   'CebjpVd3PsofCgotWp60pg',\n   'ChshgCKJTdIDg17JKtFuJw',\n   'DKolrsBSwMTpTJL22dqJRQ',\n   'DPtOaWemjBPvFiZJBi0m8A',\n   'DgfsJqg_gozVgaeZ5vjllA',\n   'DjcRgZ0cJbf6-W2TxvFlBA',\n   'DkLSyxogCcJXY5DbTZ-f2A',\n   'EI9ijI9Wh66LrVW-GmWkOg',\n   'ELfzWgdf64VBLi5z1ECItw',\n   'EY8h9IJimXDNbPXVFpYF3A',\n   'EiwxlbR8fb68lMgEXhcWKA',\n   'FyQrUamokaPLDrBxGmzPnA',\n   'Gua5GdTlTWJpovtG7Hdtyg',\n   'H4EQn0rjFuGRgIm6c9NFLg',\n   'H5Asta4LpiKmRhSjWaogIg',\n   'HLY9oDcVBH9D25lU4X_V5Q',\n   'Hv_q_ZnSIoZwdcoH0CyV2Q',\n   'IXD-jdycm7m34b_Nliy82g',\n   'Ih85YhFRDzOnB09yS__94g',\n   'IuaAfrkirlfzY3f4PkgSmw',\n   'JLv2Dmfj73-I0d9N41tz1A',\n   'JM0GL6Dx4EuZ1mprLk5Gyg',\n   'JRqMFKGxx6DnTGZrxwQZaA',\n   'JqjAthJThuVYgTh4iWDZ2A',\n   'JteQGisqOf_pklq7GA0Rww',\n   'KBoIRjxSW7OWczv8OS9Bew',\n   'KHjroLTG6Ah8LyItTyB2yw',\n   'KLB3wIYUwKDPMbijIE92vg',\n   'KgJdBWS3ReP6TVhYWJRKmg',\n   'KtE55izPs1ubJn3ofF2IrA',\n   'LKP0Yq9T7Ss6oiDZnVtQwQ',\n   'LaiylSIbrA3aPvOYtl-J4A',\n   'LcCRMIDz1JgshpPGYfLDcA',\n   'LgFDWZTLi1w9OGi5BtKORg',\n   'LiNx18WUre9WFCEQlUhtKA',\n   'MrsRJa4SWLq8XLU1RtPdlw',\n   'MtdSCXtmrSxj_uZOJ5ZycQ',\n   'MwpK7PqQX7fgTFM2Pfy61w',\n   'NUtVG7jNPLJR2cxMXMH2-A',\n   'Nf_Jw_W_CwOz5WJ7ApSMxg',\n   'NlNlyQynkyEU3l7TR3LXdg',\n   'O9pMFJSPg80YVzpMfNikxw',\n   'ORJnGXXkS9tQBTNyPQJF9A',\n   'OoyQYSeYNyRVOmdO3tsxYA',\n   'PE8s8ACYABRNANI-T_WmzA',\n   'PKEzKWv_FktMm2mGPjwd0Q',\n   'QUYbGl1DL-9faG150MQ7zA',\n   'QvLg2kxqHHahxxOlHlEIZw',\n   'R4l3ONHzGBakKKNo4TN9iQ',\n   'S1cjSFKcS5NVc3o1MkfpwA',\n   'S9dDf0JqSMAvusp5f-9bGw',\n   'SVC0CajvmYfH5uAq4JnGvg',\n   'SX_SMrddkDU5dySbsZMu9A',\n   'SdXxLZQQnQNUEL1rGMOQ6w',\n   'SsOiVav4V5_NjTl21Lj92w',\n   'T88y73qdOSutuvzLlhWtqQ',\n   'TZ974xcbw2kqjYxAhDUYVg',\n   'TjsBbWAfwxWEXPxaLNv5SQ',\n   'Tk_FWXueutKii3f9yJFsdw',\n   'UAB1Zyg6Q0oEpXeYRf5K_g',\n   'UYcmGbelzRa0Q6JqzLoguw',\n   'UmTMCfPlhA6kJLAsLycSfg',\n   'Uo5dPwoDpYBzOnmUnjxJ6A',\n   'UwV6jBuTR1S9acT6bPTBPw',\n   'VdoTNYWuoXo01umgannw8A',\n   'WXlxViTwXHPBvhioljN9PQ',\n   'WaAOt_eG0_-yLpG3fI--3g',\n   'WoKCLSctS7G2547xKcED-Q',\n   'XEqQG61fetXhuEV9RPslIA',\n   'XPAJ2KHkCwBA0vafF-2Zcg',\n   'XUEwSGOGARxW-3gPiGJKUg',\n   'XrRLaAeV20MRwdSIGjj2SQ',\n   'Y0-lLNc2Y7gUGXPzSsMueQ',\n   'YA-caxALI4C-eCiSM97new',\n   'Z9a1tDT8fVI75qXYwNhPpw',\n   'ZA1OT-PIZwz2kdHDA6mShw',\n   'ZEq0WtRJD9Bl_vYgCsbfOg',\n   'ZXyGw3Z1DyhK1sfNtpcyYA',\n   'ZZvfGGLnAkSBSUduV7KN-w',\n   'Zk95TMXDx0zMUhYq5u8pxw',\n   '_Pn-EmWO-pFPFg81ZIEiDw',\n   '_VTEyUzzH92X3w-IpGaXVA',\n   'a48HhwcmjFLApZhiax41IA',\n   'ae7zi8F0B6l_JCITh1mXDg',\n   'ajxohdcsKhRGFlEvHZDyTw',\n   'angEr2YcXmCl20s8WQu32w',\n   'ay4M5J28kBUf0odOQct0BA',\n   'bE7Yd0jI_P6g27MWEKKalA',\n   'bHufZ2OTlC-OUxBDRXxViw',\n   'bJguBxPlnTW29tRTAF0nkQ',\n   'bSUS0YcvS7UelmHvCzNWBA',\n   'bbK1mL-AyYCHZncDQ_4RgA',\n   'cIbbfJEGLB3B-c8Po4AL5g',\n   'cm3_8c_NDhPcpwJQ96Aixw',\n   'cyuDrrG5eEK-TZI867MUPA',\n   'dTeSvET2SR5LDF_J07wJAQ',\n   'dW6bAWM1HbPdk_cGS_a2HA',\n   'dzJDCQ5vubQBJTfYTEmcbg',\n   'e0Jn0ZjqL-dWi7Brs0bbmg',\n   'e5kg9bLvlJz-MEUrGjIeVQ',\n   'e5sdXDOkCf0sIUAivXVluA',\n   'e8uzNcSC5tQMD22GNAQEQA',\n   'fLnkI1uHtXEsjtF6KoBHbQ',\n   'fOut10lknIp64tm3z6UTNg',\n   'fcWM-oqjgS94yi1INhZa0g',\n   'frQs7y5qa-X1pvAM0sJe1w',\n   'h-ajC_UHD0QAyAzySN6g2A',\n   'hLVq7VSJBHZwqurwWoCmpg',\n   'hd343st7cOIUSfAd5r0U7A',\n   'hilL60vuuh06sMxs6Ckkog',\n   'hqmnMdDS-Opjp3BfBJA8qA',\n   'j8Dts8irvVBwEhEEae_-wA',\n   'jPcrABeWgWlTPi-E0Op_aA',\n   'jcriwcTidug0fK8sgAloHA',\n   'jgoG_hHqnhZvQEoBK0-82w',\n   'jnn504CkjtfbYIwBquWmBw',\n   'k24kSTpZHUdEd-QYXLy3fQ',\n   'k58KNO8Rya-q8njKq8-uBQ',\n   'kKTcYPz47sCDH1_ylnE4ZQ',\n   'kwIhn1_cnQeUaLN0CuWWHw',\n   'l-1cva9rA8_ugLrtSdKAqA',\n   'm1IVpXClMox1VGw5hO2LhQ',\n   'ma6206bmu-a_Ja7Iv-yRCw',\n   'mm9WYrFhiNqvHCyhQKw3Mg',\n   'mnoe2vwouRADn97dTDkw4A',\n   'mu4XvWvJOb3XpG1C_CHCWA',\n   'nOTl4aPC4tKHK35T3bNauQ',\n   'o-t-i7nbT5N_cmkCXs5oDQ',\n   'oegRUjhGbP62M18WyAL6pQ',\n   'p9942XebvxZ9ubHm4SXmMQ',\n   'pDNeS1nbkKS7mJmhRQJPig',\n   'qd16czwFUVHICKF7A4qWsQ',\n   'qtOCfMTrozmUSHWIcohc6Q',\n   'sBqCpEUn0qYdpSF4DbWlAQ',\n   'sO6iNKgv_ToVfof-aQWgXg',\n   'sdLns7062kz3Ur_b8wgeYw',\n   'tAcY4S3vIuNlAoRlCcz5VA',\n   'tL2pS5UOmN6aAOi3Z-qFGg',\n   'tRZAC_H5RHrjvyvtufcNXQ',\n   'tcWnoX_IfuDmlDl6o6y3_g',\n   'tekHDsd0fskYG3tqu4sHQw',\n   'voXU5A3FfOcXZ2VNsJ0q4w',\n   'wXdrUQg4-VkSZH1FG4Byzw',\n   'waN6iwcphiVEoCews4f4CA',\n   'xrvyW1ruKS0uz9RtFewC0Q',\n   'y6jsaAXFstAJkf53R4_y4Q',\n   'yCaDISH0R8e5U376zDWTpQ',\n   'zBi_JWB5uUdVuz3JLoAxGQ'},\n  {'Gr-MqCunME2K_KmsAwjpTA',\n   'QRsuZ_LqrRU65dTs5CL4Lw',\n   '_6Zg4ukwS0kst9UtkfVw3w',\n   'lJFBgSAccsMGwIjfD7LMeQ'},\n  {'CLbpPUqP6XpeAfoqScGaJQ',\n   'drTMOo4p8nL0pnMNEyat2A',\n   'tX0r-C9BaHYEolRUfufTsQ',\n   'xhlcoVm3FOKcxZ0phkdO6Q'},\n  {'98rLDXbloLXekGjieuQSlA',\n   'MJ0Wphhko2-LbJ0uZ5XyQA',\n   'QYKexxaOJQlseGWmc6soRg'},\n  {'Si3aMsOVGSVlsc54iuiPwA', 'd5WLqmTMvmL7-RmUDVKqqQ'},\n  {'_m1ot2zZetDgjerAD2Sidg', 'vENR70IrUsDNTDebbuxyQA'},\n  {'gUu0uaiU7UEUVIgCdnqPVQ', 'jJDUCuPwVqwjbth3s92whA'},\n  {'23y0Nv9FFWn_3UWudpnFMA', 'eqWEgMH-DCP74i82BEAZzw'},\n  {'Cf0chERnfd06ltnN45xLNQ',\n   'CyrRjt_7iJ8_lSHeH1_TlA',\n   'JhFK9D3LYl23Se3x4oPUxA',\n   'ZW-XoteNlRuuK-19q1spmw',\n   'lL-wNa0TKK6LXrlcVmjYrQ'},\n  {'F47atsRPw-KHmRVk5exBFw', 'JeOHA8tW7gr-FDYOcPJoeA'},\n  {'3Vd_ATdvvuVVgn_YCpz8fw', 'jSbXY_rno4hYHQCFftsWXg'},\n  {'453V8MlGr8y61PpsDAFjKQ', 'gH0dJQhyKUOVCKQA6sqAnw'},\n  {'46HhzhpBfTdTSB5ceTx_Og', 'YVQFzWm0H72mLUh-8gzd5w'}])"
     },
     "execution_count": 58,
     "metadata": {},
     "output_type": "execute_result"
    }
   ],
   "source": [
    "def get_modularity_score(network):\n",
    "\n",
    "\n",
    "    community_list = []\n",
    "    traversed = set()\n",
    "    for node in network.keys():\n",
    "        if node not in traversed:\n",
    "            bfs_tree = {node}\n",
    "            bfs_q = [node]\n",
    "            while bfs_q:\n",
    "                cur_node = bfs_q.pop(0)\n",
    "                for adjacent_node in network[cur_node]:\n",
    "                    if adjacent_node not in bfs_tree:\n",
    "                        bfs_tree.add(adjacent_node)\n",
    "                        bfs_q.append(adjacent_node)\n",
    "\n",
    "            community_list.append(bfs_tree)\n",
    "            traversed = traversed.union(bfs_tree)\n",
    "\n",
    "    modularity_score = 0\n",
    "    for c in community_list:\n",
    "        for i in c:\n",
    "            k_i = degree_map[i]\n",
    "            for j in c:\n",
    "                k_j = degree_map[j]\n",
    "                #modularity_score -= float(k_i * k_j) / float(two_m)\n",
    "                #if ((i, j)) in expected_edges or ((j,i)) in expected_edges:\n",
    "                #    modularity_score += 1\n",
    "                if ((i, j)) in expected_edges:\n",
    "                    modularity_score+= 1 - k_i * k_j / two_m\n",
    "                else:\n",
    "                    modularity_score+= 0 - k_i * k_j / two_m\n",
    "\n",
    "    modularity_score /= two_m\n",
    "\n",
    "    return modularity_score, community_list\n",
    "\n",
    "get_modularity_score(network)"
   ],
   "metadata": {
    "collapsed": false,
    "pycharm": {
     "name": "#%%\n"
    }
   }
  },
  {
   "cell_type": "code",
   "execution_count": 30,
   "outputs": [
    {
     "data": {
      "text/plain": "(-0.9214770729505822,\n [{'0FMte0z-repSVWSJ_BaQTg',\n   '0FVcoJko1kfZCrJRfssfIA',\n   '0KhRPd66BZGHCtsb9mGh_g',\n   '0QREkWHGO8-Z_70qx1BIWw',\n   '0gZ8E5tBWTEtGEZDuTzhzw',\n   '1KQi8Ymatd4ySAd4fhSfaw',\n   '1st2ltGKJ00ZcRsev-Ieew',\n   '23o7tyUGlC6FCDVcyqLeFA',\n   '2GUjO7NU88cPXpoffYCU8w',\n   '2XYdguaaZ7dgi6fAlddujg',\n   '2k8OVAPxlXHsA5X6EIoQpQ',\n   '2quguRdKBzul3GpRi9e1mA',\n   '2xVrxhQJUBmOyG4ML77XKw',\n   '37HswRimgBEf7_US-c3CDA',\n   '39FT2Ui8KUXwmUt6hnwy-g',\n   '4ONcRRisDZkbV1cviA7nFw',\n   '4PQhC-zTQ4ACEN0-r39JuQ',\n   '4ZQq0ozRs-gXSz1z55iIDw',\n   '4pc_EyanaC3ARh0MZZyouA',\n   '5DgFmyjW6hkBtXtTMKl4tA',\n   '5fQ9P6kbQM_E0dx8DL6JWA',\n   '6YmRpoIuiq8I19Q8dHKTHw',\n   '6xi9tBoZ6r_v41u_XFsSnA',\n   '750rhwO7D_Cul7_GtO9Jsg',\n   '79yaBDbLASfIdB-C2c8DzA',\n   '7G8w2SnaC-qDVQ7_GqTxMg',\n   '7RCz4Ln_FaTvNrdwe251Dg',\n   '7Vfy39A_totC-w70qZi0MA',\n   '8oYMqhC5fhqAK_yxRjE7dQ',\n   '903YwVSoAKyzudc8LH_HMA',\n   '97j2wkFU46OOgm6ErRAb7w',\n   '9S52XHEyrvOv4OZxU6pCLw',\n   '9SWtEX1k9AjRg93BAzMCpg',\n   '9W73B44Iw8WslrTNB2CdCg',\n   '9xM8upr_n9jchUDKxqSGHw',\n   'A-U-K9z9oraMH7eBZW1dOA',\n   'Ams0iLRd0AhZZectGKA8fw',\n   'B0ENvYKQdNNr1Izd2r-BAA',\n   'B7IvZ26ZUdL2jGbYsFVGxQ',\n   'BDjiEmXljD2ZHT61Iv9rrQ',\n   'BDmxm7aeWFOLT35gSvkmig',\n   'BE4fE4R3TaVn8xy4sYYjbg',\n   'CebjpVd3PsofCgotWp60pg',\n   'ChshgCKJTdIDg17JKtFuJw',\n   'DKolrsBSwMTpTJL22dqJRQ',\n   'DPtOaWemjBPvFiZJBi0m8A',\n   'DgfsJqg_gozVgaeZ5vjllA',\n   'DjcRgZ0cJbf6-W2TxvFlBA',\n   'DkLSyxogCcJXY5DbTZ-f2A',\n   'EI9ijI9Wh66LrVW-GmWkOg',\n   'ELfzWgdf64VBLi5z1ECItw',\n   'EY8h9IJimXDNbPXVFpYF3A',\n   'EiwxlbR8fb68lMgEXhcWKA',\n   'FyQrUamokaPLDrBxGmzPnA',\n   'Gua5GdTlTWJpovtG7Hdtyg',\n   'H4EQn0rjFuGRgIm6c9NFLg',\n   'H5Asta4LpiKmRhSjWaogIg',\n   'HLY9oDcVBH9D25lU4X_V5Q',\n   'Hv_q_ZnSIoZwdcoH0CyV2Q',\n   'IXD-jdycm7m34b_Nliy82g',\n   'Ih85YhFRDzOnB09yS__94g',\n   'IuaAfrkirlfzY3f4PkgSmw',\n   'JLv2Dmfj73-I0d9N41tz1A',\n   'JM0GL6Dx4EuZ1mprLk5Gyg',\n   'JRqMFKGxx6DnTGZrxwQZaA',\n   'JqjAthJThuVYgTh4iWDZ2A',\n   'JteQGisqOf_pklq7GA0Rww',\n   'KBoIRjxSW7OWczv8OS9Bew',\n   'KHjroLTG6Ah8LyItTyB2yw',\n   'KLB3wIYUwKDPMbijIE92vg',\n   'KgJdBWS3ReP6TVhYWJRKmg',\n   'KtE55izPs1ubJn3ofF2IrA',\n   'LKP0Yq9T7Ss6oiDZnVtQwQ',\n   'LaiylSIbrA3aPvOYtl-J4A',\n   'LcCRMIDz1JgshpPGYfLDcA',\n   'LgFDWZTLi1w9OGi5BtKORg',\n   'LiNx18WUre9WFCEQlUhtKA',\n   'MrsRJa4SWLq8XLU1RtPdlw',\n   'MtdSCXtmrSxj_uZOJ5ZycQ',\n   'MwpK7PqQX7fgTFM2Pfy61w',\n   'NUtVG7jNPLJR2cxMXMH2-A',\n   'Nf_Jw_W_CwOz5WJ7ApSMxg',\n   'NlNlyQynkyEU3l7TR3LXdg',\n   'O9pMFJSPg80YVzpMfNikxw',\n   'ORJnGXXkS9tQBTNyPQJF9A',\n   'OoyQYSeYNyRVOmdO3tsxYA',\n   'PE8s8ACYABRNANI-T_WmzA',\n   'PKEzKWv_FktMm2mGPjwd0Q',\n   'QUYbGl1DL-9faG150MQ7zA',\n   'QvLg2kxqHHahxxOlHlEIZw',\n   'R4l3ONHzGBakKKNo4TN9iQ',\n   'S1cjSFKcS5NVc3o1MkfpwA',\n   'S9dDf0JqSMAvusp5f-9bGw',\n   'SVC0CajvmYfH5uAq4JnGvg',\n   'SX_SMrddkDU5dySbsZMu9A',\n   'SdXxLZQQnQNUEL1rGMOQ6w',\n   'SsOiVav4V5_NjTl21Lj92w',\n   'T88y73qdOSutuvzLlhWtqQ',\n   'TZ974xcbw2kqjYxAhDUYVg',\n   'TjsBbWAfwxWEXPxaLNv5SQ',\n   'Tk_FWXueutKii3f9yJFsdw',\n   'UAB1Zyg6Q0oEpXeYRf5K_g',\n   'UYcmGbelzRa0Q6JqzLoguw',\n   'UmTMCfPlhA6kJLAsLycSfg',\n   'Uo5dPwoDpYBzOnmUnjxJ6A',\n   'UwV6jBuTR1S9acT6bPTBPw',\n   'VdoTNYWuoXo01umgannw8A',\n   'WXlxViTwXHPBvhioljN9PQ',\n   'WaAOt_eG0_-yLpG3fI--3g',\n   'WoKCLSctS7G2547xKcED-Q',\n   'XEqQG61fetXhuEV9RPslIA',\n   'XPAJ2KHkCwBA0vafF-2Zcg',\n   'XUEwSGOGARxW-3gPiGJKUg',\n   'XrRLaAeV20MRwdSIGjj2SQ',\n   'Y0-lLNc2Y7gUGXPzSsMueQ',\n   'YA-caxALI4C-eCiSM97new',\n   'Z9a1tDT8fVI75qXYwNhPpw',\n   'ZA1OT-PIZwz2kdHDA6mShw',\n   'ZEq0WtRJD9Bl_vYgCsbfOg',\n   'ZXyGw3Z1DyhK1sfNtpcyYA',\n   'ZZvfGGLnAkSBSUduV7KN-w',\n   'Zk95TMXDx0zMUhYq5u8pxw',\n   '_Pn-EmWO-pFPFg81ZIEiDw',\n   '_VTEyUzzH92X3w-IpGaXVA',\n   'a48HhwcmjFLApZhiax41IA',\n   'ae7zi8F0B6l_JCITh1mXDg',\n   'ajxohdcsKhRGFlEvHZDyTw',\n   'angEr2YcXmCl20s8WQu32w',\n   'ay4M5J28kBUf0odOQct0BA',\n   'bE7Yd0jI_P6g27MWEKKalA',\n   'bHufZ2OTlC-OUxBDRXxViw',\n   'bJguBxPlnTW29tRTAF0nkQ',\n   'bSUS0YcvS7UelmHvCzNWBA',\n   'bbK1mL-AyYCHZncDQ_4RgA',\n   'cIbbfJEGLB3B-c8Po4AL5g',\n   'cm3_8c_NDhPcpwJQ96Aixw',\n   'cyuDrrG5eEK-TZI867MUPA',\n   'dTeSvET2SR5LDF_J07wJAQ',\n   'dW6bAWM1HbPdk_cGS_a2HA',\n   'dzJDCQ5vubQBJTfYTEmcbg',\n   'e0Jn0ZjqL-dWi7Brs0bbmg',\n   'e5kg9bLvlJz-MEUrGjIeVQ',\n   'e5sdXDOkCf0sIUAivXVluA',\n   'e8uzNcSC5tQMD22GNAQEQA',\n   'fLnkI1uHtXEsjtF6KoBHbQ',\n   'fOut10lknIp64tm3z6UTNg',\n   'fcWM-oqjgS94yi1INhZa0g',\n   'frQs7y5qa-X1pvAM0sJe1w',\n   'h-ajC_UHD0QAyAzySN6g2A',\n   'hLVq7VSJBHZwqurwWoCmpg',\n   'hd343st7cOIUSfAd5r0U7A',\n   'hilL60vuuh06sMxs6Ckkog',\n   'hqmnMdDS-Opjp3BfBJA8qA',\n   'j8Dts8irvVBwEhEEae_-wA',\n   'jPcrABeWgWlTPi-E0Op_aA',\n   'jcriwcTidug0fK8sgAloHA',\n   'jgoG_hHqnhZvQEoBK0-82w',\n   'jnn504CkjtfbYIwBquWmBw',\n   'k24kSTpZHUdEd-QYXLy3fQ',\n   'k58KNO8Rya-q8njKq8-uBQ',\n   'kKTcYPz47sCDH1_ylnE4ZQ',\n   'kwIhn1_cnQeUaLN0CuWWHw',\n   'l-1cva9rA8_ugLrtSdKAqA',\n   'm1IVpXClMox1VGw5hO2LhQ',\n   'ma6206bmu-a_Ja7Iv-yRCw',\n   'mm9WYrFhiNqvHCyhQKw3Mg',\n   'mnoe2vwouRADn97dTDkw4A',\n   'mu4XvWvJOb3XpG1C_CHCWA',\n   'nOTl4aPC4tKHK35T3bNauQ',\n   'o-t-i7nbT5N_cmkCXs5oDQ',\n   'oegRUjhGbP62M18WyAL6pQ',\n   'p9942XebvxZ9ubHm4SXmMQ',\n   'pDNeS1nbkKS7mJmhRQJPig',\n   'qd16czwFUVHICKF7A4qWsQ',\n   'qtOCfMTrozmUSHWIcohc6Q',\n   'sBqCpEUn0qYdpSF4DbWlAQ',\n   'sO6iNKgv_ToVfof-aQWgXg',\n   'sdLns7062kz3Ur_b8wgeYw',\n   'tAcY4S3vIuNlAoRlCcz5VA',\n   'tL2pS5UOmN6aAOi3Z-qFGg',\n   'tRZAC_H5RHrjvyvtufcNXQ',\n   'tcWnoX_IfuDmlDl6o6y3_g',\n   'tekHDsd0fskYG3tqu4sHQw',\n   'voXU5A3FfOcXZ2VNsJ0q4w',\n   'wXdrUQg4-VkSZH1FG4Byzw',\n   'waN6iwcphiVEoCews4f4CA',\n   'xrvyW1ruKS0uz9RtFewC0Q',\n   'y6jsaAXFstAJkf53R4_y4Q',\n   'yCaDISH0R8e5U376zDWTpQ',\n   'zBi_JWB5uUdVuz3JLoAxGQ'},\n  {'Gr-MqCunME2K_KmsAwjpTA',\n   'QRsuZ_LqrRU65dTs5CL4Lw',\n   '_6Zg4ukwS0kst9UtkfVw3w',\n   'lJFBgSAccsMGwIjfD7LMeQ'},\n  {'CLbpPUqP6XpeAfoqScGaJQ',\n   'drTMOo4p8nL0pnMNEyat2A',\n   'tX0r-C9BaHYEolRUfufTsQ',\n   'xhlcoVm3FOKcxZ0phkdO6Q'},\n  {'98rLDXbloLXekGjieuQSlA',\n   'MJ0Wphhko2-LbJ0uZ5XyQA',\n   'QYKexxaOJQlseGWmc6soRg'},\n  {'Si3aMsOVGSVlsc54iuiPwA', 'd5WLqmTMvmL7-RmUDVKqqQ'},\n  {'_m1ot2zZetDgjerAD2Sidg', 'vENR70IrUsDNTDebbuxyQA'},\n  {'gUu0uaiU7UEUVIgCdnqPVQ', 'jJDUCuPwVqwjbth3s92whA'},\n  {'23y0Nv9FFWn_3UWudpnFMA', 'eqWEgMH-DCP74i82BEAZzw'},\n  {'Cf0chERnfd06ltnN45xLNQ',\n   'CyrRjt_7iJ8_lSHeH1_TlA',\n   'JhFK9D3LYl23Se3x4oPUxA',\n   'ZW-XoteNlRuuK-19q1spmw',\n   'lL-wNa0TKK6LXrlcVmjYrQ'},\n  {'F47atsRPw-KHmRVk5exBFw', 'JeOHA8tW7gr-FDYOcPJoeA'},\n  {'3Vd_ATdvvuVVgn_YCpz8fw', 'jSbXY_rno4hYHQCFftsWXg'},\n  {'453V8MlGr8y61PpsDAFjKQ', 'gH0dJQhyKUOVCKQA6sqAnw'},\n  {'46HhzhpBfTdTSB5ceTx_Og', 'YVQFzWm0H72mLUh-8gzd5w'}])"
     },
     "execution_count": 30,
     "metadata": {},
     "output_type": "execute_result"
    }
   ],
   "source": [
    "def get_modularity_score(network):\n",
    "\n",
    "\n",
    "    community_list = []\n",
    "    traversed = set()\n",
    "    for node in network.keys():\n",
    "        if node not in traversed:\n",
    "            bfs_tree = {node}\n",
    "            bfs_q = [node]\n",
    "            while bfs_q:\n",
    "                cur_node = bfs_q.pop(0)\n",
    "                for adjacent_node in network[cur_node]:\n",
    "                    if adjacent_node not in bfs_tree:\n",
    "                        bfs_tree.add(adjacent_node)\n",
    "                        bfs_q.append(adjacent_node)\n",
    "\n",
    "            community_list.append(bfs_tree)\n",
    "            traversed = traversed.union(bfs_tree)\n",
    "\n",
    "   # m_double = sum(node_degree.values()) # 2m, i.e. doulbe of num edges in original graph\n",
    "    res = 0\n",
    "    for community in community_list:\n",
    "        for node_i in community:\n",
    "            k_i = degree_map[node_i]\n",
    "            for node_j in community:\n",
    "                k_j = degree_map[node_j]\n",
    "                res -= k_i * k_j / two_m\n",
    "                if frozenset({node_i, node_j}) in expected_edges:\n",
    "                    res += 1\n",
    "    return (res / two_m), community_list\n",
    "\n",
    "    return modularity_score, community_list\n",
    "\n",
    "get_modularity_score(saved_network)"
   ],
   "metadata": {
    "collapsed": false,
    "pycharm": {
     "name": "#%%\n"
    }
   }
  },
  {
   "cell_type": "code",
   "execution_count": 27,
   "outputs": [
    {
     "ename": "TypeError",
     "evalue": "argument of type 'PipelinedRDD' is not iterable",
     "output_type": "error",
     "traceback": [
      "\u001B[0;31m---------------------------------------------------------------------------\u001B[0m",
      "\u001B[0;31mTypeError\u001B[0m                                 Traceback (most recent call last)",
      "\u001B[0;32m<ipython-input-27-0b509b4812a6>\u001B[0m in \u001B[0;36m<module>\u001B[0;34m\u001B[0m\n\u001B[0;32m----> 1\u001B[0;31m \u001B[0mget_modularity_score\u001B[0m\u001B[0;34m(\u001B[0m\u001B[0msaved_network\u001B[0m\u001B[0;34m)\u001B[0m\u001B[0;34m\u001B[0m\u001B[0;34m\u001B[0m\u001B[0m\n\u001B[0m",
      "\u001B[0;32m<ipython-input-26-0c0a5fb3cd90>\u001B[0m in \u001B[0;36mget_modularity_score\u001B[0;34m(network)\u001B[0m\n\u001B[1;32m     26\u001B[0m                 \u001B[0mk_j\u001B[0m \u001B[0;34m=\u001B[0m \u001B[0mdegree_map\u001B[0m\u001B[0;34m[\u001B[0m\u001B[0mnode_j\u001B[0m\u001B[0;34m]\u001B[0m\u001B[0;34m\u001B[0m\u001B[0;34m\u001B[0m\u001B[0m\n\u001B[1;32m     27\u001B[0m                 \u001B[0mres\u001B[0m \u001B[0;34m-=\u001B[0m \u001B[0mk_i\u001B[0m \u001B[0;34m*\u001B[0m \u001B[0mk_j\u001B[0m \u001B[0;34m/\u001B[0m \u001B[0mtwo_m\u001B[0m\u001B[0;34m\u001B[0m\u001B[0;34m\u001B[0m\u001B[0m\n\u001B[0;32m---> 28\u001B[0;31m                 \u001B[0;32mif\u001B[0m \u001B[0mfrozenset\u001B[0m\u001B[0;34m(\u001B[0m\u001B[0;34m{\u001B[0m\u001B[0mnode_i\u001B[0m\u001B[0;34m,\u001B[0m \u001B[0mnode_j\u001B[0m\u001B[0;34m}\u001B[0m\u001B[0;34m)\u001B[0m \u001B[0;32min\u001B[0m \u001B[0medges\u001B[0m\u001B[0;34m:\u001B[0m\u001B[0;34m\u001B[0m\u001B[0;34m\u001B[0m\u001B[0m\n\u001B[0m\u001B[1;32m     29\u001B[0m                     \u001B[0mres\u001B[0m \u001B[0;34m+=\u001B[0m \u001B[0;36m1\u001B[0m\u001B[0;34m\u001B[0m\u001B[0;34m\u001B[0m\u001B[0m\n\u001B[1;32m     30\u001B[0m     \u001B[0;32mreturn\u001B[0m \u001B[0;34m(\u001B[0m\u001B[0mres\u001B[0m \u001B[0;34m/\u001B[0m \u001B[0mtwo_m\u001B[0m\u001B[0;34m)\u001B[0m\u001B[0;34m,\u001B[0m \u001B[0mcommunity_list\u001B[0m\u001B[0;34m\u001B[0m\u001B[0;34m\u001B[0m\u001B[0m\n",
      "\u001B[0;31mTypeError\u001B[0m: argument of type 'PipelinedRDD' is not iterable"
     ]
    }
   ],
   "source": [
    "get_modularity_score(saved_network)"
   ],
   "metadata": {
    "collapsed": false,
    "pycharm": {
     "name": "#%%\n"
    }
   }
  },
  {
   "cell_type": "markdown",
   "source": [],
   "metadata": {
    "collapsed": false,
    "pycharm": {
     "name": "#%% md\n"
    }
   }
  },
  {
   "cell_type": "code",
   "execution_count": 18,
   "outputs": [],
   "source": [
    "saved_network = network.copy()"
   ],
   "metadata": {
    "collapsed": false,
    "pycharm": {
     "name": "#%%\n"
    }
   }
  },
  {
   "cell_type": "code",
   "execution_count": 430,
   "outputs": [],
   "source": [
    "network = saved_network.copy()"
   ],
   "metadata": {
    "collapsed": false,
    "pycharm": {
     "name": "#%%\n"
    }
   }
  },
  {
   "cell_type": "code",
   "execution_count": 23,
   "outputs": [
    {
     "name": "stdout",
     "output_type": "stream",
     "text": [
      "994\n",
      "-0.8429541459011597 -0.026910856276511737\n",
      "992\n",
      "-0.8429541459011597 -0.8429541459011597\n",
      "990\n",
      "-0.8429541459011597 -0.8429541459011597\n",
      "988\n",
      "-0.8429541459011597 -0.8429541459011597\n",
      "986\n",
      "0.05341849325010304 0.05341849325010304\n",
      "984\n",
      "0.05341849325010307 0.05341849325010307\n",
      "982\n",
      "0.05341849325010307 0.05341849325010307\n",
      "980\n",
      "0.05341849325010307 0.05341849325010307\n",
      "978\n",
      "0.05341849325010307 0.05341849325010307\n",
      "976\n",
      "0.05341849325010307 0.05341849325010307\n",
      "974\n",
      "0.05341849325010307 0.05341849325010307\n",
      "972\n",
      "0.05341849325010307 0.05341849325010307\n",
      "970\n",
      "0.2698867760197184 0.2698867760197184\n",
      "968\n",
      "0.32023677037465254 0.32023677037465254\n",
      "966\n",
      "0.32023677037465254 0.32023677037465254\n",
      "964\n",
      "0.32023677037465254 0.32023677037465254\n",
      "962\n",
      "0.3295753294301504 0.3295753294301504\n",
      "960\n",
      "0.3295753294301504 0.3295753294301504\n",
      "958\n",
      "0.3967839228399364 0.3967839228399364\n",
      "956\n",
      "0.3967839228399364 0.3967839228399364\n",
      "954\n",
      "0.3967839228399364 0.3967839228399364\n",
      "952\n",
      "0.41266269898870683 0.41266269898870683\n",
      "950\n",
      "0.41266269898870683 0.41266269898870683\n",
      "948\n",
      "0.41266269898870683 0.41266269898870683\n",
      "946\n",
      "0.41266269898870683 0.41266269898870683\n",
      "944\n",
      "0.41266269898870683 0.41266269898870683\n",
      "942\n",
      "0.41266269898870683 0.41266269898870683\n",
      "940\n",
      "0.41266269898870683 0.41266269898870683\n",
      "938\n",
      "0.41266269898870683 0.41266269898870683\n",
      "936\n",
      "0.41266269898870683 0.41266269898870683\n",
      "934\n",
      "0.41266269898870683 0.41266269898870683\n",
      "932\n",
      "0.41266269898870683 0.41266269898870683\n",
      "930\n",
      "0.41266269898870683 0.41266269898870683\n",
      "928\n",
      "0.41266269898870683 0.41266269898870683\n"
     ]
    },
    {
     "ename": "KeyboardInterrupt",
     "evalue": "",
     "output_type": "error",
     "traceback": [
      "\u001B[0;31m---------------------------------------------------------------------------\u001B[0m",
      "\u001B[0;31mKeyboardInterrupt\u001B[0m                         Traceback (most recent call last)",
      "\u001B[0;32m<ipython-input-23-f3e5068f3330>\u001B[0m in \u001B[0;36m<module>\u001B[0;34m\u001B[0m\n\u001B[1;32m      4\u001B[0m \u001B[0;32mwhile\u001B[0m \u001B[0;34m(\u001B[0m\u001B[0mcut_counter\u001B[0m\u001B[0;34m>\u001B[0m\u001B[0;36m1\u001B[0m\u001B[0;34m)\u001B[0m\u001B[0;34m:\u001B[0m\u001B[0;34m\u001B[0m\u001B[0;34m\u001B[0m\u001B[0m\n\u001B[1;32m      5\u001B[0m \u001B[0;34m\u001B[0m\u001B[0m\n\u001B[0;32m----> 6\u001B[0;31m     \u001B[0mbetweeness_scores\u001B[0m \u001B[0;34m=\u001B[0m \u001B[0mbetweeness_score\u001B[0m\u001B[0;34m(\u001B[0m\u001B[0mnetwork\u001B[0m\u001B[0;34m)\u001B[0m\u001B[0;34m\u001B[0m\u001B[0;34m\u001B[0m\u001B[0m\n\u001B[0m\u001B[1;32m      7\u001B[0m     \u001B[0mbetweeness_scores\u001B[0m \u001B[0;34m=\u001B[0m \u001B[0msorted\u001B[0m\u001B[0;34m(\u001B[0m\u001B[0mbetweeness_scores\u001B[0m\u001B[0;34m.\u001B[0m\u001B[0mitems\u001B[0m\u001B[0;34m(\u001B[0m\u001B[0;34m)\u001B[0m\u001B[0;34m,\u001B[0m \u001B[0mkey\u001B[0m\u001B[0;34m=\u001B[0m\u001B[0;32mlambda\u001B[0m \u001B[0mx\u001B[0m\u001B[0;34m:\u001B[0m\u001B[0mx\u001B[0m\u001B[0;34m[\u001B[0m\u001B[0;36m1\u001B[0m\u001B[0;34m]\u001B[0m\u001B[0;34m,\u001B[0m \u001B[0mreverse\u001B[0m\u001B[0;34m=\u001B[0m\u001B[0;32mTrue\u001B[0m\u001B[0;34m)\u001B[0m\u001B[0;34m\u001B[0m\u001B[0;34m\u001B[0m\u001B[0m\n\u001B[1;32m      8\u001B[0m     \u001B[0mmax_btwness\u001B[0m \u001B[0;34m=\u001B[0m \u001B[0mbetweeness_scores\u001B[0m\u001B[0;34m[\u001B[0m\u001B[0;36m0\u001B[0m\u001B[0;34m]\u001B[0m\u001B[0;34m[\u001B[0m\u001B[0;36m1\u001B[0m\u001B[0;34m]\u001B[0m\u001B[0;34m\u001B[0m\u001B[0;34m\u001B[0m\u001B[0m\n",
      "\u001B[0;32m<ipython-input-12-74424500092c>\u001B[0m in \u001B[0;36mbetweeness_score\u001B[0;34m(network)\u001B[0m\n\u001B[1;32m     39\u001B[0m         \u001B[0;32mfor\u001B[0m \u001B[0mi\u001B[0m \u001B[0;32min\u001B[0m \u001B[0mrange\u001B[0m\u001B[0;34m(\u001B[0m\u001B[0mmax_depth\u001B[0m\u001B[0;34m,\u001B[0m \u001B[0;36m0\u001B[0m\u001B[0;34m,\u001B[0m \u001B[0;34m-\u001B[0m\u001B[0;36m1\u001B[0m\u001B[0;34m)\u001B[0m\u001B[0;34m:\u001B[0m\u001B[0;34m\u001B[0m\u001B[0;34m\u001B[0m\u001B[0m\n\u001B[1;32m     40\u001B[0m             \u001B[0;32mfor\u001B[0m \u001B[0mnode\u001B[0m \u001B[0;32min\u001B[0m \u001B[0mbfs_tree\u001B[0m\u001B[0;34m[\u001B[0m\u001B[0mi\u001B[0m\u001B[0;34m]\u001B[0m\u001B[0;34m:\u001B[0m\u001B[0;34m\u001B[0m\u001B[0;34m\u001B[0m\u001B[0m\n\u001B[0;32m---> 41\u001B[0;31m                 \u001B[0medge_score\u001B[0m \u001B[0;34m=\u001B[0m \u001B[0;36m1\u001B[0m \u001B[0;34m+\u001B[0m \u001B[0mnode\u001B[0m\u001B[0;34m.\u001B[0m\u001B[0medge_credits\u001B[0m\u001B[0;34m\u001B[0m\u001B[0;34m\u001B[0m\u001B[0m\n\u001B[0m\u001B[1;32m     42\u001B[0m                 \u001B[0;32mfor\u001B[0m \u001B[0mid\u001B[0m\u001B[0;34m,\u001B[0m \u001B[0mpnode\u001B[0m \u001B[0;32min\u001B[0m \u001B[0mnode\u001B[0m\u001B[0;34m.\u001B[0m\u001B[0mparents\u001B[0m\u001B[0;34m.\u001B[0m\u001B[0mitems\u001B[0m\u001B[0;34m(\u001B[0m\u001B[0;34m)\u001B[0m\u001B[0;34m:\u001B[0m\u001B[0;34m\u001B[0m\u001B[0;34m\u001B[0m\u001B[0m\n\u001B[1;32m     43\u001B[0m                     \u001B[0mr\u001B[0m \u001B[0;34m=\u001B[0m \u001B[0;34m(\u001B[0m\u001B[0medge_score\u001B[0m \u001B[0;34m/\u001B[0m \u001B[0mnode\u001B[0m\u001B[0;34m.\u001B[0m\u001B[0mnode_credits\u001B[0m\u001B[0;34m)\u001B[0m\u001B[0;34m\u001B[0m\u001B[0;34m\u001B[0m\u001B[0m\n",
      "\u001B[0;31mKeyboardInterrupt\u001B[0m: "
     ]
    }
   ],
   "source": [
    "network = saved_network.copy()\n",
    "best_q, c_list = get_modularity_score(network)\n",
    "cut_counter = len(expected_edges)\n",
    "while (cut_counter>1):\n",
    "\n",
    "    betweeness_scores = betweeness_score(network)\n",
    "    betweeness_scores = sorted(betweeness_scores.items(), key=lambda x:x[1], reverse=True)\n",
    "    max_btwness = betweeness_scores[0][1]\n",
    "    cut_edges = []\n",
    "    for e, val in betweeness_scores:\n",
    "        if val == max_btwness:\n",
    "            cut_edges.append(list(e))\n",
    "    for e in cut_edges:\n",
    "        cut_counter-=2\n",
    "        print(cut_counter)\n",
    "        node1 = e[0]\n",
    "        node2 = e[1]\n",
    "        network[node1] = network[node1]-{node2}\n",
    "        network[node2] = network[node2]-{node1}\n",
    "        print(best_q, cut_q)\n",
    "    cut_q, cut_c_list = get_modularity_score(network)\n",
    "    if best_q < cut_q:\n",
    "        best_q = cut_q\n",
    "        c_list = cut_c_list\n",
    "\n"
   ],
   "metadata": {
    "collapsed": false,
    "pycharm": {
     "name": "#%%\n"
    }
   }
  },
  {
   "cell_type": "code",
   "execution_count": 20,
   "outputs": [],
   "source": [
    "task2_output = []\n",
    "for i in c_list:\n",
    "    task2_output.append(sorted(i))"
   ],
   "metadata": {
    "collapsed": false,
    "pycharm": {
     "name": "#%%\n"
    }
   }
  },
  {
   "cell_type": "code",
   "execution_count": 21,
   "outputs": [],
   "source": [
    "with open(commie, \"w+\") as f:\n",
    "    for i in sorted(task2_output, key = lambda x:(len(x),x)):\n",
    "        f.write(\"\\'\")\n",
    "        f.write('\\', \\''.join(i))\n",
    "        f.write(\"\\'\")\n",
    "        f.write(\"\\n\")"
   ],
   "metadata": {
    "collapsed": false,
    "pycharm": {
     "name": "#%%\n"
    }
   }
  },
  {
   "cell_type": "code",
   "execution_count": null,
   "outputs": [],
   "source": [],
   "metadata": {
    "collapsed": false,
    "pycharm": {
     "name": "#%%\n"
    }
   }
  }
 ],
 "metadata": {
  "kernelspec": {
   "display_name": "Python 3",
   "language": "python",
   "name": "python3"
  },
  "language_info": {
   "codemirror_mode": {
    "name": "ipython",
    "version": 2
   },
   "file_extension": ".py",
   "mimetype": "text/x-python",
   "name": "python",
   "nbconvert_exporter": "python",
   "pygments_lexer": "ipython2",
   "version": "2.7.6"
  }
 },
 "nbformat": 4,
 "nbformat_minor": 0
}