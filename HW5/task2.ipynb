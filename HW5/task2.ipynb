{
 "cells": [
  {
   "cell_type": "code",
   "execution_count": 38,
   "metadata": {
    "collapsed": true
   },
   "outputs": [],
   "source": [
    "#from blackbox import BlackBox\n",
    "import random\n",
    "import binascii\n",
    "from collections import defaultdict\n",
    "import statistics"
   ]
  },
  {
   "cell_type": "code",
   "execution_count": 3,
   "outputs": [],
   "source": [
    "class BlackBox:\n",
    "\n",
    "    def ask(self, file, num):\n",
    "        lines = open(file,'r').readlines()\n",
    "        users = [0 for i in range(num)]\n",
    "        for i in range(num):\n",
    "            users[i] = lines[random.randint(0, len(lines) - 1)].rstrip(\"\\n\")\n",
    "        return users"
   ],
   "metadata": {
    "collapsed": false,
    "pycharm": {
     "name": "#%%\n"
    }
   }
  },
  {
   "cell_type": "code",
   "execution_count": 4,
   "outputs": [],
   "source": [
    "def myhashs(s):\n",
    "    result = []\n",
    "    for f in hash_fun_list:\n",
    "        result.append(f(s))\n",
    "    return result"
   ],
   "metadata": {
    "collapsed": false,
    "pycharm": {
     "name": "#%%\n"
    }
   }
  },
  {
   "cell_type": "code",
   "execution_count": 5,
   "outputs": [],
   "source": [
    "def str_to_int(string):\n",
    "    return int(binascii.hexlify(string.encode('utf8')),16)"
   ],
   "metadata": {
    "collapsed": false,
    "pycharm": {
     "name": "#%%\n"
    }
   }
  },
  {
   "cell_type": "code",
   "execution_count": 6,
   "outputs": [],
   "source": [
    "def create_hash_function_list(no_of_hash):\n",
    "    m = 69997\n",
    "    prime = 9999999851\n",
    "    hash_a = random.sample(range(1,10000000000),no_of_hash)\n",
    "    hash_b = random.sample(range(1,10000000000),no_of_hash)\n",
    "    global hash_fun_list\n",
    "    hash_fun_list = []\n",
    "    for i in range(no_of_hash):\n",
    "        a = hash_a[i]\n",
    "        b = hash_b[i]\n",
    "        hash_fun_list.append(lambda x, a=a, b=b, prime=prime :  ((a*str_to_int(x) + b) % prime) % 69997)\n",
    "\n",
    "    return hash_fun_list\n"
   ],
   "metadata": {
    "collapsed": false,
    "pycharm": {
     "name": "#%%\n"
    }
   }
  },
  {
   "cell_type": "code",
   "execution_count": 7,
   "outputs": [],
   "source": [
    "filter_bit_array = [0 for _ in range(69997)]"
   ],
   "metadata": {
    "collapsed": false,
    "pycharm": {
     "name": "#%%\n"
    }
   }
  },
  {
   "cell_type": "code",
   "execution_count": 55,
   "outputs": [],
   "source": [
    "stream_size = 300\n",
    "no_of_asks = 30\n",
    "input_file = \"users.txt\"\n",
    "output_file = \"output.csv\"\n",
    "\n",
    "no_of_hash_funcs = 200\n",
    "no_of_groups = 40\n",
    "\n",
    "hash_group_size = int(no_of_hash_funcs / no_of_groups)"
   ],
   "metadata": {
    "collapsed": false,
    "pycharm": {
     "name": "#%%\n"
    }
   }
  },
  {
   "cell_type": "code",
   "execution_count": 56,
   "outputs": [
    {
     "data": {
      "text/plain": "[<function __main__.create_hash_function_list.<locals>.<lambda>(x, a=7870356510, b=7878843311, prime=9999999851)>,\n <function __main__.create_hash_function_list.<locals>.<lambda>(x, a=3967936108, b=6635995137, prime=9999999851)>,\n <function __main__.create_hash_function_list.<locals>.<lambda>(x, a=8143607030, b=3464593657, prime=9999999851)>,\n <function __main__.create_hash_function_list.<locals>.<lambda>(x, a=3276504435, b=7482986680, prime=9999999851)>,\n <function __main__.create_hash_function_list.<locals>.<lambda>(x, a=7610123365, b=8505029333, prime=9999999851)>,\n <function __main__.create_hash_function_list.<locals>.<lambda>(x, a=7305932976, b=2898937800, prime=9999999851)>,\n <function __main__.create_hash_function_list.<locals>.<lambda>(x, a=8162412587, b=1227430331, prime=9999999851)>,\n <function __main__.create_hash_function_list.<locals>.<lambda>(x, a=4220901271, b=658525445, prime=9999999851)>,\n <function __main__.create_hash_function_list.<locals>.<lambda>(x, a=3479772183, b=1370904863, prime=9999999851)>,\n <function __main__.create_hash_function_list.<locals>.<lambda>(x, a=1285830658, b=8984995043, prime=9999999851)>,\n <function __main__.create_hash_function_list.<locals>.<lambda>(x, a=3888247395, b=5077550609, prime=9999999851)>,\n <function __main__.create_hash_function_list.<locals>.<lambda>(x, a=9351835857, b=7431606954, prime=9999999851)>,\n <function __main__.create_hash_function_list.<locals>.<lambda>(x, a=8029978580, b=8953400667, prime=9999999851)>,\n <function __main__.create_hash_function_list.<locals>.<lambda>(x, a=2621654367, b=9490333713, prime=9999999851)>,\n <function __main__.create_hash_function_list.<locals>.<lambda>(x, a=3267167064, b=5944207221, prime=9999999851)>,\n <function __main__.create_hash_function_list.<locals>.<lambda>(x, a=9005990490, b=7977197677, prime=9999999851)>,\n <function __main__.create_hash_function_list.<locals>.<lambda>(x, a=3617979482, b=5150027080, prime=9999999851)>,\n <function __main__.create_hash_function_list.<locals>.<lambda>(x, a=4264996434, b=693224142, prime=9999999851)>,\n <function __main__.create_hash_function_list.<locals>.<lambda>(x, a=273941610, b=5274958500, prime=9999999851)>,\n <function __main__.create_hash_function_list.<locals>.<lambda>(x, a=3383247528, b=9452014932, prime=9999999851)>,\n <function __main__.create_hash_function_list.<locals>.<lambda>(x, a=2780188196, b=7254584764, prime=9999999851)>,\n <function __main__.create_hash_function_list.<locals>.<lambda>(x, a=4091966054, b=5853002855, prime=9999999851)>,\n <function __main__.create_hash_function_list.<locals>.<lambda>(x, a=3575250502, b=2966290350, prime=9999999851)>,\n <function __main__.create_hash_function_list.<locals>.<lambda>(x, a=788711380, b=7384289730, prime=9999999851)>,\n <function __main__.create_hash_function_list.<locals>.<lambda>(x, a=7908734436, b=4944998718, prime=9999999851)>,\n <function __main__.create_hash_function_list.<locals>.<lambda>(x, a=9602334144, b=3078401110, prime=9999999851)>,\n <function __main__.create_hash_function_list.<locals>.<lambda>(x, a=7100333667, b=1251063032, prime=9999999851)>,\n <function __main__.create_hash_function_list.<locals>.<lambda>(x, a=5902916885, b=2379337154, prime=9999999851)>,\n <function __main__.create_hash_function_list.<locals>.<lambda>(x, a=770884753, b=571210701, prime=9999999851)>,\n <function __main__.create_hash_function_list.<locals>.<lambda>(x, a=281058097, b=1553853957, prime=9999999851)>,\n <function __main__.create_hash_function_list.<locals>.<lambda>(x, a=8586808144, b=8591161900, prime=9999999851)>,\n <function __main__.create_hash_function_list.<locals>.<lambda>(x, a=6247324414, b=2544135413, prime=9999999851)>,\n <function __main__.create_hash_function_list.<locals>.<lambda>(x, a=9773937089, b=258302034, prime=9999999851)>,\n <function __main__.create_hash_function_list.<locals>.<lambda>(x, a=6412433095, b=171391200, prime=9999999851)>,\n <function __main__.create_hash_function_list.<locals>.<lambda>(x, a=3747173945, b=8402356058, prime=9999999851)>,\n <function __main__.create_hash_function_list.<locals>.<lambda>(x, a=8336808400, b=2540131968, prime=9999999851)>,\n <function __main__.create_hash_function_list.<locals>.<lambda>(x, a=5259154739, b=1029682350, prime=9999999851)>,\n <function __main__.create_hash_function_list.<locals>.<lambda>(x, a=4088992882, b=554340843, prime=9999999851)>,\n <function __main__.create_hash_function_list.<locals>.<lambda>(x, a=9468385072, b=2902113838, prime=9999999851)>,\n <function __main__.create_hash_function_list.<locals>.<lambda>(x, a=1473889710, b=4139845096, prime=9999999851)>,\n <function __main__.create_hash_function_list.<locals>.<lambda>(x, a=4637816790, b=9148943698, prime=9999999851)>,\n <function __main__.create_hash_function_list.<locals>.<lambda>(x, a=8953935598, b=1083910190, prime=9999999851)>,\n <function __main__.create_hash_function_list.<locals>.<lambda>(x, a=9503072005, b=6089349272, prime=9999999851)>,\n <function __main__.create_hash_function_list.<locals>.<lambda>(x, a=8231581548, b=1144217528, prime=9999999851)>,\n <function __main__.create_hash_function_list.<locals>.<lambda>(x, a=5083269164, b=6073116481, prime=9999999851)>,\n <function __main__.create_hash_function_list.<locals>.<lambda>(x, a=1432178372, b=3317747217, prime=9999999851)>,\n <function __main__.create_hash_function_list.<locals>.<lambda>(x, a=2863706394, b=4368444527, prime=9999999851)>,\n <function __main__.create_hash_function_list.<locals>.<lambda>(x, a=9693678624, b=4377949331, prime=9999999851)>,\n <function __main__.create_hash_function_list.<locals>.<lambda>(x, a=7853963940, b=8020017032, prime=9999999851)>,\n <function __main__.create_hash_function_list.<locals>.<lambda>(x, a=5793773463, b=1403231522, prime=9999999851)>,\n <function __main__.create_hash_function_list.<locals>.<lambda>(x, a=6294635556, b=1183212096, prime=9999999851)>,\n <function __main__.create_hash_function_list.<locals>.<lambda>(x, a=9566896547, b=1946620801, prime=9999999851)>,\n <function __main__.create_hash_function_list.<locals>.<lambda>(x, a=2943285170, b=6083278085, prime=9999999851)>,\n <function __main__.create_hash_function_list.<locals>.<lambda>(x, a=469071187, b=1673918991, prime=9999999851)>,\n <function __main__.create_hash_function_list.<locals>.<lambda>(x, a=2412482643, b=8761483817, prime=9999999851)>,\n <function __main__.create_hash_function_list.<locals>.<lambda>(x, a=3365596211, b=3349897989, prime=9999999851)>,\n <function __main__.create_hash_function_list.<locals>.<lambda>(x, a=7136625638, b=2291098564, prime=9999999851)>,\n <function __main__.create_hash_function_list.<locals>.<lambda>(x, a=1425754739, b=5203732450, prime=9999999851)>,\n <function __main__.create_hash_function_list.<locals>.<lambda>(x, a=8548141998, b=7216832317, prime=9999999851)>,\n <function __main__.create_hash_function_list.<locals>.<lambda>(x, a=3375599182, b=6308289414, prime=9999999851)>,\n <function __main__.create_hash_function_list.<locals>.<lambda>(x, a=256676683, b=9253832526, prime=9999999851)>,\n <function __main__.create_hash_function_list.<locals>.<lambda>(x, a=9533711263, b=4715364995, prime=9999999851)>,\n <function __main__.create_hash_function_list.<locals>.<lambda>(x, a=2058600054, b=8470692632, prime=9999999851)>,\n <function __main__.create_hash_function_list.<locals>.<lambda>(x, a=9538496221, b=7655207607, prime=9999999851)>,\n <function __main__.create_hash_function_list.<locals>.<lambda>(x, a=2067993272, b=1674877971, prime=9999999851)>,\n <function __main__.create_hash_function_list.<locals>.<lambda>(x, a=1545574038, b=7539648493, prime=9999999851)>,\n <function __main__.create_hash_function_list.<locals>.<lambda>(x, a=4265365842, b=8852605878, prime=9999999851)>,\n <function __main__.create_hash_function_list.<locals>.<lambda>(x, a=1141323782, b=1392202194, prime=9999999851)>,\n <function __main__.create_hash_function_list.<locals>.<lambda>(x, a=9601464306, b=7514760095, prime=9999999851)>,\n <function __main__.create_hash_function_list.<locals>.<lambda>(x, a=6859987876, b=7863670058, prime=9999999851)>,\n <function __main__.create_hash_function_list.<locals>.<lambda>(x, a=5255030044, b=7069152831, prime=9999999851)>,\n <function __main__.create_hash_function_list.<locals>.<lambda>(x, a=5277335933, b=5155124750, prime=9999999851)>,\n <function __main__.create_hash_function_list.<locals>.<lambda>(x, a=6256060404, b=2712741260, prime=9999999851)>,\n <function __main__.create_hash_function_list.<locals>.<lambda>(x, a=5327712128, b=7946604725, prime=9999999851)>,\n <function __main__.create_hash_function_list.<locals>.<lambda>(x, a=5896505998, b=1883272814, prime=9999999851)>,\n <function __main__.create_hash_function_list.<locals>.<lambda>(x, a=72300109, b=5391826945, prime=9999999851)>,\n <function __main__.create_hash_function_list.<locals>.<lambda>(x, a=93164444, b=8456140877, prime=9999999851)>,\n <function __main__.create_hash_function_list.<locals>.<lambda>(x, a=2238655175, b=5673499413, prime=9999999851)>,\n <function __main__.create_hash_function_list.<locals>.<lambda>(x, a=9219275821, b=3006053271, prime=9999999851)>,\n <function __main__.create_hash_function_list.<locals>.<lambda>(x, a=4068947670, b=2573022005, prime=9999999851)>,\n <function __main__.create_hash_function_list.<locals>.<lambda>(x, a=5661473684, b=6346453818, prime=9999999851)>,\n <function __main__.create_hash_function_list.<locals>.<lambda>(x, a=6304324216, b=8298726242, prime=9999999851)>,\n <function __main__.create_hash_function_list.<locals>.<lambda>(x, a=4192759767, b=610245464, prime=9999999851)>,\n <function __main__.create_hash_function_list.<locals>.<lambda>(x, a=979317399, b=8476556628, prime=9999999851)>,\n <function __main__.create_hash_function_list.<locals>.<lambda>(x, a=5317222193, b=2568945328, prime=9999999851)>,\n <function __main__.create_hash_function_list.<locals>.<lambda>(x, a=2263563770, b=4496173984, prime=9999999851)>,\n <function __main__.create_hash_function_list.<locals>.<lambda>(x, a=2382379145, b=2866851376, prime=9999999851)>,\n <function __main__.create_hash_function_list.<locals>.<lambda>(x, a=2824242477, b=2438607456, prime=9999999851)>,\n <function __main__.create_hash_function_list.<locals>.<lambda>(x, a=413217192, b=2353556931, prime=9999999851)>,\n <function __main__.create_hash_function_list.<locals>.<lambda>(x, a=5688182732, b=369599326, prime=9999999851)>,\n <function __main__.create_hash_function_list.<locals>.<lambda>(x, a=4589761636, b=5086803047, prime=9999999851)>,\n <function __main__.create_hash_function_list.<locals>.<lambda>(x, a=4975079495, b=8655315398, prime=9999999851)>,\n <function __main__.create_hash_function_list.<locals>.<lambda>(x, a=2354178982, b=4622630828, prime=9999999851)>,\n <function __main__.create_hash_function_list.<locals>.<lambda>(x, a=8975397051, b=6534585508, prime=9999999851)>,\n <function __main__.create_hash_function_list.<locals>.<lambda>(x, a=1053582896, b=9384045924, prime=9999999851)>,\n <function __main__.create_hash_function_list.<locals>.<lambda>(x, a=9632711720, b=8499930411, prime=9999999851)>,\n <function __main__.create_hash_function_list.<locals>.<lambda>(x, a=3412736649, b=1866372478, prime=9999999851)>,\n <function __main__.create_hash_function_list.<locals>.<lambda>(x, a=7826017992, b=2087785999, prime=9999999851)>,\n <function __main__.create_hash_function_list.<locals>.<lambda>(x, a=833417836, b=6729398536, prime=9999999851)>,\n <function __main__.create_hash_function_list.<locals>.<lambda>(x, a=8208612824, b=5962114585, prime=9999999851)>,\n <function __main__.create_hash_function_list.<locals>.<lambda>(x, a=4561531956, b=5167731816, prime=9999999851)>,\n <function __main__.create_hash_function_list.<locals>.<lambda>(x, a=2664509471, b=8073941332, prime=9999999851)>,\n <function __main__.create_hash_function_list.<locals>.<lambda>(x, a=1748807696, b=8426987172, prime=9999999851)>,\n <function __main__.create_hash_function_list.<locals>.<lambda>(x, a=1801015060, b=8448854571, prime=9999999851)>,\n <function __main__.create_hash_function_list.<locals>.<lambda>(x, a=5440745156, b=9514686038, prime=9999999851)>,\n <function __main__.create_hash_function_list.<locals>.<lambda>(x, a=1630782972, b=4544256739, prime=9999999851)>,\n <function __main__.create_hash_function_list.<locals>.<lambda>(x, a=9224131257, b=8796069101, prime=9999999851)>,\n <function __main__.create_hash_function_list.<locals>.<lambda>(x, a=1104974747, b=6583891019, prime=9999999851)>,\n <function __main__.create_hash_function_list.<locals>.<lambda>(x, a=2413418857, b=4008983590, prime=9999999851)>,\n <function __main__.create_hash_function_list.<locals>.<lambda>(x, a=1058851562, b=2342282932, prime=9999999851)>,\n <function __main__.create_hash_function_list.<locals>.<lambda>(x, a=7475324934, b=7714664864, prime=9999999851)>,\n <function __main__.create_hash_function_list.<locals>.<lambda>(x, a=7397603390, b=1151916895, prime=9999999851)>,\n <function __main__.create_hash_function_list.<locals>.<lambda>(x, a=1399173290, b=8725052946, prime=9999999851)>,\n <function __main__.create_hash_function_list.<locals>.<lambda>(x, a=5563519059, b=8749695143, prime=9999999851)>,\n <function __main__.create_hash_function_list.<locals>.<lambda>(x, a=1704758107, b=7362461017, prime=9999999851)>,\n <function __main__.create_hash_function_list.<locals>.<lambda>(x, a=532506777, b=6447727201, prime=9999999851)>,\n <function __main__.create_hash_function_list.<locals>.<lambda>(x, a=9805239796, b=3481199041, prime=9999999851)>,\n <function __main__.create_hash_function_list.<locals>.<lambda>(x, a=7740577136, b=6635237677, prime=9999999851)>,\n <function __main__.create_hash_function_list.<locals>.<lambda>(x, a=8705840465, b=5801480507, prime=9999999851)>,\n <function __main__.create_hash_function_list.<locals>.<lambda>(x, a=7793372373, b=6395213722, prime=9999999851)>,\n <function __main__.create_hash_function_list.<locals>.<lambda>(x, a=7457493003, b=8190820678, prime=9999999851)>,\n <function __main__.create_hash_function_list.<locals>.<lambda>(x, a=3997410945, b=6654051731, prime=9999999851)>,\n <function __main__.create_hash_function_list.<locals>.<lambda>(x, a=9714861623, b=4791691278, prime=9999999851)>,\n <function __main__.create_hash_function_list.<locals>.<lambda>(x, a=86148396, b=9465631111, prime=9999999851)>,\n <function __main__.create_hash_function_list.<locals>.<lambda>(x, a=5435778707, b=1104539063, prime=9999999851)>,\n <function __main__.create_hash_function_list.<locals>.<lambda>(x, a=6001737564, b=8895089415, prime=9999999851)>,\n <function __main__.create_hash_function_list.<locals>.<lambda>(x, a=9231344564, b=2453769234, prime=9999999851)>,\n <function __main__.create_hash_function_list.<locals>.<lambda>(x, a=7053862196, b=5174133362, prime=9999999851)>,\n <function __main__.create_hash_function_list.<locals>.<lambda>(x, a=5150774644, b=936805511, prime=9999999851)>,\n <function __main__.create_hash_function_list.<locals>.<lambda>(x, a=8532980581, b=2180827411, prime=9999999851)>,\n <function __main__.create_hash_function_list.<locals>.<lambda>(x, a=1737256412, b=4205368224, prime=9999999851)>,\n <function __main__.create_hash_function_list.<locals>.<lambda>(x, a=3648516678, b=3447073593, prime=9999999851)>,\n <function __main__.create_hash_function_list.<locals>.<lambda>(x, a=5629913603, b=4618450569, prime=9999999851)>,\n <function __main__.create_hash_function_list.<locals>.<lambda>(x, a=5780943250, b=1625597271, prime=9999999851)>,\n <function __main__.create_hash_function_list.<locals>.<lambda>(x, a=7902933239, b=6453082713, prime=9999999851)>,\n <function __main__.create_hash_function_list.<locals>.<lambda>(x, a=6625517205, b=6311475106, prime=9999999851)>,\n <function __main__.create_hash_function_list.<locals>.<lambda>(x, a=2811423233, b=3735467071, prime=9999999851)>,\n <function __main__.create_hash_function_list.<locals>.<lambda>(x, a=8455451670, b=999227037, prime=9999999851)>,\n <function __main__.create_hash_function_list.<locals>.<lambda>(x, a=3532128963, b=8103409235, prime=9999999851)>,\n <function __main__.create_hash_function_list.<locals>.<lambda>(x, a=6355470649, b=3650742930, prime=9999999851)>,\n <function __main__.create_hash_function_list.<locals>.<lambda>(x, a=2902488473, b=5569298107, prime=9999999851)>,\n <function __main__.create_hash_function_list.<locals>.<lambda>(x, a=9160435067, b=8141250654, prime=9999999851)>,\n <function __main__.create_hash_function_list.<locals>.<lambda>(x, a=8590930319, b=2557449810, prime=9999999851)>,\n <function __main__.create_hash_function_list.<locals>.<lambda>(x, a=2706409533, b=2112347137, prime=9999999851)>,\n <function __main__.create_hash_function_list.<locals>.<lambda>(x, a=1279332223, b=1024719847, prime=9999999851)>,\n <function __main__.create_hash_function_list.<locals>.<lambda>(x, a=9657201588, b=2633291695, prime=9999999851)>,\n <function __main__.create_hash_function_list.<locals>.<lambda>(x, a=6379719121, b=6069993297, prime=9999999851)>,\n <function __main__.create_hash_function_list.<locals>.<lambda>(x, a=8273460540, b=8119822147, prime=9999999851)>,\n <function __main__.create_hash_function_list.<locals>.<lambda>(x, a=6294915898, b=4412555132, prime=9999999851)>,\n <function __main__.create_hash_function_list.<locals>.<lambda>(x, a=2422356218, b=5889629198, prime=9999999851)>,\n <function __main__.create_hash_function_list.<locals>.<lambda>(x, a=5663862564, b=9179771748, prime=9999999851)>,\n <function __main__.create_hash_function_list.<locals>.<lambda>(x, a=2758707366, b=111162124, prime=9999999851)>,\n <function __main__.create_hash_function_list.<locals>.<lambda>(x, a=3928000234, b=4923873283, prime=9999999851)>,\n <function __main__.create_hash_function_list.<locals>.<lambda>(x, a=4422384882, b=2543366482, prime=9999999851)>,\n <function __main__.create_hash_function_list.<locals>.<lambda>(x, a=7552504494, b=5839583887, prime=9999999851)>,\n <function __main__.create_hash_function_list.<locals>.<lambda>(x, a=9842984154, b=9260219320, prime=9999999851)>,\n <function __main__.create_hash_function_list.<locals>.<lambda>(x, a=9680021948, b=993600584, prime=9999999851)>,\n <function __main__.create_hash_function_list.<locals>.<lambda>(x, a=516700397, b=976790866, prime=9999999851)>,\n <function __main__.create_hash_function_list.<locals>.<lambda>(x, a=8764012703, b=1445098687, prime=9999999851)>,\n <function __main__.create_hash_function_list.<locals>.<lambda>(x, a=3386013772, b=2238656372, prime=9999999851)>,\n <function __main__.create_hash_function_list.<locals>.<lambda>(x, a=6828890542, b=4497408616, prime=9999999851)>,\n <function __main__.create_hash_function_list.<locals>.<lambda>(x, a=4241051170, b=716471680, prime=9999999851)>,\n <function __main__.create_hash_function_list.<locals>.<lambda>(x, a=4287620214, b=4612956623, prime=9999999851)>,\n <function __main__.create_hash_function_list.<locals>.<lambda>(x, a=9966971478, b=209921832, prime=9999999851)>,\n <function __main__.create_hash_function_list.<locals>.<lambda>(x, a=5943013364, b=6688962539, prime=9999999851)>,\n <function __main__.create_hash_function_list.<locals>.<lambda>(x, a=880851490, b=7010295045, prime=9999999851)>,\n <function __main__.create_hash_function_list.<locals>.<lambda>(x, a=1842110568, b=2990514163, prime=9999999851)>,\n <function __main__.create_hash_function_list.<locals>.<lambda>(x, a=3482616456, b=9254370589, prime=9999999851)>,\n <function __main__.create_hash_function_list.<locals>.<lambda>(x, a=8135764193, b=1961411614, prime=9999999851)>,\n <function __main__.create_hash_function_list.<locals>.<lambda>(x, a=9035173010, b=3749496898, prime=9999999851)>,\n <function __main__.create_hash_function_list.<locals>.<lambda>(x, a=7239325479, b=9211023730, prime=9999999851)>,\n <function __main__.create_hash_function_list.<locals>.<lambda>(x, a=9204328326, b=4205148511, prime=9999999851)>,\n <function __main__.create_hash_function_list.<locals>.<lambda>(x, a=3346415953, b=9276681200, prime=9999999851)>,\n <function __main__.create_hash_function_list.<locals>.<lambda>(x, a=4615622270, b=4737640866, prime=9999999851)>,\n <function __main__.create_hash_function_list.<locals>.<lambda>(x, a=2855472475, b=6795279734, prime=9999999851)>,\n <function __main__.create_hash_function_list.<locals>.<lambda>(x, a=4959195976, b=3463821339, prime=9999999851)>,\n <function __main__.create_hash_function_list.<locals>.<lambda>(x, a=791471937, b=4582385332, prime=9999999851)>,\n <function __main__.create_hash_function_list.<locals>.<lambda>(x, a=5171896146, b=4865538994, prime=9999999851)>,\n <function __main__.create_hash_function_list.<locals>.<lambda>(x, a=8634700824, b=258036836, prime=9999999851)>,\n <function __main__.create_hash_function_list.<locals>.<lambda>(x, a=1168951629, b=5360488753, prime=9999999851)>,\n <function __main__.create_hash_function_list.<locals>.<lambda>(x, a=1538020014, b=9777941481, prime=9999999851)>,\n <function __main__.create_hash_function_list.<locals>.<lambda>(x, a=3637119544, b=4752407738, prime=9999999851)>,\n <function __main__.create_hash_function_list.<locals>.<lambda>(x, a=729950257, b=8345917251, prime=9999999851)>,\n <function __main__.create_hash_function_list.<locals>.<lambda>(x, a=3639022932, b=9501730313, prime=9999999851)>,\n <function __main__.create_hash_function_list.<locals>.<lambda>(x, a=5759452158, b=649616460, prime=9999999851)>,\n <function __main__.create_hash_function_list.<locals>.<lambda>(x, a=4996046138, b=806907177, prime=9999999851)>,\n <function __main__.create_hash_function_list.<locals>.<lambda>(x, a=1183039417, b=3178729787, prime=9999999851)>,\n <function __main__.create_hash_function_list.<locals>.<lambda>(x, a=8437816270, b=4684066149, prime=9999999851)>,\n <function __main__.create_hash_function_list.<locals>.<lambda>(x, a=4262789482, b=7341795371, prime=9999999851)>,\n <function __main__.create_hash_function_list.<locals>.<lambda>(x, a=5880326769, b=5744432146, prime=9999999851)>,\n <function __main__.create_hash_function_list.<locals>.<lambda>(x, a=6768768477, b=1727028720, prime=9999999851)>,\n <function __main__.create_hash_function_list.<locals>.<lambda>(x, a=7638730442, b=6428060437, prime=9999999851)>,\n <function __main__.create_hash_function_list.<locals>.<lambda>(x, a=2524983772, b=1665148082, prime=9999999851)>,\n <function __main__.create_hash_function_list.<locals>.<lambda>(x, a=5931894497, b=9729899488, prime=9999999851)>,\n <function __main__.create_hash_function_list.<locals>.<lambda>(x, a=9949058816, b=3455525635, prime=9999999851)>,\n <function __main__.create_hash_function_list.<locals>.<lambda>(x, a=943189834, b=3112042661, prime=9999999851)>,\n <function __main__.create_hash_function_list.<locals>.<lambda>(x, a=9761600754, b=844606037, prime=9999999851)>,\n <function __main__.create_hash_function_list.<locals>.<lambda>(x, a=6349037998, b=6124324923, prime=9999999851)>,\n <function __main__.create_hash_function_list.<locals>.<lambda>(x, a=4843726489, b=7281946668, prime=9999999851)>,\n <function __main__.create_hash_function_list.<locals>.<lambda>(x, a=1466412980, b=3889749079, prime=9999999851)>]"
     },
     "execution_count": 56,
     "metadata": {},
     "output_type": "execute_result"
    }
   ],
   "source": [
    "bx = BlackBox()\n",
    "create_hash_function_list(no_of_hash_funcs)"
   ],
   "metadata": {
    "collapsed": false,
    "pycharm": {
     "name": "#%%\n"
    }
   }
  },
  {
   "cell_type": "code",
   "execution_count": 59,
   "outputs": [],
   "source": [
    "output = []\n",
    "for i in range(no_of_asks):\n",
    "    stream_users = bx.ask(input_file, stream_size)\n",
    "    unique_users = defaultdict(int)\n",
    "    count_of_trailing = [0 for _ in range(no_of_hash_funcs)]\n",
    "    for user in stream_users:\n",
    "        unique_users[user] = 1\n",
    "        hashes = myhashs(user)\n",
    "        for i in range(len(hashes)):\n",
    "            z = bin(hashes[i])\n",
    "\n",
    "            zeros = 0\n",
    "            for j in range(-1, -len(z), -1):\n",
    "                if z[j]=='0':\n",
    "                    zeros+=1\n",
    "                else:\n",
    "                    break\n",
    "            count_of_trailing[i] = max(count_of_trailing[i], zeros)\n",
    "    R_vals = []\n",
    "    for i in range(no_of_groups):\n",
    "        avg_R = count_of_trailing[i*hash_group_size:i*hash_group_size+hash_group_size]\n",
    "        R_vals.append(sum(avg_R)/len(avg_R))\n",
    "    median = statistics.median(R_vals)\n",
    "    estimate_users = round(pow(2,median))\n",
    "    actual_users = len(unique_users.keys())\n",
    "    #print(no_of_asks, actual_users,estimate_users)\n",
    "    output.append([no_of_asks, actual_users,estimate_users])"
   ],
   "metadata": {
    "collapsed": false,
    "pycharm": {
     "name": "#%%\n"
    }
   }
  },
  {
   "cell_type": "code",
   "execution_count": 62,
   "outputs": [],
   "source": [
    "with open(output_file,'w+') as f:\n",
    "    f.write('Time,Ground Truth,Estimation\\n')\n",
    "    for i in output:\n",
    "        f.write(str(i[0]) + \",\" + str(i[1])+ \",\" + str(i[2]) + \"\\n\")"
   ],
   "metadata": {
    "collapsed": false,
    "pycharm": {
     "name": "#%%\n"
    }
   }
  },
  {
   "cell_type": "code",
   "execution_count": null,
   "outputs": [],
   "source": [],
   "metadata": {
    "collapsed": false,
    "pycharm": {
     "name": "#%%\n"
    }
   }
  }
 ],
 "metadata": {
  "kernelspec": {
   "display_name": "Python 3",
   "language": "python",
   "name": "python3"
  },
  "language_info": {
   "codemirror_mode": {
    "name": "ipython",
    "version": 2
   },
   "file_extension": ".py",
   "mimetype": "text/x-python",
   "name": "python",
   "nbconvert_exporter": "python",
   "pygments_lexer": "ipython2",
   "version": "2.7.6"
  }
 },
 "nbformat": 4,
 "nbformat_minor": 0
}