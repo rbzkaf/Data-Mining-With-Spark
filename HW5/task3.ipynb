{
 "cells": [
  {
   "cell_type": "code",
   "execution_count": 1,
   "metadata": {
    "collapsed": true
   },
   "outputs": [],
   "source": [
    "#from blackbox import BlackBox\n",
    "import random"
   ]
  },
  {
   "cell_type": "code",
   "execution_count": 2,
   "outputs": [],
   "source": [
    "class BlackBox:\n",
    "\n",
    "    def ask(self, file, num):\n",
    "        lines = open(file,'r').readlines()\n",
    "        users = [0 for i in range(num)]\n",
    "        for i in range(num):\n",
    "            users[i] = lines[random.randint(0, len(lines) - 1)].rstrip(\"\\n\")\n",
    "        return users"
   ],
   "metadata": {
    "collapsed": false,
    "pycharm": {
     "name": "#%%\n"
    }
   }
  },
  {
   "cell_type": "code",
   "execution_count": 39,
   "outputs": [],
   "source": [
    "random.seed(553)"
   ],
   "metadata": {
    "collapsed": false,
    "pycharm": {
     "name": "#%%\n"
    }
   }
  },
  {
   "cell_type": "code",
   "execution_count": 7,
   "outputs": [],
   "source": [
    "filter_bit_array = [0 for _ in range(69997)]"
   ],
   "metadata": {
    "collapsed": false,
    "pycharm": {
     "name": "#%%\n"
    }
   }
  },
  {
   "cell_type": "code",
   "execution_count": 16,
   "outputs": [],
   "source": [
    "stream_size = 100\n",
    "no_of_asks = 30\n",
    "input_file = \"users.txt\"\n",
    "output_file = \"output.csv\""
   ],
   "metadata": {
    "collapsed": false,
    "pycharm": {
     "name": "#%%\n"
    }
   }
  },
  {
   "cell_type": "code",
   "execution_count": 6,
   "outputs": [],
   "source": [
    "bx = BlackBox()"
   ],
   "metadata": {
    "collapsed": false,
    "pycharm": {
     "name": "#%%\n"
    }
   }
  },
  {
   "cell_type": "code",
   "execution_count": 20,
   "outputs": [],
   "source": [
    "n = 0\n",
    "s = stream_size"
   ],
   "metadata": {
    "collapsed": false,
    "pycharm": {
     "name": "#%%\n"
    }
   }
  },
  {
   "cell_type": "code",
   "execution_count": 8,
   "outputs": [],
   "source": [
    "reservoir = []"
   ],
   "metadata": {
    "collapsed": false,
    "pycharm": {
     "name": "#%%\n"
    }
   }
  },
  {
   "cell_type": "code",
   "execution_count": 37,
   "outputs": [
    {
     "name": "stdout",
     "output_type": "stream",
     "text": [
      "['4evFVSzvArrYXDqlX9XYUg', 'vwzHug7oQZKDXFetjSutmA', 'RmOyzr7Cuzb3-HOAiAo5KA', 'r-yIImW9iTvIBEYUS8WGDw', 'b9Oe_B94HFoNhpURzATh2g', '9tz0B3V_QQ3KGMHSMB-3fA', 'ni1zbKEAiqxXjxgIS4314g', 'WzKmKULaPUHaEf7NTTzRMQ', 'caTtxvZCjUmHkrCwbPN0DQ', '1wl2VDdmboRgNdTBm55j_A', 'lobI8au5hNWrQ7JVLjez9Q', 'dg8X4HKK9qrPSlcn629Wcw', 'r_3Bwv1YgSnW8Hxh5BuYOg', 'Ro9SY8g9RTm02jzuBqNNiA', 'HuUpLnGaVabK5rVVPLkyhA', 'fbz_3PBCWuAZJHdONqn90Q', 'k2CFFYWKWQxipbEDa7teLA', 'D4xxypdbcY-4IzIVCErrHQ', 'TydqjytM-4LEe3gHg9mUNA', 'sfp1aJZvgcS93DxIbdzRCQ', 'Pf17agM7X0NvHJQeiACL5w', '23o7tyUGlC6FCDVcyqLeFA', '2sNjZakAbJSLzUXIVf_a-Q', '6doQ4n14T6Meauw6lEqUFw', 'aB1TwMs5OwVLfHmJKSjWKw', 'd-XhQunANq77BZuGPBF9_g', 'fDWxbMn_87myviZMvVD0XQ', 'VPeo3MpjtP1d3Nbk5vL_DQ', 'wZ174oyhyvEu9ax60uPHCw', 'UpJYuVxTVTWeodT2Ku5x6g', '17wFP1w7OHHiuF6OSoF5VA', 'w-EkVRthuBJQ9TiroUS2kQ', 'Xd4WPpHsRJHyHGD_2mQsVA', 'DJecsBLbTovRRrg_7FkcNQ', 'QQVkwGbMaQ5IO2vecy0Tww', 'oSbKSHEJIRDdixJLVJa_8w', 'emVUAnSZevBeZ5pGPUn-wg', 'fO1-Rzwa1f6W4nGcKL28vg', '1E2BjIbh6bJV-acj8TcMRQ', 'rpn2NfkOtjGrPqVXq4mEWg', 'ylen-tTVGkpFDJ1fyadoew', '72Gk7vzirIbDAlFvZCloFw', 'C9rumjAwODcSbLfMc6857w', 'nFEtk9sv2-82OW4nrR7F4g', 'nnXDvGLZBJSCYTazdTjmJA', 'euECZUr2C7UirZn9t3nfww', 'j3eXRVwbb59S8i644FBCDg', 'UR6t69MUX37f6D3W49n-OQ', 'mcOw5COBYCEvdPJRHvyMug', 'TRFWHI2vJzVC9LNIvXHJiA', 'bDP8RVD32w8n-inSIcDmmw', 'XPYJi1XpeZYsqz0Y2AVl4g', 'XjZi4KahnrkGDi8pmgS7IA', '0XL7EEk2_XoJ62R6VLg-PQ', 'jRJ3CT275VHyvdxaliTghw', 'fp6jXecdJgZLcvcuDUf6nQ', 'QVqUKXDh-iXMkcqn0zvGqg', '4MBY6b9mPCjVAx_MS1y0BQ', 'pLffg41x5n3_E5OdOKgFLw', '1gUjuj6zPWyMZdX0RaSXlw', '0fDbwoLXmQgZsy0v6uFnow', 'KU2jHYIv7CtnxrPQEl1a_w', 'TWKt4JEzkxTJcPtby1fZ4Q', 'IeihyIGXhQ8eEK-saSp3ZQ', 'izXGa7TDZEzA-2ra7T_bNQ', '5k0enc8TChj4CDKDlTgGpA', 'Sbkn-eDI-qZRn37Prv06gg', 'zw-ChQJqs1lpJUBb12i0lg', 'waLlOubjBtrk4nhyRe33SA', 'oUwhLzHqvBolpmOMARKe0A', 'dsb71xKJ7qNxjN-1wwt46g', '_IPNxNX0-ZsGViGt5Z1ZCA', 'Ir4yhhB3FMqM8xzBwvcK-w', 'ObNqioTFh-qASdTR9qzcjw', 'ytgPhaFjkhQv6JyLRLfGZg', 'boPzMzNE2yBYN9o-2t3IIQ', 'vug7AnfdfxzykeQPT1b_Mg', '3Wy5NCi5QPLq-45pYKCoiA', '9e12XhH_9VTDXvT1H2lV1g', 'P9E9UVmEJGLmh3b6-I457w', 'YYyQ7qPPU_TXmaQ7Q4u6nA', 'KHwEPUffC2kyth9KLrukgQ', 'LSYQqK_4WMWsbBkQB6j1qg', 'EovYOcZyjv7C6omRmrF_eg', 'qpRX_Iiy3f2TqkFXxAWelA', 'f3S9z2SmMMG6ad_pUyuNGw', 'hDf9Vkg_ysOcjGzo7J173g', 'GLYDvWsnGBL-ZZoFoZxniQ', 'zlVdGfGExo7PJFCpgy3XaQ', 'mefNXsjegtWgY4HYSKPj8Q', 'xeWX3-lh-N6BTJpI-Gt3Ng', 'kcqCo4sADR2R7I3J5F1TIw', 'Esm_P6E2e40ouAkW6PhaNw', 'VexccaQSWcW9UnmRhcIZ-Q', 'a6946j17H_Ive7bPZb3K1w', 'epJxL6E4o-w5n0koNu1lFQ', 'YCg2RNB1npt25XKW5NqB7Q', 'tTxvL4NGKCKKKNMs8eN2ng', 'etuymgNpEwGA6gYN2RPiRw', 'l3NN5cCezZc6mS01KiYnTw']\n"
     ]
    }
   ],
   "source": [
    "stream_users = bx.ask(input_file, stream_size)\n",
    "print(stream_users)"
   ],
   "metadata": {
    "collapsed": false,
    "pycharm": {
     "name": "#%%\n"
    }
   }
  },
  {
   "cell_type": "code",
   "execution_count": 40,
   "outputs": [
    {
     "name": "stdout",
     "output_type": "stream",
     "text": [
      "100 4evFVSzvArrYXDqlX9XYUg Pf17agM7X0NvHJQeiACL5w ylen-tTVGkpFDJ1fyadoew 0fDbwoLXmQgZsy0v6uFnow YYyQ7qPPU_TXmaQ7Q4u6nA\n",
      "200 DoNXNmBDwMwdsCjFQWL42A Pf17agM7X0NvHJQeiACL5w ylen-tTVGkpFDJ1fyadoew 0fDbwoLXmQgZsy0v6uFnow IA1DpmcRA58xusm6mwDcWg\n",
      "300 ujmsjz3GGea6XxTszxM_Sg Pf17agM7X0NvHJQeiACL5w AyeWnS9BeV3Zmm_v_BUGbw 0fDbwoLXmQgZsy0v6uFnow IA1DpmcRA58xusm6mwDcWg\n",
      "400 ujmsjz3GGea6XxTszxM_Sg Pf17agM7X0NvHJQeiACL5w uM0OjbOlkr0p4ZhmviA8aQ 4-6nC7xdemd59a5eGlOEGA ZTv9ByQamg-go_Cp2gUz8w\n",
      "500 ujmsjz3GGea6XxTszxM_Sg PZtZpJh1mJe2KNsSYoFokQ uM0OjbOlkr0p4ZhmviA8aQ 4-6nC7xdemd59a5eGlOEGA dY5U0LUbOQGp5Zh9oWYMRw\n",
      "600 ujmsjz3GGea6XxTszxM_Sg irve6L5r-rUe1f9KQpaNBg uM0OjbOlkr0p4ZhmviA8aQ 4-6nC7xdemd59a5eGlOEGA dY5U0LUbOQGp5Zh9oWYMRw\n",
      "700 ujmsjz3GGea6XxTszxM_Sg L96DFtaLbZhmOJVHKhtqPA uM0OjbOlkr0p4ZhmviA8aQ 4-6nC7xdemd59a5eGlOEGA o-NMu4Q9YlNlbNqEHUnX6g\n",
      "800 S6KPGvcmODDu9CjQypNFcA L96DFtaLbZhmOJVHKhtqPA uM0OjbOlkr0p4ZhmviA8aQ CPdy5JV2qngQJD0xwuKvuA o-NMu4Q9YlNlbNqEHUnX6g\n",
      "900 S6KPGvcmODDu9CjQypNFcA L96DFtaLbZhmOJVHKhtqPA uM0OjbOlkr0p4ZhmviA8aQ CPdy5JV2qngQJD0xwuKvuA o-NMu4Q9YlNlbNqEHUnX6g\n",
      "1000 FEOdMbB6Cvr0UomUSEKxnw L96DFtaLbZhmOJVHKhtqPA uM0OjbOlkr0p4ZhmviA8aQ CPdy5JV2qngQJD0xwuKvuA o-NMu4Q9YlNlbNqEHUnX6g\n",
      "1100 FEOdMbB6Cvr0UomUSEKxnw L96DFtaLbZhmOJVHKhtqPA uM0OjbOlkr0p4ZhmviA8aQ CPdy5JV2qngQJD0xwuKvuA o-NMu4Q9YlNlbNqEHUnX6g\n",
      "1200 FEOdMbB6Cvr0UomUSEKxnw L96DFtaLbZhmOJVHKhtqPA uM0OjbOlkr0p4ZhmviA8aQ CPdy5JV2qngQJD0xwuKvuA z9uf9-0uX5Jh8-4Y5l2PQg\n",
      "1300 FEOdMbB6Cvr0UomUSEKxnw L96DFtaLbZhmOJVHKhtqPA uM0OjbOlkr0p4ZhmviA8aQ CPdy5JV2qngQJD0xwuKvuA z9uf9-0uX5Jh8-4Y5l2PQg\n",
      "1400 FEOdMbB6Cvr0UomUSEKxnw L96DFtaLbZhmOJVHKhtqPA uM0OjbOlkr0p4ZhmviA8aQ CPdy5JV2qngQJD0xwuKvuA z9uf9-0uX5Jh8-4Y5l2PQg\n",
      "1500 FEOdMbB6Cvr0UomUSEKxnw L96DFtaLbZhmOJVHKhtqPA uM0OjbOlkr0p4ZhmviA8aQ CPdy5JV2qngQJD0xwuKvuA z9uf9-0uX5Jh8-4Y5l2PQg\n",
      "1600 FEOdMbB6Cvr0UomUSEKxnw L96DFtaLbZhmOJVHKhtqPA uM0OjbOlkr0p4ZhmviA8aQ CPdy5JV2qngQJD0xwuKvuA z9uf9-0uX5Jh8-4Y5l2PQg\n",
      "1700 FEOdMbB6Cvr0UomUSEKxnw L96DFtaLbZhmOJVHKhtqPA uM0OjbOlkr0p4ZhmviA8aQ CPdy5JV2qngQJD0xwuKvuA z9uf9-0uX5Jh8-4Y5l2PQg\n",
      "1800 FEOdMbB6Cvr0UomUSEKxnw L96DFtaLbZhmOJVHKhtqPA uM0OjbOlkr0p4ZhmviA8aQ CPdy5JV2qngQJD0xwuKvuA z9uf9-0uX5Jh8-4Y5l2PQg\n",
      "1900 FEOdMbB6Cvr0UomUSEKxnw L96DFtaLbZhmOJVHKhtqPA uM0OjbOlkr0p4ZhmviA8aQ CPdy5JV2qngQJD0xwuKvuA z9uf9-0uX5Jh8-4Y5l2PQg\n",
      "2000 FEOdMbB6Cvr0UomUSEKxnw L96DFtaLbZhmOJVHKhtqPA uM0OjbOlkr0p4ZhmviA8aQ CPdy5JV2qngQJD0xwuKvuA z9uf9-0uX5Jh8-4Y5l2PQg\n",
      "2100 FEOdMbB6Cvr0UomUSEKxnw L96DFtaLbZhmOJVHKhtqPA uM0OjbOlkr0p4ZhmviA8aQ CPdy5JV2qngQJD0xwuKvuA z9uf9-0uX5Jh8-4Y5l2PQg\n",
      "2200 FEOdMbB6Cvr0UomUSEKxnw L96DFtaLbZhmOJVHKhtqPA uM0OjbOlkr0p4ZhmviA8aQ CPdy5JV2qngQJD0xwuKvuA z9uf9-0uX5Jh8-4Y5l2PQg\n",
      "2300 FEOdMbB6Cvr0UomUSEKxnw L96DFtaLbZhmOJVHKhtqPA uM0OjbOlkr0p4ZhmviA8aQ CPdy5JV2qngQJD0xwuKvuA z9uf9-0uX5Jh8-4Y5l2PQg\n",
      "2400 FEOdMbB6Cvr0UomUSEKxnw L96DFtaLbZhmOJVHKhtqPA uM0OjbOlkr0p4ZhmviA8aQ CPdy5JV2qngQJD0xwuKvuA z9uf9-0uX5Jh8-4Y5l2PQg\n",
      "2500 FEOdMbB6Cvr0UomUSEKxnw L96DFtaLbZhmOJVHKhtqPA uM0OjbOlkr0p4ZhmviA8aQ CPdy5JV2qngQJD0xwuKvuA z9uf9-0uX5Jh8-4Y5l2PQg\n",
      "2600 FEOdMbB6Cvr0UomUSEKxnw cQCvKpOZzcjyqOSvMOo1lg uM0OjbOlkr0p4ZhmviA8aQ CPdy5JV2qngQJD0xwuKvuA z9uf9-0uX5Jh8-4Y5l2PQg\n",
      "2700 FEOdMbB6Cvr0UomUSEKxnw cQCvKpOZzcjyqOSvMOo1lg uM0OjbOlkr0p4ZhmviA8aQ CPdy5JV2qngQJD0xwuKvuA z9uf9-0uX5Jh8-4Y5l2PQg\n",
      "2800 FEOdMbB6Cvr0UomUSEKxnw cQCvKpOZzcjyqOSvMOo1lg uM0OjbOlkr0p4ZhmviA8aQ CPdy5JV2qngQJD0xwuKvuA z9uf9-0uX5Jh8-4Y5l2PQg\n",
      "2900 FEOdMbB6Cvr0UomUSEKxnw cQCvKpOZzcjyqOSvMOo1lg uM0OjbOlkr0p4ZhmviA8aQ CPdy5JV2qngQJD0xwuKvuA z9uf9-0uX5Jh8-4Y5l2PQg\n",
      "3000 FEOdMbB6Cvr0UomUSEKxnw cQCvKpOZzcjyqOSvMOo1lg uM0OjbOlkr0p4ZhmviA8aQ CPdy5JV2qngQJD0xwuKvuA z9uf9-0uX5Jh8-4Y5l2PQg\n"
     ]
    }
   ],
   "source": [
    "n=0\n",
    "output = []\n",
    "for i in range(no_of_asks):\n",
    "    stream_users = bx.ask(input_file, stream_size)\n",
    "    if i==0:\n",
    "        reservoir = stream_users\n",
    "        n+=stream_size\n",
    "    else:\n",
    "        for user in stream_users:\n",
    "            n+=1\n",
    "            x = random.random()\n",
    "            if x < s/n:\n",
    "                #Replace Index\n",
    "                #print(\"rep\")\n",
    "                idx_to_replace = random.randint(0,99)\n",
    "                reservoir[idx_to_replace] = user\n",
    "\n",
    "    print(n, reservoir[0], reservoir[20], reservoir[40], reservoir[60], reservoir[80])\n",
    "    output.append([n, reservoir[0], reservoir[20], reservoir[40], reservoir[60], reservoir[80]])\n"
   ],
   "metadata": {
    "collapsed": false,
    "pycharm": {
     "name": "#%%\n"
    }
   }
  },
  {
   "cell_type": "code",
   "execution_count": 35,
   "outputs": [],
   "source": [
    "with open(output_file,'w+') as f:\n",
    "    f.write('seq_num,0_id,20_id,40_id,60_id,80_id\\n')\n",
    "    for i in output:\n",
    "        f.write(str(i[0]) + \",\" + str(i[1])+ \",\" + str(i[2]) + \",\" + str(i[3])+ \",\" + str(i[4])+ \",\" + str(i[5])+\"\\n\")"
   ],
   "metadata": {
    "collapsed": false,
    "pycharm": {
     "name": "#%%\n"
    }
   }
  },
  {
   "cell_type": "code",
   "execution_count": null,
   "outputs": [],
   "source": [],
   "metadata": {
    "collapsed": false,
    "pycharm": {
     "name": "#%%\n"
    }
   }
  }
 ],
 "metadata": {
  "kernelspec": {
   "display_name": "Python 3",
   "language": "python",
   "name": "python3"
  },
  "language_info": {
   "codemirror_mode": {
    "name": "ipython",
    "version": 2
   },
   "file_extension": ".py",
   "mimetype": "text/x-python",
   "name": "python",
   "nbconvert_exporter": "python",
   "pygments_lexer": "ipython2",
   "version": "2.7.6"
  }
 },
 "nbformat": 4,
 "nbformat_minor": 0
}