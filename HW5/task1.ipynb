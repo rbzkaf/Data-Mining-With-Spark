{
 "cells": [
  {
   "cell_type": "code",
   "execution_count": 1,
   "metadata": {
    "collapsed": true
   },
   "outputs": [],
   "source": [
    "#from blackbox import BlackBox\n",
    "import random\n",
    "import binascii\n",
    "from collections import defaultdict\n"
   ]
  },
  {
   "cell_type": "code",
   "execution_count": 2,
   "outputs": [],
   "source": [
    "class BlackBox:\n",
    "\n",
    "    def ask(self, file, num):\n",
    "        lines = open(file,'r').readlines()\n",
    "        users = [0 for i in range(num)]\n",
    "        for i in range(num):\n",
    "            users[i] = lines[random.randint(0, len(lines) - 1)].rstrip(\"\\n\")\n",
    "        return users"
   ],
   "metadata": {
    "collapsed": false,
    "pycharm": {
     "name": "#%%\n"
    }
   }
  },
  {
   "cell_type": "code",
   "execution_count": 3,
   "outputs": [],
   "source": [
    "def myhashs(s):\n",
    "    result = []\n",
    "    for f in hash_fun_list:\n",
    "        result.append(f(s))\n",
    "    return result"
   ],
   "metadata": {
    "collapsed": false,
    "pycharm": {
     "name": "#%%\n"
    }
   }
  },
  {
   "cell_type": "code",
   "execution_count": 4,
   "outputs": [],
   "source": [
    "def str_to_int(string):\n",
    "    return int(binascii.hexlify(string.encode('utf8')),16)"
   ],
   "metadata": {
    "collapsed": false,
    "pycharm": {
     "name": "#%%\n"
    }
   }
  },
  {
   "cell_type": "code",
   "execution_count": 77,
   "outputs": [],
   "source": [
    "def create_hash_function_list(no_of_hash):\n",
    "    m = 69997\n",
    "    prime = 9999999851\n",
    "    hash_a = random.sample(range(1,10000000000),no_of_hash)\n",
    "    hash_b = random.sample(range(1,10000000000),no_of_hash)\n",
    "    global hash_fun_list\n",
    "    hash_fun_list = []\n",
    "    for i in range(no_of_hash):\n",
    "        a = hash_a[i]\n",
    "        b = hash_b[i]\n",
    "        hash_fun_list.append(lambda x, a=a, b=b, prime=prime :  ((a*str_to_int(x) + b) % prime) % 69997)\n",
    "\n",
    "    return hash_fun_list\n",
    "x = create_hash_function_list(3)"
   ],
   "metadata": {
    "collapsed": false,
    "pycharm": {
     "name": "#%%\n"
    }
   }
  },
  {
   "cell_type": "code",
   "execution_count": 6,
   "outputs": [],
   "source": [
    "filter_bit_array = [0 for _ in range(69997)]"
   ],
   "metadata": {
    "collapsed": false,
    "pycharm": {
     "name": "#%%\n"
    }
   }
  },
  {
   "cell_type": "code",
   "execution_count": 122,
   "outputs": [],
   "source": [
    "stream_size = 100\n",
    "no_of_asks = 150\n",
    "input_file = \"users.txt\"\n",
    "output_file = \"output.csv\"\n",
    "\n",
    "no_of_hash_funcs = 6\n"
   ],
   "metadata": {
    "collapsed": false,
    "pycharm": {
     "name": "#%%\n"
    }
   }
  },
  {
   "cell_type": "code",
   "execution_count": 123,
   "outputs": [
    {
     "data": {
      "text/plain": "[<function __main__.create_hash_function_list.<locals>.<lambda>(x, a=7536263453, b=3671658250, prime=9999999851)>,\n <function __main__.create_hash_function_list.<locals>.<lambda>(x, a=499820147, b=5446465973, prime=9999999851)>,\n <function __main__.create_hash_function_list.<locals>.<lambda>(x, a=7193398897, b=387369612, prime=9999999851)>,\n <function __main__.create_hash_function_list.<locals>.<lambda>(x, a=392527908, b=2056069485, prime=9999999851)>,\n <function __main__.create_hash_function_list.<locals>.<lambda>(x, a=2545861722, b=9722084680, prime=9999999851)>,\n <function __main__.create_hash_function_list.<locals>.<lambda>(x, a=1377805904, b=6718505453, prime=9999999851)>]"
     },
     "execution_count": 123,
     "metadata": {},
     "output_type": "execute_result"
    }
   ],
   "source": [
    "bx = BlackBox()\n",
    "create_hash_function_list(no_of_hash_funcs)"
   ],
   "metadata": {
    "collapsed": false,
    "pycharm": {
     "name": "#%%\n"
    }
   }
  },
  {
   "cell_type": "code",
   "execution_count": 124,
   "outputs": [],
   "source": [
    "fpr_output = []"
   ],
   "metadata": {
    "collapsed": false,
    "pycharm": {
     "name": "#%%\n"
    }
   }
  },
  {
   "cell_type": "code",
   "execution_count": 125,
   "outputs": [],
   "source": [
    "#stream_users = bx.ask(input_file, stream_size)"
   ],
   "metadata": {
    "collapsed": false,
    "pycharm": {
     "name": "#%%\n"
    }
   }
  },
  {
   "cell_type": "code",
   "execution_count": 126,
   "outputs": [
    {
     "name": "stdout",
     "output_type": "stream",
     "text": [
      "0.0\n",
      "0.0\n",
      "0.0\n",
      "0.0\n",
      "0.0\n",
      "0.0\n",
      "0.0\n",
      "0.0\n",
      "0.0\n",
      "0.0\n",
      "0.0\n",
      "0.0\n",
      "0.0\n",
      "0.0\n",
      "0.0\n",
      "0.0\n",
      "0.0\n",
      "0.010000000000000009\n",
      "0.0\n",
      "0.0\n",
      "0.0\n",
      "0.0\n",
      "0.0\n",
      "0.0\n",
      "0.0\n",
      "0.0\n",
      "0.0\n",
      "0.0\n",
      "0.0\n",
      "0.0\n",
      "0.010000000000000009\n",
      "0.0\n",
      "0.020000000000000018\n",
      "0.0\n",
      "0.0\n",
      "0.0\n",
      "0.0\n",
      "0.0\n",
      "0.0\n",
      "0.0\n",
      "0.0\n",
      "0.0\n",
      "0.0\n",
      "0.010000000000000009\n",
      "0.0\n",
      "0.010000000000000009\n",
      "0.0\n",
      "0.010000000000000009\n",
      "0.0\n",
      "0.0\n",
      "0.0\n",
      "0.020000000000000018\n",
      "0.010000000000000009\n",
      "0.0\n",
      "0.0\n",
      "0.0\n",
      "0.0\n",
      "0.0\n",
      "0.0\n",
      "0.010000000000000009\n",
      "0.0\n",
      "0.010000000000000009\n",
      "0.020000000000000018\n",
      "0.020000000000000018\n",
      "0.010000000000000009\n",
      "0.010000000000000009\n",
      "0.0\n",
      "0.020000000000000018\n",
      "0.010000000000000009\n",
      "0.010000000000000009\n",
      "0.010000000000000009\n",
      "0.020000000000000018\n",
      "0.020000000000000018\n",
      "0.010000000000000009\n",
      "0.010000000000000009\n",
      "0.020000000000000018\n",
      "0.04999999999999982\n",
      "0.020000000000000018\n",
      "0.020000000000000018\n",
      "0.020000000000000018\n",
      "0.010000000000000009\n",
      "0.040000000000000036\n",
      "0.040000000000000036\n",
      "0.020000000000000018\n",
      "0.04999999999999982\n",
      "0.040000000000000036\n",
      "0.029999999999999805\n",
      "0.020000000000000018\n",
      "0.040000000000000036\n",
      "0.05999999999999961\n",
      "0.0\n",
      "0.020000000000000018\n",
      "0.010000000000000009\n",
      "0.029999999999999805\n",
      "0.010000000000000009\n",
      "0.020000000000000018\n",
      "0.040000000000000036\n",
      "0.05999999999999961\n",
      "0.04999999999999982\n"
     ]
    },
    {
     "ename": "KeyboardInterrupt",
     "evalue": "",
     "output_type": "error",
     "traceback": [
      "\u001B[0;31m---------------------------------------------------------------------------\u001B[0m",
      "\u001B[0;31mKeyboardInterrupt\u001B[0m                         Traceback (most recent call last)",
      "\u001B[0;32m<ipython-input-126-a1d98a2be5f1>\u001B[0m in \u001B[0;36m<module>\u001B[0;34m\u001B[0m\n\u001B[1;32m      3\u001B[0m \u001B[0mactual_positives\u001B[0m \u001B[0;34m=\u001B[0m \u001B[0mdefaultdict\u001B[0m\u001B[0;34m(\u001B[0m\u001B[0mint\u001B[0m\u001B[0;34m)\u001B[0m\u001B[0;34m\u001B[0m\u001B[0;34m\u001B[0m\u001B[0m\n\u001B[1;32m      4\u001B[0m \u001B[0;32mfor\u001B[0m \u001B[0mi\u001B[0m \u001B[0;32min\u001B[0m \u001B[0mrange\u001B[0m\u001B[0;34m(\u001B[0m\u001B[0mno_of_asks\u001B[0m\u001B[0;34m)\u001B[0m\u001B[0;34m:\u001B[0m\u001B[0;34m\u001B[0m\u001B[0;34m\u001B[0m\u001B[0m\n\u001B[0;32m----> 5\u001B[0;31m     \u001B[0mstream_users\u001B[0m \u001B[0;34m=\u001B[0m \u001B[0mbx\u001B[0m\u001B[0;34m.\u001B[0m\u001B[0mask\u001B[0m\u001B[0;34m(\u001B[0m\u001B[0minput_file\u001B[0m\u001B[0;34m,\u001B[0m \u001B[0mstream_size\u001B[0m\u001B[0;34m)\u001B[0m\u001B[0;34m\u001B[0m\u001B[0;34m\u001B[0m\u001B[0m\n\u001B[0m\u001B[1;32m      6\u001B[0m     \u001B[0mhashed_positives\u001B[0m \u001B[0;34m=\u001B[0m \u001B[0;34m[\u001B[0m\u001B[0;34m]\u001B[0m\u001B[0;34m\u001B[0m\u001B[0;34m\u001B[0m\u001B[0m\n\u001B[1;32m      7\u001B[0m     \u001B[0;31m#actual_positives = []\u001B[0m\u001B[0;34m\u001B[0m\u001B[0;34m\u001B[0m\u001B[0;34m\u001B[0m\u001B[0m\n",
      "\u001B[0;31mKeyboardInterrupt\u001B[0m: "
     ]
    }
   ],
   "source": [
    "filter_bit_array = [0 for _ in range(69997)]\n",
    "true_negative = defaultdict(int)\n",
    "actual_positives = defaultdict(int)\n",
    "for i in range(no_of_asks):\n",
    "    stream_users = bx.ask(input_file, stream_size)\n",
    "    hashed_positives = []\n",
    "    #actual_positives = []\n",
    "    for user in stream_users:\n",
    "        hashes = myhashs(user)\n",
    "        m = no_of_hash_funcs\n",
    "        for hash in hashes:\n",
    "            if filter_bit_array[hash] == 1:\n",
    "                m-=1\n",
    "        if m==0:\n",
    "            hashed_positives.append(user)\n",
    "        if user in actual_positives:\n",
    "            true_negative[user]=1\n",
    "\n",
    "        actual_positives[user] = 1\n",
    "\n",
    "\n",
    "    false_positives = []\n",
    "    for u in hashed_positives:\n",
    "        if \"\\'\" + str(u) + \"\\'\" not in true_negative.keys():\n",
    "            false_positives.append(u)\n",
    "    try:\n",
    "        #fpr = len(false_positives)/len(hashed_positives)\n",
    "        fpr = len(false_positives) / stream_size - len(hashed_positives) + len(false_positives)\n",
    "    except(ZeroDivisionError):\n",
    "        fpr = 0\n",
    "\n",
    "    fpr_output.append(fpr)\n",
    "    print(fpr)"
   ],
   "metadata": {
    "collapsed": false,
    "pycharm": {
     "name": "#%%\n"
    }
   }
  },
  {
   "cell_type": "code",
   "execution_count": null,
   "outputs": [],
   "source": [
    "hashed_positives"
   ],
   "metadata": {
    "collapsed": false,
    "pycharm": {
     "name": "#%%\n"
    }
   }
  },
  {
   "cell_type": "code",
   "execution_count": 56,
   "outputs": [
    {
     "ename": "KeyError",
     "evalue": "'988r4awVvqFBzLpK9m'",
     "output_type": "error",
     "traceback": [
      "\u001B[0;31m---------------------------------------------------------------------------\u001B[0m",
      "\u001B[0;31mKeyError\u001B[0m                                  Traceback (most recent call last)",
      "\u001B[0;32m<ipython-input-56-52d8c6d9b836>\u001B[0m in \u001B[0;36m<module>\u001B[0;34m\u001B[0m\n\u001B[0;32m----> 1\u001B[0;31m \u001B[0mactual_positives\u001B[0m\u001B[0;34m[\u001B[0m\u001B[0;34m'988r4awVvqFBzLpK9m'\u001B[0m\u001B[0;34m]\u001B[0m\u001B[0;34m\u001B[0m\u001B[0;34m\u001B[0m\u001B[0m\n\u001B[0m",
      "\u001B[0;31mKeyError\u001B[0m: '988r4awVvqFBzLpK9m'"
     ]
    }
   ],
   "source": [
    "actual_positives['988r4awVvqFBzLpK9m']"
   ],
   "metadata": {
    "collapsed": false,
    "pycharm": {
     "name": "#%%\n"
    }
   }
  },
  {
   "cell_type": "code",
   "execution_count": 57,
   "outputs": [
    {
     "name": "stdout",
     "output_type": "stream",
     "text": [
      "dsa\n"
     ]
    }
   ],
   "source": [
    "if '988r4awVvqFBzLpK9m' not in actual_positives.keys():\n",
    "\n",
    "            print(\"dsa\")"
   ],
   "metadata": {
    "collapsed": false,
    "pycharm": {
     "name": "#%%\n"
    }
   }
  },
  {
   "cell_type": "code",
   "execution_count": 62,
   "outputs": [
    {
     "name": "stdout",
     "output_type": "stream",
     "text": [
      "9JZ1Ts_4KU3h4GxEf0UoPA\n",
      "yo 9JZ1Ts_4KU3h4GxEf0UoPA\n",
      "QnZ0lwfY5TH7LTVm8n4zBg\n",
      "yo QnZ0lwfY5TH7LTVm8n4zBg\n",
      "awCvjcDEj4p-kbjhOaRVEA\n",
      "yo awCvjcDEj4p-kbjhOaRVEA\n",
      "jLCG0hZ1GSi0ueDdidPQlg\n",
      "yo jLCG0hZ1GSi0ueDdidPQlg\n",
      "x-Vw-dczBhwW8xOcOf_s7A\n",
      "yo x-Vw-dczBhwW8xOcOf_s7A\n",
      "R185S5dq2vJstJzxjUJ5Ig\n",
      "yo R185S5dq2vJstJzxjUJ5Ig\n",
      "nT4kKkLfq_qbvPN8EdXqvg\n",
      "yo nT4kKkLfq_qbvPN8EdXqvg\n",
      "G6ETLGYbJOPEVEnAM-GozQ\n",
      "yo G6ETLGYbJOPEVEnAM-GozQ\n",
      "wKDnJmi4gEXhln6p_Uz6qw\n",
      "yo wKDnJmi4gEXhln6p_Uz6qw\n",
      "6J3WzLMUeLSl9jgnJm2pZA\n",
      "yo 6J3WzLMUeLSl9jgnJm2pZA\n",
      "ntM76weFNMbDWjzWFsHQNw\n",
      "yo ntM76weFNMbDWjzWFsHQNw\n",
      "rI_3jGR2lGUwudwV0lyXZQ\n",
      "yo rI_3jGR2lGUwudwV0lyXZQ\n",
      "cVzRMYmzZqp0TvHCKrJo4g\n",
      "yo cVzRMYmzZqp0TvHCKrJo4g\n",
      "pCQwogU841v4Az83dWIWiw\n",
      "yo pCQwogU841v4Az83dWIWiw\n",
      "JRQ_h12xHkAtuO54FcQS4w\n",
      "yo JRQ_h12xHkAtuO54FcQS4w\n",
      "71IkoDfYmF_KWgO2_FiWfQ\n",
      "yo 71IkoDfYmF_KWgO2_FiWfQ\n",
      "ND7xdYNBxRsvdL0ObhDyWA\n",
      "yo ND7xdYNBxRsvdL0ObhDyWA\n",
      "5XnOkz0PsUcy1MMP4-iGbg\n",
      "yo 5XnOkz0PsUcy1MMP4-iGbg\n",
      "zRaFJNfe1opX3PHuMTCing\n",
      "yo zRaFJNfe1opX3PHuMTCing\n",
      "4sexgT8s-v7qqbcaAyEsZg\n",
      "yo 4sexgT8s-v7qqbcaAyEsZg\n",
      "ku4xbu3Y7LkXgs4zD6exAQ\n",
      "yo ku4xbu3Y7LkXgs4zD6exAQ\n",
      "glA_2M3-rdumorpQ7JSaxw\n",
      "yo glA_2M3-rdumorpQ7JSaxw\n",
      "hHVkahiev66fTMb-bKmfaw\n",
      "yo hHVkahiev66fTMb-bKmfaw\n",
      "oaCryU338ydQGTG3FMqJBA\n",
      "yo oaCryU338ydQGTG3FMqJBA\n",
      "gFRNsgjQB3BrR6vHCX4LZA\n",
      "yo gFRNsgjQB3BrR6vHCX4LZA\n",
      "0MiCdd__BouW58638vICKA\n",
      "yo 0MiCdd__BouW58638vICKA\n",
      "AaJ20lXb7mR8cfLRrgSMwQ\n",
      "yo AaJ20lXb7mR8cfLRrgSMwQ\n",
      "6AGoi20-1ci8Tf5p9o9W-w\n",
      "yo 6AGoi20-1ci8Tf5p9o9W-w\n",
      "5__bJyfaBkqmFM2kOakShg\n",
      "yo 5__bJyfaBkqmFM2kOakShg\n",
      "ecjtKvwXJxQRdoPXJQY0KA\n",
      "yo ecjtKvwXJxQRdoPXJQY0KA\n",
      "gBYu6fusFMenRP8ojSsGtA\n",
      "yo gBYu6fusFMenRP8ojSsGtA\n",
      "0TuuWj7R5QsMDxWAcy9rxQ\n",
      "yo 0TuuWj7R5QsMDxWAcy9rxQ\n",
      "fOXu8Xep9pmEJIDGNzaVww\n",
      "yo fOXu8Xep9pmEJIDGNzaVww\n",
      "_lF7Y_10KRFgOXRtiRIA-g\n",
      "yo _lF7Y_10KRFgOXRtiRIA-g\n",
      "qHfG81DJ8SszJB7BfigUNQ\n",
      "yo qHfG81DJ8SszJB7BfigUNQ\n",
      "rSNQQMdz3MMzzvlinUHQoQ\n",
      "yo rSNQQMdz3MMzzvlinUHQoQ\n",
      "hC4NZ5b9qRD263xQ4-FKPw\n",
      "yo hC4NZ5b9qRD263xQ4-FKPw\n",
      "GYN2M9F3WBhtZIOVrIIpsw\n",
      "yo GYN2M9F3WBhtZIOVrIIpsw\n",
      "ny9QbvnwyI0K20J92CyO0g\n",
      "yo ny9QbvnwyI0K20J92CyO0g\n",
      "JX24wOyL1WcKf2MuXF0YkA\n",
      "yo JX24wOyL1WcKf2MuXF0YkA\n",
      "rEYbPcEGZ6e4AkOFjWo05g\n",
      "yo rEYbPcEGZ6e4AkOFjWo05g\n",
      "s-NPaUjwegLuuOU_NrDl2w\n",
      "yo s-NPaUjwegLuuOU_NrDl2w\n",
      "WncPZ1KJnNJZlVTnRobBug\n",
      "yo WncPZ1KJnNJZlVTnRobBug\n",
      "bHmmVXPMiMakIbTVHtNMOA\n",
      "yo bHmmVXPMiMakIbTVHtNMOA\n",
      "o-RYFZ3EHB7HzgrATHib5w\n",
      "yo o-RYFZ3EHB7HzgrATHib5w\n",
      "v5c3zJParr6eROJ6La3e8g\n",
      "yo v5c3zJParr6eROJ6La3e8g\n",
      "NL3OCOlhEfbzOh10iZ6k8w\n",
      "yo NL3OCOlhEfbzOh10iZ6k8w\n",
      "B1CZm4zKm3xa1skLjYe00g\n",
      "yo B1CZm4zKm3xa1skLjYe00g\n",
      "WlXRnxtM4RMjRyoGXiY7GQ\n",
      "yo WlXRnxtM4RMjRyoGXiY7GQ\n",
      "KBHhEhu2r4yxGdHOyhVIIw\n",
      "yo KBHhEhu2r4yxGdHOyhVIIw\n",
      "cOETNFs9prLXAqmMxEuQ_A\n",
      "yo cOETNFs9prLXAqmMxEuQ_A\n",
      "tYfJpyD7xL1DsCvlr9rNLg\n",
      "yo tYfJpyD7xL1DsCvlr9rNLg\n",
      "HTsrwRLjkTJqCvGt7Gx9pw\n",
      "yo HTsrwRLjkTJqCvGt7Gx9pw\n",
      "icb5sXEUKwNo36CU28U_EQ\n",
      "yo icb5sXEUKwNo36CU28U_EQ\n",
      "oknqqTuphDgf8KRDEOdSCg\n",
      "yo oknqqTuphDgf8KRDEOdSCg\n",
      "txlo2oiDSQ_tVQWrVSGc2A\n",
      "yo txlo2oiDSQ_tVQWrVSGc2A\n",
      "uhZOu13rGsMhGO-jWrD8PA\n",
      "yo uhZOu13rGsMhGO-jWrD8PA\n",
      "kCrmnyiCiWZdTYPRnu2e-w\n",
      "yo kCrmnyiCiWZdTYPRnu2e-w\n",
      "k9Biq820zaWwrH0rzgk2Hg\n",
      "yo k9Biq820zaWwrH0rzgk2Hg\n",
      "C_j78jlESZwIAFvL7IXAhA\n",
      "yo C_j78jlESZwIAFvL7IXAhA\n",
      "J5HZLevdqG_iTZ2egbL64A\n",
      "yo J5HZLevdqG_iTZ2egbL64A\n",
      "aPcNnBDFxlrIkvAjV0TLYA\n",
      "yo aPcNnBDFxlrIkvAjV0TLYA\n",
      "5VwsvrVOWrGBEWtfDOibFg\n",
      "yo 5VwsvrVOWrGBEWtfDOibFg\n",
      "PKMLAQdX65O2DOOAm6ca6w\n",
      "yo PKMLAQdX65O2DOOAm6ca6w\n",
      "qtXSsVLbKvZ59eOImHqvbA\n",
      "yo qtXSsVLbKvZ59eOImHqvbA\n",
      "Ra2ET2HvxxoHxBQ6XdHCGw\n",
      "yo Ra2ET2HvxxoHxBQ6XdHCGw\n",
      "6eUqRE-Yg8F48MPpFm-Zug\n",
      "yo 6eUqRE-Yg8F48MPpFm-Zug\n",
      "QuO5hO9aAT-KUoBSXeexZw\n",
      "yo QuO5hO9aAT-KUoBSXeexZw\n",
      "AYDRZxlr2AUIC7FUOrFmOA\n",
      "yo AYDRZxlr2AUIC7FUOrFmOA\n",
      "yvYrkcSKxmcOfHOUGsiI1A\n",
      "yo yvYrkcSKxmcOfHOUGsiI1A\n",
      "8ue-YVglW-CPkfVpNz90jw\n",
      "yo 8ue-YVglW-CPkfVpNz90jw\n",
      "gRMfixrZO911YnkbugX7xA\n",
      "yo gRMfixrZO911YnkbugX7xA\n",
      "Z_YPwzc8I-zHkW46KzGh5g\n",
      "yo Z_YPwzc8I-zHkW46KzGh5g\n",
      "BC3y2zfeIc-tsgd-d7Zuzw\n",
      "yo BC3y2zfeIc-tsgd-d7Zuzw\n",
      "LlgZ54wIgIXcgBtAbysaDw\n",
      "yo LlgZ54wIgIXcgBtAbysaDw\n",
      "laRkMOEqQRTRiLifubtSnw\n",
      "yo laRkMOEqQRTRiLifubtSnw\n",
      "K6g164vAppAQJJjtrLNkZg\n",
      "yo K6g164vAppAQJJjtrLNkZg\n",
      "h9WW5g8vzSKpJPCAGZPP7Q\n",
      "yo h9WW5g8vzSKpJPCAGZPP7Q\n",
      "GkZrM6oAuGLu1p8qrYbrBw\n",
      "yo GkZrM6oAuGLu1p8qrYbrBw\n",
      "AlTCHkMmpyh5hcPutBzmdQ\n",
      "yo AlTCHkMmpyh5hcPutBzmdQ\n",
      "uuGoQcIF6rOGDt4R4ohPCw\n",
      "yo uuGoQcIF6rOGDt4R4ohPCw\n",
      "q657fti1uOzyo4B-y1Od0w\n",
      "yo q657fti1uOzyo4B-y1Od0w\n",
      "PSLjunCU_cdO-e1L746BSg\n",
      "yo PSLjunCU_cdO-e1L746BSg\n",
      "h5Us030KuDVmlYUX8aoh8Q\n",
      "yo h5Us030KuDVmlYUX8aoh8Q\n",
      "tlcugWUUYrXPtIBZ--jayA\n",
      "yo tlcugWUUYrXPtIBZ--jayA\n",
      "DIoO0JDnBMgZBMFh0GxDkA\n",
      "yo DIoO0JDnBMgZBMFh0GxDkA\n",
      "a3qx5h5WuLyD_OuuD4heVA\n",
      "yo a3qx5h5WuLyD_OuuD4heVA\n",
      "Qd-XSEi2ur_HgnMvv1tV6g\n",
      "yo Qd-XSEi2ur_HgnMvv1tV6g\n",
      "PH7VrFnorUni-9GPlPfJEw\n",
      "yo PH7VrFnorUni-9GPlPfJEw\n",
      "0voBIGV7J5Y21syZvI7E2w\n",
      "yo 0voBIGV7J5Y21syZvI7E2w\n",
      "hcxvmCezSX4HKPm82jQ2Ew\n",
      "yo hcxvmCezSX4HKPm82jQ2Ew\n",
      "1BxgALFhPNc7oRghVwkGUA\n",
      "yo 1BxgALFhPNc7oRghVwkGUA\n",
      "gC1PlGKq8czgT1ZktEecMQ\n",
      "yo gC1PlGKq8czgT1ZktEecMQ\n",
      "cSD8RwhDmAMNh3JvNZsjSA\n",
      "yo cSD8RwhDmAMNh3JvNZsjSA\n",
      "zB7qPRl_8PML6RtRFhORZA\n",
      "yo zB7qPRl_8PML6RtRFhORZA\n",
      "mzwhvIWbGY8PrcVp-hSO0g\n",
      "yo mzwhvIWbGY8PrcVp-hSO0g\n",
      "a76pK_Y3Hpk3oxzavAW2Mg\n",
      "yo a76pK_Y3Hpk3oxzavAW2Mg\n",
      "QZTiI_PTkUrjapnX46jeIQ\n",
      "yo QZTiI_PTkUrjapnX46jeIQ\n",
      "988r4awVvqFBzLpK9m-FNA\n",
      "yo 988r4awVvqFBzLpK9m-FNA\n",
      "znKZpl3gRhpYJo10egAnqw\n",
      "yo znKZpl3gRhpYJo10egAnqw\n"
     ]
    }
   ],
   "source": [
    "for u in hashed_positives:\n",
    "        print(u)\n",
    "        if \"\\'\" + str(u) + \"\\'\" not in actual_positives:\n",
    "\n",
    "            print(\"yo\", u)"
   ],
   "metadata": {
    "collapsed": false,
    "pycharm": {
     "name": "#%%\n"
    }
   }
  },
  {
   "cell_type": "code",
   "execution_count": 51,
   "outputs": [
    {
     "data": {
      "text/plain": "[1,\n 1,\n 1,\n 1,\n 1,\n 1,\n 1,\n 1,\n 1,\n 1,\n 1,\n 1,\n 1,\n 1,\n 1,\n 1,\n 1,\n 1,\n 1,\n 1,\n 1,\n 1,\n 1,\n 1,\n 1,\n 1,\n 1,\n 1,\n 1,\n 1,\n 1,\n 1,\n 1,\n 1,\n 1,\n 1,\n 1,\n 1,\n 1,\n 1,\n 1,\n 1,\n 1,\n 1,\n 1,\n 1,\n 1,\n 1,\n 1,\n 1,\n 1,\n 1,\n 1,\n 1,\n 1,\n 1,\n 1,\n 1,\n 1,\n 1,\n 1,\n 1,\n 1,\n 1,\n 1,\n 1,\n 1,\n 1,\n 1,\n 1,\n 1,\n 1,\n 1,\n 1,\n 1,\n 1,\n 1,\n 1,\n 1,\n 1,\n 1,\n 1,\n 1,\n 1,\n 1,\n 1,\n 1,\n 1,\n 1,\n 1,\n 1,\n 1,\n 1,\n 1,\n 1,\n 1,\n 1,\n 1,\n 1,\n 1,\n 1,\n 1,\n 1,\n 1,\n 1,\n 1,\n 1,\n 1,\n 1,\n 1,\n 1,\n 1,\n 1,\n 1,\n 1,\n 1,\n 1,\n 1,\n 1,\n 1,\n 1,\n 1,\n 1,\n 1,\n 1,\n 1,\n 1,\n 1,\n 1,\n 1,\n 1,\n 1,\n 1,\n 1,\n 1,\n 1,\n 1,\n 1,\n 1,\n 1,\n 1,\n 1,\n 1,\n 1,\n 1,\n 1,\n 1,\n 1,\n 1,\n 1,\n 1,\n 1,\n 1,\n 1,\n 1,\n 1,\n 1,\n 1,\n 1,\n 1,\n 1,\n 1,\n 1,\n 1,\n 1,\n 1,\n 1,\n 1,\n 1,\n 1,\n 1,\n 1,\n 1,\n 1,\n 1,\n 1,\n 1,\n 1,\n 1,\n 1,\n 1,\n 1,\n 1,\n 1,\n 1,\n 1,\n 1,\n 1,\n 1,\n 1,\n 1,\n 1,\n 1,\n 1,\n 1,\n 1,\n 1,\n 1,\n 1,\n 1,\n 1,\n 1,\n 1,\n 1,\n 1,\n 1,\n 1,\n 1,\n 1,\n 1,\n 1,\n 1,\n 1,\n 1,\n 1,\n 1,\n 1,\n 1,\n 1,\n 1,\n 1,\n 1,\n 1,\n 1,\n 1,\n 1,\n 1,\n 1,\n 1,\n 1,\n 1,\n 1,\n 1,\n 1,\n 1,\n 1,\n 1,\n 1,\n 1,\n 1,\n 1,\n 1,\n 1,\n 1,\n 1,\n 1,\n 1,\n 1,\n 1,\n 1,\n 1,\n 1,\n 1,\n 1,\n 1,\n 1,\n 1,\n 1,\n 1,\n 1,\n 1,\n 1,\n 1,\n 1,\n 1,\n 1,\n 1,\n 1,\n 1,\n 1,\n 1,\n 1,\n 1,\n 1,\n 1,\n 1,\n 1,\n 1,\n 1,\n 1,\n 1,\n 1,\n 1,\n 1,\n 1,\n 1,\n 1,\n 1,\n 1,\n 1,\n 1,\n 1,\n 1,\n 1,\n 1,\n 1,\n 1,\n 1,\n 1,\n 1,\n 1,\n 1,\n 1,\n 1,\n 1,\n 1,\n 1,\n 1,\n 1,\n 1,\n 1,\n 1,\n 1,\n 1,\n 1,\n 1,\n 1,\n 1,\n 1,\n 1,\n 1,\n 1,\n 1,\n 1,\n 1,\n 1,\n 1,\n 1,\n 1,\n 1,\n 1,\n 1,\n 1,\n 1,\n 1,\n 1,\n 1,\n 1,\n 1,\n 1,\n 1,\n 1,\n 1,\n 1,\n 1,\n 1,\n 1,\n 1,\n 1,\n 1,\n 1,\n 1,\n 1,\n 1,\n 1,\n 1,\n 1,\n 1,\n 1,\n 1,\n 1,\n 1,\n 1,\n 1,\n 1,\n 1,\n 1,\n 1,\n 1,\n 1,\n 1,\n 1,\n 1,\n 1,\n 1,\n 1,\n 1,\n 1,\n 1,\n 1,\n 1,\n 1,\n 1,\n 1,\n 1,\n 1,\n 1,\n 1,\n 1,\n 1,\n 1,\n 1,\n 1,\n 1,\n 1,\n 1,\n 1,\n 1,\n 1,\n 1,\n 1,\n 1,\n 1,\n 1,\n 1,\n 1,\n 1,\n 1,\n 1,\n 1,\n 1,\n 1,\n 1,\n 1,\n 1,\n 1,\n 1,\n 1,\n 1,\n 1,\n 1,\n 1,\n 1,\n 1,\n 1,\n 1,\n 1,\n 1,\n 1,\n 1,\n 1,\n 1,\n 1,\n 1,\n 1,\n 1,\n 1,\n 1,\n 1,\n 1,\n 1,\n 1,\n 1,\n 1,\n 1,\n 1,\n 1,\n 1,\n 1,\n 1,\n 1,\n 1,\n 1,\n 1,\n 1,\n 1,\n 1,\n 1,\n 1,\n 1,\n 1,\n 1,\n 1,\n 1,\n 1,\n 1,\n 1,\n 1,\n 1,\n 1,\n 1,\n 1,\n 1,\n 1,\n 1,\n 1,\n 1,\n 1,\n 1,\n 1,\n 1,\n 1,\n 1,\n 1,\n 1,\n 1,\n 1,\n 1,\n 1,\n 1,\n 1,\n 1,\n 1,\n 1,\n 1,\n 1,\n 1,\n 1,\n 1,\n 1,\n 1,\n 1,\n 1,\n 1,\n 1,\n 1,\n 1,\n 1,\n 1,\n 1,\n 1,\n 1,\n 1,\n 1,\n 1,\n 1,\n 1,\n 1,\n 1,\n 1,\n 1,\n 1,\n 1,\n 1,\n 1,\n 1,\n 1,\n 1,\n 1,\n 1,\n 1,\n 1,\n 1,\n 1,\n 1,\n 1,\n 1,\n 1,\n 1,\n 1,\n 1,\n 1,\n 1,\n 1,\n 1,\n 1,\n 1,\n 1,\n 1,\n 1,\n 1,\n 1,\n 1,\n 1,\n 1,\n 1,\n 1,\n 1,\n 1,\n 1,\n 1,\n 1,\n 1,\n 1,\n 1,\n 1,\n 1,\n 1,\n 1,\n 1,\n 1,\n 1,\n 1,\n 1,\n 1,\n 1,\n 1,\n 1,\n 1,\n 1,\n 1,\n 1,\n 1,\n 1,\n 1,\n 1,\n 1,\n 1,\n 1,\n 1,\n 1,\n 1,\n 1,\n 1,\n 1,\n 1,\n 1,\n 1,\n 1,\n 1,\n 1,\n 1,\n 1,\n 1,\n 1,\n 1,\n 1,\n 1,\n 1,\n 1,\n 1,\n 1,\n 1,\n 1,\n 1,\n 1,\n 1,\n 1,\n 1,\n 1,\n 1,\n 1,\n 1,\n 1,\n 1,\n 1,\n 1,\n 1,\n 1,\n 1,\n 1,\n 1,\n 1,\n 1,\n 1,\n 1,\n 1,\n 1,\n 1,\n 1,\n 1,\n 1,\n 1,\n 1,\n 1,\n 1,\n 1,\n 1,\n 1,\n 1,\n 1,\n 1,\n 1,\n 1,\n 1,\n 1,\n 1,\n 1,\n 1,\n 1,\n 1,\n 1,\n 1,\n 1,\n 1,\n 1,\n 1,\n 1,\n 1,\n 1,\n 1,\n 1,\n 1,\n 1,\n 1,\n 1,\n 1,\n 1,\n 1,\n 1,\n 1,\n 1,\n 1,\n 1,\n 1,\n 1,\n 1,\n 1,\n 1,\n 1,\n 1,\n 1,\n 1,\n 1,\n 1,\n 1,\n 1,\n 1,\n 1]"
     },
     "execution_count": 51,
     "metadata": {},
     "output_type": "execute_result"
    }
   ],
   "source": [
    "filter_bit_array"
   ],
   "metadata": {
    "collapsed": false,
    "pycharm": {
     "name": "#%%\n"
    }
   }
  },
  {
   "cell_type": "code",
   "execution_count": 47,
   "outputs": [
    {
     "data": {
      "text/plain": "['vHoO960B0t7yY2D3jokn8w',\n 'IvYQe8wrEuLuTYPdhPI7Vw',\n 'oelumeLBf7pzPTZWWNOKoQ',\n 'rIs7is2GtF-1u-aMtpyAUQ',\n 'o5Dh_4D0Mkkm6Zxey3Og7Q',\n 'mrLP5Bw2LtqJiMc0qHn1Eg',\n 'fOccFDsaDoFDg2Z9zM38aQ',\n '4mcUdKspFnkKTWxlwEtEtw',\n 'vA0CB44Mn8qfdIyKfT0BmQ',\n 'V5sAmGE2nb64FIEWJQhKtg',\n 'VAUVbY468Ed5e1Eq0S4CfA',\n 'b2v-yI09ez0AGYnnNFLfJA',\n '00jnAPnZw4XKeJ7lnuwI1w',\n '2eTdzn4LRivbLzmVBFVVqg',\n 'BC4IqtZ50dDUTKkWkg6-6Q',\n 'SQFraRaDIfpJ6-lPD9AuKw',\n 'SJ-HCflRVxqGTg28Abl4sw',\n '5CvksObVnl3559NSwdjpVw',\n 'L5rMXdMyqz8lHv7eOhgUww',\n 'Fo3Rqaafy-kS-rJi48EMFw',\n '4LEj_mNBpOSyf1rir1bvSg',\n 'TFacRyrpBSz5Pzx9vuwLYg',\n 'z6fF6W3NQbBOQHVvwwq1YQ',\n 'WOtXrDzVtd5kl5EmPeS6mA',\n 'pjR3mBrhxE1g6DOBWw7_nA',\n 'UQWEIcQ8oCM7FEfIF-vNrw',\n 'r470x-LQK3uAi1xIj1XYww',\n 'cE2xlj83C-iAPe0I7OY8CA',\n 'ZuvLDwjVuF1HVLZIIHCJUA',\n 'QPiwE2PnShCS1Mc8MMQ2rQ',\n 'U0_fXY0f97lT47nGWJNo0Q',\n '6zTj5wrO86R1d_viJk7NMQ',\n 'P75b_1OqPHBfgCxE4x5Pjg',\n 'UMHmXJ1t9MHIda5srGO4Hw',\n 'ZfwhxBQ1PYgREEEC0GIcGw',\n '7MHbfleDNjcGaS-CyAAB2A',\n 'j_DFwfrb6af50IRxrd1roQ',\n 'Ja059iKmbzv5G3jIclDUOA',\n 'svSGXPOVq-kCT7ALfZFrdQ',\n 'HjB1Jr-p2GZ3TA_7hNpU6A',\n 'yj5P19rTPc6HB4UKrTWoGw',\n '05BGM6cBt0xYLg85jcPAxw',\n '0pPuNfA5zYV545RrIzzdqQ',\n 'tfaJXux1VfL71EZIBtxnNA',\n 'kFjT5U2RCxNKHqKF_C--IQ',\n 'hvY7NY39FI_kE7rke62NDQ',\n 'gDDbmFrMhBmACDkcu14KaA',\n 'PmD8kRDbIvey5NU0BTiMWg',\n 'S3rpsmEaSzpZdKHr4bCd-Q',\n 'eJ2pvPP_gWOQ3plowGpjNA',\n 'E90A3CGk8hKfh4xyPAOzMw',\n 'C5I_wSmfsXyoVoVGyGzZ8Q',\n 'VN1OGd9pNX0RdwPbng4JQQ',\n '6PQIixdtuwDALFPFHrnVUg',\n '6CRNre0xh9DLg-81ukx7kA',\n 'D-6ttu7ZwsH7S_ItvYtIkQ',\n 'fC5aBvMo5Ig1uHF3AhamfQ',\n '8nhcGH7dB_z7GFnx860lmg',\n 'NSzDDYXCL1gnwCcBqYdHXA',\n 'JrVVkg7ThLnqVLCpvx5PBw',\n 'Rrciv8B_rpdjKft3APUO3g',\n '7YtpDq9rjTMMAMIiaiGh2A',\n 'E4cioBRq5qnt2wnZaj2DWw',\n '_zC6iMg_-Qr0AUhAybJPaA',\n 'X3Pmrk6DgkgWTtUsSJhe6g',\n 'MBDHc7VgJ9Kf952s8nVjtQ',\n 'h3XJlDZB513DkL-iGDOHgQ',\n 'iT7dfK19EjnPiWckRw-auw',\n 'xGPI3xXffiwwzjBkcm7Bzw',\n 'iHn0KM_GeiK1K17ijH_SzQ',\n '6ga7i-dUKyDuO19oqvKZpA',\n 'upyQU6FBJJT4HoEutWmACg',\n 'azy7itR5j4GV3faVEOB7Qw',\n 'IR_ZEs3IAlU0DC3Crd23xw',\n 'RvpfRRPjcMbVGApATYesVA',\n 'ANc0jdfm2VGtRTab36O4Cw',\n 'AKZrEc8eeswd7yuC7me4wg',\n 'Uj9v07WrUstk4Z7W8Iu5uw',\n 'ux35QDVacn2vNAZVwD7zyw',\n '-QexOmR3YYjOF5JwoERsEQ',\n 'lQ7GmjH4wFZijt2vQWfC8w',\n 'FTQnxg6bCzQ4BL9kvZkjRA',\n 'ayyrLTlrxnm_xJQXAcfxyg',\n 'GY84QsZzvkMCIHUp_D0VVw',\n '3vk5x_0rwSi3J5wN-rGThA',\n 'xFPd00zaw2kmMaCZY9Es1A',\n 'L0lhm8MrnGoJven39iIs8A',\n 'JSU42hsBVsUo23yEAjBb9A',\n '6blVPCwJ-l0j96Nif83x-g',\n 'tuXXHR6NvZiKwg_WK6RLHQ',\n 'wsTF1lwXoCwGQLDzUttxBg',\n 'PMdS0gFK2og1CUBpPEKmjQ',\n 'nWANWZLGA9WFr-PlVF7IIw',\n '20AgojXlbjTI6NY-LDs-Vg',\n '4-l4HW-bLfXtwx3ZdKedOg',\n 'PX0jBsLZe-rfxbEKLrmMCw',\n 'yBpfmnFCDkLuwmcH6aQ_fg',\n 'W6PIKkebV2FniV-5ju5EcQ',\n '7Xq_l10LvhXdTbe-90I9yQ',\n 'EX9nAEvcOLPdUkm8mHG9OQ']"
     },
     "execution_count": 47,
     "metadata": {},
     "output_type": "execute_result"
    }
   ],
   "source": [
    "hashed_positives"
   ],
   "metadata": {
    "collapsed": false,
    "pycharm": {
     "name": "#%%\n"
    }
   }
  },
  {
   "cell_type": "code",
   "execution_count": null,
   "outputs": [],
   "source": [
    "for u in hashed_positives:\n",
    "    print"
   ],
   "metadata": {
    "collapsed": false,
    "pycharm": {
     "name": "#%%\n"
    }
   }
  },
  {
   "cell_type": "code",
   "execution_count": 48,
   "outputs": [
    {
     "data": {
      "text/plain": "defaultdict(int,\n            {'Fjz7hROSGR1E63sfoTMQug': 1,\n             'KkK7G5cKtDSTGx7syN9C9A': 1,\n             'u5cIQUVBtVKtlrqyK2l7DQ': 1,\n             '3hBuINOCdPZ3mDq4sKqZ6Q': 1,\n             'GjeaJsB3A0nyldw4PdFASw': 1,\n             '8gct7LFApdGIqWz0VNJvWw': 1,\n             '5yspSG3PnjOuXVi0jQ6ZUA': 1,\n             'tQBeDnrViwX_UfDwdL1Jyg': 1,\n             'SDwPEP61sE-K-w47MxHNjw': 1,\n             'W3s_pYK4HXih7ifiSSCtKQ': 1,\n             'owgmSBrPIRuhzDjZG_JDug': 1,\n             '14YijBFAPlV21Q4oBjvwMQ': 1,\n             'Hxy3O0H6iMc_eBCfkcTD-Q': 1,\n             'F3hMIZLVxtpucHAxlodl3A': 1,\n             'CsuwO_fzplQHjOFyRuYdEg': 1,\n             '5rM1KkaA_nsTVYm2aVlRdg': 1,\n             '4GjHic3r3J-1OPT9T6hr-w': 1,\n             '2lSzwpLQNpJILbeFF-w-JA': 1,\n             '3bXQuoO1kg4vt2yyTo7aLg': 1,\n             'NTBT5TvDfvun0miKQktYmA': 1,\n             'mH39mQ6ZtxKr428XcwMIlQ': 1,\n             'dkWI5QFzxPpI3kbSA-9UXg': 1,\n             '6plOnct9XipbsK5f3oqEUA': 1,\n             'JTKxk02pukRwiW8PGnp5iA': 1,\n             '-9b7htUamk7r-gpLF2zatg': 1,\n             '6WbmqsVqWu43AOyGiu52hw': 1,\n             'd9WuoYMuvrtCkPrUCuKW3A': 1,\n             'rB8I-mUxIejyHeLi5-uOgQ': 1,\n             'zmC_b5W_QaI16kgAUAK-lA': 1,\n             'pldfHnT7sfhTNmczBRxsBQ': 1,\n             'Z5MFGv9O0zsslgpO46bz4A': 1,\n             'YJ4EOZTtAMp7-C1bDNemvA': 1,\n             'npIv1SqV9J8CzOLgbCugAw': 1,\n             'tflBW-wowLHJbWvVfTfSEg': 1,\n             'hbtuFXOLfKmWYh0rYMzM2A': 1,\n             'MwaRbVw6WAhvc6KLvT2Xjw': 1,\n             '-G3LrLtmBtDaSWKGJ0GwbA': 1,\n             '5N_dduss5jz1Q8YgmD9OJA': 1,\n             'l_jlVtyDjcxOgHF1JaqyKQ': 1,\n             '0iqc1SZm9moA5gtlI6h-4g': 1,\n             'SFRXmb8-ucA_wQmSZs1ZKg': 1,\n             'mnw56eWkQSA3sfE3yyoNgA': 1,\n             'nITXipwJ3r9bDwqQsqPdBQ': 1,\n             'H7Vp9zVn95yhywcHjDsung': 1,\n             'ypVf0_Razu_ntPNtu6VYfA': 1,\n             'P0OxsL0Fi_fhBNiL3qfDgg': 1,\n             'sZP1IFh5EmWI1ZVNnzzbDA': 1,\n             'S63nYkn46WoygaUJrRrcRg': 1,\n             '3quuRtJyanDrDiq4Iy_vGA': 1,\n             'sj47BZJvLyKgaUZci0cCDw': 1,\n             'mGEuHqxoFdlu5LLVCrOW2g': 1,\n             'MHynM0i7awhEnJ7MDqJDUQ': 1,\n             'MccoiOtHRt77_nnChHu27Q': 1,\n             'kj-aXwVSP9K8yaRFtqvgwQ': 1,\n             'Ebn-Sw8fUmW1BpSyp1acuA': 1,\n             'og33ZFsj01Lm3lFE_m0QGw': 1,\n             'EFhWygidJu9YtAZgkBERDg': 1,\n             'ClsAPBRM3sbe3OeVw9yLwA': 1,\n             'vig9zkcCEAShfE3nkx9cXQ': 1,\n             'g1i5uCeOupMcM1hzwvyEvA': 1,\n             'YS21cXpnlMtjruEcm6RRnw': 1,\n             'G3cwsit1EpFXvuX3f-gL6w': 1,\n             'SZCXxzQcCRz_7bbi9_II3Q': 1,\n             '-M0lyVZT0-Z5ZRFmwl4q3A': 1,\n             'IhV5kw-KWMyPNuhzTrT_-g': 1,\n             '3HhJn-W5Xei3FO38yU8OUw': 1,\n             'Kvu_4tcoN4f0p2Z556JJkg': 1,\n             '_oPU0_UsdxZpLOH7a4Mffw': 1,\n             'twbLEU2Oj_16Sh4hUOI6TA': 1,\n             'dNO5sk2zZyjyBkTpv6n_cg': 1,\n             '2XMtho3mxO-reN6Ko90MKA': 1,\n             'Ouo9JIWFc3mYos3JjetolA': 1,\n             '9VSF4TdGoqX69qWTMuKwaA': 1,\n             'h8iFDrHM-hj8aGNnW0U7Kg': 1,\n             'NWZiY8LA0R9YbADPL7o6zA': 1,\n             'vqEbCu3fA669uodqox0i3A': 1,\n             'jhAVAcseoCFdUajBOT5P0Q': 1,\n             'V8oxO7J4429pFE4XOhfcVA': 1,\n             'NKIHoTSlu3sODQfqHODw3Q': 1,\n             'T3pqfco4ZlW0BfOXUiI2yQ': 1,\n             'YEqanD270MkfLT8uoBF5xA': 1,\n             '55ievU10BcPQMLgQqR6ZKQ': 1,\n             'W8lzsZkY3CbuRGrNNJZYkQ': 1,\n             '-lcn7e5O2eCMQIsr3ofVqQ': 1,\n             'A1-bKsQl4ksDi_gI_v8yjw': 1,\n             'qZnUFVsnhSAQ7cNeCS4zAQ': 1,\n             '-wX-gyi_aI1hfcm-5YT51g': 1,\n             'XCaGhDJh2XiyeLlovwj5Gw': 1,\n             'ZCZ968ktTAfyGVQox7UJgw': 1,\n             'SHBM9ljEHGhhqrzCub7h0A': 1,\n             'AVu2hk0eSME-fyoE5WyJmQ': 1,\n             'EMVubLJSNEm8pYkcay_Ihg': 1,\n             '4fuGu47rzYd4VqxoWB3b3w': 1,\n             '0PIpUDTNJBGkB397KCMRig': 1,\n             'C9zTGElIkwLurm4Qtf0xuQ': 1,\n             'oViAVGd-BUQdZMEhNyabAw': 1,\n             'JPcxKjMnLFicnPt6Jy29eQ': 1,\n             'ViDMtv0hAbvhynxqFlGR_w': 1,\n             'P4JBrVyNka_HfSWQi0kMzA': 1,\n             '-vjaK4k4TDKQgZcXTNrq4g': 1,\n             'atS-83JzKvNSfCq6VggC8Q': 1,\n             'PJ8HiuGJ8qPqEvyp9zBnsg': 1,\n             'jmRNuZmeZjItw1WhSPrslg': 1,\n             'jvC5IXM3LQ0KBGahs55_Ug': 1,\n             'oICHnIYEV5Sj-0eaxMWK0w': 1,\n             'KpbejkrU7PKjtzEFgS9IgA': 1,\n             '4cBSDU6nHmA0PjsragbIrQ': 1,\n             'LxAY5Ar9PpVSa7S_J5dlRA': 1,\n             'FSzBKZecOf0W-0bkfYNJ4g': 1,\n             '6gL9KyY04VchdaqhYYoKUQ': 1,\n             'Y9PXnfnm4t41tomvHD53pg': 1,\n             'vQivybFxOorT6uOoUDIzJA': 1,\n             '6s7yCrmECoxPAW7nTH-apg': 1,\n             'lZVvRhijspjwbmWp4jJzbQ': 1,\n             '1ftAqhyis48HD9SkMVl0Eg': 1,\n             'j2K8zOPlKv8feRY3fv6-uA': 1,\n             'ecI8jn7R7H2jL7na6NexFA': 1,\n             '2b__8H3t01ahfcbxSKbbMA': 1,\n             'pSZ4skWYbFILj_FU-kz18g': 1,\n             'qOnyUN-1qVhVNJXTsu-Y0g': 1,\n             'FvTPQXaEdJWo71PnrOJCUw': 1,\n             'dGjL_ZxyYb8vHZfJWdw9iA': 1,\n             'ZXg65ayKrgpsC_0fM5jMyg': 1,\n             'pyM0KFPdDeeMgWY-FN47KQ': 1,\n             'SKt4tM6NBZaVQb6t5kGjWA': 1,\n             'KNfsNlYv_eAPg7_BMwXkuQ': 1,\n             'Oia-SCV3mlBN2_2TbKD8WQ': 1,\n             'dj9GyEPbin8sfEH5lQ7zsg': 1,\n             '6z4m8oXF7pOfy6PDIO7cgA': 1,\n             'NrKR0ggl3lhRjEW_3GL1jw': 1,\n             'Y0Avayo3n-PRKkcFz_OGvw': 1,\n             '4d7AnxghNmRz61DKzTet4Q': 1,\n             'cYWWv3CDEsFCUhpp-Ufpog': 1,\n             'causECUup3qdSiXbtF73JA': 1,\n             'LIyPXqtrZjgzj_JosDf8wA': 1,\n             'edldtTH0jplctVBMRXesWw': 1,\n             '-j1nTCGcWnrbB-pplO_53A': 1,\n             'hwjhl_JEiN5QY6plRFiMNg': 1,\n             'KhYdYYHI1139lVmbBXknIQ': 1,\n             'KVuaytX7fUm2inJhzCkFeg': 1,\n             'jqce89T6ctPu9c6JQt5evA': 1,\n             'uuwTIguE4Z6zRW5rTtQ8uQ': 1,\n             'SGDYsUlDGWJ4A3MzHdqXfA': 1,\n             '0CuASp33Wb06xx6F4Svfpw': 1,\n             '0WdNR7eexe1AWORkdlbSkw': 1,\n             '8p26_ektywuujX9_mz197A': 1,\n             'CjZ4gxn1jZMKyICTNeTfGQ': 1,\n             'g1uE7oRZs17GmdFt0Vz7bg': 1,\n             'eDgIj1-VR_sD34EMRsJfXg': 1,\n             'wvKJcq7gbNzZy_Ozs649tA': 1,\n             'nPAQb0AryEmfMui071XsFQ': 1,\n             'hnPCRoqJWQInHbIZ8OvXXQ': 1,\n             'VUA9kb4xy-TxDjMWqaz_fg': 1,\n             'C7TZsVXPopG8zfHEnuTTBQ': 1,\n             'C5ASVDd1mZARxaW_gdhmYw': 1,\n             '9Ez59g_BqCrPt2xhT7J_CQ': 1,\n             'F7APdabNAZgSNQdK6tQfNw': 1,\n             'ahDxPzmaQuSOQtQMvZryZw': 1,\n             'KNFiRGJB4qCt2-rhVd7y-g': 1,\n             '771161mu57uBRYpyvzLdoA': 1,\n             '-A9XLdzSSZz6jxJSu_CBNQ': 1,\n             'GMjebwMhj-Y0GB2ymZQwIw': 1,\n             '1p5VqAJl7gqnFdOdQbDTDQ': 1,\n             'sr9o4WloJ09rg30u-6Bo6w': 1,\n             'vJJ-zZ5YeJvAFnJfxwRZdg': 1,\n             'DnvwQSrPq7-L3_AK4M6Ssw': 1,\n             'Xk3sUeTUXSqTPc2QJ2dmQA': 1,\n             'DTpPuJEDKU5dB7hrxVkjpg': 1,\n             'jWVud8zeSGeI2sdrHsAI-A': 1,\n             '3R1sD6XfPr4UYNQOnYWUVA': 1,\n             'QuyI5H63xEocElE9DHLyzA': 1,\n             'm4W3BLqpksOTZp8g8N5lIw': 1,\n             'uakgnobaGjhvmLYEghb3cA': 1,\n             'wapy-vBG7gB-VD8JioAJ6w': 1,\n             'DFe-jwTEtbV7sgAVkw7DaA': 1,\n             'WiDdFLaO4SON2e3UYjnD1w': 1,\n             'yURQWTGZsN4LkPEfgigDpw': 1,\n             'wbhFSyNczXpB45XjznZ8sw': 1,\n             'hH9WBhHXdKzjN9PUQqBvvw': 1,\n             'dpgoJy36yQXR97DkLfazLQ': 1,\n             'xh9AYpx-pch5vE_z5xllQQ': 1,\n             'HaMw_HCRGanSk_gLq5QsUg': 1,\n             'fG0WujElSjYKItznIz0p5g': 1,\n             'vV_2C5DOAAHRpjgeTKZzDg': 1,\n             'P62F45i8FUK9mJbx0EaWpg': 1,\n             'qQvY-zRbTloCHeZwmZ0PBw': 1,\n             'o8X1nsM8FJqjhH3H5xoSlw': 1,\n             'mqIuEpAM7gj3N4rmGEBtdA': 1,\n             'Mtx-u8B-XNPl32aqQUyfrw': 1,\n             'EJ8R7dfBnYY8yqCoE15KaQ': 1,\n             '6_1HiQCHz9YYG87_2xfAug': 1,\n             'UWuMOV6WI_vN3wf7avI3pA': 1,\n             'Q4sXblKYGRWJCgQ20mzWrw': 1,\n             'PhFdgxUjzBVQc95PaIeLlQ': 1,\n             'adJpLgEmA4sL9fgLUXzU1A': 1,\n             'ItgN1TnyGa2CoH4UX_i-aQ': 1,\n             'hyj9MLPiFjXkoX1DDsz0ag': 1,\n             'z3RQmA__gPzBJfztL2cXOQ': 1,\n             '8yLwhAEkwEY9ZlQh9GRH6Q': 1,\n             'GbD0DFH_8TpP3oUvp19TkQ': 1,\n             'g0Zm1zmFb3gyX0nCIKu_4Q': 1,\n             'uqRzVw6dqVVPpqqWr23csw': 1,\n             'AM8-XYNvpSgjK370IvqezA': 1,\n             '7cS-gpsvpL4J0XOQYanasQ': 1,\n             'LUIu2AXq2H1MgLHt2hg8Uw': 1,\n             'MdMCmFwK1QNEsq-1Q8nwsg': 1,\n             'B4GclFaVa270QoWbE2o5jA': 1,\n             '28PkRyffxyRoygbCzF0ucQ': 1,\n             'WU7NJ-YfRDdsIpNtKjaDcg': 1,\n             't_3iEmWuPM-mor7O66feTg': 1,\n             '3DHBwNBovXjP_CTveTRMjw': 1,\n             'zpoWOz8-j0fSf6OV5oei3Q': 1,\n             'WkdnqoA_BkwJNmZbSYKvlw': 1,\n             'y0Vuw6B95tQkzKfPsX_xYg': 1,\n             'EI-N2I90cOryjwzv8oawgQ': 1,\n             'sXEDcyW98JiuuJbVBXj6Zg': 1,\n             'BycqtTLgl7A7TsU4HXm4lg': 1,\n             'dXK6VQYIB2ldjZUpg2CIfg': 1,\n             'HDryBEF4q9ykujvw6IZt1Q': 1,\n             '9yO1OaTLhLXwrCnjr2QGpw': 1,\n             'YZfwfnGC5pU_xAwAoIzT5A': 1,\n             'ebCYZh5zMkqz71YTKzW_Gw': 1,\n             'hTK1EM2t2RIPl3-fkiQ7BA': 1,\n             'eFVz6LlwcmHxYNIxQySqhg': 1,\n             'vF0mtFjLgShKVFNYnupN4g': 1,\n             'domErY-asqrD9MHdrKL7BQ': 1,\n             'O8azqhdlndLXId-0VOknMA': 1,\n             'o0nDoEIM881Y1BMe76ujbg': 1,\n             'UwKaKzYx5lAANdfZgIEiYw': 1,\n             'OgWCV-vO541MaIoWxPE_Gg': 1,\n             'gnJNBtAS91xKYvMEAo4AQA': 1,\n             'XY1aB4HKc0WfJ79KWVDxRw': 1,\n             'vgHuTGS938EdD3eGstyzDg': 1,\n             'Pl7Zo0YrZ19od9zrHgOufg': 1,\n             'QmMEqXKndpUdwP3Wy-2XeA': 1,\n             'xgEqOHxGUICtYHYvII9I2A': 1,\n             'T7MmxhqTdlEi0Tk7e5QAFw': 1,\n             'g4_bM240cKocAh0QYXpaRQ': 1,\n             'ctNPDp2GmpGqtUfmYTqMZQ': 1,\n             'x3So8RLo5mPhHjNqAXtHyQ': 1,\n             '86Od9Dzu3S27Sd1EzTBCWA': 1,\n             'Y70DvVEJXmdK_dOY-Mpv8w': 1,\n             'WyKxXx_HkGHcFrDFIGYzzg': 1,\n             'mUhJsW7rNOGYgRlkndp_TA': 1,\n             '1_pwoHx0CjDwfSAI7jRpzQ': 1,\n             'r_KfEeC1UeLH9eznHm5agw': 1,\n             '5dqdqRSVSphX07JX3cXdOg': 1,\n             'TvFLyruVAzpfFvQOySPbCg': 1,\n             'IgVGFf0yXqIBL3PbX3IpRg': 1,\n             'oLIWM3fp1zCwAKL6iTWuHg': 1,\n             'V43xnE_4aljs8ngR-sS8tg': 1,\n             'mEw5YHWns24YVjD7q_njKg': 1,\n             'iFYiHJOJBXfrE1yKpMDRTg': 1,\n             'xcMKijqVimPbRXrt64vpNw': 1,\n             'vRQN0gys_e5unSa4SZbTKQ': 1,\n             'cgnGQ4Uf67AVEzzM9h1iuA': 1,\n             'hEQHM8Lhqjv87hOSNyvGaA': 1,\n             'ogK0HqngJwop2TRQ8AtqIA': 1,\n             'j1ob4iyJRTmR8S-6KzUvUw': 1,\n             'nqCHjM54Fp9qJQiHIWL5Aw': 1,\n             'PjuJcYd5ZqvbF3bWFJS1Hg': 1,\n             '5BSHmi2brL0RceXrObzvvw': 1,\n             'vEfYYp3w8I3VcWLwvQGbDg': 1,\n             'dSzjfLE2oQMirGphsI3upw': 1,\n             '37h97w6xhfcOfh2UpInT2w': 1,\n             'hD3x5wJnoiTyWjVgQx4QIw': 1,\n             'ONCx_W0FN4LMi2TAIlRjOA': 1,\n             'wG169QHQ_2Od97xbdlR0hw': 1,\n             'Od9RoT3qdf0ZPkJZOAiJ4A': 1,\n             '0Rl5Z2j-NF3ssD6j9UdUtA': 1,\n             'hI7xH3DeXUr-u0oU3zFSNQ': 1,\n             'AuoDnzlfeCY0bNx4XArcDg': 1,\n             'TrJrAKvptcGoIeFITlpxhA': 1,\n             'VCM34NicB73IexgAL8S2uQ': 1,\n             'SGTeNZ1bOqZoKxVZ5Ro5KQ': 1,\n             'Gxi_dhn8kDMQyJ-NkatwBA': 1,\n             'x8foUoyriWKTx6EioxxBQA': 1,\n             'vAlONopcrghjt3YZWyfW9Q': 1,\n             'WfE7vQSZbOwIU6LZagPTqg': 1,\n             'ybBc03ZeekmS531cBNYtvw': 1,\n             'IO4j-anlyCWGwDWS30zvzw': 1,\n             'uDISCnS9cKdlLk2IGx5UGQ': 1,\n             'B3ZTRoeYb5cuWtmAuJ0Svg': 1,\n             'QCuZY0CtRXdqw0bZq5XmuA': 1,\n             'pBX6N_OGHAAEGtiYmfvmeQ': 1,\n             'hrVmiK2qnjB38cBhKCbMjg': 1,\n             'd91JuwrO2FIOQj9YPmSRrw': 1,\n             'aXgLhPQqBclCZulOTCcXLw': 1,\n             '_Pm4KCc6K5jVImaQMzhqqw': 1,\n             'OTLu5yYmBapCTjlVcLxzYA': 1,\n             'hcbNpjKSqYyzWmZHIrpmAg': 1,\n             'NoFJRjJj1Om0IsVm75qxpw': 1,\n             'APMEQ2XG2-JikONatg1wnw': 1,\n             '59e2GVbqutljADTEqhM8Fg': 1,\n             'TT10Ye6UQIR5pDLRcx2FOQ': 1,\n             'se9CMJmRb7bwHAFW2U4ciA': 1,\n             'Xuzs7sS2BWkA4eLPTRXk-A': 1,\n             'c_5A_J0IHF55q5idL0krTw': 1,\n             'buBijV6J4u5unMv6HY6PtA': 1,\n             '04lfzo5goZCm0-Ib8mXtxw': 1,\n             'vdfgLlg2dN8vSVqV8QkvhA': 1,\n             'BvNgfbu-DUqSNXduIc5XXQ': 1,\n             'BFR9rPdjczs2iWWtPTqeyQ': 1,\n             'O5XR1ivP0oAkQZynKP0Kdw': 1,\n             'GiWlzCJCJrorMXWjFAUj8g': 1,\n             'iIFJ9Ym1eWYHDK3NEChXZQ': 1,\n             'EzkmXTlCYeWTzILDRiiw2Q': 1,\n             '3LRAKAsIwid-S45hODyorg': 1,\n             'bbdrnXCncXbNeJgCpm2KEA': 1,\n             'ZUQ8RLd9KiUYhN8aKR693A': 1,\n             'lZWUvpGmagxho0espMw0oA': 1,\n             'EpGWb0NfMNw9oOJuz0uBOQ': 1,\n             '98aeiOgY_CS-uy5BLOYKzQ': 1,\n             '44lTmlQ-Yi9HGXgOwXZHLw': 1,\n             'INz1IwoPM7SzF4SmQrxErw': 1,\n             'gnTU4wo0yMR9awgnxCzZ_Q': 1,\n             'VxUuMNnCqgA8zK4F0TYHMg': 1,\n             'w0YPNwGofPGUEIlsQSRx0Q': 1,\n             'Ivgt-TiuKjalE1CyDPwNng': 1,\n             'yhCT1MPIs12fqIXP2W-Fxg': 1,\n             'IDZSvm3oXB36-Wp9ye5f4A': 1,\n             'wDqmM0lAnvNgpi0lOHuKhg': 1,\n             'qKgX2xN-Z7EkQShMILNE4g': 1,\n             '07Guh4uw8y_gFh5odNI6Xg': 1,\n             'slbDWvhxSIcrKevvkzby0Q': 1,\n             '6rUhCa4FeTdtiq64TTl-eA': 1,\n             'DS1rhV6lsuchkQ17JDQTVg': 1,\n             'YMmLp2FqoL06unoZWTuxvw': 1,\n             'XVJ_mswc75YdiU_RH0KtLw': 1,\n             'hJo8Psgr1OGMXewOpCtmjQ': 1,\n             'nD0wxoXe1aj6_bAnKANYFg': 1,\n             'A25tAKQXxGGrOYxZqNSuZA': 1,\n             'c48PXUg7d59aSbWFz1ILYA': 1,\n             'LJum7IhE0OenolCzMJMzpA': 1,\n             'H-aHpLT6Gd2bOnecUvBXDA': 1,\n             'wCadUGX5d47RWmKTO9XXvg': 1,\n             'gLVmGBZXGWCNcIB2RisxQg': 1,\n             'P4fTJ-il1fgIbHHsgJcHzA': 1,\n             '_qkU0TQZvRuAX_RgfAWEag': 1,\n             'j5GXFMfXD4K3aSJ6KVx0yQ': 1,\n             'epqFKH8oO6iIfrwiHJ_tYg': 1,\n             '6bEE4lYHyWXfCuBjrFzyHg': 1,\n             'uQ9GUSouqumbuoKJQm9HrQ': 1,\n             'Nr6ZqkSshwqmCOuyyQyVhg': 1,\n             'ncLsyaBU4YWPZa97Lnk5JQ': 1,\n             'Aj03cSLt2SDQ94_UzyNCZQ': 1,\n             'mgZMlLYp089mc-26uahTGQ': 1,\n             'uVXg3200b1RQ5y8CxxXhLQ': 1,\n             'ciK1nm2c9LVYHCpzlwLl1Q': 1,\n             '2t9B6wJNufvIRgDegKc8hw': 1,\n             '2UoGzBQ9kDUPtYBbC8QIvw': 1,\n             'JTsUTpi9i0To6rmRT3aMGQ': 1,\n             'JG63TrPvTuHoNZsTxzel4g': 1,\n             'VK9cmVDDSj8Px-3JyomVsA': 1,\n             'yFONJKKK_5hwmqRSHVMH7w': 1,\n             'a6GYE2k4fmd804Na34WQHw': 1,\n             'nwmPLN1IJLElX4eb08Q4dw': 1,\n             'bWK_PpcqkBLoyc9mrWz8Tw': 1,\n             'D5Pb2GllLYcqhKqbzSOvrg': 1,\n             'mAvfW4pBzaAoHRotLHyrbQ': 1,\n             '30A-7cL54xEpjShaj-GqmA': 1,\n             'Hiq56qJ0uYQjYGTyMgl5XQ': 1,\n             'Ko6rVqJ13tAe_Z_bvXD8nQ': 1,\n             'cbnUBYuQXojCBtPM32kPXw': 1,\n             '5GXhPuORduxco4vkTJCCrw': 1,\n             '4zFjLNhRL_01pBqpTMsUsQ': 1,\n             'cQcq2FtJAdmRTFchL2wj-Q': 1,\n             'WnXuSo6DXCUhtrjI4I2SSQ': 1,\n             'pRLiVVzvKa2Y74f5T4rVoQ': 1,\n             'htw8L8vbqmP7xOaeb6M_qg': 1,\n             'O_jEARujD2SdR0pRnnaShw': 1,\n             'EhEQGe9v1UnBY-R1VyDSZA': 1,\n             'cxfnvKroQCeLFg53R3D8zQ': 1,\n             'dWhzWZWbneJO_7rRQDXbng': 1,\n             'klXqxvCr2RpQIV7Q5KaROg': 1,\n             'SPInhDaKzqI4uM8YnPgoAw': 1,\n             'jgZqHpJPQ3nrwaBV4KUxpg': 1,\n             'QwYS2x7EMc-nH-Qx5cLYtQ': 1,\n             'UKGy6rs_-aYGbUPYhYZ_Sg': 1,\n             '_I6AVw5Ua0RDv7z3atuuiQ': 1,\n             '9cA0P_u9CUH_Fwx0uoEdaQ': 1,\n             'TurlX2gpVq-E29a_HZgO7Q': 1,\n             '1brjscMdxPvbmnRvz-PuSg': 1,\n             'lBFUXNg8G49CQxArRSWaWQ': 1,\n             'yRLJXOi_AMTv8lEIn2qu0w': 1,\n             'zUZiktaAZQbUpUji1jNwfA': 1,\n             'G4QfvNnxinIHhEMSOxVW5g': 1,\n             'IJvEeSbToqkdNsADOAyk9g': 1,\n             'brfcUbM9XZjpGNyHAQHcZw': 1,\n             'nHKh_VORqLay39W1IhshRg': 1,\n             'i1p_K_IgXbVIchimZ4s_KQ': 1,\n             '-PQfu2iT40k1KmD8b37CbA': 1,\n             '1GKNQ94ililT75dDtl_zRg': 1,\n             'jp_LM5DHbNVoRLiUdcZadA': 1,\n             'BkfmYeHaUR7x005quPNK4A': 1,\n             'KrvxrX9J-HIpEv9Prj-s-w': 1,\n             'TDU2jQWzsPzNpvOISE8k2w': 1,\n             'rz4wYd6YWXTI7GNq3UX_mQ': 1,\n             'JU_AVrFMYFyNpjSVNDv-fw': 1,\n             'TGSujnCT6lyqsE2f2Y5BtA': 1,\n             'rckjlNAtlvx0vxJeWtGNoA': 1,\n             'hYHVSN4ShBxczyw9l_lU_Q': 1,\n             'FV0wHkmITa06eIwbT3ESOg': 1,\n             'PupvZeid425S6M3QYnDjGQ': 1,\n             'JBmHg03S9qcoFgXngI7DCA': 1,\n             'yjvpu8mwJ6HcIg04W6FMyA': 1,\n             '6MxF9oSecTyUoBV6ZyUTIQ': 1,\n             'yOuMjuYCPFgx4jF5rZuvbw': 1,\n             'F-XTJQqmZCB4kTAA9qvsdw': 1,\n             'zaj61lomCat0_ahFUMZlyg': 1,\n             'p08YHZPkGtuLT8RePAxu-Q': 1,\n             'ahrY8ODPZpGA5jfJbf026A': 1,\n             'Qm1cTKu2IxT4JYJBvCBgEg': 1,\n             'RwRWvHGpn7TDyZM1CWGb8A': 1,\n             '3lBTWeYyW8WH7J49iYB83g': 1,\n             '1NopA2QpBLdTehaQ_xmAPA': 1,\n             'vjue9HnZqYiRI3g51-PpJQ': 1,\n             'MipgpPOJBb1Cp0h865BoEw': 1,\n             'LSKqYukv02XDHQH32TLSFA': 1,\n             'IB4-KFbna8pBf-flZ4fbLQ': 1,\n             'rr7DmMYHHxXWBZyXewhwPg': 1,\n             'KCTw5EIgczpMGx8TgZiUWw': 1,\n             'dAyAXI31R7-BBfmxpkNYpw': 1,\n             'MgJiR_tbQ-y38HO_f4mgAQ': 1,\n             'MLykE0gwSC6axybQVPjzcA': 1,\n             'E1W-QH9P25IC7mUB-EoCCg': 1,\n             'H9kwScgfJwMrGBmpW0-qUA': 1,\n             'ZKw9M6KVwfQOTZzdDy0NZw': 1,\n             'yXO72Pgg07hbMAELm4D6tw': 1,\n             'OzTUvDaLfp23ueDgc28Efg': 1,\n             'vo4YEPgLRNczwKpCkUNI1g': 1,\n             '7e4VLQmFBF1z1utcdN8X5g': 1,\n             'uACLy7ETwsGVUduxKf9QTQ': 1,\n             '_C0H0nSy10QIQzkamtRgOg': 1,\n             'Mbt3UORTwP2eKJqHEXUTfQ': 1,\n             'VnmY8GKtCxAoOSBtLPxNmw': 1,\n             'nEmwvSRK9y7q67I281uLVg': 1,\n             'CK3xmrnEkewu0Itlujyz-w': 1,\n             'Mqhif0PpCnbDj2vu02vjog': 1,\n             'tbbNiAYN7WFRFoQk8LzBUg': 1,\n             '5bJLE4fQIr0x1ZxMLZr7AA': 1,\n             'bDdNFHCuhS3fzC5BrCnZyw': 1,\n             'auEvf0vAWuGaXSJFRGobaw': 1,\n             'aU-MBKCzTu_Y6FRYl1R2DA': 1,\n             'njon2fa3Kd3QACLzid7sLg': 1,\n             'KtQNk4tHMJISoNVgJktHcg': 1,\n             '88dmh7MGiBJS3naap2EBVA': 1,\n             'rcYPEqjA5lqYKg3mmPOwpQ': 1,\n             'wJ_CytG6WEFlacOV9TY5Wg': 1,\n             '6Yi_NeAHxmY4V811F4q6YA': 1,\n             'rB9J7erAT5CWyOJ4LHoyCA': 1,\n             'kL4dlWg-3TFBlvUbeanrLg': 1,\n             'B9_GotHZ52EEzsdttoSHhA': 1,\n             '0_lB9-QGUdCPO2cm2Vjopg': 1,\n             'zJAXUCURgYCgViFUq81jLg': 1,\n             'LKcWwm-2-cmtMs94slPxPg': 1,\n             '-2llM5TJr09jUedkLoGbVg': 1,\n             'RsQYDw1_X6zu0awwXyxWSA': 1,\n             'jwDXEolatLe1lnb5423tjg': 1,\n             'ludQ9Xiz7IcPsH5Kbr6OcQ': 1,\n             'A5CLWUlqTlFv58HHWVUGvA': 1,\n             'Xpt-UmAi_ICxilxyDvflOw': 1,\n             'n4AbmJCcjxvAhtOb9fWqPw': 1,\n             '1VKjb8BC62rdhKvlUf7yVw': 1,\n             'GwZ62UxkQGfr5e1WUZ0k6A': 1,\n             'iSxp6TUYyodPb58lTRE1Fw': 1,\n             'CilhnRDLtu627pSs0NRamw': 1,\n             'uW3dmUozClAK4DNaaLKQQA': 1,\n             'nB_XsBDhLbQlMPX1e-rcpQ': 1,\n             'oIISARIyxAaZAbjv4pYhbw': 1,\n             'Bqbo_2cSETRLQjxdV-briQ': 1,\n             '7MZDr1sNPsXjg3-ckLjbAA': 1,\n             'prMAyH27vwTYcdcADIMvhg': 1,\n             'iDE4koWrESvhNHoVvElQFA': 1,\n             'nxAexobUSDwz-Cgkb7xr_w': 1,\n             'nKpIfyDKwoJ9HTLHRKY5IA': 1,\n             'zr-PypZO-NRo8Qn9qI4b_g': 1,\n             'zKKs-SRkPmq4Xjha-pd3iw': 1,\n             'GkHUP_NLaclMXtDdx0dqow': 1,\n             'Giyy35rP7xP1HZAjTyhMIQ': 1,\n             'w-wEzpMUhHiiuv-DsweHKw': 1,\n             'YIerG1DHMXpiHRJXJ6Mbjw': 1,\n             '7akbHjSqVCSN-M_brf0pvw': 1,\n             '6sULQYa64yoF0gS6JxvPpA': 1,\n             'IvtMSqwiRAkZvYdALRhR8g': 1,\n             '0kxLf1R2k-IvVEQWqGIRFA': 1,\n             '1gHaN2L-qQzZXeU0Kcs_aw': 1,\n             'W5rB5oU3nDi55AvSLubBxQ': 1,\n             '3Yfvvc74tU7YlmhlRrUZlg': 1,\n             'Vm_qJS2kD4_U9XM31NZt7g': 1,\n             '6mQazFhFcATSteGHQczFHQ': 1,\n             '1NM_d5F53UqhXSbyaYaMGg': 1,\n             'hYrMilOZ8xfe8d9MDW483g': 1,\n             'FbuW0P0_z9X7NkgVyILVhw': 1,\n             'POMziaOnhnvAZ_yQkmAp-Q': 1,\n             'XxFw5xvyVAdx4Qvs9luGOA': 1,\n             'IQOBAZpjmc2BTCZ_E4SUEA': 1,\n             'ryWOpTDUPVMLpBkdIuTtcg': 1,\n             'y6BOPRvAuH190pqM2d-9fw': 1,\n             'Dy8BVSkF2VfqGmjb-x56UQ': 1,\n             '7m61uDasZl1Rzi8IXg9-MA': 1,\n             'vYVOKHL5W1kXQ5qvv3L8ow': 1,\n             'nSXrsyx2qsW9-MT0cSAUfA': 1,\n             'sI7s4etMnVcb1hq1pF363A': 1,\n             '4R1kC0H_O2obG4reluJ8yg': 1,\n             'Pj-C6PLK_NY0K8Pqh2y0Rg': 1,\n             'ryigrGD2KV9UWyiWjH6Ynw': 1,\n             'j4MUJTg1bw7BnMMpalWIwA': 1,\n             'WXaQDNdtTNXykmce_jxU2A': 1,\n             'MnUmzCPYcNeX3QV5-UlWmg': 1,\n             'vc5ijoji2PdQqF7FQN_KpA': 1,\n             'G_NjxY-XqLKFD3qXIdQB-w': 1,\n             'tX3P0XgH2rR5oagAJ4-OrQ': 1,\n             'VdqQGXGdgVXOIhVlQirr9g': 1,\n             'qRQsXGyFskQidWP3AaMA0A': 1,\n             'IjOKgCG9oi6Cjy5-tZ2fYg': 1,\n             'WW-t_DXE6Vijn3FhATaqog': 1,\n             'y65UwNjJsLHqsv1Hfu-CkQ': 1,\n             '8vrALjtCXhm1gRQMBxoegQ': 1,\n             'd7Rt41ndGEidDo42xIdFGg': 1,\n             'XyvlIQKyG3dqTzmXJACNqw': 1,\n             'zcClGe1vlS5S3ra7lP1nvQ': 1,\n             'CZBuuz6xOSq6nnljNmvJuw': 1,\n             'KjwnnyQ-bStDKX2YwUusww': 1,\n             'v_H_4KqjbJjZP5OfNqicBg': 1,\n             'Kh0QdOcdNU3qbI5EGjDe4g': 1,\n             '-703WcbbBaXpT1JrtZ3SmA': 1,\n             'vTVLgZdM2TeFjHy03fBk0A': 1,\n             'jIOdnGT6Zh76XxNR7jwLJw': 1,\n             'igxTqe07Xt5lAKWxi8IpQQ': 1,\n             'ln8rGDC2XBJPM8Nw7zY7ug': 1,\n             '4qoWNhcQgTfu2RcC67Qxlw': 1,\n             '4aUEgriYDEPAsb7l-LyYRg': 1,\n             '_kDe7JiLNENQ9SoJMGWLmg': 1,\n             'y9eUIbNd-kqZqMCmO-FalA': 1,\n             'E0fDUMKNJKqXnEoTTnbNpQ': 1,\n             'NqJvjLAo_UMeqdl4gooNWg': 1,\n             'fmT_5GBOJR03N8L_-vDbYQ': 1,\n             'pmqEwn330slrGNSYoeI9NQ': 1,\n             'j4vopk6YQ0TAmGhbUjIUaw': 1,\n             'P-CRYltpvp4aABRctIZWtg': 1,\n             'v83aNfp75vXDYbPe431zbw': 1,\n             '6acTqQCKuBkDrlWfv0qrTw': 1,\n             '89aEyJieb8chJa7I8cVffA': 1,\n             '5EtBP0dA9SyWapcFhdooOQ': 1,\n             'JacQo2YkmQYYItbN0GbeQg': 1,\n             'hERveljm9wyUJfZpB8tCEQ': 1,\n             'zMmOYfTK_zE1L5nfzXcNFA': 1,\n             'IPdFc7IFMvPguZQE5jC3Sg': 1,\n             'uC78iSePi0Psr5zKLWkXsQ': 1,\n             'yhnt0e23a_CEELzSuUtigw': 1,\n             'ANyTVCp2l4nmvYwVfrihJg': 1,\n             'D6kcF0V3Uip24ihYD2vEfg': 1,\n             'wn0AB0mKhFo91iBj_VPL2w': 1,\n             'VIHrmgVurMjBnvixIftHQg': 1,\n             'GRoENNGnTgJG6zM5a9G-IA': 1,\n             'QYZWXG0oI9-ze9KA_nEqlQ': 1,\n             '_HQuk5Uc7QEB6JRrkFaV9w': 1,\n             'fqtSlnBmb0WPLrr7YDkg9A': 1,\n             'KFQeNAjj0J_VxXu_CCkMmg': 1,\n             'v-v_4qTRlywBvQzYZF085w': 1,\n             'h8NVshzGqSNmELmvBbsYHg': 1,\n             'BGBuZAbxvlJKhGGarck2sg': 1,\n             'l3bxT5niRoN4Y2CoiVnfqw': 1,\n             'aaiJHK2aM74HrXLlJxtx6w': 1,\n             '0TFmn96_ELsg6svBv1s3cg': 1,\n             'qiOBEmhFtpiJLo_yXxJdGA': 1,\n             'UOUcJEg4oB3vmzT9vX245g': 1,\n             'mDreY4pskGBswNt9y4LaGw': 1,\n             '2_NL-lRFsuRpLeP1XQSzbQ': 1,\n             '-xyggdVWZT3pS3cjmuaniw': 1,\n             'ON3VuUXCOpQ97P8ov_P4og': 1,\n             'Tpd0naGs3oKK5DMFpO0q6g': 1,\n             'Ya1oyQ67EGh6hqtkSiXj1g': 1,\n             '32umOpPJP7Zegncgg5LKKQ': 1,\n             'rDCaEltSt6Y9fviySMe10Q': 1,\n             '5BdJW7OB9zVoqfOTclukXg': 1,\n             'CvucZmEx9M_oCfwtm_n-zg': 1,\n             '6cBGQhgACLjOa4sRIHuTqQ': 1,\n             'fVjTvv4PdS5MZe_denWCyA': 1,\n             'r4LaHY8YjNws3OJmqUEG0g': 1,\n             'NLfhjtTDCxUoykKVDboRpQ': 1,\n             '_ezxkttnWvglS3NLrgCuZw': 1,\n             '1SxpVr9m6s2T9KMazXieeA': 1,\n             '8OpxYe_sjSFnC52eFbUkDw': 1,\n             '2fCO_G45veR-zJtCnok0pw': 1,\n             'KXZ-lC8WpscMoM3PsbvPuQ': 1,\n             'o_P4NkYB-GQLoKnIDLHpww': 1,\n             'v0eVt7FdJhZHKfaB4LcWPA': 1,\n             'Ym9yW0gjzcy6DqW2VGXsDg': 1,\n             'iXfbDABrO6wIrtXyuod7Og': 1,\n             'ACStHDDajE6_fg86daMU1w': 1,\n             'AMHyOPiACT5wGkcELoS2cA': 1,\n             'j2kOz-DUphMcQtCt9WbAVw': 1,\n             '0BEUVHWVu7cGCS5cwb8y0Q': 1,\n             'Csd_7mPPhBtQrKkM9Kr3Fg': 1,\n             'pzzO83Z4B2mknfzKBLjvcQ': 1,\n             '9GaM_kwQ0d_3YuPHx6OSXA': 1,\n             'KtzykbWJRptizCro1SacHg': 1,\n             'cWiASyPsFciJuOF9pyxZiA': 1,\n             'KHHj2bh1ADvtQmhYUDSfVQ': 1,\n             's01TLztZv0AebihCQa8DDw': 1,\n             'bXKAoJEUNZGdIHuDNPdhEw': 1,\n             'N4_vU58CsxCuvb77VxEe8w': 1,\n             'BVR-13IJTN29ivKmW8psPA': 1,\n             'v-cIVu2yAtyBIx5PhnAUaw': 1,\n             'jDhmuF0wggTDLJxl3d2Ofw': 1,\n             'zByaNXg_TUzB_bxavzUJkw': 1,\n             'dE5H-GDx9fkMN7FuA5yhvQ': 1,\n             '4EIYka0L2YRGqTVcCaNLcw': 1,\n             'yC349C1F2bUJ19uPMg9XlA': 1,\n             '8yj6bLmgxjZ42rb67CKM1Q': 1,\n             '7Mn4rj4Gn0Mq_eBHHEZS1g': 1,\n             'Tc_yv6zmCH1X-_VK0CPYYA': 1,\n             '0BeNDN2efF3R2PO80q3xcw': 1,\n             'TJxmT_YHHC9dUtFXf0sSXg': 1,\n             'jTbM8h3b1tMCjXuyHgla1g': 1,\n             'WM2bzd11p8tynAjAoUzBxg': 1,\n             'GctFcTIkrmCYFZYxlSLGFg': 1,\n             'skHTYz9vqspccb53vFYxuQ': 1,\n             'Ko3PxPcokUXLRJu23nD20g': 1,\n             'Tuqf7_aqyaBwWVFOiGHSNg': 1,\n             'Rjd5bfZ6qc8118-Bamriig': 1,\n             'oCLlNZorPj3yy06wcVGBPw': 1,\n             'gXo9OaEtLunKgn0pEa4JWg': 1,\n             'wuGbBVNS1aeMoNvXRCPhxw': 1,\n             'SPlY26fp5OPpaAsmNkQjwA': 1,\n             'tyG2Jcoak1Xs15GuybazMg': 1,\n             'YpaqhPNqkrq6uWyo6kYA2Q': 1,\n             'qVVE1rHWcWmkSuGfrVxMMg': 1,\n             'Brz-DSLa9nYQU8gtbrjG8A': 1,\n             'Oc-NN2pMb8UNS8yXigMG2g': 1,\n             'VQJW7lRNLyHsN8ZShwKo4w': 1,\n             'DSWWBr2yo8AqyKimMgPa-Q': 1,\n             'NUPmx3PTVsilFzOG_H5W2w': 1,\n             'iKjXCVFGnc89HwDUvUTq1Q': 1,\n             'jxzg8EsdOvrgeBIHfKXEEg': 1,\n             'W73hSdgohnskD9xK-qU7ZQ': 1,\n             'y8nSirATnJGpaEQFO5hfbg': 1,\n             'y8PLUrZkuj9YYnpzTKmA1w': 1,\n             '2vQicdZqyqXoy04VeoN_4Q': 1,\n             '7Sm3S7qNT66Rl91Uy52fvQ': 1,\n             '9to7LLsc2FgUAvTw0uBkNw': 1,\n             'WlsNcLecBow_E7SBimZ5OQ': 1,\n             'elYNDTshuFd-FX-a7lKMGg': 1,\n             'jPVYZXiAeIUYS9rBhtiLZw': 1,\n             '8clWMjgzW0aG1GGGILbwaw': 1,\n             'IQn2ZGYOTUBz5IL7NcYxdA': 1,\n             'yHheT_o1iYFB-Haww7GXSQ': 1,\n             'dPraMeEMe9jKitfDOY06DA': 1,\n             'bxnBK5ySB3w_aqi6QKu2Hw': 1,\n             'VdhY9QVlboo6wiO4_SsMRA': 1,\n             '-DmR5smKBSo16D-t_90Cdg': 1,\n             'tYPzpJrmz29VbV_Y-vQIog': 1,\n             'p5IwETr9qBBRhQhMTDUWmg': 1,\n             'RPcaQUM_Eri_njKEwIj2HQ': 1,\n             'rRuYjtQRQ-3wm6cbxTCJHQ': 1,\n             '7gNbMS36zaTg99J0YgA-fg': 1,\n             'ya6Msb9_SkJ8t8YPsyxAQg': 1,\n             '7zXsSJVc7R7Asyx_RU4vQA': 1,\n             'tPp4VK2OI9ZqyauXUNi7QQ': 1,\n             'm2M3-z97vzWUJXHCD1uvow': 1,\n             'hBJCuB1Z2umPqQ2JwVi2Rw': 1,\n             '40DsjlvmVn1UdKTOahNlog': 1,\n             'k0sFzN0-Ccj4cs2UqeH0DQ': 1,\n             'ddA9qLlxSE6eEUmtPXR7YQ': 1,\n             'Bu1yOQ_8vgyLEPmv7u7jCA': 1,\n             'gzsD5-o0pscltCfAfgCSbQ': 1,\n             'TF5g9bjAYMhJbZ8RgKqhvQ': 1,\n             'b0xqlnHLepqnVMDOa0g3Sw': 1,\n             'RgC08sEwb0V9jFQXtX5Nqg': 1,\n             'qyDbJTWAAw6_RxYnnug2_g': 1,\n             'Idm3ENgM_MuQrIer7uvOPQ': 1,\n             '24wubzTC3Vdk68bgPL8LDA': 1,\n             'OSqcnjJmaZ-SzCNcT6cQLg': 1,\n             '6wPc_rTXiZauoxZUtuem_A': 1,\n             '_Zf4lUbYsbzWeRVgqiEPig': 1,\n             'xtoVHqFEcNUAt5bh6qRvLw': 1,\n             'qCyd8PKmG8vvAn-SlPL_6A': 1,\n             'GkWytukmvWmfpgDYBLPwng': 1,\n             'h39Wxz5wz-id6U08EGHpTA': 1,\n             '2I-MIy7Cb9OQdkavXgUDVw': 1,\n             'o6qkKxiJXVFUiRcLAmSaig': 1,\n             'JglXtwM6RkZECgfJ5eatfw': 1,\n             'lmaqFw9gzj0Ql-6cACnrSA': 1,\n             '2qL7thWpxBYj7wHATLRk2A': 1,\n             'G5Z9-zizsJaLN1QpGygYTA': 1,\n             '3_7xJn-jIYiIqXSSgeA46A': 1,\n             'GKKhoHo3GA0SFrt3KkDrzg': 1,\n             'ntOrW-6l4ELNCsOOaJUNWA': 1,\n             'l5ljhpHm7yzwjpQR2TWa-w': 1,\n             'xlGpZ54W6HxA20X_D_jtug': 1,\n             'yy4_7TcOh5ijsu2witgwAg': 1,\n             '9TGvOSpsGBMMAc6kb8zIbg': 1,\n             '-Km4mQ_EwaMgUvbXpGFbsg': 1,\n             'EA8ZzGVMAwICCwyZIslf-Q': 1,\n             'R0ZR_9Mbbr9MwszU1yUHgA': 1,\n             '37CwUkwR5z6omKpJBuP0GA': 1,\n             'VR4Dpo6fjgtIHMFUIZ7dyQ': 1,\n             'sMKcTSolvdd6lWkI-9HTrQ': 1,\n             'K4NCL4ytypcSkEmYix_VyA': 1,\n             'MzRv_VUp0tsQCLNFiTerIw': 1,\n             '-dpNp1PpdvK7EbHfiN95Cg': 1,\n             'dM6KqPliiA23BSEbV4EyOQ': 1,\n             'c9W5MtF4yv4ydH9_C280CQ': 1,\n             '7SWXQfnmXsCucRgIdFb8cA': 1,\n             'xmyI28ZkrTuAfljr9ndqXw': 1,\n             '1PVJ2Jv3XwbJQg9e18jjFA': 1,\n             '50ph9JYYNStqvoIsuEC4uw': 1,\n             'jXZLPIqmw5f7i7ee31LNWQ': 1,\n             '53RPDPTsqgzJtKt55NaQCQ': 1,\n             'k4E1XMXRxNU4fCjZvc_rxQ': 1,\n             'vqWj1k1MElIYVRo2i5nqWg': 1,\n             'yEoQkZfmnXTr0jfrAqJcRg': 1,\n             '3HvJbeFHQy__VAGfT552yA': 1,\n             'zcdsLRLVtArj-XFyxHN3nQ': 1,\n             'u8h_ZAMfS5RMtuExvUL7eA': 1,\n             'hYHgLGWieQvOCOZ-jMdYjA': 1,\n             'XQLTYZz9UnTx6LJ4303npg': 1,\n             'Wj7-D7SGRGLVQS8PksMqhw': 1,\n             'ELCJst4qOuBl9d1cp-4qbQ': 1,\n             'IFWt7gDstI17rP7S7j4P-Q': 1,\n             '_lWEUYaBc8pfdzCd53h1IQ': 1,\n             'Qza3N1RnyaVQgXXSdEYB1g': 1,\n             'zxQY3cCIBYzZbTjwIZO8xQ': 1,\n             'Gp2G8q_O12z5nAxAQVb9cA': 1,\n             'P1aMynQbxhRq8aGsqMoeXQ': 1,\n             '3Up7UtPSpwcl2mSvyc-EOg': 1,\n             'qd62cq6Zm6JriDwV4HUoxg': 1,\n             'khjgYgGMNj8y8nzGI7_B6A': 1,\n             'NjYu-qYBk4Up3t7R9qdGaw': 1,\n             'Mv6ZWELl7M5d1GCa6cDPJA': 1,\n             'lRgQJ-1ljYZjTze_A_xD-g': 1,\n             'qHRPEN2uUvTpmnd5evqToQ': 1,\n             'W9CF44bbniyaTw1AcTKEfQ': 1,\n             'pusB0-u_JDXhWUNnuvzhpg': 1,\n             '4hd_zKbHXIQmNX8pD11tkA': 1,\n             'KzcGWMHryaiQGfqzN0nYsA': 1,\n             'Tje87_agPXxODOfeScnqzg': 1,\n             '2HzTvKpLhiDxdU_N224FMg': 1,\n             'TpT1anMJ2TUn0fK0BlEUEA': 1,\n             '7oZxmGgOwrkmNl2Pyqc3lA': 1,\n             'VI234lwylv2arcB-rXjgTw': 1,\n             'bPL2hvVtaIwyDqzYI9_vnQ': 1,\n             'x_k1GP9dNy3ymwuU9lHkkQ': 1,\n             '6cJOW3nr3DkA7HZvlMdV9w': 1,\n             'nAzW3u0PN0GhFDAzjMOb9g': 1,\n             'lhlvTfKX9181dowOvpVqlg': 1,\n             'KFtBmHqC4bH3axYH8Oqcww': 1,\n             'GeHF1q3vBNMLFDkxj1TTZg': 1,\n             '7PtM2vbLoK9V-CRy2VogmQ': 1,\n             'VzgOsp31NWc3X0a-69g04A': 1,\n             'cRIoiwxpu2UsVlxGUboEUw': 1,\n             'HaomvWzugCZRDdfpuO6IJg': 1,\n             'cgnvgDfqY_32UlWLGREaRA': 1,\n             'RyXM6LXT_JCItVgLCwOIFg': 1,\n             'Wm06i_jsQddrCqsEnrCfRw': 1,\n             'Dzis5g9vK_ft12fCo74cZA': 1,\n             'weYEX1gLERkBL6VTmDg7uQ': 1,\n             'gHjxiv5H45de9_uoAzRX4g': 1,\n             'DSDQgCxerGTA9li_OyNmnA': 1,\n             'I5wZWDFYAGKr8gnbRonhFg': 1,\n             'Z547adJfyskBqr7UQ7fMXQ': 1,\n             'jjcwgeOJuFiWwNFlS0ZWCA': 1,\n             '9emJTYMhzdyOtdvk94kmig': 1,\n             'SYqFuaq4dTPCXYnVlSNnOA': 1,\n             'HHf9dwfpkU-JYgEFdFqVqA': 1,\n             'An7CkJnr1zLtTMbxBiWyhw': 1,\n             '5xPTLEnuk7DQzgc7kHs-QA': 1,\n             'koApA4IzXmTUwWtEtcaTCg': 1,\n             'EQrEgLmoMVRO2p5_YxZ5iA': 1,\n             'J_wjMZhz5AQTjf699pK72A': 1,\n             'NduZlthoaXwR14Aac1lvWw': 1,\n             '23iIiRUT-xMpPEhJIViF3Q': 1,\n             'CggQ3eRiqnAm8thWM9Y-BA': 1,\n             '88WssYGiW-vjFHpBIl5kgw': 1,\n             'sgaVx3w_kFp7g5Ue0siyFA': 1,\n             'Ii_dp89fyjmL62Zk5IuAWA': 1,\n             '6T7hLNwi58hsXooeq1mvfQ': 1,\n             '0mG2JQy5BqCRR7t0XAuXtw': 1,\n             'THTrPBdb7s5_NCDIeIB06Q': 1,\n             '58l6HTL3lRos_iyEU92yXQ': 1,\n             'a6avhXS5HySAKlVADsYBBg': 1,\n             'e3Ax4TegCNjVPKRBhjAOnQ': 1,\n             'l6OcPcFjVziQ2hS0uAStbw': 1,\n             'CTxfd3Epknto7NKad6Ah6w': 1,\n             'mRaaWyAFSwYGOT40T1-T9Q': 1,\n             'fOfbYV5E3C2xRgU_u2FI7g': 1,\n             'uWKNZSb7gqqfsvS3CRHukQ': 1,\n             'doXz1chku3znWDio4V-8jg': 1,\n             'Z534vubgGknHy143D0j_cw': 1,\n             '406LWICfOMBePUR7-wqkJw': 1,\n             'bnk8x1adsOtlOGoQPLZREA': 1,\n             'QR1A16Fc6P15MhTFTVJsEw': 1,\n             'd1x_Qcfl7sdiSzYTCL1Nmg': 1,\n             'VXmKTSD6ucuGWl27KA18CA': 1,\n             '2GdW8FXTuB7Z3QSjqR2X6g': 1,\n             'yyVWJ-1gx1gpSXwfmINeFQ': 1,\n             'tk8ztE5r3DBbpLdTDzVYXA': 1,\n             'aqylUMVn8AQyAC4JTZClDg': 1,\n             'a3ozVYcUHP721umk-rZmWg': 1,\n             'CSoOP7DsPS_sXUyE6kWMkQ': 1,\n             '2ytORfD_chMoMeDkLJq7NA': 1,\n             '3TCklYCqjK2WzFhzomJhsw': 1,\n             '2le3yqCBVoqkCRPCrQAWpw': 1,\n             'hfVJm_1U0W2s9fJubn3IbQ': 1,\n             'rHJlVoRlYgtWV5xUM7Zh7g': 1,\n             'FdWWuPMfTDD66mk-Fw6OYg': 1,\n             'RxP_FWNCf9qItziecY3IEw': 1,\n             '5-VfIWjS7-N2tXiUaCXT9Q': 1,\n             'ybx4pOT9BObK-pq2UBsaOg': 1,\n             'G2biBqHmcnWTj1VH5cc1sg': 1,\n             'qhDHczU5x7IY98SM2xGbJA': 1,\n             '-VLU00J5X8u-FFWfhegsoA': 1,\n             'gWze5rxlWbNkuktBCcg47A': 1,\n             '-7dHnF6cCgv7OMFJpCnHvQ': 1,\n             '-00bkUAlXw9Z6SB-B6SBLA': 1,\n             'qbIloax0ovv6QCxXM9lHeQ': 1,\n             'U-wiLUBsbG72py16eADW8g': 1,\n             'BWNUb7mFbXlO6E_SGiw6Gw': 1,\n             'FHNSaQRVjGt_XqyW8ztcCQ': 1,\n             '7Q7LR-8mKNuUmkYrrqKnFQ': 1,\n             'YFoFw0PFHcEvc3kE8Enz9g': 1,\n             'sz49UUqkxThrqHNT3VZePg': 1,\n             'jhQRhdTffI30vm6oyNE0tA': 1,\n             'LRsZ3bKtr2tuaqEOJswqzg': 1,\n             'JZNbWrkTZWqCYRgQef_6TA': 1,\n             'pYz4FvghAaYiI7vN8Ty-Jg': 1,\n             'Lm94DdH1ydg62ZExdNPrbA': 1,\n             '7QAuxZtCI9bQ22-kPrUopQ': 1,\n             'wWuc2a7GtKIh2FhzWQ-AfA': 1,\n             'e13c545K-B98dt8uDAvY8g': 1,\n             'JFTT6MCgEujTCarfl-Stxg': 1,\n             'hasSopTQXbZ1pX_FKYIaAw': 1,\n             'CDA-cEYaOmpWuAT39s5PCg': 1,\n             'rJ0lV2n9US0VLfEDMqdETw': 1,\n             'u9gvsrDlx0Y8ea31kZwqVw': 1,\n             'AtzzRQ8dKXT4MXbkxcD0zg': 1,\n             'U_ru9s0j4MOvHE5WTl0PrQ': 1,\n             'BrXprrZ-Dy_D3KBA8Xyo2g': 1,\n             'rrd9uIDUf4YxSr-1Vj010w': 1,\n             '9v5EavuEMk0gEZk9-Z0iug': 1,\n             'JveY3a0ENnw1Yg1bAclnHQ': 1,\n             '6RD5zGurRuQYSLnWpF5nTg': 1,\n             'O0of7FAQt0g3Q1mv2Dbb_A': 1,\n             '3geF49GnI0C2gsMYR3ksSg': 1,\n             'mG1utfHfC5IZZyPLzIqMwA': 1,\n             '7c1t93cN5qwHWBozbXW9sw': 1,\n             'GPEPHS5evzEAg0UgKIBYGA': 1,\n             'Ic_2nOLmDeZEFkNyj2emuw': 1,\n             'fAchQYqhRIZQV5UFUPwwSQ': 1,\n             'KFabiV9-pmH1uSvlSf95iQ': 1,\n             'il2EPtIx3Dl54cURK8CBHw': 1,\n             'hJ0nWXPIVb_ZxynbTQzJVg': 1,\n             'dRsNfdN4pX8aPJPUcS0v3Q': 1,\n             'VyyUH0SuV4shto_7z-xA9w': 1,\n             '-q8LuzInB5zQEEznvQWsHQ': 1,\n             'GtTQvXSt2BLGjGdGX87ZjQ': 1,\n             'IjGnVTGIu0FEQcP4YDeD2Q': 1,\n             'IswMBuEJbpdMu90MlROEpA': 1,\n             '-F3girdLLB9pU_jyDm7GEg': 1,\n             'mAQXxKkQ5KzCG3LJMbO8TQ': 1,\n             'i1YkR0NUh5oM7m_hZD2zew': 1,\n             '1ZOZWPm0S0Yf_euiXdd-eQ': 1,\n             'CC0O6PsaCb5W55rxW0vm2g': 1,\n             'WhNBBXmooqdSq-iTefzOcA': 1,\n             'awRdCbjg2k53pONxHZS2hg': 1,\n             'O6smk26UX4-g6A8B5UcYng': 1,\n             'vM65C5n7tMtRmwxlBTfMaw': 1,\n             'juXcfEkNN-D4Xn4YihukXw': 1,\n             'jVrHd3BA7ROiSv5WOMztQw': 1,\n             '59JWIda0kFPJskV15TrFcg': 1,\n             '4bVDNElKMhcVYemq8xzAaw': 1,\n             'fW58p4qgQKmkb8TjKSZJqA': 1,\n             'vgQ0injDOypxAfNzkmZhlg': 1,\n             'l8Z-C3H86pzLzSbcz13vUA': 1,\n             'CgXDXrTapysLZov1D8c2Hg': 1,\n             'SZKQMMZ-InXbP2r7ivgglw': 1,\n             'SA9DGw5jX7QSVbIYhiKn6A': 1,\n             'xuMb-GDpRb7RVJv0E-lw9A': 1,\n             'UrTrLo_D6xwygMtw3RDoIg': 1,\n             '6RfArVxCtl5suEPBOqkpFQ': 1,\n             '4f66f3U5LyUQrSC9wyhJXQ': 1,\n             'sjB3kDa4Kp9dluYvayLVHA': 1,\n             'wPoUcXn2-m-c4Bq2yA76gQ': 1,\n             'LlMUcl2XgiGC8cxdLifpVA': 1,\n             'xh75ON5EgNQnseJLLACXWQ': 1,\n             'hmNT7235nFr_nFY2l-wuzw': 1,\n             'MG_uSnqr_gYqMDq4p3e1wA': 1,\n             'xj4lPqDddvWamw-B5yXtHQ': 1,\n             '7AsfQkcyto81AAN2pU9kDw': 1,\n             'opXZGrfFNo-ePK3AwqB2Cw': 1,\n             'eD_453O1BNGV9etLf_XGtw': 1,\n             'uBF9MCIf4yZJm6jlGKmW8Q': 1,\n             'RfebAweulH_gGc1rqacF-g': 1,\n             'l6kaBvmxupman2f8Usopaw': 1,\n             'qLSbskh9RoPFEQuwKwlwvg': 1,\n             'MHSKGwoLXSoNzLZZJ6xGpw': 1,\n             'Q3zadVzyiDJY3vMrokBj6g': 1,\n             'FgVkPHRLg7r0i5SBm6zI0A': 1,\n             'h7pjqhp0VLEo2z3aXACykw': 1,\n             'w78-N7IIMqpReK67XhhbHQ': 1,\n             'dUnGyyvxusRpIqsmaF8kVQ': 1,\n             '4xyBdJIjI2H7m4rD5QSUzQ': 1,\n             'P2-hUxV-XVqdAF9T7eklCQ': 1,\n             'Ow0RwbUC0rHMq8WCjSjnDA': 1,\n             'P7MtPftB4-w-vrisMbBAKw': 1,\n             'Cl0UeOutqNt7ZePsQxz4rg': 1,\n             '4vfnngFDN7xdueaXVDw5ZA': 1,\n             'Wtc1Sc-O99FJpO3o2gh59A': 1,\n             'Y87qgxpZjxIJvjFjlAv5Jg': 1,\n             'edvZdvrxcFyZHpHCgd3iWw': 1,\n             'gSnOC_qYli48t_lCpM-s1A': 1,\n             'rbZIFOEGTC3XRuzZ7IyX6w': 1,\n             'oBfC5W-8JhJzsYJMpuzNEQ': 1,\n             'rstTygepgYrm2VoJn0fOwA': 1,\n             'wqIUWXrXj-rrNZbbwFe7GA': 1,\n             'aO4rk-ZagCSB4mrR8O38ug': 1,\n             'Q2bdNm-DMEiCHH_CXX5FfQ': 1,\n             '7nhxMA4zy6I6d9GBliejFg': 1,\n             '20MEumut7SAp9P4KCPuDEw': 1,\n             'hYq2BLRJPPIhN5jh9chfcA': 1,\n             'B2l82SyUCJzz5DgL--jbJg': 1,\n             'XnPrQhtPyY8UTlUxJljJRA': 1,\n             'N-pi-twvDI08ubRth9q0kw': 1,\n             'vQWrS555w_33CcX6v7D2wQ': 1,\n             'CboWkxXSMYSspYqS8ZTt9A': 1,\n             'dg6kOvEiwIsHQtOSDBXVaQ': 1,\n             'yFPljoLVe1AvDDTSvhYUlg': 1,\n             '7rcs53pUC2J7KRmU7geq9A': 1,\n             '2EHdxp-a9oJqXtFN8Zux8w': 1,\n             'i_mevNxLjqaoL8948D-J7A': 1,\n             '7WKKCkrqnvTkrsm7WJJzgQ': 1,\n             '3X9j4A6SWDvHKpiTZiaO2w': 1,\n             'nzB3GGdjg2WV5M7sSgkp0A': 1,\n             'aYsSjwlWaMOH8POjY_5Xmw': 1,\n             'zN1ZijFxfniKSj-CLb4vCw': 1,\n             'U_kTimWMypecFhxUXJ-pJA': 1,\n             '1b5o-dSfaJbi9AkdrJnDZw': 1,\n             'QQLLiw9EnpiXHwlOCSUDBg': 1,\n             'RM0boDhRjPdISApFaeHl7Q': 1,\n             'zdbMs-4VOhlCs3e_bryOhA': 1,\n             '55F-WujQjcsg23MD_xc63w': 1,\n             'KjhdcYvq72vD59K8thXmrw': 1,\n             'vRTdt1yUc6W_gCAzbb5qIw': 1,\n             'QGXLUrt64jyBjLgpDYPPZA': 1,\n             '2mKI7s51PD-W5t8CrCRjNA': 1,\n             'vD33_fz2JvZc5xCBMz-LVw': 1,\n             'uFjkkm4HVBVym7nwvZ4guA': 1,\n             'ddgqkQFYSkt7EBYERqRCrg': 1,\n             '-I2EJvLB44rAokshUhhTzw': 1,\n             'W3mJVzPJmv8tTlsY5DB_hg': 1,\n             '16Tl45TPauvNaTMWNmy3Eg': 1,\n             'k9GHq8Asl4zarMF6CDFenQ': 1,\n             'QWaRdjSY4e46YfSbL16mSg': 1,\n             'Jb63b6tb0SVyI7Y6i7IngQ': 1,\n             'OcsMioT-WU6CSpQOZIE6wg': 1,\n             'm2iDhj7jFfI2-BgRr2AX-g': 1,\n             '02S7OH0jFyvHc1PGFpvQ8A': 1,\n             'M3mwJRivF4PEPDjZQlnRCQ': 1,\n             '9HE9Tt_wkHpLw_yiEm8Q-w': 1,\n             'DgNaQ16dsvNl_w8tVqjqkA': 1,\n             'X5qp1vCtEI79PmbxgMhzdQ': 1,\n             '8iMoG0CZD-mYrd3LASwAVw': 1,\n             'U4Xh7D5tYSnfe3Cz2F8AQQ': 1,\n             'xzdlV_u_SAwWiy-nOhJAFQ': 1,\n             'Qh4bwQr2ZrXginlGqi2fFQ': 1,\n             'TXIoyXsNGVHCJlT5JzVwbQ': 1,\n             'swAY1LFjZQIK6XN9gVPKcA': 1,\n             'RSHvJzmXHfIE6wYTT_-GdQ': 1,\n             'AxJGoc3jJMCa_sSyapdukA': 1,\n             'F6lZGYAXY5CyPoNeyFGydQ': 1,\n             'mZ0QUTxzXrKeZmK7HeriPw': 1,\n             '9v2YSoi2DvFa0ixttlMCOQ': 1,\n             'KL6YBCA2VdahLGEY83QCNA': 1,\n             'oLMx6joPBdocZVhEMBJMiw': 1,\n             'w4TUduuqtlXqI7DWS6aPJA': 1,\n             'VjlnXYNuzRNbXsrQiBApLA': 1,\n             '24LyNPnm8AJCOukTocvY5Q': 1,\n             'mc5saXqx2NOiiZzzmQIp0g': 1,\n             'XloX1_qauKJFVASnSi8BvQ': 1,\n             'NUHHXUfVFqp1_tJ5V0I5kQ': 1,\n             'EzgYaWg1vrOhgWJYCgOPKA': 1,\n             'st_zSuTRPFrpHKGAoOPB7Q': 1,\n             '8sFcMCKJxHJFRTGetzw_dg': 1,\n             '21KcPwwjxflu2T7XYi6IwQ': 1,\n             'AKL_pC7cFSWOV2JN0r2_zw': 1,\n             'f2O6OaBYI05G5TISjHuhXA': 1,\n             'FQfRHxQJn-gVSYqHC8XAjw': 1,\n             'bf0-sIF5xozmalfgo0rThA': 1,\n             '5a25_lXChVktVg34tqlRgg': 1,\n             'gGS_wpyuQXS-HX8DJWfXpQ': 1,\n             'jRWGfY2X0RgCpUG4663mlA': 1,\n             'dSRV4T1WFUP6lFC-BHHQdA': 1,\n             'Xf8XFJ-1iF1pQ3i7iGX0rQ': 1,\n             '2m5skaBBkUMHKC3qBN4vkQ': 1,\n             'q8XjNCbbAkmFjdq4a8QoSA': 1,\n             'lYtEyAhjjhn0vNNB7IVWHg': 1,\n             's-qVv3ykyKnN9FWuIiC92Q': 1,\n             'DRa2L3IElj77SG2t1vWQDQ': 1,\n             ...})"
     },
     "execution_count": 48,
     "metadata": {},
     "output_type": "execute_result"
    }
   ],
   "source": [
    "actual_positives"
   ],
   "metadata": {
    "collapsed": false,
    "pycharm": {
     "name": "#%%\n"
    }
   }
  },
  {
   "cell_type": "code",
   "execution_count": 44,
   "outputs": [
    {
     "name": "stdout",
     "output_type": "stream",
     "text": [
      "yo\n"
     ]
    }
   ],
   "source": [
    "if 'uKgPulIY1IjphAFPWZTTcg' in actual_positives.keys():\n",
    "    print(\"yo\")"
   ],
   "metadata": {
    "collapsed": false,
    "pycharm": {
     "name": "#%%\n"
    }
   }
  },
  {
   "cell_type": "code",
   "execution_count": 42,
   "outputs": [
    {
     "data": {
      "text/plain": "defaultdict(int,\n            {'uKgPulIY1IjphAFPWZTTcg': 1,\n             'KNXpUDeQCNKL3IS0xNLxjA': 1,\n             '8PEvAMmC-GowUUsIuue4sQ': 1,\n             'nEl2xgE6EBrIU9axpW_gmA': 1,\n             'yPLi_dtwzBk92m8Pqmxylw': 1,\n             'fprp37KruVZBUjfnCDKVog': 1,\n             'eNIMdzVpn7niKJzy3wsQnA': 1,\n             'iww6d1Ce84EhN2RShFfVbQ': 1,\n             'KWhtcvj2FXQhcIVmkPmr4g': 1,\n             '0BL27lrGdKTq0ZSGgKceeQ': 1,\n             '3M3Na-Ka0C4CAfgQNk5Prg': 1,\n             'MWSz81y9u935WhCc5I-baw': 1,\n             'P6W9qopSdfzHpaqxGMHW6Q': 1,\n             'hOzjfAr_HZldJMhXEdpYmQ': 1,\n             'aeovFDW3RYlz8lnuJO_tFg': 1,\n             'DQO4OdmfkICbLcy4isSYMw': 1,\n             'x2lTxUHN9Y2K0DmqOPz03w': 1,\n             'eMaX0yW5_xXPZvFQTlx_UA': 1,\n             'Lspexkcj4nT_7ZBOLrSkrw': 1,\n             'CDTRzqPQ3ZfJFSyFKY9NLw': 1,\n             'iByced31RrX-4Ytbba8lhQ': 1,\n             'aHOLHy9Sh-tR6V3kinpp9g': 1,\n             'D5yalkD74CQtLpUD_ZzVJQ': 1,\n             'kRoYGgYs4NSimdGwfRRB3w': 1,\n             '_5p6FJ1cwwht-C3GVXdfXg': 1,\n             'BvrCOaNzu8GU3TPb70Lzng': 1,\n             'QBrt4aWIF28jPmp-5SoZ8w': 1,\n             'pujUpUPqNYyznkwJ1Tl_KA': 1,\n             '-votik4kxLm9f1U38geDjw': 1,\n             'GrC8TjneXovOeSxcb0xzKw': 1,\n             'DRI4FUa69lrXv5igskPDJg': 1,\n             'HPFA4wHvvLbrP_MQ4HmFDA': 1,\n             '3S9NAmGJcJQXW9GWEGLGJw': 1,\n             'xro7s8fZGX7h4_VHMucnqg': 1,\n             'R3PJNPLa8dvBb7E-Dw4lsA': 1,\n             'xAXzhwxb9Xo34BvslSTNZg': 1,\n             'VZdjfp53dguI6xDjz7AQxg': 1,\n             'UhAH9Yzko055yoHmG8UQtg': 1,\n             'iqFQNdyYjxZoLAWWdSjLeA': 1,\n             '8WMoK5zxJBuU4uMUGCOhJw': 1,\n             'QV6KaFe3cN-C-O5qWvGZZA': 1,\n             'rqs2Re2VyIgIDorU3GspKw': 1,\n             'YfuA5KFXI1vvM95OJeGAxw': 1,\n             'ozwlLMqYZL49AthgADhA_g': 1,\n             'Lwy8yxbBwqkIqdqscrT_eQ': 1,\n             'gdqENzwNSvlNklKzoMQH7w': 1,\n             'do2CYgsHu69KZHTxjrDVog': 1,\n             'wJRk3vpYNWxOSh7SelyZ4A': 1,\n             'okTGyNWEQUAB4cg-U4_jtA': 1,\n             'FISTN0yjhTkuIQWUwDmG8Q': 1,\n             'qcD6kD3X3L70rOUHbCLxOg': 1,\n             '_e_cVbrs74Nq69XDfJVfyA': 1,\n             'Jj0cEbDwP8qsOVSXBulu8Q': 1,\n             'zcwUBJEeqLvU0wXNbCRPqA': 1,\n             '86n35ozUxL7B_JQ-XvZoTA': 1,\n             'WyvidLclU70FkaGXlZnQHg': 1,\n             'eatYOTTyFnOUraNaI7xVVA': 1,\n             'GybnDG5TK6PSyRUwHdPEPg': 1,\n             'awDn_LfhG535Xtn-LfVCig': 1,\n             'DJNTRTHZ4EJTGJiwK-uctw': 1,\n             'Zfn15Va0leeQAsqpO6R1dg': 1,\n             'my-jrIruapSQViYpRqawsw': 1,\n             'DUO46-hSh3gPb13wLvLuzg': 1,\n             '9J5tUrfCriSH26KxhbeGyA': 1,\n             'ksLXlfPDkAd7-s35GXsMSw': 1,\n             'sAWXhCesPDjIqnx8x2bX3g': 1,\n             'ifSqkQU2eJebHXodH79Lnw': 1,\n             'dgwDT9HV6oU7VpHMMPTBtQ': 1,\n             'DvZx2uwZlSgL7NAucffpPA': 1,\n             'EmiecSgBwJKiPqa4Bo_7Vw': 1,\n             '9bp9Tm3QndQLvXSZC6eiJQ': 1,\n             '3b_52Ov1Cf2n2vB4wfFBlQ': 1,\n             'fE0qIdIHvch8CXpQci9JJQ': 1,\n             'DHJEzuGfcQYGnnLSU_XLrQ': 1,\n             'anRTyPAaVzkkf1-HFN0xXQ': 1,\n             '2i-pSXYh5hVtunQeXgNDBg': 1,\n             'O3o2A3vxjsfO2rt1Q8L90w': 1,\n             'TvoiNBmx_w0eiSqRZXwVZQ': 1,\n             'CCtxrJyRBU7I0pNvxifLkg': 1,\n             'cNl3l4W_-Hxwcw2-R4EByg': 1,\n             'nhLTDXRt9_DpF_9Ih24abA': 1,\n             '0yVqgzy8lkwZKzDaaWDpVQ': 1,\n             '2YALq3yYDBNYhA1qM7NYmw': 1,\n             '92iMutUaSwTur12OQ9M8TQ': 1,\n             'SgLieu5c3zuewDHaJG0_Hg': 1,\n             'MpotRKSoGd-uehMLR4IeBw': 1,\n             'OwTeyB6eu16ZFSVRePX8rQ': 1,\n             'pufNoXnFRA8CrGi6E9Z5CA': 1,\n             'hnEp4y7Za2Jtze42O_FADA': 1,\n             'vATHoBilqajyaObDWDZ36A': 1,\n             '0ksBqavbOZ_D2vcjC2g-Gw': 1,\n             'fBdD69y-O15tDxy2yXZBUA': 1,\n             'mpuTeIj249d7iSF395q9fw': 1,\n             '2i7iE1IbITi2Pf7YUCKTLw': 1,\n             'rHpgwzesqFi9OQDwHxKMwQ': 1,\n             'lhdQbokUhRCllE-sWlfqaw': 1,\n             '2IBXPePlV9LI8-N4FBspgw': 1,\n             'ybm9HCqALSNvV31Ngj9KtA': 1,\n             '3pugpx76Ei67n3bSvpc2aQ': 1,\n             'Q-xA8Ggv2jDNxzyxIxflog': 1,\n             'zSwaUpc5XLP9eFQZabat9A': 1,\n             'MOJ4pBLhhpy1QrHc3sT_mA': 1,\n             'LHbJv12SLSn2wXNyIsf9Hw': 1,\n             'O5qkXA8c7Qx33v-meWK13w': 1,\n             'bdGrVN6oScqTcGjdsmt3Jg': 1,\n             'OFwZZmoW9eeT9GysT9NVvg': 1,\n             'NzHg4A0JZD-_thl3P-buNg': 1,\n             'h7Wc69gzyoJdDXNoBMziew': 1,\n             'dxE-Ua_zo1pP-fwerl3krw': 1,\n             '_TzzCBQb4JL_paG1z00ZxQ': 1,\n             'Wstc_c2SLAXfYSQQTAQeLA': 1,\n             '4-P3upFL8p2y3qKqiFFDwA': 1,\n             'LjkEmHyIg3x1-IFmJutDVw': 1,\n             'aQFE3P3WQXdKei3ZP3meww': 1,\n             'Kkp4REcFrNqKo0rWyvAecA': 1,\n             'nsbDLB8ql_6KjXrFWk0QIg': 1,\n             '0v1Nblhu3yeT_jDxw1VfqQ': 1,\n             'qtJB8YaHfAJEqyHkhKbfVA': 1,\n             'F6MuPIZU_arEMm0XPTPevQ': 1,\n             'Y1bxt1Ft2fBdyXgOEeis6w': 1,\n             'lKEPtkMx3P7ZHGarudqY9A': 1,\n             'uKxK3teY3y4ABN1NoqE0Vw': 1,\n             'J6bj_U8bncnBA8QT4xfwPg': 1,\n             'n8zo_DJYs9jgxqbX6pMbbg': 1,\n             'Tz1D_5sAkwGyrLjVkJBo5A': 1,\n             'Pvz55kmoYlGz_JLWehzD_A': 1,\n             '7S_tAfrGXFM_dneVc743kA': 1,\n             '7b0rnDsQ_UECgs-DkRhbjQ': 1,\n             'hqfsDvd9aFHvLn1qXjt8ag': 1,\n             'rtrFuJ3utQ2XvuaL6FAt5w': 1,\n             'rE5Ye71tkVEs1BMsZcyBPw': 1,\n             'Pv80u8fIdI-xz_95xojJcA': 1,\n             'jz2iPOQIuTTOLBULz7qpIw': 1,\n             'saLoXCljKMyRyt-go6FFsA': 1,\n             'P4wMLol_DA7NH3nyWTZCAQ': 1,\n             'z6_f1qKt2EmhMxmHwWUf6g': 1,\n             'Hrwmr45BKAIt9Fcn5-plbw': 1,\n             'ylODvRVEiloluCnoeD8FxQ': 1,\n             'Q3gesdBVLZHBn1ww-0a1Kw': 1,\n             'rQodDPc7mGiC1euClLdsSQ': 1,\n             'ElwrHiFgpkmIvwIwZN32SA': 1,\n             'vg60r678_7s7i4MHyqdJJA': 1,\n             'j7juYU1PiBOczieYcRbBSA': 1,\n             'SH2J74Di5JGyotBWTHv9iw': 1,\n             '0ieJVl7grGYaPUn0rzr_UA': 1,\n             'bzlnMfQLgltCenur_VF2bA': 1,\n             'x8ewaCbanyEDs39zy8i_0w': 1,\n             'biLFd1smlba7_D77m5Fd_A': 1,\n             'msYSAH4BpcNjUdo4VwBA2Q': 1,\n             'j5jO75JqaBoxGe2m8NQ_Qg': 1,\n             'gML9S0jKihWntecYvvLbPQ': 1,\n             'gw-hdAvMdkGIqvsTfhH_HA': 1,\n             '-ZWPyYkEM5d8XPyuIZfVsQ': 1,\n             'F_SLKO6rcypQbbZEm-yRRQ': 1,\n             'CkmqTv2LQnpidPqmq_WgRw': 1,\n             'wGUfhVuiVjJ6BDzKYp4a8Q': 1,\n             '7k2Az6byehGwDR0ud7obig': 1,\n             'HEAwjirmAY13ue5amMF21w': 1,\n             'UPQjJrI-PxqcvvGQGZwN6A': 1,\n             'hFgh3z8yNXQ-bRF8R2OP5A': 1,\n             '-djOtwjkBAGQ7ftDx_Jcfg': 1,\n             'PPkSUk7ueASS9WB8oPWzWQ': 1,\n             'l08HgKiLC7j7aFtiL6GPeQ': 1,\n             '3HsyzfcJGO-I0-q01VvYAA': 1,\n             'eBp_mjyb-cZCw0a6tCJf8g': 1,\n             'hm1T_7QV_JKpLzhZ-xCFuQ': 1,\n             'SBD4u_JeaqpCxTfeSe8-4Q': 1,\n             'Iz0dI0zU_-1Fg5kK_sVIGw': 1,\n             'Z31aAXcPhP1KbRr_ntj8tQ': 1,\n             'Sp9Y4Bd3p2NVfwKc9wG3lA': 1,\n             'wmBU-f5F9JmMQfkVDRgYDw': 1,\n             'aH1sofHuJ1Z3C7SSAjWmag': 1,\n             'ZeL4VRqEgrJheOThNFVpAg': 1,\n             'ay4M5J28kBUf0odOQct0BA': 1,\n             '4oW2j_I06NuQet7WRG4lBA': 1,\n             'FCjtepOX_qCrEjFb2NH8Xg': 1,\n             'Ra9ZZUKxukbTGZouL_spjQ': 1,\n             'KQJWvCO34v6mX2ZQJUG0PQ': 1,\n             'L6nAv7f9bTLQftkSdX-jng': 1,\n             'Gc-izTLubksfthjcJYO70Q': 1,\n             '6Ap7HajGgSuLNrprdPSnQQ': 1,\n             'PJ6vY7qWaPs8lkFWqDMTZg': 1,\n             'J_jbZZWry08wJvq-hGgr3g': 1,\n             '6PNd8qH4ModxNqQgdmnQ6A': 1,\n             'q7W2SPWjfrXkY1HJfs2Q8Q': 1,\n             'r4m1VGLfiZvqm106DqUmiA': 1,\n             '1hDKzrCEs-qx750i4_LsdQ': 1,\n             'nMxUUfssRvYiT3ijk3tPFQ': 1,\n             'W9KEPneyHTJCm9uanV1eIg': 1,\n             'dVVlR3-WyvAmvjRsSE0usQ': 1,\n             'OSm-q43GDge45kkRhHIsyw': 1,\n             'APw4WcwDDA7SOZkSdAiDPw': 1,\n             'EeRnuOk_OFhY9M4Qr3DCpg': 1,\n             '3MHU-_SvZ5eWlBlyMR38og': 1,\n             'cdCcR1fhimAnSic-guy_pw': 1,\n             'jwQizziocmDNYtpgECAOsg': 1,\n             'nOCmbRcno3snwZnYhj64-w': 1,\n             'we_ONmXR0wP5-Ejx9AbIAA': 1,\n             '3y_Op5BgB7o3k6-ULqIuyQ': 1,\n             '02GsATC6GJSo4AOBTq4dfg': 1,\n             '6LN5xPFEeQF6GcWUHuR3pA': 1,\n             '0rHYrl7cL0y4h_08REVRxA': 1,\n             'GZx1svINMD58RRvRZVihBw': 1,\n             '05uEbSzRBlWNLff8iaplsA': 1,\n             'r90f3gx9rWCFK5Ov-_oaAw': 1,\n             '59M2Dcdsx9oNbuiqtRS8FQ': 1,\n             'W_8EZr8uCcdR-A34kBB1uA': 1,\n             'escw-fgPJhcCsVcyt6iTKQ': 1,\n             'NlTaVklW549DhTPJgsiXHw': 1,\n             'Y4uVw9rwWT6oTQfsZsDD0Q': 1,\n             'EjdP6QfrPlkSr9y-hKqByA': 1,\n             'rp3cL2hds16XaeCNqjnmxw': 1,\n             'sDzQnliasEskxBW6wlWhsg': 1,\n             'Rmlzhf-H7cQI2sjV_CyMDw': 1,\n             '5xHR16eIIOUyFe1IaxlSjw': 1,\n             'jWb6ypg8lHH3cK_lSWE2ZQ': 1,\n             'qMMdlbK_who67JgLmhdRyw': 1,\n             '1w9u7qL6GGtDLkAjSyVzOw': 1,\n             'hzk85fxTOhk2G0WSVg8E2g': 1,\n             'QjtOj65diYldqBtLMpT1NA': 1,\n             '4JTQAQCGcA2tGsTWU-Mtsg': 1,\n             '0OEvWi_mophkwr5nUklaig': 1,\n             'LJ0xufc5qKpABHqd0wlmbg': 1,\n             'mV2eGVvcTzGCn_uRTOs36g': 1,\n             'rs3_0HqWprKDKNB0pY5-UA': 1,\n             'FVhb-enyj5QHw_LKBhlKIA': 1,\n             'UW17MroHyIqUPbAqKwp11w': 1,\n             'Yjzpq7vJpggORvrkoKb44w': 1,\n             'ATomaOHdiu1nNjR2gleNZA': 1,\n             'i6TEgrZiSqlnM06WgJdxjQ': 1,\n             'Mka9r-_zngBh8sillU4GOQ': 1,\n             'LtsPH6XxDoLYoF3VLNQSJA': 1,\n             '89yr7wNIk8TE03yKfTRLuQ': 1,\n             'KkBx7GVmRITuc0tF7RJUDg': 1,\n             'aDvbmRvCg69_LcsQIDIIbQ': 1,\n             'RIm5Xpu7MKciGEJ_fLdr5g': 1,\n             'k2SJ40ThCkuQN_U1GFHDbQ': 1,\n             'yXGB6yZQVOmFUbkUm9aIrw': 1,\n             'RAkTMTYXUeb4M6FORdBIPg': 1,\n             'BrF0pLrOFf6ZSv32i-vwzg': 1,\n             '_GIz8hTmB3p_DLuMtD8LaA': 1,\n             'IF33pe8TFTJ8LC0C93YMsg': 1,\n             'xtXE5peYslO9MCXC_oGOUQ': 1,\n             'ZOAL5suXEvKELzUXywIa2g': 1,\n             'bkh98fzsIJfmheuSnUzQBw': 1,\n             'F80q2-M95hJBGfd3VH5_zA': 1,\n             'Fp469GyXlPWPJjfO_gIueQ': 1,\n             'HnXXV8bgIbnfFVCa4bkbSw': 1,\n             'ALL01B70ESyHUyX1efeiWg': 1,\n             'w6vemiaI1dVlOg8ErgH4wQ': 1,\n             'qSq1W76P1U_dgYIjoCKgwQ': 1,\n             'SEjXquVnM0_2w1sr25RcKg': 1,\n             '_w2PsTXj3ltSelnvT7lfHg': 1,\n             'nbRXxWmhmjCJWhW25I9OlA': 1,\n             'nvTmjzeLWtHZYs06mnnCyg': 1,\n             '7WIN6WbEJEFfM9R8otrHvw': 1,\n             '2a4-oZglT6N0m9rodva5kg': 1,\n             'no7FU_8xsM0l63_4mZPysg': 1,\n             'jXLYsUNE5_mXxqzLWJIUNA': 1,\n             'koApA4IzXmTUwWtEtcaTCg': 1,\n             't2JVb7c2ELeAUHoqKekw7Q': 1,\n             '3Ht9Zi59UHwTC2TcJqf4mg': 1,\n             '43ntAhWtK7I4ThjQtS5O8g': 1,\n             'EYxJqFgSvQPQ1BukYWHfnA': 1,\n             'nHnGvclyMYyeK6fXZKPbcA': 1,\n             '5mRySJzbaW-nTItjOWiK-A': 1,\n             'W0muZ1XB4CiPevn9ZZlTYA': 1,\n             '4UH8A1p0qzJB37gVMBGOkg': 1,\n             'WcxbtSZlF4DT41TIaz0Itg': 1,\n             '56PZNpeViut3VgiKMm4qYQ': 1,\n             'A9AM8NH3ToduRvYDvDSADA': 1,\n             'XX63RzcfHXV85UOW1B_BYg': 1,\n             'jVPdE5lBKv9l49R3ZgEWkg': 1,\n             'z-XYw5vC-xpHp7FD7Cn81g': 1,\n             'NiqL6t09VcOcbsMYhQW8YA': 1,\n             'wGqn3VCqg7K4hWKwsBjtXg': 1,\n             'G0vhn62N2hdMhytfLmCqkQ': 1,\n             'rx6gtgmTX3_L1jKDtzuc5w': 1,\n             'aHPXojF5pmqlT4exzx8AMg': 1,\n             'TIf7VjOrz0_19bw2diU2Gw': 1,\n             'BgMMv5UqAm4-mX7s2ZIimg': 1,\n             'HaAzeYUf-NPBbuNJE59dFQ': 1,\n             'OYJ61TgWLeqi6uM24wim5Q': 1,\n             'AF_QLJqgJCh_hypCyC-r3g': 1,\n             'quGxbV2hbjeOSBEYdNVmow': 1,\n             'xFvoyzymWXdnB_O99EbKtg': 1,\n             'HKB15cYzfIOVJuQcm0KXyA': 1,\n             'xm4bmVYfAhYoK_rn10_UMA': 1,\n             '1UhXoNhd7fHQllXrhNVByg': 1,\n             'IGE0wxhW28A74JMisaXUcQ': 1,\n             'OIXc_8Xi350G18taGLMG0w': 1,\n             'SnNt4scJtY_oBVeS_zi8vA': 1,\n             'C4L4sx1-Q_G2caM5BDqBzQ': 1,\n             'SLURLW68ddt8h4QbxHKQDg': 1,\n             'c0PAVI6XrXGDGskLYCZ57w': 1,\n             'vgs1wfKjIsEmIzHEGXWQVA': 1,\n             'E3yFDRPmi7mrmoRvnI9LBA': 1,\n             'mb5Y81241fDnqpAyiNb40A': 1,\n             'FvR1NNh1BhzZSE4kyBdc4Q': 1,\n             '6SrDnjcBVhRrin85tbwDFA': 1,\n             'EpNQtvdI3w7-rOeCV39fkA': 1,\n             'MOSvZQ5mraFqniHQdyCKDw': 1,\n             'WuP-_5kYKQE5Ywlavy6Gzw': 1,\n             'vd0UjOZBsQEMY3ujYxpXXA': 1,\n             'BBtiu6MI9aLG0tiHRES0vw': 1,\n             't0t6fticveN_pNMMKk-cuw': 1,\n             'zYoQMzgb5LDsSVRnicI5yA': 1,\n             'T7lW6YZ-vAedGGqdis7tMw': 1,\n             'p4S4lqSRsAaYelb6Hv9qyQ': 1,\n             'rqoh_HuMw3pfbqdPXPx52Q': 1,\n             'rO--KwePXxTzpEnXcLPDAQ': 1,\n             '4udgWWdtGIye8BUYbRQ_pw': 1,\n             'VD9sv5yYhTL1oIT3T8KU7g': 1,\n             'VeAFerL_Ap1aMKPN4_5RcA': 1,\n             'Nx9VCAgAtulqBZMZ8HqW0w': 1,\n             'g6J-CUruyfeU0BzkrHWUsQ': 1,\n             'QE9VeEcrEP9jokvg51N4qw': 1,\n             'IQsNzyKpYdGYatpW9aC3WQ': 1,\n             'Zxj4HHynQJCbL6IJ09J6dg': 1,\n             'yLxfh4kECc4c3id9aeS82Q': 1,\n             't5W2N4PslXqlyh2Qs_GATQ': 1,\n             'VtSqtVxSNbTRtkKHJztJ4g': 1,\n             '6jNupYgGsUnRkt-vMtlIaw': 1,\n             'xX2aEr73XjNMsZTU5BhDpw': 1,\n             '7vFCrw08S5hEYlbnCgRNOQ': 1,\n             '3CH3yh5td0LIzjxsK1gqug': 1,\n             'WD0OW-fmKsZ3miRy8ZiHeA': 1,\n             'O-ZiKUyT_kZ74c1gBTo1qw': 1,\n             'oktKFpxGfx9aL6vOf6sQlw': 1,\n             'a_c4-40u3yqkp707_B_LhQ': 1,\n             'V_PzeLAZJVaU7QIFpuaffg': 1,\n             'VGNIMbYwNTBlpPAF5W-yPg': 1,\n             'dsHj85_YwnEF7MDW5UaV9Q': 1,\n             'kF4T9m5XN5HXJtahWMmZ3w': 1,\n             'i6b1pb_F1mhPKGkWKb__Yw': 1,\n             'HLvN3_Q57oTd0RNagd4Igg': 1,\n             'nQ5cgxObvLU82BtV9cp74Q': 1,\n             '1Lcn3N2zMP9qEYOa5eDmTA': 1,\n             'yzgwdrlZtpRjwxM12aTI8w': 1,\n             'y5R5hPB4SDAPOVivP3OKow': 1,\n             'oobqk1SrKvuLmSgmqG4RmA': 1,\n             'RacLKHZAlBPPcgklCQjiOw': 1,\n             'e76wLkE5xBusbd6qAKivyQ': 1,\n             'jfOOCZa2YNP0kMbPEqEuCg': 1,\n             'tfim0f9IXfA5FTf33b5QYQ': 1,\n             'GBcSMQqG73pnIuDQswVz2w': 1,\n             'icGHO4jc8T-w4vpoByBA-Q': 1,\n             'kk8zfCBxCcGASIqXTVfDCQ': 1,\n             '3LrRkS5zdyE0VFWzzqhWsQ': 1,\n             'JkqKTdES7oEJfVSvT_W2Yw': 1,\n             'VrRw0LX-5b_vq5i0HW2aqA': 1,\n             'SFARPcvl6aXJftaiV7j6rw': 1,\n             'DpGRP2GXrAaFZWJ4gro1yQ': 1,\n             'bjYQeMYn_CTb6BXt9v5AqQ': 1,\n             'Sk6IPTgXi1oac_cXhM0lDA': 1,\n             '61Jj9uy3dt-teRfRtFYNIA': 1,\n             'Lr1QUjOkoTWTgSQFQbyrMQ': 1,\n             'Aq5CMs2YFJyWN-LY00I_Vg': 1,\n             'Y0iMtr9scKeL5gZwY-75fQ': 1,\n             'fCKNb-Fw94M5yCBPkAFEcQ': 1,\n             'YjoEx67ayNtEw2RHnVu5lw': 1,\n             'j7TccjAJ6PrZYmCCgrYuOw': 1,\n             '3F9zL2oEXZHf9WRuUe-O9A': 1,\n             'T15-YHIKqcLtmxg11Wu21A': 1,\n             'RMnNKGZxhkWA3sAeZI353g': 1,\n             'e4Kvn05r765E5dDvz4QOdw': 1,\n             'WA7WBW_7fDsevBZz8pT8Aw': 1,\n             '8BNvJBLR1TclQgQyRqtdGQ': 1,\n             'Cx3HKXciouFlw0Ch_5bLrw': 1,\n             '0CGBnfauY3L7_LuS7ATrJw': 1,\n             'meWcBpaPB4xQJ0YShu_kkA': 1,\n             'FuWca7OoscJnQ0weQm2shg': 1,\n             '8rQfsqXYv8UDvVItGczDBg': 1,\n             'xB45EJxYwjfZfyGmMmYwdw': 1,\n             '0BMTo253SdSZpmZbA27UNA': 1,\n             '0zi8jO0Wl5UWuPrMC8c47g': 1,\n             '69e-bPnG64qOjuDLoZ17CQ': 1,\n             'XttAxVqF32PRkt8Efb3H6A': 1,\n             'zKYyT4NLaT3mEXxP-gAPJA': 1,\n             'DHDhinJYbDwdNuGyv8Eq6Q': 1,\n             'Re_WPP-HC5iAK07HFzUXdg': 1,\n             'WX9BliYked9Ue09d366dwA': 1,\n             'nNSydVPN9g3gyERL2ToGlw': 1,\n             'zKgmjW_Pw2C9wbG8GINPqQ': 1,\n             'iHxUM-kqyFd5F4O3NlpDRA': 1,\n             'ANJ2uoCOs4DqRQsbFLKDJg': 1,\n             'qNlbUAnYCdu7olDeydAxkw': 1,\n             'ftI6n59eXeC7TGqets1qJQ': 1,\n             'Rz7QRjmnUWq29A2EmfCcAA': 1,\n             'k4kUq9XlvDjgv1Ugl_TcvA': 1,\n             'AmnBWMt8unp0wE3joyRdzA': 1,\n             'LJLl_ve1s0e-hD-SrWFx0g': 1,\n             'tzdW8vuVuQOtiev8AD5org': 1,\n             'z6Vy3bn22xYlaMBX_fvoOw': 1,\n             'FtXPv4Fs46Uj7DV9pBCHgQ': 1,\n             'FuHeWbiFLzRRszWvVkcBlw': 1,\n             '_7Z7wrkq0i-_DuRBvwWJ3w': 1,\n             'G43IATXrDhym8ABE5Rw8iA': 1,\n             'YOTSTumMVrQlWVw5zSdtcg': 1,\n             'UPK4akHh9P4n8jnIS1vxcQ': 1,\n             '8hlx9S_QUGljvCk9D3zwxQ': 1,\n             '-zK28BA9e8q-9ps0c-DUrA': 1,\n             'Ycna_R_Cvh7m8Ysqvim5Bw': 1,\n             'zFpOOpBwRIcPRpGpRw6a3A': 1,\n             'tcS2R2kVKqlZ8KSKa0Xv7Q': 1,\n             'LaM06FfXAj2XxiQqgHlzCg': 1,\n             'yE-ZvUiJ6R-UbNRrCCCL_w': 1,\n             'wOkOZCF5DhYkV0bTIJQr7g': 1,\n             'ERIYdeH6RUQ5uwBLSmoEkA': 1,\n             'Tby7NOh_arR7DUmu9Eq8mA': 1,\n             'rxy7g0JxQfdpPWIuF-Ag6g': 1,\n             'daxkMEP8i5Y_6HpcgCoNrQ': 1,\n             '3XADON2i60nX462RQSyoNg': 1,\n             'zl6QeXz5llq6BwIFOkug1A': 1,\n             'TXxfgH2MEBX2B9gTgd8I4A': 1,\n             '0aDKoI0LQd8uK-DsO2uKKw': 1,\n             '-ppTDcI1MPUvD8wxVQAO_w': 1,\n             'Sv3pSdBEoKrAkHoLHK_X0A': 1,\n             'ABD5P3snan0tdyAnvl-iUQ': 1,\n             'jhC3ge3HaT6hJwNs-bCwKA': 1,\n             'mLrycv957nwI5UTnT-px8Q': 1,\n             '2m3XirBWDzBBvq9CGCbPJA': 1,\n             'uR0uz-2NW_awBLaxXM-CpA': 1,\n             'ZMqmiDB7-8qt9R9o51L9ww': 1,\n             '8XMLUJhSwd_pM4h-Du1WUA': 1,\n             'wHK_LVlmoWq_lVb3aFDtqg': 1,\n             'xCTx0zyNegvvFZyw7b7eag': 1,\n             '8niU02VOBZTCxeZrSlrU0A': 1,\n             'hK4vjoYGOXX7lSYYWrTZyw': 1,\n             '6xkAR18eMXoItdHcFa6KLg': 1,\n             'Ji3Zok1xEC8eANzr6ZBXlw': 1,\n             'YcT-nv5z8a4FrJalq5N2cw': 1,\n             '_YQpQpcdwgSwjziZnJR43Q': 1,\n             'AREm24wH7tXEHC_FKUQIWw': 1,\n             'TjWbbnhn6GQFdPbZDvEevw': 1,\n             'SNNZ7kZ2-rahEBcEy6wXUA': 1,\n             'KQQLLUAeIF2wvfK2mLGZrg': 1,\n             '2BeO-W48qrK7gCJg2AHDUg': 1,\n             'enw53k09cO-1wSpoMe2FCQ': 1,\n             'r6U4CmzLUJvtAhHNdloYPw': 1,\n             'VR1eouVw8bQz4iPxUC0nCQ': 1,\n             '6u7FnwK5TudSgoyKIlywJw': 1,\n             'XE4FOfDL3nc6txMz-BvO-w': 1,\n             '2fuHflzB_9Wg2lgB6pfWwQ': 1,\n             '8cqtPe4nQYUeh1xKX38Ogg': 1,\n             'gZuY6f0HTxq2_zyww3196g': 1,\n             'aeXVjC8lHUjsesMMjvcwqw': 1,\n             'rD_bI76hOcG23x4wqnFv9w': 1,\n             'F2LCVynfNbxG7IMqe1UO-A': 1,\n             'eezUk89GpniY5yIxq51bxQ': 1,\n             'evneoc4EwmLvgj_BxMBslg': 1,\n             'rhDPnK257cuvEAfYH2BTGw': 1,\n             'WND57ZMt-zfEZ3JV-rpNUw': 1,\n             'ml_Zt50tX_4UEsUfMwh8Og': 1,\n             'Gtd5VcDGa_94vM1xLX_GMA': 1,\n             'FppF4S1wyYcI5i0h5-g1jQ': 1,\n             'yc7SpynV6tL3Tc34ykgfzg': 1,\n             'JWdaB3EkvRGCuHZCXPXjAw': 1,\n             'Oi2P_FlWVsSP_zP6Q6K-mw': 1,\n             'tnOFw2zs5gyOvl7U-aVAIw': 1,\n             '_mEqrccUERU__oET1ujwsQ': 1,\n             '7TH97ZlTQQGWnk7S3r2cwg': 1,\n             '6mfvUV-kr3g7bwPze0ToaA': 1,\n             '-qFoxPyoKb54nN_f-1GPEw': 1,\n             '9GQeWrFpRyBxpZO1Eatpzg': 1,\n             '8-KBKMJVO-j5YqpHb08j9w': 1,\n             'oDv3rWi0afbsOFnPNuJlkw': 1,\n             'JGt2XnbdgvKDetUrFYf54w': 1,\n             '-JGOXL482JSJdQF26LvtdA': 1,\n             'QLbHvMQVrn6MVOLN7hXGFg': 1,\n             'yBcB27HwJ4IjKV8WJ3hD7w': 1,\n             'uAVxRYtQWa2kNb7b4p3iug': 1,\n             'T4ahrgouFgRE7de8850IVg': 1,\n             'jm5y-Hjf2GKbVSvx16b73A': 1,\n             'sNwJM_b7U8D_OLmrLVe8SA': 1,\n             'iFOOhQFT6wIRKKbmUcIxuQ': 1,\n             '0Ab77zDMTqglC2uMZdEuqg': 1,\n             'zCDrvyHhvkMZW0QdJfGpbQ': 1,\n             'LzlWCOdmF7RWWnRopABO8w': 1,\n             'br3xvnxBMeQquljO7x2iCQ': 1,\n             'daaeJ5noqII5lplszg5cmA': 1,\n             'ObPun8jSQdfgzz1vuAR7Eg': 1,\n             'GpsgTPd1x7w3a7LwgVgK3Q': 1,\n             'ZAt8sLpZai2aSsaqFzQlHg': 1,\n             '8UVKKG_Mrky3E361SRae2A': 1,\n             'B2r9d8JOD-upH5NeSPwJxg': 1,\n             'HXFK-NVuJKaIruS2rbnmXw': 1,\n             'FClYBaKYls7F-BQ6UKkZTQ': 1,\n             'FDKLXnADu0D-v_Zj8yRMoQ': 1,\n             'MHZRaIDzqHjIuUucuIzFzQ': 1,\n             '2UyoELfX_vYsWSFMOdaoQA': 1,\n             'WJtwbPKCxF8um_FM_g8QXg': 1,\n             'YW0CUT7vA7pqn2f6aL8rlg': 1,\n             'HVYr3EpyYQojJ9NnvkFFcA': 1,\n             'qbyYgTw3VZjcC4FcBr76hg': 1,\n             'm4I9Vb0ZFp2yl93qyNYeNg': 1,\n             'q1N3imUYbjrUso_dy4c5gw': 1,\n             'wefgNP4FcOR5oKoNqbI4TQ': 1,\n             'TSRBblTtL1niYdXyDNYsUw': 1,\n             'pXEID6Y6UUX-YXr6eK5RqQ': 1,\n             '_D48K0noO06f1vn8URw2Tw': 1,\n             'u2chrKBJYUk8mps6vJcXMA': 1,\n             'x5W4Bw-VJiJGgOPyWxJbAg': 1,\n             'jhEdJMG1OfHsFp_JAgUb1A': 1,\n             'Brzwdns920Ep8YPALozGaw': 1,\n             'GXsKY0INGtBn7-E0RgnLCQ': 1,\n             'jBmmlBntePR_5Fdv4_IBEA': 1,\n             'a1ZxgZXNFbsGnprZKQILGQ': 1,\n             '8cIULf5GPin4ySmPy4IZxQ': 1,\n             '-sAZhbmmwfmcGEtABmqtdQ': 1,\n             'h0AXWpAcRsIQiXrhMEn6rg': 1,\n             'kuW5dJVx8XyH4xIhZEdIAQ': 1,\n             'cqF3PgjPpILWAwnG8WLZfw': 1,\n             'ccVqpDUl66pXFp-AwWzpBA': 1,\n             '8CH9NA4mEXZRVBANYfya1g': 1,\n             'vtRkzEccJI7H3NlM-IbR_g': 1,\n             'NBdP9OeBLhZN-ODirj6Czw': 1,\n             '_C29pZ9TtfWnv7WCyWT7NQ': 1,\n             'PwLEqiKNf0vzBmBb3LvKSg': 1,\n             'cL4B4PX1L6CSOMMUrvP1SQ': 1,\n             'Gsn--ql-T46l7XktrTGXrQ': 1,\n             '6TPaEDAMMnZbyK_qrBBDQw': 1,\n             'PgzYl8BoNSAeYs1AsUuKaw': 1,\n             '63HfuzUVPg2aLuQIgTfcZQ': 1,\n             'IalMKTrtUn1KuUUTbsz6sw': 1,\n             'qNFHmH-qo7Ia2vv0IK72ug': 1,\n             '2HpCU0uqrPF7QED7UEHKzw': 1,\n             'SZ-L6Yf-2B0UOqOkWMNLYA': 1,\n             'uCCMU2tv0qAwwIa3ZNSHCw': 1,\n             '2uyYfTB79awtQ3tXIFnnAw': 1,\n             '93iMU5fPMEM-544ihK0hsQ': 1,\n             '2c3B5LAouUpSq-TN6XXqZA': 1,\n             'Zre2bjZtO69F1MHz5TeMzw': 1,\n             '9GlKYz7-Q-IAqDzhYt5TBA': 1,\n             'LgAHWNFFH9VilDJN-Fj4RA': 1,\n             '2d4dVGiuskYvW0Ae2Zn86w': 1,\n             '7oTwlHdJtqB9ycuZi-nMKw': 1,\n             '0znOxbUZybHe2s1JP2oWbA': 1,\n             '6uBl-vKKLj93mcCOcr3whQ': 1,\n             'fR6yzX5aPgyCnNkeRcq_Yg': 1,\n             'NW4LBcscX92hlymj-FzhKw': 1,\n             'SIgeXhocf1ssp7ctfeupPg': 1,\n             '_f4H8oulx-Lt8qNcaxUZrw': 1,\n             'rc9k3o9PSOJzTdY7cwmOOw': 1,\n             'iHtIbo_WcG6kgmVX-Ue_xg': 1,\n             'zaNhHpyOjTKgeJh6vuBTow': 1,\n             'Urocwwlg7ruNJFyutgSN8g': 1,\n             '8lEu-8utvjOEuMaLT1QwFQ': 1,\n             'UmlwZcN7Zx2gmJhUU9hdoQ': 1,\n             'bV6zESYQqqYqj65TsFId3w': 1,\n             'hMvptjJCia8ZidME7dP_ow': 1,\n             'lgt_UQfwhUID6rT0cct8tg': 1,\n             'fS9fNByohLlOT1e3ax_cfw': 1,\n             'VBlnjVhueYVF2cuaM3Na3g': 1,\n             'bkZGoOytbAbuxFoTSKSFRg': 1,\n             '25vqbemZc1rGCXZE-V90tw': 1,\n             '60sVtlOIJ6AK5c5CNusIxA': 1,\n             '_XpvFRkqRn80A8PE_s9C_Q': 1,\n             'urqVsUY8fsJGUhUjsWFM4A': 1,\n             'ahoISNt0wqXsNILjkgRnhg': 1,\n             'mPLYpD2nHJarDBMmewhLTg': 1,\n             'cViR4D08GYvigj9KjyG70A': 1,\n             'WPD9trBR0XcikQWJg6m6Tw': 1,\n             'hA_S-emmVujJ_VNsl30LQQ': 1,\n             'WaYPCdmY4Pdq200bfzTnnA': 1,\n             'ixCuvQkrEZkPxP0eBFGgNQ': 1,\n             'jt-YESkDS0FxFLafiwhjKA': 1,\n             'Nh6Lr4mXKSFgByhlvxGpeA': 1,\n             'Jzg0SPEQQMmjQ8YnS0fnjw': 1,\n             'Ha3E1Rrhptx4-6hCSDLBZw': 1,\n             'kJwdfc4ICusfScFmtNMn3g': 1,\n             'uFI9Nd3-2S42g-EgwCsceQ': 1,\n             't_lSx5bOji2wBpQaW_JTTw': 1,\n             'pC5HeYZOthDKHFCrSP_JKg': 1,\n             'oZd5gyrs5ddhQCG75YgM9A': 1,\n             'u3BPIHxW-GZyUek8BKOHRw': 1,\n             'n4ZQaBAqx-kZAfsNjekd5Q': 1,\n             'odFEghe_QiZBRtwJib60bA': 1,\n             'klw111FJsgMxgnaIPay-BQ': 1,\n             'vN7BBTqVhQAs-vim989J9w': 1,\n             '0JXArvsipD4Vx1MbPHvPZQ': 1,\n             '4pDiEtHpTUko0uMUbcbclg': 1,\n             'flFfqO7MqDnuq539LnPI5Q': 1,\n             'EnatVq85fcq0aS_AwNFiCw': 1,\n             'uC5zLT4CU37u97k8WApXDA': 1,\n             'CuBhP-V5ljzLRdoba_RaQg': 1,\n             '7UrC_uBsJ6iwZZgX7MWSNg': 1,\n             '5OifLXTWo54ZIMjvT02zwg': 1,\n             'eJvwbwXDL6H1AWpg5l6dJQ': 1,\n             'zWe5FXi4ZN52FNyDWnYUgA': 1,\n             'AVr1gWtM0e5HvTerc_3x7A': 1,\n             'oaMWvltopGp0yvXS9iPfCQ': 1,\n             'SRxTpMMc9J3s_5U3DZb3Fg': 1,\n             'idjw_Wd7IbIbUamLt3nsxg': 1,\n             'Ixje5jPZu4NYI5Rawgo8jg': 1,\n             'i8I3W_w7vwj1dmZ7na7LFg': 1,\n             'zcwSvdlg6nQsZU47c69aPg': 1,\n             'MAbNplesgd4D_jaPwT_ZSw': 1,\n             '3UGVMXIn2guYOXJyDbZrBQ': 1,\n             '_bFmTYYe8rsdI6-ray62-A': 1,\n             '_4V6E0-yaWYzida01exweg': 1,\n             'j5k_TXxDlhk1ATdnP7TpHg': 1,\n             'aYz7yCK598WbOqyFgrYpDw': 1,\n             '3I9md54GnU462m0uviywng': 1,\n             'Zdcz5xifgrReZlEasLE_jw': 1,\n             'zmmydx8t_xnIFNSoEEEpwQ': 1,\n             'VSHONI8c8SLcYPTGQgC9cA': 1,\n             'C0WovUGKCakmRRquSG1Jnw': 1,\n             'eOO3udGR6D6g4Wnskfr9wQ': 1,\n             'MKpIbUNcvbZvuyEJSYTWrw': 1,\n             'H4m8CrFxKLaQbT42fM1vdg': 1,\n             'lq1ILOHPH6EpuaUfQjQGRg': 1,\n             'QqyEI30cnK51jISgJHR-hg': 1,\n             'EEBJzMdiOspK3daR_ciRew': 1,\n             'gHjiVOWsK4rGfwvzAJQI7g': 1,\n             'A1OUuu0MXPn1vb7ImKJyLg': 1,\n             'JgX4utQIdZ8AYMZQGnDT0w': 1,\n             'nmWUXUTK8JBmmznLth913A': 1,\n             'csvcqZLnasIK9rNKZDdQfg': 1,\n             'CqJVbpoTo8Jx1EnrqbJcpg': 1,\n             'lEz60kALvhe0Qu3uhFulgA': 1,\n             'f5yh6u9eNWvKjdyfSQWb8w': 1,\n             'ytWutinyjghnJNen9BDXeQ': 1,\n             'dQ-mpqHo3emqmQRdfN2Egw': 1,\n             'IXU8dBo7aEVnprWV1N1KwQ': 1,\n             'Gdf9qtgdRxlux_UOtZfwdw': 1,\n             '5jMQI1-oqUy208S3-D60GQ': 1,\n             't9m0_gNOwjX8vs4OQ2iMig': 1,\n             'd3Rs-HVTMOTBbsDjbUwocg': 1,\n             'Ovj9SXORzT6GbUazUGvSDQ': 1,\n             '9TLAmKgJLhH6J8uOlQe7xQ': 1,\n             'n7RU2QfVYNOkFqW0X7WSeg': 1,\n             'WxxHks-qVsVE-XLupaBhHw': 1,\n             'LYilTODYrRoCsSqk9tcWsA': 1,\n             'Y65r4NYMdzYvhMoBIfqNTg': 1,\n             'eH8d9DWhavt7Aequ_0bafw': 1,\n             'PsDkWuGYMi9jQ4wktekDkw': 1,\n             'ZHPzsyrNRbmTlnvG0FhyOQ': 1,\n             'tbMjERa7s7P63nkNq8heIA': 1,\n             'P19wbjJ2CejFzzL7pUPZ5A': 1,\n             'uk3GlQZgYLvhfcZdJU8V-A': 1,\n             'ViCqKda0F4XId-qETUSOQg': 1,\n             'QyDQvWUWgBs7JBUUm1PlzA': 1,\n             'vjktLRlIz3DLf6h1TsTblg': 1,\n             'mR27DvUhfuzgZ8sCnu6XIQ': 1,\n             'plJDKWRVRXkonzI8wkU3oA': 1,\n             '-3tkZ3KK6ZE_jh2kqcd9sA': 1,\n             'ra17wIQwhbizHI8Ej2rOyQ': 1,\n             'GUdBFCngevKMbUn8ZiWgbw': 1,\n             'UE1Mb_xT5pKQ3j_bH2aw6w': 1,\n             'DvHS7YFTiZjhpjTulCAZtg': 1,\n             'pqXwddq0FyyejseuJDMJfA': 1,\n             'FPnZouJsDHyf6HF90cGYWw': 1,\n             'IYYZ16ayLEKdu-40h1pjxQ': 1,\n             'zg94INMUxbO1iMqyqd0wfg': 1,\n             'UWAfSf2bADt5nJ8fDBDYSg': 1,\n             'pBTi0NyqOq75AtTF9MOtrg': 1,\n             'JFnNd9Ak1E0mHv5_IT5vSw': 1,\n             'cT0AoNtiQ_vl5MY5_t-V1A': 1,\n             'HVZvLhysRZo53bycWyxOvA': 1,\n             '38RefagdxAvHUmRL33ak-Q': 1,\n             '_vTqr5i2QA2EylO0G7QyQw': 1,\n             'W64W4jDMQa_htzo2MWcfXg': 1,\n             'RaNkWBMywhBqCZOQWSN_SQ': 1,\n             'FVMxBCuq-rm9vYZRyZPF0g': 1,\n             'WMKFkq_xgxh56ILhJOuuJg': 1,\n             '_p_jgkJwjPyL9jGP3WeSGw': 1,\n             'FCfYbsAd7M4b5KYHXrQO9w': 1,\n             'AkeuXq0O9CeuBEZrBgTaOA': 1,\n             'KEslI09JnREKZDgqIAJJgQ': 1,\n             'bw47OCNHoqDMHGEgs5AqQA': 1,\n             'BxRbr-kzth04hGHVqwLBNw': 1,\n             'gtbTQDg1vmtnmgOcnbp_zg': 1,\n             '1nwUSWnNNgK5uRbIhVvfqQ': 1,\n             'pE39vgQgKWW_mEZUVpog9Q': 1,\n             '9dTnpsb_tO25h44IAoeRjQ': 1,\n             'h70pu6AzWM7wf8JMJ8dsdw': 1,\n             'IE6Z_tEs9a2FoB4ftD_1EQ': 1,\n             'gki--7n8hGP1QUgRBEI0iA': 1,\n             'Sn3lbgFvXgsw_wAscdBR6w': 1,\n             'PazU0KA1uwgsCTVjKyUkeA': 1,\n             'qv6zFKA9j2_YSkZ3ImUHAw': 1,\n             '1xzHxZcmcLwEEEcWYF4UCQ': 1,\n             '9pn2H1VKGfrR9Jl89Qq6VQ': 1,\n             '_oBHqdYH8djqS2znKBG31Q': 1,\n             '61PGwSCwPfartFqAh_2loQ': 1,\n             '3bX-g7G5vhyGkRoC198IGQ': 1,\n             'Nd6DXapY6V8oQbxQ4KvFqA': 1,\n             '6JOAcXpKy35AjnZVDbHuyA': 1,\n             'l3Q9ZEBIhwYwleMQqe3UKQ': 1,\n             '3fGbNleeZsxbW4tO1Fn0KQ': 1,\n             'ZGee27zOLbIKmHuOWG63rg': 1,\n             'WUAZdz-HuRPwzfAvf0sZNg': 1,\n             '6DOCIb7ibB0K98IH8jHP9Q': 1,\n             'HT8K64eWldN-Sp24JaE3Ag': 1,\n             'L4TRVyG4-shh6_JfJA7XaQ': 1,\n             '7sz6iu_hhhRC4m3bCgW7dA': 1,\n             '7YzWunPYijpD6rZ9DzHb8w': 1,\n             'ov4YxYCGExVET18bqkLhfw': 1,\n             'hm1MLz1yJV--ceZG4RY1oA': 1,\n             'ksqp5hn2c4P_mzhd3NnePA': 1,\n             '0NOpTqfriSLIf03A1NkrcA': 1,\n             'rB192W7l2EVeIxPTcC5mUg': 1,\n             'YhWvn8ZLK52tnElIkjRvbA': 1,\n             'R6jl6spYWNPntt2I883IYA': 1,\n             '6QSxN_l1QBmVfvGRS5qvHw': 1,\n             '3u_lBsMU2ZWucZX8E5LmDA': 1,\n             'CVuFnqF76iT9NHXOK4tP_Q': 1,\n             '6nB1ZFIrg0PZQzd0kMnUmg': 1,\n             'qRa7TpJh3k6-dzd2PTQhbA': 1,\n             'eM_QS5xsB5qGu6iboCWzRA': 1,\n             'q1c8bEumtD385h-iFni4mQ': 1,\n             '8v1rpTH0d8YjjGWA892l1Q': 1,\n             'lMCDRwmdghY_gNh3yrbWaw': 1,\n             'RJ6ZGl5dcz9N0SQl94Bs4Q': 1,\n             'aLASm0ClcNoRWWIxfLFnHA': 1,\n             'TeaLf_0_mJQZOKPF7dLsQQ': 1,\n             '-ZTFXoZWYey2cvhu3AKD1Q': 1,\n             '6RGEnstC_KeJDirZis6IRw': 1,\n             'ERgCuO3k_Qshks0KwbEG9A': 1,\n             'O85_xsbSz1RFM0G_jARDbA': 1,\n             'ReQSXrI4fpuNlgv9EKbFPw': 1,\n             '0a3Dd8jXiif-JlgHRkre9A': 1,\n             'tbYvW3edpL5eXCB1HsOVPg': 1,\n             'cIJJ9uSuOYIfx1wL28seZg': 1,\n             'ExFDYWZBs0Tws9A17ZoGmw': 1,\n             'kPGcSAwQJmi7wopLElfvfw': 1,\n             '1Sh0Y6UfbljY0uepP4hN3g': 1,\n             'A0dXe-kLmdTxQ9YCdNPCRQ': 1,\n             'XQ4aXSVXhRjEbu5wyI6Tbw': 1,\n             '10CFw6VfesRD-AfO4-1BJQ': 1,\n             '8vlCXT4t4X_FWKf8GiVi9A': 1,\n             'K9Z6CwOGKQOwICNKZaM-jQ': 1,\n             '5X05IF0QvnnDuPOrkzYiMg': 1,\n             '5QldfnwS_mBiyqeui_xe9g': 1,\n             '6xxAxuTB6X66c8IgjlIubw': 1,\n             'Q7uMmwsOeI20CV8Lm99Zcw': 1,\n             'ETe0Npf2wSZmYXx7sRa4hA': 1,\n             'QqAKZb6jAltvPvC4AGZmeA': 1,\n             'PCPaKq52-I5yUCkUBleL4w': 1,\n             'kWuRVA4jMW2zHGPvjL2C4A': 1,\n             'ys0GcA_gcV8_eCh-PJf6ZQ': 1,\n             'XrYJ-LEHiSD7ePEyBJTvOg': 1,\n             'UTnt7o2BlxBfg6poYg-zGg': 1,\n             'LRgKCC5GWOr_sQNov9Nm1Q': 1,\n             '-jHteaGRjiG-R1wNiwMf3Q': 1,\n             'WAX7By8z_PIp62yM1GHHsQ': 1,\n             'L8vtOaPrsm_-Wp7U_8zZQQ': 1,\n             'Y6zLfO3f2-w88Xhopwituw': 1,\n             'wwQISDU2Iwfm2e8i-odgZA': 1,\n             'M72QwtkIf50C9wZrlEduvg': 1,\n             'BmeqxOQWpDtEwVZUyqvVjw': 1,\n             'E5PqsL7BXK7BZIvCsZ94Gg': 1,\n             'iVXfBRJVFteXAuFLMAeBxQ': 1,\n             'Ia_D-FYWjvMtIJ5MsWgoeA': 1,\n             'ATEZwfrT4ymD49Tas1pBOg': 1,\n             'VL8z1ZlsuZUpupsApHCXaw': 1,\n             'X2dREPsoFX5vhWsOf1kq4A': 1,\n             'c7H3Kv8-Z5gSjd0I2u6S5A': 1,\n             'gn1qKx2bhi8ML_TuefrRhw': 1,\n             'Ji_9Jc5v0cBkgAGlWtiBWg': 1,\n             '7ELKEH604bqquKUcC5O__Q': 1,\n             'UH5vOl8S0i4RL4KS6kYWfQ': 1,\n             'KKuekf17oyGspH1JUMeyTg': 1,\n             'OHDQJI0hF1L4Wsgld5Egpw': 1,\n             'J5Eb7LhJaOa20k0ppcOCOg': 1,\n             'uMA2C225bOK_NMoNl1U4xg': 1,\n             'zIv_Vov0ZZIUyMCMNBOvPw': 1,\n             '-4vZPTrh6Ie78ZWqX4U-aw': 1,\n             'i4VWl2nYY_VQDiV0hryQSg': 1,\n             'awTTAKRsCYGFktP0Ct5ESw': 1,\n             'XYXJxXUeMmx-fE_j8KFZfA': 1,\n             '7Zu2vqi_GBoTNlGpF7mWsQ': 1,\n             'sg_RXrLWy_4WGHUWn4abbg': 1,\n             'OUhs8QRg0FlkuZNU87Qi5A': 1,\n             'yyUlneqnu-pc6RwHGxLtTA': 1,\n             '8IkToDL8mEeY3Urk_HnNPg': 1,\n             'Nwq1YdiJn6yId-lN49l0Xg': 1,\n             '8b7p_E-fjtzByDvWpHpo6Q': 1,\n             '2GMXTjiOxh6mfmHuzOPlJQ': 1,\n             'GvErBwGYbQ_tAZafYOibag': 1,\n             '11zLInmqZk7j8zdIiTdP1A': 1,\n             'NOEVJ9IIPagtrNe-TiVrVQ': 1,\n             'z5SP4Yfef3NVc-qodI6tXw': 1,\n             '05bkPSSr2D_RGexcb1bcMQ': 1,\n             'PAStEusOqFKanHVLPaM8lQ': 1,\n             'm5OMRpH9Zj12Wu5BqK0t5A': 1,\n             'g_kHZnU6VMLbvoFulzbOUA': 1,\n             'tl0bsSX9n1NfBZNtDT2ZRg': 1,\n             'DagMjrdkT0pshP6jt4F4sw': 1,\n             'OKkXcU4NauFdqfHyWnReAg': 1,\n             'uXNrryzWvDBcG71Z1QH8Bg': 1,\n             '-CoLD50DEXgij2ypusL9pQ': 1,\n             'CYJfRf3fkVUO0d-ZmhHs_w': 1,\n             'nPH569O6LQuSwyereuwUXg': 1,\n             'M-ZsTGpm3qgV9uAiAtXIlA': 1,\n             'Cni3J27qztOoyGZRt_0SPQ': 1,\n             '7ujd08c4Wy2BLAsVO52e1Q': 1,\n             'vaH9rXNt7CiDPBRSxXo5Zw': 1,\n             'ne85Aj6n69fTBnPkLlRmJw': 1,\n             '6XSNRY-bJXHiPpUa-8g_Ow': 1,\n             'ADVeNs-GjZGwb0bPo_YNkQ': 1,\n             '8ontWWGd0rMzLb81b1Q40g': 1,\n             'AvA2-19GjMTjomo8eP_74w': 1,\n             '9QHTu3CE1qBWm1axzVgGxw': 1,\n             'or92W4NpaWbaHIQKS0kVtg': 1,\n             'zDtrA6V8L9KD2pfHbMsO6w': 1,\n             'pzUAIZ67cZXfXN5vEf7Blw': 1,\n             'KsQlghM_YBR-fo3uwFYabQ': 1,\n             'nT3siawADe0QCoU64yGpsQ': 1,\n             'XOeV29eVivWboCuzqPJ9RQ': 1,\n             '6qEnyXhK5pY7on90T-gc4w': 1,\n             'LwRzr3MsQUmKDGvIeLZm_Q': 1,\n             'bFqxG3HCQ9TY-4l_CtRZXA': 1,\n             'dIyHvvdii3etR-wkkACdgg': 1,\n             'uNrYUWrVfoBUQCm9Bm7tfQ': 1,\n             'zfJnhba1cKScXW3i3Y4b2A': 1,\n             'ImXUiS49ZjWX_1DzBnfHkw': 1,\n             'UNVMaYwe1RqCFNcP8fapHg': 1,\n             'KzO0DV-uNheXuyb_IAuE_w': 1,\n             'MoOOLerEQy-hkOfFXVZy8g': 1,\n             's40XtNhoy30Y0kjuHESHdA': 1,\n             'w-mXQBcPlwD74jN3n26rgQ': 1,\n             '-QyoLz48lz00GzYHjJ12KQ': 1,\n             'qQjDKFtcVtllNiN64mLgOQ': 1,\n             'EBUd8WsseVkf7m-JJ9e98A': 1,\n             'hiJLkxy2FCmexG0qsKhaQg': 1,\n             'Iwzd9tyZzyettoHaAQ3X3A': 1,\n             'i8zo51yyt2KkDMu-W2FQ_Q': 1,\n             '_PD1rPRwQgphv2iVWG6z_A': 1,\n             'vETMUgu1-NKIu2e81s9Jfw': 1,\n             '7LrcDD1EgVMt9Z0CduRJKg': 1,\n             'gwm-PcfSQVqCI1L6kKyq6g': 1,\n             'bULfEruSUz_pLc78B_JJXg': 1,\n             '17fWpiEGw_UvXPm88fWZWg': 1,\n             'yeoEBmsFDkt7g_YwCCZNqA': 1,\n             'JXY83MzaYaJLIpmNd8mGtw': 1,\n             'nSI44xafwyPCKwtEbJ4Q3w': 1,\n             'f8yFDwkqNgbs9xatplOUZw': 1,\n             'EWmhO271289wNRh9YM_g4A': 1,\n             '6f72f_fEM_n2KM0Crq0cQw': 1,\n             'O425Ack-SH5rPJPR1TvmPg': 1,\n             'p7ZQ1CMVI82Tt0BWt7Azsw': 1,\n             'd3dKIcISXriSm-_ez5S0qg': 1,\n             '7ZciEVU7CZZZDj5mdJZKnw': 1,\n             'cPCLUvXQVq0-QXDaaXGrTw': 1,\n             '_0rRSxdP1CICVvxeCBROvg': 1,\n             'HhNK7ylNm8eSRYJFeVttcw': 1,\n             'z7j5l3nYdvrGeypKaNgcdg': 1,\n             'JmrYKRwIfYMwmFK3OyK8OQ': 1,\n             'vuCAjy1wfksdzy8VhEHLFA': 1,\n             'Z_JmDbVKYR-OkIQStu7baw': 1,\n             'WTZspGKRFVO44bXfEQ3t_w': 1,\n             'nLRXb2AFve2FuK10KGW1uA': 1,\n             '_Kk_daR3xre25Gpq7dv9mQ': 1,\n             'mQbhdy3G4tNzrZs6T67-Dw': 1,\n             '0g1TZ9YRZbZIRVb3YX8-Zg': 1,\n             'qZkOiufmh4SeCaxMAuiqyg': 1,\n             'BHDuxuk6O5PJElZVUh6CZQ': 1,\n             'NRuwFNiDyMfuLm_ioJMVkg': 1,\n             'FqQ01KcMrsZgiRwtUbQYcw': 1,\n             'oy0pb29WXX7mgCUrLfYyMA': 1,\n             'cEURSng3f2_LoXMMOmKTVg': 1,\n             'PliQ1Jc1inKkEVjI2Kv_yg': 1,\n             'Aa2KmttV7u0dW0PeMvBMfQ': 1,\n             '5cK3HWc9YtJ6v5gFtlQMvw': 1,\n             'PpBFoZaC9LmGckjsou3QBg': 1,\n             '0nk16IqKpU-xTMLyT0vQPQ': 1,\n             '0unXF6vYeJto7WQ6557sfg': 1,\n             '9Nl05XznhOrLkcIAs38PNQ': 1,\n             'fajxFPuZSruWqKzOk-GOmg': 1,\n             '55vFKphSbf9KJOlBAGtegw': 1,\n             'BYepWaCMDy7F3XH31fkHPg': 1,\n             'pr3BZKyvJ4wpBmBcmz0huQ': 1,\n             '8t-vAzX2KuftryQkMBr7VQ': 1,\n             '3meqafrdv31ETuyL2szehQ': 1,\n             'yY0wyRPJZ1ON0ScrMyv9ZA': 1,\n             'Mp9fM-voqaqxPSkWetrLrg': 1,\n             '74Qwy0gxyD8sDf-TLvOBbw': 1,\n             'VV61y-6ZwSfYwessg8kzuA': 1,\n             'HSEpgxIcTzYZ2sp27T-IOA': 1,\n             '8P38-Ba-CtNGPmQkgmbCPA': 1,\n             'dRemHCws-e8_8XPXPgroRg': 1,\n             'XU8i8ks48KLPjs-nQIYkbQ': 1,\n             'x36ljdulHVNMjSB4vqjq5g': 1,\n             'SqC8B-xMu2Z569dWrRsOQQ': 1,\n             'FRtTRmPRtddmbsvdMD5kQA': 1,\n             '5KX1Qiyd_12Qfm1HJRbcxA': 1,\n             'LOr1UZzT-wetoz_y-jrlrw': 1,\n             '8fv38UQlBoIVSDkEvfcP6A': 1,\n             'W8JoWzC8ntvkih7jXlyCag': 1,\n             'z3d5X8Xm_liA6M5wh2yrqA': 1,\n             'CFLewEoJbqNjgTBVL59BCA': 1,\n             'a54lV0BMFzySAtminniMQA': 1,\n             '0RjHalp4H2Zrjx2GgUHnjg': 1,\n             'i8FRt9NlTWt2u-1Zrh5DgA': 1,\n             'JuXEB1qomolNgJejbnetBQ': 1,\n             'ksdr40eiLfChQsKk7kw7Yg': 1,\n             'Bgg0AyHuwRr6ndgdBYSZ0A': 1,\n             'V15Rw_EahOJGlbqa_Y1tSw': 1,\n             '73tC5GTIfkhFvkv1G7U2mA': 1,\n             'iWMxMUWNXfdvVl9oXSaltA': 1,\n             '9DNJyBlKdVEorXwR1KQeDg': 1,\n             'LgWqEOj7zXoqEOaCvofXEg': 1,\n             'uXfX_1rRoG_i1V2graXSSg': 1,\n             'hskas0J4ThaCPVudBwPwDA': 1,\n             '-hgSbbV_NU2Z4DimdjsfHg': 1,\n             'cfuZM6AaU0BGvJTJKxfWPg': 1,\n             'S-OtdHasdQSX5v_mWePbmQ': 1,\n             'hwzrnwUiqJUHSN_Gmpp4pA': 1,\n             'HIuhdz2mTG7e1wPZam3IPw': 1,\n             'T0pSwWkQROABovizSv8wdw': 1,\n             'gjrjz7PBjx1hVB9eM7yo4A': 1,\n             'FYbVgihKT3_jM-4TkL82Pg': 1,\n             'HW3mpbaksBA77jVj1KQqXA': 1,\n             'q3DN4-IQPEEcbicZxHlhhw': 1,\n             '5JttwB3cfxkATSR2RmvLgA': 1,\n             '1ybeoasEXrv6fqwMbLDW7g': 1,\n             'wGWVdYreDt-lbQ1iJ31faw': 1,\n             'l6FZ1AF9-cOCq5KitC5jFQ': 1,\n             'RsjmmfHSsMzbeEdusFdvhg': 1,\n             'paxd3AzR54V_4ZIGEHuKBw': 1,\n             'R1cYuSMumxfiknWSsz5cmg': 1,\n             'sEEgl_ygHS0WW1SaFCPN5g': 1,\n             'mJovDHVE4rc6yvS0IszX1w': 1,\n             'dLqT8DFBMI17Q_8Rn8YyAA': 1,\n             'MaQlexUXG6w2LmW7E36LCQ': 1,\n             'vxbAUF1Ha1BK6g4woPgf5A': 1,\n             'X_RizJNiFdleDEz0bM5rsQ': 1,\n             '5VmsvQf2O3SS9dT1UYFBCw': 1,\n             'V4cLi_4e-_V-n8dmMhAAIw': 1,\n             'UtNxfoiFquil-4KqOAlpwA': 1,\n             'MCl4M1_vQNIPH9W_ET5ghw': 1,\n             'HX15__H1SKgMTPQBCeNitg': 1,\n             'sZl_YcXaRLpsQO0kYp4IuA': 1,\n             'D7KCJQIXXDxPvmSGZG3n6g': 1,\n             'X2kuiMLJuk1dAHlgv9o3xg': 1,\n             '6Fpr3AmH0LER-OsRCZjQEg': 1,\n             'QWPCZjdC5S0fuCAvkiqtzA': 1,\n             'WSfooHvv7T2LzhdazOucLw': 1,\n             'CuP1qr0tH6GMsp2y0nghOQ': 1,\n             'rt-6jH4YQBEPD4xLcQ4qpw': 1,\n             'jCUBy5HXRjg38b4jb2-eNA': 1,\n             'eFnevxRwNcYaKb3Agw0z2w': 1,\n             '06gFv9XSTBDsVBp0euUORA': 1,\n             'rXnOSdoyeMb5aNfBSBjSIg': 1,\n             'kcnEe0aSubx2QED9m9X0-A': 1,\n             'RptRh2L0f_XiANhbRFnFWg': 1,\n             'RB1abtdoWjClQjQ2BVgPwA': 1,\n             '-fR193vo3Wb_hKjvhlOq7Q': 1,\n             '9KNff_2Qdqxbr1dzuqavWA': 1,\n             'OqSQZ7o26zfDz8Zp8szABA': 1,\n             'l4rg6szA3uHWdV0sAZ6Y-A': 1,\n             'cU1u8UtJLqpcMtwc48F9Tg': 1,\n             'NJNGf6sVaQuJ7KECUjOidQ': 1,\n             '2nF30w6wpRbSlMHApBOk6A': 1,\n             'cLniN3HxXg6IcrG1jxZ4Uw': 1,\n             '1V38sXUk6_Y78xa7MCqMIQ': 1,\n             'nQb1xbb8x7w6OMsBJJnrdw': 1,\n             'myW-CSMBP4gqgHFJS8BNxA': 1,\n             'WxAfJ4PshZ-A6eCu4ehVgw': 1,\n             '2RNfARvv00hM-HmROvc-xA': 1,\n             'v5SEUIAWb8zo3leUhzrFQw': 1,\n             'OaPsdBiaxdij4eSMLO6Ebg': 1,\n             'dhO5w6vodwj8y3BNEfLhzQ': 1,\n             '2l2AOj3EyK5q4o30-m9IgA': 1,\n             '-b25IXlSQy91ayrVq3PPEg': 1,\n             '4dOZ8YGH0Qgvvp3b5Ec06Q': 1,\n             'I1b3SeeBze6na8cEjf_ZuQ': 1,\n             '5o05laxFWrkg4YofETb4NA': 1,\n             'd7xVE3H6bdRucVSWtcUofg': 1,\n             'tZ7guKlHjEg0ZhBHt6fCyg': 1,\n             'tbBuu8y4o80qghMGMRXJ0Q': 1,\n             '_JPu_5CA09wn-e2Q1gS0Eg': 1,\n             'GWGI6AuW3MK_IQ1VXi7Nsg': 1,\n             'gGjFrWEIAxShVoieC7va6g': 1,\n             'TPmoOnaerDVeDXmbiFJKmg': 1,\n             '50xqBdIFWP7U9laGjQFlmw': 1,\n             'H_aWqEFBR4Kbyw63FPC21A': 1,\n             'XLwiGvOs06dT4XOvBWEVTg': 1,\n             'xo-ZHVUsABPwL3Y1HhwUZQ': 1,\n             'U0HLVZ_lB8KE2Yl1FbgTMQ': 1,\n             'gOLqHhGdlFDgyZNRoZjvhg': 1,\n             '-53-L-G6RvZbSDZ5qbYI9Q': 1,\n             'eBs1QspLxn3_bduNpz2Jyw': 1,\n             'mERFfOR8r-5s_B8FQK6yxg': 1,\n             'zv_fe-KkAVJR3rAbVWTESA': 1,\n             'UxFAhcOZaLyqBvUy8spUVw': 1,\n             'Te1ojb_eB_LtVKjOMwejNg': 1,\n             'TFbS7IeLk6KnU1ku-B8iWQ': 1,\n             'MleHEeXqKtXRh8GD6oXtGQ': 1,\n             '5XR2RJA1tNrrnAgECl22Aw': 1,\n             'u-lPzJNjkHrcJ_GHhuS73w': 1,\n             'BRi6ALgw5ClM0U32V93eWw': 1,\n             'zbalgC4yB7pycbcL35o2Hw': 1,\n             'ma799KpspOUIuOZaH1LlPA': 1,\n             '3Xr24FnOnCkSJfNSpGxBBA': 1,\n             'TNi4ngaDfOXoFjELY__U2g': 1,\n             'mzks5bb3Y_1kS4pI5fXLuA': 1,\n             '1vktAEhXRo-W7I3iGKB1IQ': 1,\n             ...})"
     },
     "execution_count": 42,
     "metadata": {},
     "output_type": "execute_result"
    }
   ],
   "source": [
    "actual_positives"
   ],
   "metadata": {
    "collapsed": false,
    "pycharm": {
     "name": "#%%\n"
    }
   }
  },
  {
   "cell_type": "code",
   "execution_count": 16,
   "outputs": [
    {
     "data": {
      "text/plain": "[1,\n 1,\n 1,\n 1,\n 1,\n 1,\n 1,\n 1,\n 1,\n 1,\n 1,\n 1,\n 1,\n 1,\n 1,\n 1,\n 1,\n 1,\n 1,\n 1,\n 1,\n 1,\n 1,\n 1,\n 1,\n 1,\n 1,\n 1,\n 1,\n 1,\n 1,\n 1,\n 1,\n 1,\n 1,\n 1,\n 1,\n 1,\n 1,\n 1,\n 1,\n 1,\n 1,\n 1,\n 1,\n 1,\n 1,\n 1,\n 1,\n 1,\n 1,\n 1,\n 1,\n 1,\n 1,\n 1,\n 1,\n 1,\n 1,\n 1,\n 1,\n 1,\n 1,\n 1,\n 1,\n 1,\n 1,\n 1,\n 1,\n 1,\n 1,\n 1,\n 1,\n 1,\n 1,\n 1,\n 1,\n 1,\n 1,\n 1,\n 1,\n 1,\n 1,\n 1,\n 1,\n 1,\n 1,\n 1,\n 1,\n 1,\n 1,\n 1,\n 1,\n 1,\n 1,\n 1,\n 1,\n 1,\n 1,\n 1,\n 1,\n 1,\n 1,\n 1,\n 1,\n 1,\n 1,\n 1,\n 1,\n 1,\n 1,\n 1,\n 1,\n 1,\n 1,\n 1,\n 1,\n 1,\n 1,\n 1,\n 1,\n 1,\n 1,\n 1,\n 1,\n 1,\n 1,\n 1,\n 1,\n 1,\n 1,\n 1,\n 1,\n 1,\n 1,\n 1,\n 1,\n 1,\n 1,\n 1,\n 1,\n 1,\n 1,\n 1,\n 1,\n 1,\n 1,\n 1,\n 1,\n 1,\n 1,\n 1,\n 1,\n 1,\n 1,\n 1,\n 1,\n 1,\n 1,\n 1,\n 1,\n 1,\n 1,\n 1,\n 1,\n 1,\n 1,\n 1,\n 1,\n 1,\n 1,\n 1,\n 1,\n 1,\n 1,\n 1,\n 1,\n 1,\n 1,\n 1,\n 1,\n 1,\n 1,\n 1,\n 1,\n 1,\n 1,\n 1,\n 1,\n 1,\n 1,\n 1,\n 1,\n 1,\n 1,\n 1,\n 1,\n 1,\n 1,\n 1,\n 1,\n 1,\n 1,\n 1,\n 1,\n 1,\n 1,\n 1,\n 1,\n 1,\n 1,\n 1,\n 1,\n 1,\n 1,\n 1,\n 1,\n 1,\n 1,\n 1,\n 1,\n 1,\n 1,\n 1,\n 1,\n 1,\n 1,\n 1,\n 1,\n 1,\n 1,\n 1,\n 1,\n 1,\n 1,\n 1,\n 1,\n 1,\n 1,\n 1,\n 1,\n 1,\n 1,\n 1,\n 1,\n 1,\n 1,\n 1,\n 1,\n 1,\n 1,\n 1,\n 1,\n 1,\n 1,\n 1,\n 1,\n 1,\n 1,\n 1,\n 1,\n 1,\n 1,\n 1,\n 1,\n 1,\n 1,\n 1,\n 1,\n 1,\n 1,\n 1,\n 1,\n 1,\n 1,\n 1,\n 1,\n 1,\n 1,\n 1,\n 1,\n 1,\n 1,\n 1,\n 1,\n 1,\n 1,\n 1,\n 1,\n 1,\n 1,\n 1,\n 1,\n 1,\n 1,\n 1,\n 1,\n 1,\n 1,\n 1,\n 1,\n 1,\n 1,\n 1,\n 1,\n 1,\n 1,\n 1,\n 1,\n 1,\n 1,\n 1,\n 1,\n 1,\n 1,\n 1,\n 1,\n 1,\n 1,\n 1,\n 1,\n 1,\n 1,\n 1,\n 1,\n 1,\n 1,\n 1,\n 1,\n 1,\n 1,\n 1,\n 1,\n 1,\n 1,\n 1,\n 1,\n 1,\n 1,\n 1,\n 1,\n 1,\n 1,\n 1,\n 1,\n 1,\n 1,\n 1,\n 1,\n 1,\n 1,\n 1,\n 1,\n 1,\n 1,\n 1,\n 1,\n 1,\n 1,\n 1,\n 1,\n 1,\n 1,\n 1,\n 1,\n 1,\n 1,\n 1,\n 1,\n 1,\n 1,\n 1,\n 1,\n 1,\n 1,\n 1,\n 1,\n 1,\n 1,\n 1,\n 1,\n 1,\n 1,\n 1,\n 1,\n 1,\n 1,\n 1,\n 1,\n 1,\n 1,\n 1,\n 1,\n 1,\n 1,\n 1,\n 1,\n 1,\n 1,\n 1,\n 1,\n 1,\n 1,\n 1,\n 1,\n 1,\n 1,\n 1,\n 1,\n 1,\n 1,\n 1,\n 1,\n 1,\n 1,\n 1,\n 1,\n 1,\n 1,\n 1,\n 1,\n 1,\n 1,\n 1,\n 1,\n 1,\n 1,\n 1,\n 1,\n 1,\n 1,\n 1,\n 1,\n 1,\n 1,\n 1,\n 1,\n 1,\n 1,\n 1,\n 1,\n 1,\n 1,\n 1,\n 1,\n 1,\n 1,\n 1,\n 1,\n 1,\n 1,\n 1,\n 1,\n 1,\n 1,\n 1,\n 1,\n 1,\n 1,\n 1,\n 1,\n 1,\n 1,\n 1,\n 1,\n 1,\n 1,\n 1,\n 1,\n 1,\n 1,\n 1,\n 1,\n 1,\n 1,\n 1,\n 1,\n 1,\n 1,\n 1,\n 1,\n 1,\n 1,\n 1,\n 1,\n 1,\n 1,\n 1,\n 1,\n 1,\n 1,\n 1,\n 1,\n 1,\n 1,\n 1,\n 1,\n 1,\n 1,\n 1,\n 1,\n 1,\n 1,\n 1,\n 1,\n 1,\n 1,\n 1,\n 1,\n 1,\n 1,\n 1,\n 1,\n 1,\n 1,\n 1,\n 1,\n 1,\n 1,\n 1,\n 1,\n 1,\n 1,\n 1,\n 1,\n 1,\n 1,\n 1,\n 1,\n 1,\n 1,\n 1,\n 1,\n 1,\n 1,\n 1,\n 1,\n 1,\n 1,\n 1,\n 1,\n 1,\n 1,\n 1,\n 1,\n 1,\n 1,\n 1,\n 1,\n 1,\n 1,\n 1,\n 1,\n 1,\n 1,\n 1,\n 1,\n 1,\n 1,\n 1,\n 1,\n 1,\n 1,\n 1,\n 1,\n 1,\n 1,\n 1,\n 1,\n 1,\n 1,\n 1,\n 1,\n 1,\n 1,\n 1,\n 1,\n 1,\n 1,\n 1,\n 1,\n 1,\n 1,\n 1,\n 1,\n 1,\n 1,\n 1,\n 1,\n 1,\n 1,\n 1,\n 1,\n 1,\n 1,\n 1,\n 1,\n 1,\n 1,\n 1,\n 1,\n 1,\n 1,\n 1,\n 1,\n 1,\n 1,\n 1,\n 1,\n 1,\n 1,\n 1,\n 1,\n 1,\n 1,\n 1,\n 1,\n 1,\n 1,\n 1,\n 1,\n 1,\n 1,\n 1,\n 1,\n 1,\n 1,\n 1,\n 1,\n 1,\n 1,\n 1,\n 1,\n 1,\n 1,\n 1,\n 1,\n 1,\n 1,\n 1,\n 1,\n 1,\n 1,\n 1,\n 1,\n 1,\n 1,\n 1,\n 1,\n 1,\n 1,\n 1,\n 1,\n 1,\n 1,\n 1,\n 1,\n 1,\n 1,\n 1,\n 1,\n 1,\n 1,\n 1,\n 1,\n 1,\n 1,\n 1,\n 1,\n 1,\n 1,\n 1,\n 1,\n 1,\n 1,\n 1,\n 1,\n 1,\n 1,\n 1,\n 1,\n 1,\n 1,\n 1,\n 1,\n 1,\n 1,\n 1,\n 1,\n 1,\n 1,\n 1,\n 1,\n 1,\n 1,\n 1,\n 1,\n 1,\n 1,\n 1,\n 1,\n 1,\n 1,\n 1,\n 1,\n 1,\n 1,\n 1,\n 1,\n 1,\n 1,\n 1,\n 1,\n 1,\n 1,\n 1,\n 1,\n 1,\n 1,\n 1,\n 1,\n 1,\n 1,\n 1,\n 1,\n 1,\n 1,\n 1,\n 1,\n 1,\n 1,\n 1,\n 1,\n 1,\n 1,\n 1,\n 1,\n 1,\n 1,\n 1,\n 1,\n 1,\n 1,\n 1,\n 1,\n 1,\n 1,\n 1,\n 1,\n 1,\n 1,\n 1,\n 1,\n 1,\n 1,\n 1,\n 1,\n 1,\n 1,\n 1,\n 1,\n 1,\n 1,\n 1,\n 1,\n 1,\n 1,\n 1,\n 1,\n 1,\n 1,\n 1,\n 1,\n 1,\n 1,\n 1,\n 1,\n 1,\n 1,\n 1,\n 1,\n 1,\n 1,\n 1,\n 1,\n 1,\n 1,\n 1,\n 1,\n 1,\n 1,\n 1,\n 1,\n 1,\n 1,\n 1,\n 1,\n 1,\n 1,\n 1,\n 1,\n 1,\n 1,\n 1,\n 1,\n 1,\n 1,\n 1,\n 1,\n 1,\n 1,\n 1,\n 1,\n 1,\n 1,\n 1,\n 1,\n 1,\n 1,\n 1,\n 1,\n 1,\n 1,\n 1,\n 1,\n 1,\n 1,\n 1,\n 1,\n 1,\n 1,\n 1,\n 1,\n 1,\n 1,\n 1,\n 1,\n 1,\n 1,\n 1,\n 1,\n 1,\n 1,\n 1,\n 1,\n 1,\n 1,\n 1,\n 1,\n 1,\n 1,\n 1,\n 1,\n 1,\n 1,\n 1,\n 1,\n 1,\n 1,\n 1,\n 1,\n 1,\n 1,\n 1,\n 1,\n 1,\n 1,\n 1,\n 1,\n 1,\n 1,\n 1,\n 1,\n 1,\n 1,\n 1,\n 1,\n 1,\n 1,\n 1,\n 1,\n 1,\n 1,\n 1,\n 1,\n 1,\n 1,\n 1,\n 1,\n 1,\n 1,\n 1,\n 1,\n 1,\n 1,\n 1,\n 1,\n 1,\n 1,\n 1,\n 1,\n 1,\n 1,\n 1,\n 1,\n 1,\n 1,\n 1,\n 1,\n 1,\n 1,\n 1,\n 1,\n 1,\n 1,\n 1,\n 1,\n 1,\n 1,\n 1,\n 1,\n 1,\n 1,\n 1,\n 1,\n 1,\n 1,\n 1,\n 1,\n 1,\n 1,\n 1,\n 1,\n 1,\n 1,\n 1,\n 1,\n 1,\n 1,\n 1,\n 1,\n 1,\n 1,\n 1,\n 1,\n 1,\n 1,\n 1,\n 1,\n 1,\n 1,\n 1,\n 1,\n 1,\n 1,\n 1,\n 1,\n 1,\n 1,\n 1,\n 1,\n 1,\n 1,\n 1,\n 1,\n 1,\n 1,\n 1,\n 1,\n 1,\n 1,\n 1,\n 1,\n 1,\n 1,\n 1,\n 1,\n 1,\n 1,\n 1,\n 1,\n 1,\n 1,\n 1,\n 1,\n 1,\n 1,\n 1,\n 1,\n 1,\n 1,\n 1,\n 1,\n 1,\n 1,\n 1,\n 1,\n 1,\n 1,\n 1,\n ...]"
     },
     "execution_count": 16,
     "metadata": {},
     "output_type": "execute_result"
    }
   ],
   "source": [
    "filter_bit_array"
   ],
   "metadata": {
    "collapsed": false,
    "pycharm": {
     "name": "#%%\n"
    }
   }
  },
  {
   "cell_type": "code",
   "execution_count": 178,
   "outputs": [],
   "source": [
    "with open(output_file,'w+') as f:\n",
    "    f.write('Time,FPR\\n')\n",
    "    for t in range(len(fpr_output)):\n",
    "        f.write(str(t) + \",\" + str(float(fpr_output[t])) + \"\\n\")"
   ],
   "metadata": {
    "collapsed": false,
    "pycharm": {
     "name": "#%%\n"
    }
   }
  },
  {
   "cell_type": "code",
   "execution_count": null,
   "outputs": [],
   "source": [],
   "metadata": {
    "collapsed": false,
    "pycharm": {
     "name": "#%%\n"
    }
   }
  }
 ],
 "metadata": {
  "kernelspec": {
   "display_name": "Python 3",
   "language": "python",
   "name": "python3"
  },
  "language_info": {
   "codemirror_mode": {
    "name": "ipython",
    "version": 2
   },
   "file_extension": ".py",
   "mimetype": "text/x-python",
   "name": "python",
   "nbconvert_exporter": "python",
   "pygments_lexer": "ipython2",
   "version": "2.7.6"
  }
 },
 "nbformat": 4,
 "nbformat_minor": 0
}