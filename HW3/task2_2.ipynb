{
 "cells": [
  {
   "cell_type": "code",
   "execution_count": 1,
   "metadata": {
    "collapsed": true
   },
   "outputs": [
    {
     "name": "stderr",
     "output_type": "stream",
     "text": [
      "/Users/hiteshmanivannan/.pyenv/versions/3.6.15/envs/sparkhw/lib/python3.6/site-packages/pandas/compat/__init__.py:120: UserWarning: Could not import the lzma module. Your installed Python is incomplete. Attempting to use lzma compression will result in a RuntimeError.\n",
      "  warnings.warn(msg)\n"
     ]
    }
   ],
   "source": [
    "from pyspark import RDD, SparkContext\n",
    "\n",
    "import pandas as pd\n",
    "import json\n",
    "\n",
    "import pickle\n",
    "\n",
    "from xgboost import XGBRegressor\n",
    "from sklearn.metrics import mean_squared_error, mean_absolute_error\n"
   ]
  },
  {
   "cell_type": "code",
   "execution_count": 2,
   "outputs": [],
   "source": [
    "#train_data = \"../resource/asnlib/publicdata/train_review.json\"\n",
    "#user_data = '../resource/asnlib/publicdata/user.json'\n",
    "#business_data = '../resource/asnlib/publicdata/business.json'\n",
    "\n",
    "train_data = \"data/review_train.json\"\n",
    "user_data =  \"data/user.json\"\n",
    "business_data = 'data/business.json'"
   ],
   "metadata": {
    "collapsed": false,
    "pycharm": {
     "name": "#%%\n"
    }
   }
  },
  {
   "cell_type": "code",
   "execution_count": 3,
   "outputs": [],
   "source": [
    "def feature_select_user(partition):\n",
    "    for row in partition:\n",
    "        data = json.loads(row)\n",
    "        yield data['user_id'], data['useful'], data['average_stars'], data['review_count']\n",
    "\n",
    "\n",
    "def feature_select_business(partition):\n",
    "    for row in partition:\n",
    "        data = json.loads(row)\n",
    "        yield data['business_id'], float(data['stars']), float(data['review_count']), data['state']\n",
    "\n",
    "def feature_select_train(partition):\n",
    "    for row in partition:\n",
    "        data = json.loads(row)\n",
    "        yield data['user_id'], data['business_id'], float(data['stars'])"
   ],
   "metadata": {
    "collapsed": false,
    "pycharm": {
     "name": "#%%\n"
    }
   }
  },
  {
   "cell_type": "code",
   "execution_count": 4,
   "outputs": [],
   "source": [
    "test_partitions = 2\n",
    "sc = SparkContext(\"local\", \"HW3\").getOrCreate()\n",
    "sc.setLogLevel(\"ERROR\")"
   ],
   "metadata": {
    "collapsed": false,
    "pycharm": {
     "name": "#%%\n"
    }
   }
  },
  {
   "cell_type": "markdown",
   "source": [
    "# Note: During predict, just map review as 0 and overwrite with prediction"
   ],
   "metadata": {
    "collapsed": false
   }
  },
  {
   "cell_type": "code",
   "execution_count": 5,
   "outputs": [],
   "source": [
    "reviews_RDD = sc.textFile(train_data).mapPartitions(feature_select_train)"
   ],
   "metadata": {
    "collapsed": false,
    "pycharm": {
     "name": "#%%\n"
    }
   }
  },
  {
   "cell_type": "code",
   "execution_count": 6,
   "outputs": [],
   "source": [
    "biz_RDD = sc.textFile(business_data).mapPartitions(feature_select_business).map(lambda x:(x[0],x))"
   ],
   "metadata": {
    "collapsed": false,
    "pycharm": {
     "name": "#%%\n"
    }
   }
  },
  {
   "cell_type": "code",
   "execution_count": 7,
   "outputs": [],
   "source": [
    "user_RDD = sc.textFile(user_data).mapPartitions(feature_select_user).map(lambda x:(x[0],x))"
   ],
   "metadata": {
    "collapsed": false,
    "pycharm": {
     "name": "#%%\n"
    }
   }
  },
  {
   "cell_type": "code",
   "execution_count": 8,
   "outputs": [],
   "source": [
    "rev_w_biz_RDD = reviews_RDD.map(lambda x: (x[1], (x[0],x[2]))).leftOuterJoin(biz_RDD).map(lambda x: (x[1][0][0],(list([x[1][0][1]])+list(x[1][1]))))"
   ],
   "metadata": {
    "collapsed": false,
    "pycharm": {
     "name": "#%%\n"
    }
   }
  },
  {
   "cell_type": "code",
   "execution_count": 9,
   "outputs": [],
   "source": [
    "rev_w_biz_plus_user_RDD = rev_w_biz_RDD.leftOuterJoin(user_RDD).map(lambda x: (list([x[0]]) +  list([x[1][0][1]])+ x[1][0][2:] + list(x[1][1][1:]) + list([x[1][0][0]])))"
   ],
   "metadata": {
    "collapsed": false,
    "pycharm": {
     "name": "#%%\n"
    }
   }
  },
  {
   "cell_type": "code",
   "execution_count": 10,
   "outputs": [],
   "source": [
    "main_train_file = rev_w_biz_plus_user_RDD.collect()"
   ],
   "metadata": {
    "collapsed": false,
    "pycharm": {
     "name": "#%%\n"
    }
   }
  },
  {
   "cell_type": "code",
   "execution_count": 11,
   "outputs": [],
   "source": [
    "data_df = pd.DataFrame(main_train_file)"
   ],
   "metadata": {
    "collapsed": false,
    "pycharm": {
     "name": "#%%\n"
    }
   }
  },
  {
   "cell_type": "code",
   "execution_count": 12,
   "outputs": [],
   "source": [
    "\n",
    "from sklearn.preprocessing import LabelEncoder\n",
    "le = LabelEncoder()\n",
    "le.fit(data_df[4].unique())\n",
    "data_df[4] = le.transform(data_df[4])"
   ],
   "metadata": {
    "collapsed": false,
    "pycharm": {
     "name": "#%%\n"
    }
   }
  },
  {
   "cell_type": "code",
   "execution_count": 13,
   "outputs": [],
   "source": [
    "train_df = data_df.iloc[: , 2:-1 ]\n",
    "test_df = data_df.iloc[: , -1: ]"
   ],
   "metadata": {
    "collapsed": false,
    "pycharm": {
     "name": "#%%\n"
    }
   }
  },
  {
   "cell_type": "code",
   "execution_count": 14,
   "outputs": [],
   "source": [
    "from sklearn.model_selection import train_test_split"
   ],
   "metadata": {
    "collapsed": false,
    "pycharm": {
     "name": "#%%\n"
    }
   }
  },
  {
   "cell_type": "code",
   "execution_count": 15,
   "outputs": [],
   "source": [
    "X_train, X_test, y_train, y_test = train_test_split(train_df, test_df, test_size=0.1, random_state=44)"
   ],
   "metadata": {
    "collapsed": false,
    "pycharm": {
     "name": "#%%\n"
    }
   }
  },
  {
   "cell_type": "code",
   "execution_count": 24,
   "outputs": [],
   "source": [
    "xgb_model = XGBRegressor(num_parallel_tree=2, max_depth=8, n_estimators=100, learning_rate=0.10)"
   ],
   "metadata": {
    "collapsed": false,
    "pycharm": {
     "name": "#%%\n"
    }
   }
  },
  {
   "cell_type": "code",
   "execution_count": 25,
   "outputs": [
    {
     "name": "stdout",
     "output_type": "stream",
     "text": [
      "0.9749636019730629\n"
     ]
    }
   ],
   "source": [
    "xgb_model.fit(X_train, y_train)\n",
    "xgb_preds = xgb_model.predict(X_test)\n",
    "rms = mean_squared_error(y_test, xgb_preds, squared=True)\n",
    "print(rms)"
   ],
   "metadata": {
    "collapsed": false,
    "pycharm": {
     "name": "#%%\n"
    }
   }
  },
  {
   "cell_type": "markdown",
   "source": [
    "# Wandb"
   ],
   "metadata": {
    "collapsed": false
   }
  },
  {
   "cell_type": "code",
   "execution_count": 16,
   "outputs": [],
   "source": [
    "import wandb"
   ],
   "metadata": {
    "collapsed": false,
    "pycharm": {
     "name": "#%%\n"
    }
   }
  },
  {
   "cell_type": "code",
   "execution_count": 17,
   "outputs": [
    {
     "name": "stderr",
     "output_type": "stream",
     "text": [
      "\u001B[34m\u001B[1mwandb\u001B[0m: Currently logged in as: \u001B[33mrbzkafzx\u001B[0m. Use \u001B[1m`wandb login --relogin`\u001B[0m to force relogin\n"
     ]
    },
    {
     "data": {
      "text/plain": "<IPython.core.display.HTML object>",
      "text/html": "Tracking run with wandb version 0.13.4"
     },
     "metadata": {},
     "output_type": "display_data"
    },
    {
     "data": {
      "text/plain": "<IPython.core.display.HTML object>",
      "text/html": "Run data is saved locally in <code>/Users/hiteshmanivannan/PycharmProjects/SparkProjects/HW3/wandb/run-20221028_204326-2he25hdh</code>"
     },
     "metadata": {},
     "output_type": "display_data"
    },
    {
     "data": {
      "text/plain": "<IPython.core.display.HTML object>",
      "text/html": "Syncing run <strong><a href=\"https://wandb.ai/rbzkafzx/hiteshmanivannan-PycharmProjects_SparkProjects_HW3/runs/2he25hdh\" target=\"_blank\">crisp-cosmos-7</a></strong> to <a href=\"https://wandb.ai/rbzkafzx/hiteshmanivannan-PycharmProjects_SparkProjects_HW3\" target=\"_blank\">Weights & Biases</a> (<a href=\"https://wandb.me/run\" target=\"_blank\">docs</a>)<br/>"
     },
     "metadata": {},
     "output_type": "display_data"
    },
    {
     "data": {
      "text/html": "<button onClick=\"this.nextSibling.style.display='block';this.style.display='none';\">Display W&B run</button><iframe src=\"https://wandb.ai/rbzkafzx/hiteshmanivannan-PycharmProjects_SparkProjects_HW3/runs/2he25hdh?jupyter=true\" style=\"border:none;width:100%;height:420px;display:none;\"></iframe>",
      "text/plain": "<wandb.sdk.wandb_run.Run at 0x181405438>"
     },
     "execution_count": 17,
     "metadata": {},
     "output_type": "execute_result"
    }
   ],
   "source": [
    "wandb.init()"
   ],
   "metadata": {
    "collapsed": false,
    "pycharm": {
     "name": "#%%\n"
    }
   }
  },
  {
   "cell_type": "code",
   "execution_count": 18,
   "outputs": [],
   "source": [
    "from wandb.xgboost import WandbCallback\n",
    "import numpy as np"
   ],
   "metadata": {
    "collapsed": false,
    "pycharm": {
     "name": "#%%\n"
    }
   }
  },
  {
   "cell_type": "code",
   "execution_count": null,
   "outputs": [],
   "source": [
    "def train():\n",
    "    with wandb.init() as run:\n",
    "        bst_params = {\n",
    "            'objective': 'reg:squarederror',\n",
    "            'n_estimators': 60,\n",
    "            #'booster': run.config.booster,\n",
    "            'learning_rate': run.config.learning_rate,\n",
    "            'max_depth': run.config.max_depth,\n",
    "            'eval_metric': ['rmse'],\n",
    "            'tree_method': 'gpu_hist',\n",
    "        }\n",
    "\n",
    "        # Initialize the XGBoostClassifier\n",
    "        xgbmodel = XGBRegressor(**bst_params)\n",
    "\n",
    "        # Train the model, using the wandb_callback for logging\n",
    "        xgbmodel.fit(X_train, y_train,\n",
    "                     eval_set=[(X_test, y_test)],\n",
    "                     callbacks=[\n",
    "                         WandbCallback(log_model=True,\n",
    "                                       log_feature_importance=False,\n",
    "                                       define_metric=True)\n",
    "                     ],\n",
    "                     verbose=False)\n",
    "\n",
    "        preds = xgbmodel.predict(X_test)\n",
    "        rmse = np.sqrt(mean_squared_error(y_test, preds))\n",
    "        print(\"RMSE: %f\" % (rmse))\n",
    "        wandb.log({\"Valid_RMSE\": rmse})"
   ],
   "metadata": {
    "collapsed": false,
    "pycharm": {
     "name": "#%%\n",
     "is_executing": true
    }
   }
  },
  {
   "cell_type": "code",
   "execution_count": null,
   "outputs": [],
   "source": [
    "sweep_config = {\n",
    "  \"name\" : \"btc_hyperparam_search2\",\n",
    "  \"method\" : \"random\",\n",
    "  \"parameters\" : {\n",
    "    \"learning_rate\": {\n",
    "      \"min\": 0.01,\n",
    "      \"max\": 0.2\n",
    "    },\n",
    "    \"max_depth\": {\n",
    "        \"min\": 4,\n",
    "        \"max\": 10\n",
    "    },\n",
    "    \"n_estimators\": {\n",
    "        \"values\": [50,100,150,200,250]\n",
    "    },\n",
    "  }\n",
    "}\n",
    "\n"
   ],
   "metadata": {
    "collapsed": false,
    "pycharm": {
     "name": "#%%\n",
     "is_executing": true
    }
   }
  },
  {
   "cell_type": "code",
   "execution_count": null,
   "outputs": [],
   "source": [
    "sweep_id = wandb.sweep(sweep_config, project='btc_hyperparam_search')"
   ],
   "metadata": {
    "collapsed": false,
    "pycharm": {
     "name": "#%%\n",
     "is_executing": true
    }
   }
  },
  {
   "cell_type": "code",
   "execution_count": 63,
   "outputs": [],
   "source": [
    "with open('model.pkl','wb') as f:\n",
    "    pickle.dump(xgb_model,f)"
   ],
   "metadata": {
    "collapsed": false,
    "pycharm": {
     "name": "#%%\n"
    }
   }
  }
 ],
 "metadata": {
  "kernelspec": {
   "display_name": "Python 3",
   "language": "python",
   "name": "python3"
  },
  "language_info": {
   "codemirror_mode": {
    "name": "ipython",
    "version": 2
   },
   "file_extension": ".py",
   "mimetype": "text/x-python",
   "name": "python",
   "nbconvert_exporter": "python",
   "pygments_lexer": "ipython2",
   "version": "2.7.6"
  }
 },
 "nbformat": 4,
 "nbformat_minor": 0
}