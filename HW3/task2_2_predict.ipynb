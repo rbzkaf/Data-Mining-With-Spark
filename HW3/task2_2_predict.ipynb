{
 "cells": [
  {
   "cell_type": "code",
   "execution_count": 50,
   "metadata": {
    "collapsed": true
   },
   "outputs": [],
   "source": [
    "from pyspark import RDD, SparkContext\n",
    "\n",
    "import pandas as pd\n",
    "import json\n",
    "import pickle\n",
    "\n",
    "from xgboost import XGBRegressor\n",
    "from sklearn.metrics import mean_squared_error\n",
    "import time"
   ]
  },
  {
   "cell_type": "code",
   "execution_count": 74,
   "outputs": [],
   "source": [
    "#test_data = \"../resource/asnlib/publicdata/train_review.json\"\n",
    "#user_data = '../resource/asnlib/publicdata/user.json'\n",
    "#business_data = '../resource/asnlib/publicdata/business.json'\n",
    "\n",
    "test_data = \"yelp_val.csv\"\n",
    "user_data =  \"data/user.json\"\n",
    "business_data = 'data/business.json'\n",
    "\n",
    "output_file = \"out.csv\""
   ],
   "metadata": {
    "collapsed": false,
    "pycharm": {
     "name": "#%%\n"
    }
   }
  },
  {
   "cell_type": "code",
   "execution_count": 12,
   "outputs": [],
   "source": [
    "def feature_select_user(partition):\n",
    "    for row in partition:\n",
    "        data = json.loads(row)\n",
    "        yield data['user_id'], data['useful'], data['average_stars'], data['review_count']\n",
    "\n",
    "\n",
    "def feature_select_business(partition):\n",
    "    for row in partition:\n",
    "        data = json.loads(row)\n",
    "        yield data['business_id'], float(data['stars']), float(data['review_count'])\n",
    "\n",
    "def feature_select_train(partition):\n",
    "    for row in partition:\n",
    "        data = json.loads(row)\n",
    "        yield data['user_id'], data['business_id'], float(0)"
   ],
   "metadata": {
    "collapsed": false,
    "pycharm": {
     "name": "#%%\n"
    }
   }
  },
  {
   "cell_type": "code",
   "execution_count": 13,
   "outputs": [
    {
     "ename": "ValueError",
     "evalue": "Cannot run multiple SparkContexts at once; existing SparkContext(app=HW3, master=local) created by __init__ at <ipython-input-4-1eb86f7b012c>:1 ",
     "output_type": "error",
     "traceback": [
      "\u001B[0;31m---------------------------------------------------------------------------\u001B[0m",
      "\u001B[0;31mValueError\u001B[0m                                Traceback (most recent call last)",
      "\u001B[0;32m<ipython-input-13-1eb86f7b012c>\u001B[0m in \u001B[0;36m<module>\u001B[0;34m\u001B[0m\n\u001B[0;32m----> 1\u001B[0;31m \u001B[0msc\u001B[0m \u001B[0;34m=\u001B[0m \u001B[0mSparkContext\u001B[0m\u001B[0;34m(\u001B[0m\u001B[0;34m\"local\"\u001B[0m\u001B[0;34m,\u001B[0m \u001B[0;34m\"HW3\"\u001B[0m\u001B[0;34m)\u001B[0m\u001B[0;34m.\u001B[0m\u001B[0mgetOrCreate\u001B[0m\u001B[0;34m(\u001B[0m\u001B[0;34m)\u001B[0m\u001B[0;34m\u001B[0m\u001B[0;34m\u001B[0m\u001B[0m\n\u001B[0m\u001B[1;32m      2\u001B[0m \u001B[0msc\u001B[0m\u001B[0;34m.\u001B[0m\u001B[0msetLogLevel\u001B[0m\u001B[0;34m(\u001B[0m\u001B[0;34m\"ERROR\"\u001B[0m\u001B[0;34m)\u001B[0m\u001B[0;34m\u001B[0m\u001B[0;34m\u001B[0m\u001B[0m\n",
      "\u001B[0;32m~/.pyenv/versions/3.6.15/envs/sparkhw/lib/python3.6/site-packages/pyspark/context.py\u001B[0m in \u001B[0;36m__init__\u001B[0;34m(self, master, appName, sparkHome, pyFiles, environment, batchSize, serializer, conf, gateway, jsc, profiler_cls)\u001B[0m\n\u001B[1;32m    142\u001B[0m                 \" is not allowed as it is a security risk.\")\n\u001B[1;32m    143\u001B[0m \u001B[0;34m\u001B[0m\u001B[0m\n\u001B[0;32m--> 144\u001B[0;31m         \u001B[0mSparkContext\u001B[0m\u001B[0;34m.\u001B[0m\u001B[0m_ensure_initialized\u001B[0m\u001B[0;34m(\u001B[0m\u001B[0mself\u001B[0m\u001B[0;34m,\u001B[0m \u001B[0mgateway\u001B[0m\u001B[0;34m=\u001B[0m\u001B[0mgateway\u001B[0m\u001B[0;34m,\u001B[0m \u001B[0mconf\u001B[0m\u001B[0;34m=\u001B[0m\u001B[0mconf\u001B[0m\u001B[0;34m)\u001B[0m\u001B[0;34m\u001B[0m\u001B[0;34m\u001B[0m\u001B[0m\n\u001B[0m\u001B[1;32m    145\u001B[0m         \u001B[0;32mtry\u001B[0m\u001B[0;34m:\u001B[0m\u001B[0;34m\u001B[0m\u001B[0;34m\u001B[0m\u001B[0m\n\u001B[1;32m    146\u001B[0m             self._do_init(master, appName, sparkHome, pyFiles, environment, batchSize, serializer,\n",
      "\u001B[0;32m~/.pyenv/versions/3.6.15/envs/sparkhw/lib/python3.6/site-packages/pyspark/context.py\u001B[0m in \u001B[0;36m_ensure_initialized\u001B[0;34m(cls, instance, gateway, conf)\u001B[0m\n\u001B[1;32m    345\u001B[0m                         \u001B[0;34m\" created by %s at %s:%s \"\u001B[0m\u001B[0;34m\u001B[0m\u001B[0;34m\u001B[0m\u001B[0m\n\u001B[1;32m    346\u001B[0m                         % (currentAppName, currentMaster,\n\u001B[0;32m--> 347\u001B[0;31m                             callsite.function, callsite.file, callsite.linenum))\n\u001B[0m\u001B[1;32m    348\u001B[0m                 \u001B[0;32melse\u001B[0m\u001B[0;34m:\u001B[0m\u001B[0;34m\u001B[0m\u001B[0;34m\u001B[0m\u001B[0m\n\u001B[1;32m    349\u001B[0m                     \u001B[0mSparkContext\u001B[0m\u001B[0;34m.\u001B[0m\u001B[0m_active_spark_context\u001B[0m \u001B[0;34m=\u001B[0m \u001B[0minstance\u001B[0m\u001B[0;34m\u001B[0m\u001B[0;34m\u001B[0m\u001B[0m\n",
      "\u001B[0;31mValueError\u001B[0m: Cannot run multiple SparkContexts at once; existing SparkContext(app=HW3, master=local) created by __init__ at <ipython-input-4-1eb86f7b012c>:1 "
     ]
    }
   ],
   "source": [
    "sc = SparkContext(\"local\", \"HW3\").getOrCreate()\n",
    "sc.setLogLevel(\"ERROR\")"
   ],
   "metadata": {
    "collapsed": false,
    "pycharm": {
     "name": "#%%\n"
    }
   }
  },
  {
   "cell_type": "code",
   "execution_count": 14,
   "outputs": [],
   "source": [
    "reviews_RDD = sc.textFile(test_data).map(lambda line: line.split(','))\n",
    "header = reviews_RDD.first()\n",
    "reviews_RDD = reviews_RDD.filter(lambda data: data != header).map(lambda x: (x[0], x[1], float(0)))\n",
    "#test_data = reviews_RDD.filter(lambda data: data != header).map(lambda x: (x[0], x[1], float(0)))"
   ],
   "metadata": {
    "collapsed": false,
    "pycharm": {
     "name": "#%%\n"
    }
   }
  },
  {
   "cell_type": "code",
   "execution_count": 15,
   "outputs": [],
   "source": [
    "biz_RDD = sc.textFile(business_data).mapPartitions(feature_select_business).map(lambda x:(x[0],x))"
   ],
   "metadata": {
    "collapsed": false,
    "pycharm": {
     "name": "#%%\n"
    }
   }
  },
  {
   "cell_type": "code",
   "execution_count": 16,
   "outputs": [],
   "source": [
    "user_RDD = sc.textFile(user_data).mapPartitions(feature_select_user).map(lambda x:(x[0],x))"
   ],
   "metadata": {
    "collapsed": false,
    "pycharm": {
     "name": "#%%\n"
    }
   }
  },
  {
   "cell_type": "code",
   "execution_count": 17,
   "outputs": [],
   "source": [
    "rev_w_biz_RDD = reviews_RDD.map(lambda x: (x[1], (x[0],x[2]))).leftOuterJoin(biz_RDD).map(lambda x: (x[1][0][0],(list([x[1][0][1]])+list(x[1][1]))))\n",
    "rev_w_biz_plus_user_RDD = rev_w_biz_RDD.leftOuterJoin(user_RDD).map(lambda x: (list([x[0]]) +  list([x[1][0][1]])+ x[1][0][2:] + list(x[1][1][1:]) + list([x[1][0][0]])))"
   ],
   "metadata": {
    "collapsed": false,
    "pycharm": {
     "name": "#%%\n"
    }
   }
  },
  {
   "cell_type": "code",
   "execution_count": 17,
   "outputs": [],
   "source": [],
   "metadata": {
    "collapsed": false,
    "pycharm": {
     "name": "#%%\n"
    }
   }
  },
  {
   "cell_type": "code",
   "execution_count": 18,
   "outputs": [],
   "source": [
    "main_data_file = rev_w_biz_plus_user_RDD.collect()"
   ],
   "metadata": {
    "collapsed": false,
    "pycharm": {
     "name": "#%%\n"
    }
   }
  },
  {
   "cell_type": "code",
   "execution_count": 59,
   "outputs": [],
   "source": [
    "# Using Pandas only for feeding into XGB\n",
    "data_df = pd.DataFrame(main_data_file)"
   ],
   "metadata": {
    "collapsed": false,
    "pycharm": {
     "name": "#%%\n"
    }
   }
  },
  {
   "cell_type": "code",
   "execution_count": 60,
   "outputs": [],
   "source": [
    "train_df = data_df.iloc[: , 2:-1 ]\n",
    "test_df = data_df.iloc[: , -1: ]"
   ],
   "metadata": {
    "collapsed": false,
    "pycharm": {
     "name": "#%%\n"
    }
   }
  },
  {
   "cell_type": "code",
   "execution_count": 61,
   "outputs": [],
   "source": [
    "with open('model.pkl', 'rb') as f:\n",
    "    xgb_model = pickle.load(f)\n"
   ],
   "metadata": {
    "collapsed": false,
    "pycharm": {
     "name": "#%%\n"
    }
   }
  },
  {
   "cell_type": "code",
   "execution_count": 84,
   "outputs": [],
   "source": [
    "xgb_preds = xgb_model.predict(train_df)"
   ],
   "metadata": {
    "collapsed": false,
    "pycharm": {
     "name": "#%%\n"
    }
   }
  },
  {
   "cell_type": "code",
   "execution_count": 87,
   "outputs": [],
   "source": [
    "xgb_preds = pd.DataFrame(xgb_preds, columns = ['prediction'])"
   ],
   "metadata": {
    "collapsed": false,
    "pycharm": {
     "name": "#%%\n"
    }
   }
  },
  {
   "cell_type": "code",
   "execution_count": 88,
   "outputs": [],
   "source": [
    "test = data_df.iloc[: , :2 ].rename(columns={0: \"user_id\", 1: \"business_id\"})"
   ],
   "metadata": {
    "collapsed": false,
    "pycharm": {
     "name": "#%%\n"
    }
   }
  },
  {
   "cell_type": "code",
   "execution_count": 89,
   "outputs": [],
   "source": [
    "predictions = pd.concat([test,xgb_preds], axis=1)"
   ],
   "metadata": {
    "collapsed": false,
    "pycharm": {
     "name": "#%%\n"
    }
   }
  },
  {
   "cell_type": "code",
   "execution_count": 92,
   "outputs": [],
   "source": [
    "predictions.to_csv(output_file, index=False)"
   ],
   "metadata": {
    "collapsed": false,
    "pycharm": {
     "name": "#%%\n"
    }
   }
  },
  {
   "cell_type": "code",
   "execution_count": 49,
   "outputs": [
    {
     "name": "stdout",
     "output_type": "stream",
     "text": [
      "0\n",
      "0.9841449694511238\n"
     ]
    }
   ],
   "source": [
    "rmse_predictions = predictions.values.tolist()\n",
    "\n",
    "gt = sc.textFile(test_data)\n",
    "csvHeader = gt.first()\n",
    "gt = gt.filter(lambda x: x != csvHeader).map(lambda x: x.split(\",\")).map(lambda x: (x[0]+x[1],float(x[2]))).collectAsMap()\n",
    "\n",
    "\n",
    "rmse = 0\n",
    "skipped = 0\n",
    "for p in rmse_predictions:\n",
    "    try:\n",
    "        rmse += (float(p[2])-gt[p[0]+p[1]])**2\n",
    "    except:\n",
    "        print(p)\n",
    "        skipped+=1\n",
    "\n",
    "print(skipped)\n",
    "print((rmse/len(predictions))**0.5)"
   ],
   "metadata": {
    "collapsed": false,
    "pycharm": {
     "name": "#%%\n"
    }
   }
  },
  {
   "cell_type": "code",
   "execution_count": null,
   "outputs": [],
   "source": [],
   "metadata": {
    "collapsed": false,
    "pycharm": {
     "name": "#%%\n"
    }
   }
  }
 ],
 "metadata": {
  "kernelspec": {
   "display_name": "Python 3",
   "language": "python",
   "name": "python3"
  },
  "language_info": {
   "codemirror_mode": {
    "name": "ipython",
    "version": 2
   },
   "file_extension": ".py",
   "mimetype": "text/x-python",
   "name": "python",
   "nbconvert_exporter": "python",
   "pygments_lexer": "ipython2",
   "version": "2.7.6"
  }
 },
 "nbformat": 4,
 "nbformat_minor": 0
}