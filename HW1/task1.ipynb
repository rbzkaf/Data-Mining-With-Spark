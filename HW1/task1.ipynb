{
 "cells": [
  {
   "cell_type": "code",
   "execution_count": 1,
   "metadata": {
    "collapsed": true
   },
   "outputs": [],
   "source": [
    "from pyspark import SparkContext, RDD\n",
    "import os\n",
    "import json\n",
    "import pandas"
   ]
  },
  {
   "cell_type": "code",
   "execution_count": 115,
   "outputs": [],
   "source": [
    "input_json = 'test_review.json'\n",
    "output_json = 'output.json'"
   ],
   "metadata": {
    "collapsed": false,
    "pycharm": {
     "name": "#%%\n"
    }
   }
  },
  {
   "cell_type": "code",
   "execution_count": 3,
   "outputs": [],
   "source": [
    "sc = SparkContext(\"local\", \"HW1\").getOrCreate()"
   ],
   "metadata": {
    "collapsed": false,
    "pycharm": {
     "name": "#%%\n"
    }
   }
  },
  {
   "cell_type": "code",
   "execution_count": 77,
   "outputs": [],
   "source": [
    "testRDD = sc.textFile(input_json).map(lambda line: json.loads(line))"
   ],
   "metadata": {
    "collapsed": false,
    "pycharm": {
     "name": "#%%\n"
    }
   }
  },
  {
   "cell_type": "code",
   "execution_count": 53,
   "outputs": [
    {
     "data": {
      "text/plain": "30"
     },
     "execution_count": 53,
     "metadata": {},
     "output_type": "execute_result"
    }
   ],
   "source": [
    "total_review = testRDD.count()\n",
    "total_review"
   ],
   "metadata": {
    "collapsed": false,
    "pycharm": {
     "name": "#%%\n"
    }
   }
  },
  {
   "cell_type": "code",
   "execution_count": 54,
   "outputs": [],
   "source": [
    "count_of_particular_year = testRDD.filter(lambda x: x[\"date\"][:4]==\"2018\").count()"
   ],
   "metadata": {
    "collapsed": false,
    "pycharm": {
     "name": "#%%\n"
    }
   }
  },
  {
   "cell_type": "code",
   "execution_count": 55,
   "outputs": [
    {
     "data": {
      "text/plain": "3"
     },
     "execution_count": 55,
     "metadata": {},
     "output_type": "execute_result"
    }
   ],
   "source": [
    "count_of_particular_year"
   ],
   "metadata": {
    "collapsed": false,
    "pycharm": {
     "name": "#%%\n"
    }
   }
  },
  {
   "cell_type": "code",
   "execution_count": 130,
   "outputs": [],
   "source": [
    "unique_ids = testRDD.map(lambda x: (x[\"user_id\"],1))"
   ],
   "metadata": {
    "collapsed": false,
    "pycharm": {
     "name": "#%%\n"
    }
   }
  },
  {
   "cell_type": "code",
   "execution_count": 111,
   "outputs": [],
   "source": [
    "count_of_unique_ids = unique_ids.distinct().count()"
   ],
   "metadata": {
    "collapsed": false,
    "pycharm": {
     "name": "#%%\n"
    }
   }
  },
  {
   "cell_type": "code",
   "execution_count": 107,
   "outputs": [
    {
     "name": "stdout",
     "output_type": "stream",
     "text": [
      "Unique user IDs:  27\n"
     ]
    }
   ],
   "source": [
    "print(\"Unique user IDs: \", count_of_unique_ids)"
   ],
   "metadata": {
    "collapsed": false,
    "pycharm": {
     "name": "#%%\n"
    }
   }
  },
  {
   "cell_type": "code",
   "execution_count": 131,
   "outputs": [],
   "source": [
    "top_10_users = unique_ids.reduceByKey(lambda x,y: x+y).sortBy(lambda x:-x[1]).take(10)"
   ],
   "metadata": {
    "collapsed": false,
    "pycharm": {
     "name": "#%%\n"
    }
   }
  },
  {
   "cell_type": "code",
   "execution_count": 133,
   "outputs": [],
   "source": [
    "top_10_users = unique_ids.reduceByKey(lambda x,y: x+y).takeOrdered(10, key=lambda x: (-x[1], x[0]))"
   ],
   "metadata": {
    "collapsed": false,
    "pycharm": {
     "name": "#%%\n"
    }
   }
  },
  {
   "cell_type": "code",
   "execution_count": 134,
   "outputs": [
    {
     "data": {
      "text/plain": "[('yXQM5uF2jS6es16SJzNHfg', 3),\n ('w31MKYsNFMrjhWxxAb5wIw', 2),\n ('-mA3-1mN4JIEkqOtdbNXCQ', 1),\n ('2mxBNBeFrgDszqGS5tdEHA', 1),\n ('3CJUJILq7CLHk_9OrvpvQg', 1),\n ('5JVY32_bmTBfIGpCCsnAfw', 1),\n ('6Fz_nus_OG4gar721OKgZA', 1),\n ('86J5DwcFk4f4In1Vxe2TvA', 1),\n ('8NwU4TRsD3S6gIfBqFzDMQ', 1),\n ('DzZ7piLBF-WsJxqosfJgtA', 1)]"
     },
     "execution_count": 134,
     "metadata": {},
     "output_type": "execute_result"
    }
   ],
   "source": [
    "top_10_users"
   ],
   "metadata": {
    "collapsed": false,
    "pycharm": {
     "name": "#%%\n"
    }
   }
  },
  {
   "cell_type": "code",
   "execution_count": 132,
   "outputs": [
    {
     "data": {
      "text/plain": "[('yXQM5uF2jS6es16SJzNHfg', 3),\n ('w31MKYsNFMrjhWxxAb5wIw', 2),\n ('n6-Gk65cPZL6Uz8qRm3NYw', 1),\n ('ssoyf2_x0EQMed6fgHeMyQ', 1),\n ('d6xvYpyzcfbF_AZ8vMB7QA', 1),\n ('sG_h0dIzTKWa3Q6fmb4u-g', 1),\n ('nMeCE5-xsdleyxYuNZ_7rA', 1),\n ('FIk4lQQu1eTe2EpzQ4xhBA', 1),\n ('-mA3-1mN4JIEkqOtdbNXCQ', 1),\n ('GYNnVehQeXjty0xH7-6Fhw', 1)]"
     },
     "execution_count": 132,
     "metadata": {},
     "output_type": "execute_result"
    }
   ],
   "source": [
    "top_10_users"
   ],
   "metadata": {
    "collapsed": false,
    "pycharm": {
     "name": "#%%\n"
    }
   }
  },
  {
   "cell_type": "code",
   "execution_count": 86,
   "outputs": [],
   "source": [
    "distinct_biz = testRDD.map(lambda x:(x[\"business_id\"],1))"
   ],
   "metadata": {
    "collapsed": false,
    "pycharm": {
     "name": "#%%\n"
    }
   }
  },
  {
   "cell_type": "code",
   "execution_count": 87,
   "outputs": [
    {
     "data": {
      "text/plain": "29"
     },
     "execution_count": 87,
     "metadata": {},
     "output_type": "execute_result"
    }
   ],
   "source": [
    "distinct_biz_count = distinct_biz.distinct().count()\n",
    "distinct_biz_count"
   ],
   "metadata": {
    "collapsed": false,
    "pycharm": {
     "name": "#%%\n"
    }
   }
  },
  {
   "cell_type": "code",
   "execution_count": 120,
   "outputs": [],
   "source": [
    "top_10_biz = distinct_biz.reduceByKey(lambda x,y : x+y).sortBy(lambda x:-x[1]).take(10)"
   ],
   "metadata": {
    "collapsed": false,
    "pycharm": {
     "name": "#%%\n"
    }
   }
  },
  {
   "cell_type": "code",
   "execution_count": 125,
   "outputs": [
    {
     "data": {
      "text/plain": "[('ujmEBvifdJM6h6RLv4wQIg', 2),\n ('WTqjgwHlXbSFevF32_DJVw', 1),\n ('ikCg8xy5JIg_NGPx-MSIDA', 1),\n ('b1b1eb3uo-w561D0ZfCEiQ', 1),\n ('eU_713ec6fTGNO4BegRaww', 1),\n ('3fw2X5bZYeW9xCz_zGhOHg', 1),\n ('zvO-PJCpNk4fgAVUnExYAA', 1),\n ('b2jN2mm9Wf3RcrZCgfo1cg', 1),\n ('oxwGyA17NL6c5t1Etg5WgQ', 1),\n ('8mIrX_LrOnAqWsB5JrOojQ', 1)]"
     },
     "execution_count": 125,
     "metadata": {},
     "output_type": "execute_result"
    }
   ],
   "source": [
    "top_10_biz"
   ],
   "metadata": {
    "collapsed": false,
    "pycharm": {
     "name": "#%%\n"
    }
   }
  },
  {
   "cell_type": "code",
   "execution_count": 126,
   "outputs": [],
   "source": [
    "answers = {}\n",
    "answers[\"n_review\"] = total_review\n",
    "answers[\"n_review_2018\"] = count_of_particular_year\n",
    "answers[\"n_user\"] = count_of_unique_ids\n",
    "answers[\"top10_user\"] = top_10_users\n",
    "answers[\"n_business\"] = distinct_biz_count\n",
    "answers[\"top10_biz\"] = top_10_biz"
   ],
   "metadata": {
    "collapsed": false,
    "pycharm": {
     "name": "#%%\n"
    }
   }
  },
  {
   "cell_type": "code",
   "execution_count": 127,
   "outputs": [],
   "source": [
    "with open(output_json, 'w') as f:\n",
    "    json.dump(answers,f)\n",
    "f.close()"
   ],
   "metadata": {
    "collapsed": false,
    "pycharm": {
     "name": "#%%\n"
    }
   }
  },
  {
   "cell_type": "code",
   "execution_count": null,
   "outputs": [],
   "source": [],
   "metadata": {
    "collapsed": false,
    "pycharm": {
     "name": "#%%\n"
    }
   }
  }
 ],
 "metadata": {
  "kernelspec": {
   "display_name": "Python 3",
   "language": "python",
   "name": "python3"
  },
  "language_info": {
   "codemirror_mode": {
    "name": "ipython",
    "version": 2
   },
   "file_extension": ".py",
   "mimetype": "text/x-python",
   "name": "python",
   "nbconvert_exporter": "python",
   "pygments_lexer": "ipython2",
   "version": "2.7.6"
  }
 },
 "nbformat": 4,
 "nbformat_minor": 0
}