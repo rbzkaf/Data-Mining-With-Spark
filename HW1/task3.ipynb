{
 "cells": [
  {
   "cell_type": "code",
   "execution_count": 2,
   "metadata": {
    "collapsed": true
   },
   "outputs": [],
   "source": [
    "from pyspark import SparkContext, RDD\n",
    "import os\n",
    "import json\n",
    "import time"
   ]
  },
  {
   "cell_type": "code",
   "execution_count": 181,
   "outputs": [],
   "source": [
    "input_review_json = 'test_review1.json'\n",
    "#input_review_json = 'yelp_academic_dataset_review.json'\n",
    "input_biz_json = 'business.json'\n",
    "#input_biz_json = 'yelp_academic_dataset_business.json'\n",
    "output_a_json = 'outputa.json'\n",
    "output_b_json = 'outputb.json'"
   ],
   "metadata": {
    "collapsed": false,
    "pycharm": {
     "name": "#%%\n"
    }
   }
  },
  {
   "cell_type": "code",
   "execution_count": 124,
   "outputs": [
    {
     "ename": "ValueError",
     "evalue": "Cannot run multiple SparkContexts at once; existing SparkContext(app=HW1_IntellijIdeaRulezzz , master=local) created by __init__ at <ipython-input-4-bd534e9ce823>:16 ",
     "output_type": "error",
     "traceback": [
      "\u001B[0;31m---------------------------------------------------------------------------\u001B[0m",
      "\u001B[0;31mValueError\u001B[0m                                Traceback (most recent call last)",
      "\u001B[0;32m<ipython-input-124-9042321e8b3d>\u001B[0m in \u001B[0;36m<module>\u001B[0;34m\u001B[0m\n\u001B[0;32m----> 1\u001B[0;31m \u001B[0msc\u001B[0m \u001B[0;34m=\u001B[0m \u001B[0mSparkContext\u001B[0m\u001B[0;34m(\u001B[0m\u001B[0;34m\"local\"\u001B[0m\u001B[0;34m,\u001B[0m \u001B[0;34m\"HW1\"\u001B[0m\u001B[0;34m)\u001B[0m\u001B[0;34m.\u001B[0m\u001B[0mgetOrCreate\u001B[0m\u001B[0;34m(\u001B[0m\u001B[0;34m)\u001B[0m\u001B[0;34m\u001B[0m\u001B[0;34m\u001B[0m\u001B[0m\n\u001B[0m",
      "\u001B[0;32m~/.pyenv/versions/3.6.15/envs/sparkhw/lib/python3.6/site-packages/pyspark/context.py\u001B[0m in \u001B[0;36m__init__\u001B[0;34m(self, master, appName, sparkHome, pyFiles, environment, batchSize, serializer, conf, gateway, jsc, profiler_cls)\u001B[0m\n\u001B[1;32m    142\u001B[0m                 \" is not allowed as it is a security risk.\")\n\u001B[1;32m    143\u001B[0m \u001B[0;34m\u001B[0m\u001B[0m\n\u001B[0;32m--> 144\u001B[0;31m         \u001B[0mSparkContext\u001B[0m\u001B[0;34m.\u001B[0m\u001B[0m_ensure_initialized\u001B[0m\u001B[0;34m(\u001B[0m\u001B[0mself\u001B[0m\u001B[0;34m,\u001B[0m \u001B[0mgateway\u001B[0m\u001B[0;34m=\u001B[0m\u001B[0mgateway\u001B[0m\u001B[0;34m,\u001B[0m \u001B[0mconf\u001B[0m\u001B[0;34m=\u001B[0m\u001B[0mconf\u001B[0m\u001B[0;34m)\u001B[0m\u001B[0;34m\u001B[0m\u001B[0;34m\u001B[0m\u001B[0m\n\u001B[0m\u001B[1;32m    145\u001B[0m         \u001B[0;32mtry\u001B[0m\u001B[0;34m:\u001B[0m\u001B[0;34m\u001B[0m\u001B[0;34m\u001B[0m\u001B[0m\n\u001B[1;32m    146\u001B[0m             self._do_init(master, appName, sparkHome, pyFiles, environment, batchSize, serializer,\n",
      "\u001B[0;32m~/.pyenv/versions/3.6.15/envs/sparkhw/lib/python3.6/site-packages/pyspark/context.py\u001B[0m in \u001B[0;36m_ensure_initialized\u001B[0;34m(cls, instance, gateway, conf)\u001B[0m\n\u001B[1;32m    345\u001B[0m                         \u001B[0;34m\" created by %s at %s:%s \"\u001B[0m\u001B[0;34m\u001B[0m\u001B[0;34m\u001B[0m\u001B[0m\n\u001B[1;32m    346\u001B[0m                         % (currentAppName, currentMaster,\n\u001B[0;32m--> 347\u001B[0;31m                             callsite.function, callsite.file, callsite.linenum))\n\u001B[0m\u001B[1;32m    348\u001B[0m                 \u001B[0;32melse\u001B[0m\u001B[0;34m:\u001B[0m\u001B[0;34m\u001B[0m\u001B[0;34m\u001B[0m\u001B[0m\n\u001B[1;32m    349\u001B[0m                     \u001B[0mSparkContext\u001B[0m\u001B[0;34m.\u001B[0m\u001B[0m_active_spark_context\u001B[0m \u001B[0;34m=\u001B[0m \u001B[0minstance\u001B[0m\u001B[0;34m\u001B[0m\u001B[0;34m\u001B[0m\u001B[0m\n",
      "\u001B[0;31mValueError\u001B[0m: Cannot run multiple SparkContexts at once; existing SparkContext(app=HW1_IntellijIdeaRulezzz , master=local) created by __init__ at <ipython-input-4-bd534e9ce823>:16 "
     ]
    }
   ],
   "source": [
    "sc = SparkContext(\"local\", \"HW1\").getOrCreate()"
   ],
   "metadata": {
    "collapsed": false,
    "pycharm": {
     "name": "#%%\n"
    }
   }
  },
  {
   "cell_type": "code",
   "execution_count": 182,
   "outputs": [],
   "source": [
    "biz_city_rdd = sc.textFile(input_biz_json).map(lambda x: json.loads(x)).map(lambda x:(x['business_id'],x['city']) if x['city'] is not None else (x['business_id'],\"NA\"))"
   ],
   "metadata": {
    "collapsed": false,
    "pycharm": {
     "name": "#%%\n"
    }
   }
  },
  {
   "cell_type": "code",
   "execution_count": 185,
   "outputs": [],
   "source": [
    "bc = biz_city_rdd.collect()"
   ],
   "metadata": {
    "collapsed": false,
    "pycharm": {
     "name": "#%%\n"
    }
   }
  },
  {
   "cell_type": "code",
   "execution_count": 183,
   "outputs": [
    {
     "data": {
      "text/plain": "150346"
     },
     "execution_count": 183,
     "metadata": {},
     "output_type": "execute_result"
    }
   ],
   "source": [
    "len(bc)"
   ],
   "metadata": {
    "collapsed": false,
    "pycharm": {
     "name": "#%%\n"
    }
   }
  },
  {
   "cell_type": "code",
   "execution_count": 186,
   "outputs": [
    {
     "name": "stdout",
     "output_type": "stream",
     "text": [
      "Sewell\n"
     ]
    }
   ],
   "source": [
    "for i in bc:\n",
    "    if i[0]==\"lE9-FQdd_CJXszwT7YD3-Q\":  print(i[1])"
   ],
   "metadata": {
    "collapsed": false,
    "pycharm": {
     "name": "#%%\n"
    }
   }
  },
  {
   "cell_type": "code",
   "execution_count": 187,
   "outputs": [],
   "source": [
    "biz_stars_rdd = sc.textFile(input_review_json).map(lambda x: json.loads(x)).map(lambda x:(x['business_id'],x['stars']))"
   ],
   "metadata": {
    "collapsed": false,
    "pycharm": {
     "name": "#%%\n"
    }
   }
  },
  {
   "cell_type": "code",
   "execution_count": null,
   "outputs": [],
   "source": [
    "#combined_rdd = biz_stars_rdd.rightOuterJoin(biz_city_rdd).map(lambda x: (x[1][1], x[1][0]) if x[1][0] is not None else (x[1][1], \"\"))"
   ],
   "metadata": {
    "collapsed": false,
    "pycharm": {
     "name": "#%%\n"
    }
   }
  },
  {
   "cell_type": "markdown",
   "source": [
    "jaxMSoInw8Poo3XeMJt8lQ"
   ],
   "metadata": {
    "collapsed": false
   }
  },
  {
   "cell_type": "code",
   "execution_count": 189,
   "outputs": [],
   "source": [
    "combined_rdd = biz_stars_rdd.rightOuterJoin(biz_city_rdd).map(lambda x: (x[1][1], (x[1][0],1))).\\\n",
    "                filter(lambda x: x[1][0] is not None). reduceByKey(lambda x,y: (x[0] + y[0], x[1]+y[1])).\\\n",
    "                map(lambda x: (x[0], float(x[1][0]/x[1][1]))).collect()"
   ],
   "metadata": {
    "collapsed": false,
    "pycharm": {
     "name": "#%%\n"
    }
   }
  },
  {
   "cell_type": "code",
   "execution_count": 190,
   "outputs": [
    {
     "data": {
      "text/plain": "[('Fishers', 3.765834781235192),\n ('Skippack Village', 3.7236363636363636),\n ('Indian Shores', 4.0283547642598085),\n ('Safety Harbor,', 3.7),\n ('MIDDLE CITY WEST', 5.0),\n ('sparks', 3.2857142857142856),\n ('Elfers', 2.0),\n ('Primos', 3.683257918552036),\n ('Catalina', 3.7758389261744965),\n ('INDIANAPOLIS', 4.0),\n ('Jobstown', 4.066666666666666),\n ('West Philadelphia', 4.666666666666667),\n ('Newtown Sq.', 5.0),\n ('Saint Petersburg', 3.871329539838037),\n ('Alton', 3.668238557558946),\n ('Southwest Tampa', 3.430379746835443),\n ('Pittsgrove Township', 4.2),\n ('KIRKWOOD', 2.4375),\n ('Brentwood - Cool Springs', 4.05),\n ('Stanton', 1.375),\n ('Clearwater,', 1.0),\n ('Huntingdon Valley PA', 4.2),\n ('Lawrence Township', 3.9351351351351354),\n ('Carpinteria', 3.888268799263564),\n ('Sunset Hills', 3.260237780713342),\n ('Algiers', 1.25),\n ('Dunedin ', 5.0),\n ('Metarie', 3.1496062992125986),\n ('North Coventry', 3.1666666666666665),\n ('Jennings', 2.6885245901639343),\n ('Boone', 2.1052631578947367),\n ('SPRINGHILL', 2.8823529411764706),\n ('Southampton ', 3.2142857142857144),\n ('Lutz', 3.6948354455743124),\n ('Oaklyn', 3.820689655172414),\n ('Wallingford', 4.278947368421052),\n ('Blvd', 4.28125),\n ('Indian Rocks Beach. ', 4.571428571428571),\n ('East Tampa', 2.896103896103896),\n ('Oro valley', 3.0),\n ('New Orleans', 3.9446931207937497),\n ('Ambler', 3.856755758098288),\n ('Feasterville', 3.399446858949032),\n ('Pipersville', 3.73082489146165),\n ('Boutte', 1.6666666666666667),\n ('Cedarbrook', 3.6),\n ('Lower Southampton', 5.0),\n ('Nevada', 4.571428571428571),\n ('Largo', 3.684720577150856),\n ('Claymont', 3.2619573215599704),\n ('Philiidelphia', 4.571428571428571),\n ('Oaklandon', 3.925925925925926),\n ('ClearWater', 4.288888888888889),\n ('FOLSOM', 3.0),\n ('Chesterbrook', 3.703971119133574),\n ('Edgemoor', 5.0),\n ('East Boise', 2.411764705882353),\n ('Fairview Heights', 3.3656908842711966),\n ('Terrytown', 3.814275309541151),\n ('Madison', 3.4274952919020714),\n ('Lebanon', 3.524682651622003),\n ('Barrington', 3.781010719754977),\n ('Hilltop', 4.714285714285714),\n ('West Rockhill', 4.5),\n ('Tuson', 4.076923076923077),\n ('Real Goleta', 1.7826086956521738),\n ('Perkasie', 3.831444759206799),\n ('Glenolden', 3.242653232577666),\n ('Penns Grove', 3.5217391304347827),\n ('Twin Oaks', 2.911392405063291),\n ('Monroe Township', 3.7899159663865545),\n ('Middletown', 2.9148936170212765),\n ('Shade', 4.15625),\n ('Buckingham', 3.720959595959596),\n ('Indiana', 2.4444444444444446),\n ('Mt. Laurel', 2.9719775820656524),\n ('Avondale', 3.4981458590852905),\n ('Brooklawn', 3.0656660412757972),\n ('PHILADELPHIA', 2.6610169491525424),\n ('Barto', 1.1111111111111112),\n ('Foster Pond', 3.3513513513513513),\n ('PHILA', 3.627659574468085),\n ('Scott Afb', 3.1818181818181817),\n ('Temple Terr', 3.4285714285714284),\n ('Bryn Mawr', 3.6701062215477998),\n ('Schwenksville', 3.915799432355724),\n ('Feasterville-Trevose', 3.6870540265035676),\n ('New Washoe City', 4.7073170731707314),\n ('NASHVILLE AP', 1.0),\n ('Maran', 2.7),\n ('St. Loius', 3.6842105263157894),\n ('MEDIA', 3.6054421768707483),\n ('St.louis', 4.428571428571429),\n ('Edgewater Park', 3.278688524590164),\n ('Linwood', 2.810344827586207),\n ('Fountainville', 2.55),\n ('Hernando Beach', 4.04421052631579),\n ('Upper Southampton Township', 3.85),\n ('Mont Clare', 4.107142857142857),\n ('New Prt Rchy', 5.0),\n ('WILLOW GROVE', 2.3962264150943398),\n ('Fairless', 3.6666666666666665),\n ('Chalemette', 1.4285714285714286),\n ('Ladue', 3.686064318529862),\n ('SAINT LOUIS', 2.4411764705882355),\n ('Pagedale', 4.090909090909091),\n ('Sassamansville', 2.9565217391304346),\n ('Wesley chapel', 3.230769230769231),\n (\"Land O' Lakes\", 3.851687880464859),\n ('River Ridge', 3.7190721649484537),\n ('Christiana', 3.0767441860465117),\n ('Winslow', 3.0),\n ('Boise ', 4.352941176470588),\n ('Tampa Florida', 3.6041666666666665),\n ('Mount Holly', 3.6881597717546364),\n ('Landsdale', 3.4),\n ('Haverford,', 4.333333333333333),\n ('Murfreesboro', 4.117647058823529),\n ('RENO AP', 3.6),\n ('Edmonton City Centre', 3.85),\n ('VC Highlands', 4.690476190476191),\n ('Plainfiled', 3.16),\n ('Palm Harbor, FL', 4.0),\n ('Hendersonville', 3.6269689906053544),\n ('Sullivan', 3.3043478260869565),\n ('Franklin ', 4.862068965517241),\n ('phoenixville', 5.0),\n ('clifton heights', 3.857142857142857),\n ('ST. PETE BEACH', 3.4),\n ('Santa  Barbara', 4.081632653061225),\n ('Antioch', 3.469506423258959),\n ('Brownsburg', 3.655808698926756),\n ('Quinton', 3.125),\n ('St  Louis', 4.5),\n ('Mascoutah', 3.536159600997506),\n ('Milmont Park', 3.608),\n ('St Ann', 3.1875),\n ('Pottsgrove', 2.369565217391304),\n ('Bensalem. Pa', 3.8793103448275863),\n ('Gulph Mills', 3.43979057591623),\n ('Valencia West', 4.0),\n ('Claerwater', 2.9375),\n ('Brookhaven', 3.1841032608695654),\n ('Normandy', 2.0344827586206895),\n ('Verdi', 3.5721847930702597),\n ('Washington Twp', 3.875),\n ('Florence Township', 2.9473684210526314),\n ('Mt.Juliet', 2.0714285714285716),\n ('EdMonton', 3.4788732394366195),\n ('Pottstown', 3.4968170120547204),\n ('Port Richey', 3.4857142857142858),\n ('Hamilton Township', 3.7968069666182873),\n ('Delray Beach', 5.0),\n ('Melrose Park', 3.987012987012987),\n ('Springhill', 3.761904761904762),\n ('HUdson', 3.588235294117647),\n ('Darby', 3.298932384341637),\n ('Bellmawr', 3.517154811715481),\n ('Ozona', 3.988538681948424),\n ('Westtown', 4.583333333333333),\n ('Cynwyd', 2.1666666666666665),\n ('Hancock', 3.6),\n ('Arden', 4.7272727272727275),\n ('Meridian ', 3.6),\n ('Pitman', 3.7359400107123726),\n ('Delanco', 3.890909090909091),\n ('Medford Lakes', 4.425742574257426),\n ('Ashland City', 3.479646017699115),\n ('Westchase', 3.7780429594272076),\n ('University Park', 4.25),\n ('Hopewell Township', 4.5),\n ('Fairland', 4.4523809523809526),\n ('Saint Rose', 3.68013468013468),\n ('UPPER MORELAND', 3.8947368421052633),\n ('Spring House', 3.788667687595712),\n ('Bayonet Point', 3.176470588235294),\n ('Old Hickory, TN', 4.555555555555555),\n (\"O' Fallon\", 2.3833333333333333),\n ('Eastampton Township', 3.6457399103139014),\n ('Granite City', 3.5924256086564474),\n ('Haddonfield', 3.923694779116466),\n ('Woodbury Heights', 3.346830985915493),\n ('Cheltenham', 3.730352303523035),\n ('Olivette', 3.7112573099415203),\n ('New Whiteland', 3.1228070175438596),\n ('Kings Beach', 5.0),\n ('Lemay Ferry', 2.096774193548387),\n ('Twn N Cntry', 4.333333333333333),\n ('N.Wales', 1.4285714285714286),\n ('Maple Shade Township', 3.5737951807228914),\n ('Phila', 2.971590909090909),\n ('Saint Petersburg Beach', 3.6666666666666665),\n ('Stowe', 2.464788732394366),\n ('Concord Village', 4.444444444444445),\n ('East Nashville', 3.9051724137931036),\n ('Monchanin', 3.9),\n ('Manayunk', 3.9214285714285713),\n ('Town & County', 3.375),\n ('MERIDIAN', 5.0),\n ('Green Valle', 3.090909090909091),\n ('Twin oaks', 4.25),\n ('Kimmiswick', 1.8),\n ('Voorhees Township', 3.4954367666232073),\n ('Paoli', 3.6248477466504263),\n ('Palmyra', 3.808139534883721),\n ('Florence', 3.403587443946188),\n ('Magnolia', 3.179365079365079),\n ('Tierra Verde', 4.023946360153257),\n ('Lakeland', 2.935483870967742),\n ('South Lake Tahoe', 5.0),\n ('Tierre Verde', 4.74468085106383),\n ('metairie', 4.2),\n ('DONELSON', 2.0714285714285716),\n ('Maryland Height', 2.9473684210526314),\n ('Brentwood', 3.603592569912227),\n ('LANSDALE', 3.696969696969697),\n ('Millstadt', 3.5993265993265995),\n ('Philly', 3.4285714285714284),\n ('CLEARWATER BEACH', 2.6),\n ('Mt Holly', 3.165137614678899),\n ('Downingtown,', 1.0),\n ('Paulsboro', 3.4161490683229814),\n ('horsham', 4.5),\n ('King of Prussi', 5.0),\n ('Reno Nevada', 4.0),\n ('Silverdale', 3.4),\n ('Upper Darby PA', 3.5),\n ('Largo (Walsingham)', 3.1875),\n ('Fortville', 3.473684210526316),\n ('Safety Hatbor', 3.625),\n ('Bradenton', 4.695652173913044),\n ('Pasco', 4.5),\n ('Nsshville', 3.727272727272727),\n ('Saint Petersburg,', 2.7142857142857144),\n ('Arrington', 3.1333333333333333),\n ('riverview', 4.541666666666667),\n ('Kenner', 3.2411044417767108),\n ('Richboro', 3.5526315789473686),\n ('sewell', 4.178571428571429),\n ('Santa Barbara ', 4.864864864864865),\n ('RADNOR', 3.849056603773585),\n ('Crestwood', 3.61178247734139),\n ('Green Hills', 4.6),\n ('Mt.Laurel', 1.9814814814814814),\n ('Cedars', 4.229024943310658),\n ('Green Lane', 4.0636363636363635),\n ('NEWARK', 4.478260869565218),\n ('Coatesville', 3.0636182902584492),\n ('Tampa Bay', 4.052894211576846),\n ('Mt Juliet', 3.315515961395694),\n ('St.Pete Beach', 3.3),\n ('Nashville-Davidson metropolitan government (balance)', 3.5384615384615383),\n ('Mount Lemmon', 3.253731343283582),\n ('Denver', 4.5),\n ('Bosie', 3.6666666666666665),\n ('Tampa,Fl', 4.2),\n ('White House', 3.611274221961245),\n ('RIVERVIEW', 2.48),\n ('Berkeley', 2.742424242424242),\n ('wimauma', 4.625),\n ('pennsauken', 2.0),\n ('Salinas', 3.4482758620689653),\n ('Pine HIll', 3.610169491525424),\n ('North Wales', 3.4566532258064515),\n ('Hi-Nella', 3.423076923076923),\n ('Wycombe', 3.5),\n ('Bridgeton', 3.0717094610224382),\n ('Beech Grove', 3.7883435582822087),\n ('Toughkenamon', 3.730538922155689),\n ('Huntington Valley', 4.636363636363637),\n ('Abington Township', 3.835249042145594),\n ('Spokane', 2.3333333333333335),\n ('Landsale', 3.411764705882353),\n ('Key Largo', 4.8),\n ('Audubon', 3.4370786516853933),\n ('Sicklerville', 3.2472359444836507),\n ('Saint Pete Beach', 3.9065727699530517),\n ('Chester', 2.6394984326018807),\n ('Boise City', 3.909348441926346),\n ('East St Louis', 3.984375),\n ('Upper Pittsgrove', 3.5),\n ('Bargersville', 4.086538461538462),\n ('Eaux Claires', 1.4615384615384615),\n ('Deptford Twp', 1.8),\n ('chicago', 3.8461538461538463),\n ('Whitehouse', 3.4444444444444446),\n ('Lithia', 3.4907702100572884),\n ('Willingboro', 3.242857142857143),\n ('East Saint Louis', 3.022935779816514),\n ('LOWER MERION', 3.4594594594594597),\n ('Town And Country', 3.652360515021459),\n ('Sturgeon Couny', 2.4),\n ('Mehville', 2.8333333333333335),\n ('East St. Louis', 3.4516129032258065),\n ('Westampton Township', 3.4),\n ('Land o Lakes', 4.183673469387755),\n ('St Boise', 2.6),\n ('Springfield', 3.1696902276227967),\n ('Hudson', 3.445943184140609),\n ('Richmond Heights', 3.4673004897724),\n ('Evesham Township', 3.7673579801623083),\n ('Saint Albert', 3.8622589531680442),\n ('Somerdale', 3.561224489795918),\n ('Greenfield', 3.0135135135135136),\n ('Newportville', 4.0),\n ('Merion Park', 3.5714285714285716),\n ('Bradenton Beach', 4.125),\n ('Alberta Park Industrial', 1.8),\n ('Horseshoe Bend', 4.666666666666667),\n ('Brentwood ', 4.703703703703703),\n ('Aldan', 3.72),\n ('Plainfield', 3.3897229342121324),\n ('Mt Laurel', 2.5649202733485192),\n ('TAMPA AP', 1.8333333333333333),\n ('East Falls', 4.456989247311828),\n ('Peerless Park', 1.1818181818181819),\n ('MacDill AFB', 3.5714285714285716),\n ('Warminster', 3.5458483754512637),\n ('Wesley Chapel  FL', 4.3076923076923075),\n ('St.Petersburg', 3.336099585062241),\n ('West Point', 3.849740932642487),\n ('Tinicum', 4.551020408163265),\n ('Newcastle', 2.2),\n ('Westville', 3.88953488372093),\n ('Mechanicsville', 4.461538461538462),\n ('Gibbstown', 3.5810055865921786),\n ('Line Lexington', 2.8292682926829267),\n ('Pinellas park', 4.2682926829268295),\n ('nashville', 3.6),\n ('Merion', 4.4),\n ('Kng Of Prusia', 1.1428571428571428),\n ('Oldmans Township', 3.0833333333333335),\n ('New Orlaens', 5.0),\n ('St.Rose', 1.4545454545454546),\n ('Brandon', 3.5982422234492915),\n ('Narberth', 3.851788756388416),\n ('University City', 3.910747116831021),\n ('Washoe', 1.8333333333333333),\n ('Clermont', 3.8448275862068964),\n ('Jefferson Parish', 3.8),\n ('Marshallton', 2.869565217391304),\n ('Worcester', 3.4805194805194803),\n ('Devon-Berwyn', 2.7222222222222223),\n ('Pegram', 4.25),\n ('\\u200bLargo', 4.8),\n ('kenner', 4.2105263157894735),\n ('Wanamaker', 4.2745098039215685),\n ('Rutledge', 5.0),\n ('Ashland', 3.1481481481481484),\n ('Radnor', 3.748995983935743),\n ('Central Tampa', 3.6666666666666665),\n ('North Redington Beach', 4.028524410312672),\n ('Swedesboro', 3.460639394981093),\n ('Woodstown', 3.4871794871794872),\n ('Drexel Heights', 4.571428571428571),\n ('View', 3.8484848484848486),\n ('St. Leo', 3.840909090909091),\n ('DOWNINGTOWN', 4.666666666666667),\n ('Philadelphila ', 4.627906976744186),\n ('Land O Lakes', 3.580448839863066),\n ('Wood River', 3.424390243902439),\n ('Reno ', 5.0),\n ('Kenneth City', 3.8491096532333646),\n ('Erdenheim', 3.4456521739130435),\n ('Indianapolis,', 2.4761904761904763),\n ('Maryland Height, MO', 5.0),\n ('Willow Grove', 3.377670396744659),\n ('Blue Bell', 3.4898683626682443),\n ('Town and Country', 3.8623110151187907),\n ('Salem', 3.68),\n ('quakertown', 1.3181818181818181),\n ('Saint Davids', 2.6666666666666665),\n ('East Lansdowne', 3.292307692307692),\n ('Redington Beach', 4.529411764705882),\n ('Philadephia', 2.5700934579439254),\n ('South Burlington', 2.090909090909091),\n ('N Redngtn Bch', 3.103448275862069),\n ('Gibbsboro', 3.72635814889336),\n (\"O'fallon\", 3.612280701754386),\n ('Berry Hill', 4.403183023872679),\n ('Flanders', 2.9411764705882355),\n ('Wilmington Manor', 4.675),\n ('Bethel Township', 3.235294117647059),\n ('Belleville ', 5.0),\n ('Essington', 3.244868735083532),\n ('Pontoon Beach', 2.7743589743589743),\n ('BOISE', 2.4),\n ('boise', 4.7894736842105265),\n ('TUCSON', 3.7209302325581395),\n ('Oracle', 3.1818181818181817),\n ('Penllyn', 1.0),\n ('Dunnellon', 4.6923076923076925),\n ('TRENTON', 3.75),\n ('Palm harbor ', 3.6666666666666665),\n ('St. Albert', 3.8011363636363638),\n ('Trinity', 3.8451803984921917),\n ('Evesham', 3.474402730375427),\n ('Maplewood', 3.8014095142209916),\n ('Norwood', 3.8225806451612905),\n ('Wilimington', 2.855421686746988),\n ('Thonosassa', 4.0),\n ('SAINT LOUIS AP', 1.9333333333333333),\n ('Lower Southampton Township', 3.857142857142857),\n ('Woolwich Twp.', 3.4375),\n ('Upper Gwynedd', 2.7142857142857144),\n ('Southampton', 3.7601763907734056),\n ('Burlington Township', 2.025),\n ('Washoe Valley', 4.318840579710145),\n ('Oxnard', 4.3076923076923075),\n ('Newtown square', 1.75),\n ('Chalmette', 3.608454312553373),\n ('Wrightstown', 4.281818181818182),\n ('Belleair Blf', 2.842857142857143),\n ('Redington Shore', 3.08),\n ('Creve Couer', 3.807017543859649),\n ('Pinellas', 4.03125),\n ('Ivyland', 3.7429048414023374),\n ('Gwynedd', 3.730337078651685),\n ('Grenloch', 4.666666666666667),\n ('Newark', 3.439610342049366),\n ('Quakertown', 3.736086175942549),\n ('St.Ann', 4.233766233766234),\n ('Oaks', 3.0529612756264237),\n ('Collingdale', 3.529527559055118),\n ('Eastampton', 3.874429223744292),\n ('Cottage Hills', 3.1),\n ('Drexel', 1.0),\n ('Forest Hills', 3.5),\n ('TWN N CNTRY', 4.125),\n ('Troy', 3.522796352583587),\n ('Forest Grove', 4.0),\n ('St. Peters', 4.784313725490196),\n ('Gwynedd Valley', 4.32520325203252),\n ('East Edmonton', 2.9583333333333335),\n ('Nolensville', 3.8218884120171674),\n ('South Pasadena', 3.7884350619550253),\n ('East Norriton ', 3.2857142857142856),\n ('North Redington Bch', 3.995268138801262),\n ('Upland', 3.2051282051282053),\n ('Maryville ', 4.605263157894737),\n ('North Coventry Township', 4.555555555555555),\n ('Johnson', 3.6842105263157894),\n ('Madeira Beach', 3.8346094946401226),\n ('Clearwater Beach', 3.806122915238748),\n ('Saint Charles', 3.596709035372943),\n ('Gibsonton', 3.817014446227929),\n ('Pemberton', 3.542372881355932),\n ('Moorestown', 3.6148764698110716),\n ('Furlong', 3.928030303030303),\n ('Merchantville', 3.939273927392739),\n ('Earth City', 2.732283464566929),\n ('Thonotosassa', 3.9606126914660833),\n ('Edgemont', 1.95),\n ('NORRISTOWN', 3.303030303030303),\n ('Lakewood', 4.166666666666667),\n ('Santa Barbara', 4.003434335941846),\n ('West Deptford', 3.247978436657682),\n ('Apollo Beach', 3.7603406326034063),\n ('Ewing', 3.3364505844845906),\n ('TAMPA', 2.8096054888507718),\n ('Honey Brook', 4.333333333333333),\n ('Temple Terrace', 3.6632673465306937),\n ('King Of Prussia', 3.1841794569067297),\n ('Pilesgrove', 3.712121212121212),\n ('Wyndmoor', 4.093062605752961),\n ('maple shade nj', 2.090909090909091),\n ('Fallsington', 4.461538461538462),\n ('Mendenhall', 3.201117318435754),\n ('Bryn Athyn', 4.066666666666666),\n ('Mount Royal', 4.142857142857143),\n ('Sarasota', 2.3333333333333335),\n ('Horsham', 3.5491727332892125),\n ('Chadds Ford', 3.5878345498783455),\n ('Bala Cynwyd', 3.3305824472305985),\n ('Crum Lynne', 2.9759036144578315),\n ('Scott Air Force Base', 4.094594594594595),\n ('COLMAR', 5.0),\n ('Pilot Sound Area West Portion', 1.25),\n ('Town and Country ', 3.7788461538461537),\n ('Falls', 1.0),\n ('Trevose', 3.3475643130815547),\n ('Elsmere', 3.7971014492753623),\n ('Town N Country', 4.769230769230769),\n ('Rosewood Heights', 4.964285714285714),\n ('Hamilton', 3.9344994417566057),\n ('St Charles', 3.5806451612903225),\n ('Washington Township', 3.725663716814159),\n ('Mt  Juliet', 2.2083333333333335),\n ('Concordville', 2.5483870967741935),\n ('Montchanin', 3.88268156424581),\n ('Casa Adobes', 2.8048780487804876),\n ('Woodson Terrace', 3.5396825396825395),\n ('Pineville', 3.106194690265487),\n ('Morton', 3.3309608540925266),\n ('Jamison', 3.613485280151947),\n ('Roslyn', 3.190625),\n ('Woodbury Hts.', 1.5454545454545454),\n ('E Saint Louis', 2.0),\n ('Rillito', 3.9565217391304346),\n ('POTTSTOWN', 4.833333333333333),\n ('Summerhaven', 3.125),\n ('Reno', 3.748279873596664),\n ('Edwardsville', 3.7119399483931503),\n ('Plant City', 3.6150081566068515),\n ('East Lake', 2.6666666666666665),\n ('Talleyville', 3.494071146245059),\n ('St. Petersberg', 2.9047619047619047),\n ('Hurffville', 2.0),\n ('Thornton', 3.4607843137254903),\n ('Imperial', 3.505194805194805),\n ('Collegeville', 3.562404035972801),\n ('MADISON', 1.75),\n ('Knoxville', 2.8421052631578947),\n ('Mount Laurel Township', 4.043596730245231),\n ('Laurel Springs', 3.93205574912892),\n ('Bellville', 1.6666666666666667),\n ('Aliso Viejo', 5.0),\n ('Picture Rocks', 4.777777777777778),\n ('Center City Philadelphia', 5.0),\n ('Erdenheim Pa', 3.2857142857142856),\n ('Hermitage', 3.560964815224607),\n ('Tarpon Springs', 3.900308641975309),\n ('Radnor Township', 3.324324324324324),\n ('Runnemede', 3.342260310658811),\n ('Alloway', 3.8333333333333335),\n ('Terra Ceia', 4.777777777777778),\n ('Lansdale ', 3.7710843373493974),\n ('reno', 4.483443708609271),\n ('Lavergne', 3.230769230769231),\n ('BRANDON', 2.259259259259259),\n ('Tampa,', 4.0),\n ('Clifton Heights', 3.461400359066427),\n ('Pleasant View', 3.5389294403892944),\n ('Secane', 3.7717041800643085),\n ('Los Ranchitos', 1.5714285714285714),\n ('Saint Louis ', 4.636363636363637),\n (\"Town 'N' Country\", 4.377358490566038),\n ('Bellefontaine Neighbors', 2.5714285714285716),\n ('Saint Peters', 3.3529411764705883),\n ('Pennsville Township', 4.028846153846154),\n ('Redington Shores', 4.156351791530945),\n ('Winchester', 4.322274881516588),\n ('Roxborough', 2.7714285714285714),\n ('PINELLAS PARK', 2.782608695652174),\n ('Haddon Heights', 3.8881685575364666),\n ('High Ridge', 3.7095937770095073),\n ('Dresher', 3.5026535253980287),\n ('Greenbrier', 3.606060606060606),\n ('AB Edmonton', 4.333333333333333),\n ('Mc Cordsville', 3.230769230769231),\n ('Cornwells Heights', 1.9444444444444444),\n ('Port Hueneme', 2.5714285714285716),\n ('Nashville,', 4.36),\n ('St. Louis County', 3.3866666666666667),\n ('Maryland Heights', 3.3005036373810857),\n ('Riverton', 3.7636022514071295),\n ('Slidell', 4.222222222222222),\n ('Greater Carrollwood', 4.722222222222222),\n ('Charles', 3.857142857142857),\n ('Vineland', 3.4),\n ('meridian', 4.346153846153846),\n ('Nixa', 2.2857142857142856),\n ('Jenkintown', 3.5227768510201463),\n ('Valrico', 3.6972556991433136),\n ('Wesley Chapel', 3.5373392461197337),\n ('Boyertown', 3.915294117647059),\n ('Trappe', 3.7666666666666666),\n ('Elmer', 3.380952380952381),\n ('Upper Pottsgrove', 3.135593220338983),\n ('St Rose', 4.333333333333333),\n ('New Jersey', 3.4545454545454546),\n ('Huntingdon Valley', 3.8075296959935576),\n ('New Britain', 3.7211155378486054),\n ('Burlington', 3.374841972187105),\n ('Spanish Springs', 3.3987341772151898),\n ('Belle Chase', 3.0),\n ('Saint Louis,', 4.017241379310345),\n ('Parker Ford', 4.260869565217392),\n ('Overbrook', 5.0),\n ('Langhorne', 3.2073369565217393),\n ('Exton', 3.3126549004881714),\n ('Washington Crossing', 3.828125),\n ('Spruce Grove', 4.090909090909091),\n ('Monrovia', 5.0),\n ('Santa Clara', 2.08),\n ('Woolwich Twp', 3.324324324324324),\n ('New Port Richey', 3.600387185411853),\n ('Hatboro', 3.701996197718631),\n ('Mehlville', 3.5568181818181817),\n ('Ardmore', 3.6983781768470765),\n ('Belle Meade', 3.939914163090129),\n ('St Petersurg', 3.6),\n ('Glenoldan', 4.415384615384616),\n ('Dupo', 3.8974358974358974),\n ('Mt. Holly', 2.2962962962962963),\n ('Costa Mesa', 3.3333333333333335),\n ('Valley Park', 3.943916349809886),\n ('Gloucester City', 3.666110183639399),\n ('Frederick', 2.6),\n ('Chesilhurst', 3.825242718446602),\n ('Clarksboro', 3.843065693430657),\n ('Meterie', 4.4),\n ('Zionsville', 3.8552765093860986),\n ('Lower Gwynedd', 3.537037037037037),\n ('S Pasadena', 5.0),\n ('Upper Southampton', 3.65),\n ('Sahuarita', 3.322483725588383),\n ('Churchville', 3.1256830601092895),\n ('Riverside', 3.8460038986354776),\n ('Crystal Springs', 3.8),\n ('YARDLEY', 4.545454545454546),\n ('Lincoln', 1.8333333333333333),\n ('Upper Merion Township', 3.0),\n ('Feasterville Trev', 4.0),\n ('Mt. Juliet', 3.4785775492716366),\n ('Vail', 3.676780185758514),\n ('Stratford', 3.6206896551724137),\n ('Bennington', 4.6),\n ('Fairview Hts.', 2.2888888888888888),\n ('Sparks,', 5.0),\n ('Sauget', 2.857142857142857),\n ('Bristol Twp', 3.923076923076923),\n ('Unionville', 3.7761194029850746),\n ('Newtown Sq', 4.0),\n ('North Maple Shade', 3.3333333333333335),\n ('AVON', 3.4166666666666665),\n ('McCarran', 4.333333333333333),\n ('Lula Lula', 3.473684210526316),\n ('St. Pete', 4.09433962264151),\n ('Florissant', 3.5056211754660596),\n ('Gallatin', 3.3919712793733683),\n ('Dunedin', 3.9909951415647513),\n ('Downingtown', 3.5674520973588812),\n ('Glendora', 4.13963963963964),\n ('Lansdowne', 3.7068798449612403),\n ('St Louis County', 3.917948717948718),\n ('Lemay', 1.6363636363636365),\n ('Ewing Twp', 2.888888888888889),\n ('W Cherry Hill', 3.0091743119266057),\n ('Tampa - North', 3.380952380952381),\n ('Shiloh', 3.2794990112063283),\n ('Petersburg', 4.161764705882353),\n ('Tuscon', 3.7586685159500695),\n ('St Pete', 3.5864661654135337),\n ('Cane Ridge', 2.9682539682539684),\n ('Yorklyn', 4.587301587301587),\n ('Eddington', 4.5),\n ('INpolis', 3.5833333333333335),\n ('Levittown', 3.517366904292431),\n ('Hockessin', 3.7310565635005335),\n ('St. Petersburg', 3.877165932452276),\n ('Gulfport', 4.04620100722575),\n ('Glenside', 3.686223662884927),\n ('NEW PRT RCHY', 5.0),\n ('Meraux', 3.8974358974358974),\n ('South Tucson', 2.4468085106382977),\n ('Buckingham Township', 3.8421052631578947),\n ('Hillsborough', 4.208333333333333),\n ('Carversville', 3.9557522123893807),\n ('Bensalem', 3.259668104393596),\n ('Waterloo', 3.933605720122574),\n ('Belleair Bluffs', 3.8261515601783063),\n ('Ballwin', 3.377063711911357),\n ('Fort Washington', 3.2769390942217593),\n ('East Greenville', 3.6),\n ('Metairie ', 4.166666666666667),\n ('Carrollwood', 3.236714975845411),\n ('Blooming Glen', 4.71875),\n ('Rural Hill', 4.0),\n ('Evshm Twp', 4.676470588235294),\n ('Zieglerville', 3.1012658227848102),\n ('Pasadena', 2.3230769230769233),\n ('Town n Country', 4.645161290322581),\n ('Waggaman', 4.076923076923077),\n ('Belleair', 3.962025316455696),\n ('Winslow Township', 3.6095238095238096),\n ('Trolley Square', 4.0588235294117645),\n ('Tortola', 2.727272727272727),\n ('West Chester PA', 4.285714285714286),\n ('Echelon', 2.875),\n ('Arizona', 4.909090909090909),\n ('WEST CHESTER', 3.5762711864406778),\n ('New Hope', 3.6896112650737773),\n ('Lambertville', 3.886768975528826),\n ('Rosemont', 3.763440860215054),\n ('Crystal Beach', 5.0),\n ('Pilgrim Gardens', 3.888888888888889),\n ('Mango', 3.1219512195121952),\n ('Belleair Blufs', 4.428571428571429),\n ('College Place', 4.3076923076923075),\n ('Masaryktown', 4.3052631578947365),\n ('Safety  Harbor', 4.390625),\n ('Hatfield', 3.4918845807033363),\n ('Mooresville', 3.8002065049044913),\n ('St.Louis', 3.3870967741935485),\n ('Fairview Hts', 2.356589147286822),\n ('Caln', 4.333333333333333),\n ('Warrington Township', 3.173469387755102),\n ('Pike Creek', 3.741444866920152),\n ('Delran Twp', 3.8333333333333335),\n ('Pennsburg', 3.122916666666667),\n ('Lawrence', 3.081135902636917),\n ('San Antonio', 4.0220994475138125),\n ('Lima', 2.949367088607595),\n ('Swedesboro ', 1.7272727272727273),\n ('Oldmans', 2.3766233766233764),\n ('Old Strathcona', 3.142857142857143),\n ('philadelphia', 3.883817427385892),\n ('Webster Groves', 3.9256803907885556),\n ('Folcroft', 4.097465886939571),\n ('Croydon', 3.9022369511184753),\n ('Corona De Tucson', 3.962962962962963),\n ('elmwood', 5.0),\n ('Haddon', 4.5),\n ('W. Berlin', 2.825),\n ('Fort Saskatchewan', 1.8571428571428572),\n ('Cherry Hil', 4.4375),\n ('largo', 3.125),\n ('Santa Barbara,', 5.0),\n ('Norriton', 4.833333333333333),\n ('New castle', 3.0),\n ('Tampa', 3.75306503344772),\n ('Metairie', 3.606329920293345),\n ('Elkins Park', 3.926352705410822),\n ('Treasure Island', 3.803846966814627),\n ('Wenonah', 3.672514619883041),\n ('Elk Township', 4.166666666666667),\n ('North Marlton', 3.3333333333333335),\n ('Saint\\xa0Louis', 2.1),\n ('New Pt Richey', 3.7777777777777777),\n ('Fernley', 5.0),\n ('West Chester', 3.6514701808540106),\n ('Riverview', 3.59840823146601),\n ('St Louis', 3.865638942001275),\n ('Wimauma', 3.8055555555555554),\n ('Mullica Hill', 3.5995955510616784),\n ('Indianpolis', 2.9363636363636365),\n ('Zieglersville', 3.9473684210526314),\n ('Trainer', 4.333333333333333),\n ('Staint Albert', 2.25),\n ('St Petersberg', 4.833333333333333),\n ('Saint Leo', 3.7666666666666666),\n ('Bywater', 4.237623762376238),\n ('Fieldsboro', 3.64),\n ('Isla Vista', 3.7574838454437556),\n ('Atco', 3.4352941176470586),\n ('Bellevue', 3.404151404151404),\n ('Deptford Township', 3.388137356919875),\n ('Holland', 3.5356164383561643),\n ('Harahan', 3.6304149150063973),\n ('Westampton', 2.98661800486618),\n ('Primos-Secane', 2.4791666666666665),\n ('Freehold', 4.333333333333333),\n ('SEMINOLE', 3.875),\n ('Phonixville', 3.4),\n ('Zionsville In', 4.0),\n ('Wayne', 3.6845152895250486),\n ('Voorhees', 3.528334570650829),\n ('Media', 3.705738373674191),\n ('Drexel Hill', 3.6928031985784098),\n ('Centreville', 2.962962962962963),\n ('Tullytown', 4.533333333333333),\n ('Covington', 5.0),\n ('Mount Holly,', 3.6153846153846154),\n ('S.Pasadena', 1.6585365853658536),\n ('Pittsgrove', 3.391304347826087),\n ('Pleasant Township', 3.951219512195122),\n ('Concord Township', 2.9036144578313254),\n ('Wynnewood', 3.4503205128205128),\n ('Saintt Petersburg', 4.7272727272727275),\n ('Madiera Beach', 4.428571428571429),\n ('Fairview Village', 3.9078947368421053),\n ('Parkside', 3.435483870967742),\n ('Wilmington ', 4.590909090909091),\n ('Danville', 3.8031088082901556),\n ('Cerritos', 2.9044117647058822),\n ('Santa Barbara & Ventura Counties', 3.4523809523809526),\n ('N Redington Bch', 3.6666666666666665),\n ('Rancocas', 5.0),\n ('Chester Springs', 3.6926829268292685),\n ('Deptford', 3.1216179283957364),\n ('Caseyville', 3.334593572778828),\n ('Lawrenceville', 3.676),\n ('Casas Adobes', 3.1020408163265305),\n ('French Quarter', 4.463768115942029),\n ('CHELTENHAM', 3.4782608695652173),\n ('CONSHOHOCKEN', 3.6666666666666665),\n ('Had Twp', 4.333333333333333),\n ('St. Louis', 3.7631558210272495),\n ('Plumsteadville', 3.9925373134328357),\n ('St. Ann', 2.406926406926407),\n ('Ellisville', 5.0),\n ('Star', 1.8888888888888888),\n ('Royersford ', 4.235294117647059),\n ('Houston', 1.6153846153846154),\n ('Monroe', 3.1666666666666665),\n ('Malaga', 3.592814371257485),\n ('Mission Canyon', 4.421052631578948),\n ('Newport', 3.6319444444444446),\n ('Carson City', 3.142857142857143),\n ('Riverview Fl', 4.214285714285714),\n ('Goodletsville', 4.0495049504950495),\n ('Pine Forge', 3.4390243902439024),\n ('Catalina Foothills', 4.852459016393443),\n ('Downtown Indianapolis', 4.294117647058823),\n ('Charlack', 3.6),\n ('erdenheim', 3.2162162162162162),\n ('Pass-a-Grille Beach', 4.712643678160919),\n ('Pinecrest West Park', 4.555555555555555),\n ('BOISE AP', 2.111111111111111),\n ('South Cherry Hill', 2.3),\n ('Trenton', 3.7059201026792876),\n ('Truckee', 4.5353535353535355),\n ('Pine Hill', 3.0271493212669682),\n ('Philadelphia ', 4.462962962962963),\n ('Bridgeton ', 5.0),\n ('Stead', 3.3333333333333335),\n ('Tampa ', 4.875),\n ('Mt Laurel Township', 3.2134831460674156),\n ('Westmont - Haddon Towsship', 3.0),\n ('Boise (Meridian)', 2.6666666666666665),\n ('Indianapolis ', 4.518518518518518),\n ('Washington Park', 3.589041095890411),\n ('Hadden', 4.615384615384615),\n ('Tennesse', 3.6666666666666665),\n ('Balm', 4.558558558558558),\n ('santa Barbara', 4.6875),\n ('Sherwood', 3.7464788732394365),\n ('Charlotte', 3.375),\n ('Tampla', 3.272727272727273),\n ('Eagle', 3.852134923061245),\n ('Bordentown', 3.706370569762225),\n ('Chestnut Hill', 4.553571428571429),\n ('Palmetto', 3.5811088295687883),\n ('Mt Ephraim', 2.914285714285714),\n ('Chichester', 3.6595744680851063),\n ('LARGO', 3.161290322580645),\n ('Ybor City', 4.206611570247934),\n ('NORTH WALES', 4.037735849056604),\n ('Philadelphia', 3.785672501322926),\n ('Palm Harbor', 3.7185418541854185),\n ('Gloucester', 3.0),\n ('Flourtown', 3.078503688092729),\n ('Apopka', 2.4),\n ('Treasure Is', 3.576158940397351),\n ('Brooklyn', 2.3529411764705883),\n ('Fairview', 3.25),\n ('Saint Bernard', 4.414634146341464),\n ('St. Rose', 3.952054794520548),\n ('West Collingswood Heights', 3.3384615384615386),\n ('Spark', 5.0),\n ('Lynnfield', 1.3714285714285714),\n ('Nolenville', 4.533333333333333),\n ('Mount Laurel', 3.356852409638554),\n ('tucson', 3.5026178010471205),\n ('Creamery', 4.375),\n ('Riveridge', 2.5294117647058822),\n ('Santa Barbra', 3.84),\n ('Aston', 3.6015533980582526),\n ('Sun City', 2.5301204819277108),\n ('Haverford', 3.690983606557377),\n ('TUCSON AP', 1.6956521739130435),\n ('Beverly', 3.6323529411764706),\n ('Southampton Township', 3.372549019607843),\n ('Newfield', 3.838862559241706),\n ('Lederach', 3.8636363636363638),\n ('Belleair Beach', 3.9019607843137254),\n ('Rushland', 4.545454545454546),\n ('\\u200bClayton', 3.8333333333333335),\n ('Haddon township', 1.375),\n ('Devon', 3.5628778718258767),\n ('TEMPLE TERR', 4.7),\n ('Mccordsville', 3.9672131147540983),\n ('Franconia', 2.8260869565217392),\n ('Macdill Afb', 2.1538461538461537),\n ('LITHIA', 2.185185185185185),\n ('Willingboro Township', 3.4825174825174825),\n ('Boulevard', 4.0),\n ('Shady Hills', 3.5714285714285716),\n ('Corona de Tucson', 4.461538461538462),\n ('Saint Louis', 3.814853395518413),\n ('Carmel', 3.7863570741097208),\n ('Whitestown', 3.7451227186910008),\n ('Mount Juliet', 3.6451850036755697),\n ('Solebury', 3.2777777777777777),\n ('Kimberton', 4.299212598425197),\n ('Violet', 4.156028368794326),\n ('Bellefonte', 4.466666666666667),\n ('Norristown', 3.6562633604104318),\n ('Penndel', 3.7734265734265735),\n ('Lumberton', 3.0154405086285196),\n ('Castleton', 3.3735955056179776),\n ('St. Davids', 3.3333333333333335),\n ('Cherry Hill Mall', 2.875),\n ('Rose Valley', 2.918918918918919),\n ('Wayne/Radnor', 3.4782608695652173),\n ('Webster Grvs', 4.833333333333333),\n ('Fox Street', 3.0833333333333335),\n ('Wilmington', 3.5309724639621547),\n ('Glenmore', 4.090909090909091),\n ('McCordsville', 3.9415094339622643),\n ('West Conshohocken', 3.5842105263157893),\n ('PLYMOUTH MTNG', 3.4166666666666665),\n ('Inglewood', 2.090909090909091),\n ('Cumberland', 3.7096774193548385),\n ('Glenn Mills', 2.2857142857142856),\n ('Land-O-Lakes', 3.3333333333333335),\n ('Mississauga', 4.166666666666667),\n ('Indianapolis', 3.823646086049645),\n ('Indian Rocks Beach', 3.9996240248143624),\n ('Sun City Center', 3.250996015936255),\n ('Mount Ephraim', 3.331914893617021),\n ('Columbia', 3.7306967984934087),\n ('Feasterville-trevose', 3.24),\n ('Enoch', 3.122448979591837),\n ('St. Pete Beach', 3.8076796308503624),\n ('Collingswood', 3.9253074692530747),\n ('Westwego', 4.07905604719764),\n ('Speedway', 3.669746886299719),\n ('Williamsport', 3.6),\n ('Freeburg', 3.7816901408450705),\n ('CLIFTON HEIGHTS', 1.9365079365079365),\n ('Havertown', 3.686513042461107),\n ('Souderton', 3.8499440089585666),\n ('Cahokia', 3.357142857142857),\n ('Malvern', 3.7515130251732303),\n ('Villanova', 3.581845238095238),\n ('Whites Creek', 3.9682539682539684),\n ('Ofallon', 2.090909090909091),\n ('Whiteland', 3.3333333333333335),\n ('New orleans', 4.3125),\n ('HENDERSONVILLE', 5.0),\n ('Sparks ', 5.0),\n ('West Mount Holly', 3.4615384615384617),\n ('Hilltown', 4.301587301587301),\n ('TRINITY', 2.4339622641509435),\n ('Shamong', 4.17923186344239),\n ('Thorofare', 3.484848484848485),\n ('Mt. Airy', 4.52),\n ('Philadelphia PA', 4.416666666666667),\n ('Stone Harbor', 2.142857142857143),\n ('LOWER PROVIDENCE', 4.923076923076923),\n ('Morrisville', 3.7120060790273555),\n ('St Albert', 3.6202346041055717),\n ('Lutz fl', 4.888888888888889),\n ('Prospect Park', 3.7786688051323174),\n ('Haddon Twp', 1.925),\n ('Sanatoga', 3.119047619047619),\n ('Holland Southampton', 4.0),\n ('Edmundson', 2.4285714285714284),\n ('Newtown Sqaure', 3.5714285714285716),\n ('Jefferson', 3.565652522017614),\n ('Upper Darby', 3.590901598813252),\n ('Abington', 3.458970792767733),\n ('Hainesport', 3.4098018769551617),\n ('Ruskin', 3.619472789115646),\n ('Logan Township', 3.811224489795918),\n ('Berlin', 3.7182249030590264),\n ('Woolwich Township', 3.731707317073171),\n ('NEW ORLEANS', 4.25),\n ('Sumneytown', 4.16),\n ('Vincentown', 3.5051194539249146),\n ('Nampa', 3.264705882352941),\n ('Mantua Township', 3.738562091503268),\n ('Ridley Township', 4.3125),\n ('new orleans', 3.3333333333333335),\n ('Nashville', 3.8181659141087447),\n ('New Castle', 3.3690168818272097),\n ('O Fallon', 3.3221271393643033),\n ('New Palestine', 3.7630208333333335),\n ('Green Park', 2.5901639344262297),\n ('indianopolis', 3.857142857142857),\n ('lawrence', 4.387096774193548),\n ('Lester', 3.0458715596330275),\n ('NEW ORLEANS AP', 1.7037037037037037),\n ('E. Norristown', 2.642857142857143),\n ('Stroudsburg', 1.0),\n ('Tarpon springs', 3.6683291770573567),\n ('Pennsauken Township', 3.78125),\n ('Oakville', 3.678048780487805),\n ('Land o lakes', 2.9692307692307693),\n ('saint ann', 5.0),\n ('Indianapolis city (balance)', 4.857142857142857),\n ('Kalispell', 5.0),\n ('TARPON SPRINGS', 4.8),\n ('Pennsville', 3.425287356321839),\n ('Broomall', 3.477581053115659),\n ('Smithton', 3.5405405405405403),\n ('Ferguson', 3.894308943089431),\n ('Montgomeryville', 3.1940719830628086),\n ('OFallon', 2.6122448979591835),\n ('St.  Charles', 4.931034482758621),\n ('GARDEN CITY', 2.142857142857143),\n ('West Alton', 3.6666666666666665),\n ('West Bradford Township', 2.814814814814815),\n ('Pennsylvania', 3.9),\n ('San Anselmo', 4.647058823529412),\n ('West Hill', 4.96),\n ('Westhampton', 1.8),\n ('Boston', 1.0),\n ...]"
     },
     "execution_count": 190,
     "metadata": {},
     "output_type": "execute_result"
    }
   ],
   "source": [
    "combined_rdd"
   ],
   "metadata": {
    "collapsed": false,
    "pycharm": {
     "name": "#%%\n"
    }
   }
  },
  {
   "cell_type": "code",
   "execution_count": 191,
   "outputs": [],
   "source": [
    "sorted_cities =  sorted(sorted(combined_rdd, key = lambda x : x[0]), key = lambda x : x[1], reverse = True)"
   ],
   "metadata": {
    "collapsed": false,
    "pycharm": {
     "name": "#%%\n"
    }
   }
  },
  {
   "cell_type": "code",
   "execution_count": 193,
   "outputs": [
    {
     "data": {
      "text/plain": "1416"
     },
     "execution_count": 193,
     "metadata": {},
     "output_type": "execute_result"
    }
   ],
   "source": [
    "len(sorted_cities)"
   ],
   "metadata": {
    "collapsed": false,
    "pycharm": {
     "name": "#%%\n"
    }
   }
  },
  {
   "cell_type": "code",
   "execution_count": 194,
   "outputs": [],
   "source": [
    "combined_rdd = biz_stars_rdd.leftOuterJoin(biz_city_rdd).map(lambda x: (x[1][1], (x[1][0], 1))).\\\n",
    "filter(lambda x: x[1][0] is not None).reduceByKey(lambda x, y: (x[0] + y[0], x[1] + y[1])).\\\n",
    "map(lambda x: (x[0], float(x[1][0] / x[1][1]))).collect()\n"
   ],
   "metadata": {
    "collapsed": false,
    "pycharm": {
     "name": "#%%\n"
    }
   }
  },
  {
   "cell_type": "code",
   "execution_count": 195,
   "outputs": [
    {
     "data": {
      "text/plain": "[('Fishers', 3.765834781235192),\n ('Skippack Village', 3.7236363636363636),\n ('Indian Shores', 4.0283547642598085),\n ('Safety Harbor,', 3.7),\n ('MIDDLE CITY WEST', 5.0),\n ('sparks', 3.2857142857142856),\n ('Elfers', 2.0),\n ('Primos', 3.683257918552036),\n ('Catalina', 3.7758389261744965),\n ('INDIANAPOLIS', 4.0),\n ('Jobstown', 4.066666666666666),\n ('West Philadelphia', 4.666666666666667),\n ('Newtown Sq.', 5.0),\n ('Saint Petersburg', 3.871329539838037),\n ('Alton', 3.668238557558946),\n ('Southwest Tampa', 3.430379746835443),\n ('Pittsgrove Township', 4.2),\n ('KIRKWOOD', 2.4375),\n ('Brentwood - Cool Springs', 4.05),\n ('Stanton', 1.375),\n ('Clearwater,', 1.0),\n ('Huntingdon Valley PA', 4.2),\n ('Lawrence Township', 3.9351351351351354),\n ('Carpinteria', 3.888268799263564),\n ('Sunset Hills', 3.260237780713342),\n ('Algiers', 1.25),\n ('Dunedin ', 5.0),\n ('Metarie', 3.1496062992125986),\n ('North Coventry', 3.1666666666666665),\n ('Jennings', 2.6885245901639343),\n ('Boone', 2.1052631578947367),\n ('SPRINGHILL', 2.8823529411764706),\n ('Southampton ', 3.2142857142857144),\n ('Lutz', 3.6948354455743124),\n ('Oaklyn', 3.820689655172414),\n ('Wallingford', 4.278947368421052),\n ('Blvd', 4.28125),\n ('Indian Rocks Beach. ', 4.571428571428571),\n ('East Tampa', 2.896103896103896),\n ('Oro valley', 3.0),\n ('New Orleans', 3.9446931207937497),\n ('Ambler', 3.856755758098288),\n ('Feasterville', 3.399446858949032),\n ('Pipersville', 3.73082489146165),\n ('Boutte', 1.6666666666666667),\n ('Cedarbrook', 3.6),\n ('Lower Southampton', 5.0),\n ('Nevada', 4.571428571428571),\n ('Largo', 3.684720577150856),\n ('Claymont', 3.2619573215599704),\n ('Philiidelphia', 4.571428571428571),\n ('Oaklandon', 3.925925925925926),\n ('ClearWater', 4.288888888888889),\n ('FOLSOM', 3.0),\n ('Chesterbrook', 3.703971119133574),\n ('Edgemoor', 5.0),\n ('East Boise', 2.411764705882353),\n ('Fairview Heights', 3.3656908842711966),\n ('Terrytown', 3.814275309541151),\n ('Madison', 3.4274952919020714),\n ('Lebanon', 3.524682651622003),\n ('Barrington', 3.781010719754977),\n ('Hilltop', 4.714285714285714),\n ('West Rockhill', 4.5),\n ('Tuson', 4.076923076923077),\n ('Real Goleta', 1.7826086956521738),\n ('Perkasie', 3.831444759206799),\n ('Glenolden', 3.242653232577666),\n ('Penns Grove', 3.5217391304347827),\n ('Twin Oaks', 2.911392405063291),\n ('Monroe Township', 3.7899159663865545),\n ('Middletown', 2.9148936170212765),\n ('Shade', 4.15625),\n ('Buckingham', 3.720959595959596),\n ('Indiana', 2.4444444444444446),\n ('Mt. Laurel', 2.9719775820656524),\n ('Avondale', 3.4981458590852905),\n ('Brooklawn', 3.0656660412757972),\n ('PHILADELPHIA', 2.6610169491525424),\n ('Barto', 1.1111111111111112),\n ('Foster Pond', 3.3513513513513513),\n ('PHILA', 3.627659574468085),\n ('Scott Afb', 3.1818181818181817),\n ('Temple Terr', 3.4285714285714284),\n ('Bryn Mawr', 3.6701062215477998),\n ('Schwenksville', 3.915799432355724),\n ('Feasterville-Trevose', 3.6870540265035676),\n ('New Washoe City', 4.7073170731707314),\n ('NASHVILLE AP', 1.0),\n ('Maran', 2.7),\n ('St. Loius', 3.6842105263157894),\n ('MEDIA', 3.6054421768707483),\n ('St.louis', 4.428571428571429),\n ('Edgewater Park', 3.278688524590164),\n ('Linwood', 2.810344827586207),\n ('Fountainville', 2.55),\n ('Hernando Beach', 4.04421052631579),\n ('Upper Southampton Township', 3.85),\n ('Mont Clare', 4.107142857142857),\n ('New Prt Rchy', 5.0),\n ('WILLOW GROVE', 2.3962264150943398),\n ('Fairless', 3.6666666666666665),\n ('Chalemette', 1.4285714285714286),\n ('Ladue', 3.686064318529862),\n ('SAINT LOUIS', 2.4411764705882355),\n ('Pagedale', 4.090909090909091),\n ('Sassamansville', 2.9565217391304346),\n ('Wesley chapel', 3.230769230769231),\n (\"Land O' Lakes\", 3.851687880464859),\n ('River Ridge', 3.7190721649484537),\n ('Christiana', 3.0767441860465117),\n ('Winslow', 3.0),\n ('Boise ', 4.352941176470588),\n ('Tampa Florida', 3.6041666666666665),\n ('Mount Holly', 3.6881597717546364),\n ('Landsdale', 3.4),\n ('Haverford,', 4.333333333333333),\n ('Murfreesboro', 4.117647058823529),\n ('RENO AP', 3.6),\n ('Edmonton City Centre', 3.85),\n ('VC Highlands', 4.690476190476191),\n ('Plainfiled', 3.16),\n ('Palm Harbor, FL', 4.0),\n ('Hendersonville', 3.6269689906053544),\n ('Sullivan', 3.3043478260869565),\n ('Franklin ', 4.862068965517241),\n ('phoenixville', 5.0),\n ('clifton heights', 3.857142857142857),\n ('ST. PETE BEACH', 3.4),\n ('Santa  Barbara', 4.081632653061225),\n ('Antioch', 3.469506423258959),\n ('Brownsburg', 3.655808698926756),\n ('Quinton', 3.125),\n ('St  Louis', 4.5),\n ('Mascoutah', 3.536159600997506),\n ('Milmont Park', 3.608),\n ('St Ann', 3.1875),\n ('Pottsgrove', 2.369565217391304),\n ('Bensalem. Pa', 3.8793103448275863),\n ('Gulph Mills', 3.43979057591623),\n ('Valencia West', 4.0),\n ('Claerwater', 2.9375),\n ('Brookhaven', 3.1841032608695654),\n ('Normandy', 2.0344827586206895),\n ('Verdi', 3.5721847930702597),\n ('Washington Twp', 3.875),\n ('Florence Township', 2.9473684210526314),\n ('Mt.Juliet', 2.0714285714285716),\n ('EdMonton', 3.4788732394366195),\n ('Pottstown', 3.4968170120547204),\n ('Port Richey', 3.4857142857142858),\n ('Hamilton Township', 3.7968069666182873),\n ('Delray Beach', 5.0),\n ('Melrose Park', 3.987012987012987),\n ('Springhill', 3.761904761904762),\n ('HUdson', 3.588235294117647),\n ('Darby', 3.298932384341637),\n ('Bellmawr', 3.517154811715481),\n ('Ozona', 3.988538681948424),\n ('Westtown', 4.583333333333333),\n ('Cynwyd', 2.1666666666666665),\n ('Hancock', 3.6),\n ('Arden', 4.7272727272727275),\n ('Meridian ', 3.6),\n ('Pitman', 3.7359400107123726),\n ('Delanco', 3.890909090909091),\n ('Medford Lakes', 4.425742574257426),\n ('Ashland City', 3.479646017699115),\n ('Westchase', 3.7780429594272076),\n ('University Park', 4.25),\n ('Hopewell Township', 4.5),\n ('Fairland', 4.4523809523809526),\n ('Saint Rose', 3.68013468013468),\n ('UPPER MORELAND', 3.8947368421052633),\n ('Spring House', 3.788667687595712),\n ('Bayonet Point', 3.176470588235294),\n ('Old Hickory, TN', 4.555555555555555),\n (\"O' Fallon\", 2.3833333333333333),\n ('Eastampton Township', 3.6457399103139014),\n ('Granite City', 3.5924256086564474),\n ('Haddonfield', 3.923694779116466),\n ('Woodbury Heights', 3.346830985915493),\n ('Cheltenham', 3.730352303523035),\n ('Olivette', 3.7112573099415203),\n ('New Whiteland', 3.1228070175438596),\n ('Kings Beach', 5.0),\n ('Lemay Ferry', 2.096774193548387),\n ('Twn N Cntry', 4.333333333333333),\n ('N.Wales', 1.4285714285714286),\n ('Maple Shade Township', 3.5737951807228914),\n ('Phila', 2.971590909090909),\n ('Saint Petersburg Beach', 3.6666666666666665),\n ('Stowe', 2.464788732394366),\n ('Concord Village', 4.444444444444445),\n ('East Nashville', 3.9051724137931036),\n ('Monchanin', 3.9),\n ('Manayunk', 3.9214285714285713),\n ('Town & County', 3.375),\n ('MERIDIAN', 5.0),\n ('Green Valle', 3.090909090909091),\n ('Twin oaks', 4.25),\n ('Kimmiswick', 1.8),\n ('Voorhees Township', 3.4954367666232073),\n ('Paoli', 3.6248477466504263),\n ('Palmyra', 3.808139534883721),\n ('Florence', 3.403587443946188),\n ('Magnolia', 3.179365079365079),\n ('Tierra Verde', 4.023946360153257),\n ('Lakeland', 2.935483870967742),\n ('South Lake Tahoe', 5.0),\n ('Tierre Verde', 4.74468085106383),\n ('metairie', 4.2),\n ('DONELSON', 2.0714285714285716),\n ('Maryland Height', 2.9473684210526314),\n ('Brentwood', 3.603592569912227),\n ('LANSDALE', 3.696969696969697),\n ('Millstadt', 3.5993265993265995),\n ('Philly', 3.4285714285714284),\n ('CLEARWATER BEACH', 2.6),\n ('Mt Holly', 3.165137614678899),\n ('Downingtown,', 1.0),\n ('Paulsboro', 3.4161490683229814),\n ('horsham', 4.5),\n ('King of Prussi', 5.0),\n ('Reno Nevada', 4.0),\n ('Silverdale', 3.4),\n ('Upper Darby PA', 3.5),\n ('Largo (Walsingham)', 3.1875),\n ('Fortville', 3.473684210526316),\n ('Safety Hatbor', 3.625),\n ('Bradenton', 4.695652173913044),\n ('Pasco', 4.5),\n ('Nsshville', 3.727272727272727),\n ('Saint Petersburg,', 2.7142857142857144),\n ('Arrington', 3.1333333333333333),\n ('riverview', 4.541666666666667),\n ('Kenner', 3.2411044417767108),\n ('Richboro', 3.5526315789473686),\n ('sewell', 4.178571428571429),\n ('Santa Barbara ', 4.864864864864865),\n ('RADNOR', 3.849056603773585),\n ('Crestwood', 3.61178247734139),\n ('Green Hills', 4.6),\n ('Mt.Laurel', 1.9814814814814814),\n ('Cedars', 4.229024943310658),\n ('Green Lane', 4.0636363636363635),\n ('NEWARK', 4.478260869565218),\n ('Coatesville', 3.0636182902584492),\n ('Tampa Bay', 4.052894211576846),\n ('Mt Juliet', 3.315515961395694),\n ('St.Pete Beach', 3.3),\n ('Nashville-Davidson metropolitan government (balance)', 3.5384615384615383),\n ('Mount Lemmon', 3.253731343283582),\n ('Denver', 4.5),\n ('Bosie', 3.6666666666666665),\n ('Tampa,Fl', 4.2),\n ('White House', 3.611274221961245),\n ('RIVERVIEW', 2.48),\n ('Berkeley', 2.742424242424242),\n ('wimauma', 4.625),\n ('pennsauken', 2.0),\n ('Salinas', 3.4482758620689653),\n ('Pine HIll', 3.610169491525424),\n ('North Wales', 3.4566532258064515),\n ('Hi-Nella', 3.423076923076923),\n ('Wycombe', 3.5),\n ('Bridgeton', 3.0717094610224382),\n ('Beech Grove', 3.7883435582822087),\n ('Toughkenamon', 3.730538922155689),\n ('Huntington Valley', 4.636363636363637),\n ('Abington Township', 3.835249042145594),\n ('Spokane', 2.3333333333333335),\n ('Landsale', 3.411764705882353),\n ('Key Largo', 4.8),\n ('Audubon', 3.4370786516853933),\n ('Sicklerville', 3.2472359444836507),\n ('Saint Pete Beach', 3.9065727699530517),\n ('Chester', 2.6394984326018807),\n ('Boise City', 3.909348441926346),\n ('East St Louis', 3.984375),\n ('Upper Pittsgrove', 3.5),\n ('Bargersville', 4.086538461538462),\n ('Eaux Claires', 1.4615384615384615),\n ('Deptford Twp', 1.8),\n ('chicago', 3.8461538461538463),\n ('Whitehouse', 3.4444444444444446),\n ('Lithia', 3.4907702100572884),\n ('Willingboro', 3.242857142857143),\n ('East Saint Louis', 3.022935779816514),\n ('LOWER MERION', 3.4594594594594597),\n ('Town And Country', 3.652360515021459),\n ('Sturgeon Couny', 2.4),\n ('Mehville', 2.8333333333333335),\n ('East St. Louis', 3.4516129032258065),\n ('Westampton Township', 3.4),\n ('Land o Lakes', 4.183673469387755),\n ('St Boise', 2.6),\n ('Springfield', 3.1696902276227967),\n ('Hudson', 3.445943184140609),\n ('Richmond Heights', 3.4673004897724),\n ('Evesham Township', 3.7673579801623083),\n ('Saint Albert', 3.8622589531680442),\n ('Somerdale', 3.561224489795918),\n ('Greenfield', 3.0135135135135136),\n ('Newportville', 4.0),\n ('Merion Park', 3.5714285714285716),\n ('Bradenton Beach', 4.125),\n ('Alberta Park Industrial', 1.8),\n ('Horseshoe Bend', 4.666666666666667),\n ('Brentwood ', 4.703703703703703),\n ('Aldan', 3.72),\n ('Plainfield', 3.3897229342121324),\n ('Mt Laurel', 2.5649202733485192),\n ('TAMPA AP', 1.8333333333333333),\n ('East Falls', 4.456989247311828),\n ('Peerless Park', 1.1818181818181819),\n ('MacDill AFB', 3.5714285714285716),\n ('Warminster', 3.5458483754512637),\n ('Wesley Chapel  FL', 4.3076923076923075),\n ('St.Petersburg', 3.336099585062241),\n ('West Point', 3.849740932642487),\n ('Tinicum', 4.551020408163265),\n ('Newcastle', 2.2),\n ('Westville', 3.88953488372093),\n ('Mechanicsville', 4.461538461538462),\n ('Gibbstown', 3.5810055865921786),\n ('Line Lexington', 2.8292682926829267),\n ('Pinellas park', 4.2682926829268295),\n ('nashville', 3.6),\n ('Merion', 4.4),\n ('Kng Of Prusia', 1.1428571428571428),\n ('Oldmans Township', 3.0833333333333335),\n ('New Orlaens', 5.0),\n ('St.Rose', 1.4545454545454546),\n ('Brandon', 3.5982422234492915),\n ('Narberth', 3.851788756388416),\n ('University City', 3.910747116831021),\n ('Washoe', 1.8333333333333333),\n ('Clermont', 3.8448275862068964),\n ('Jefferson Parish', 3.8),\n ('Marshallton', 2.869565217391304),\n ('Worcester', 3.4805194805194803),\n ('Devon-Berwyn', 2.7222222222222223),\n ('Pegram', 4.25),\n ('\\u200bLargo', 4.8),\n ('kenner', 4.2105263157894735),\n ('Wanamaker', 4.2745098039215685),\n ('Rutledge', 5.0),\n ('Ashland', 3.1481481481481484),\n ('Radnor', 3.748995983935743),\n ('Central Tampa', 3.6666666666666665),\n ('North Redington Beach', 4.028524410312672),\n ('Swedesboro', 3.460639394981093),\n ('Woodstown', 3.4871794871794872),\n ('Drexel Heights', 4.571428571428571),\n ('View', 3.8484848484848486),\n ('St. Leo', 3.840909090909091),\n ('DOWNINGTOWN', 4.666666666666667),\n ('Philadelphila ', 4.627906976744186),\n ('Land O Lakes', 3.580448839863066),\n ('Wood River', 3.424390243902439),\n ('Reno ', 5.0),\n ('Kenneth City', 3.8491096532333646),\n ('Erdenheim', 3.4456521739130435),\n ('Indianapolis,', 2.4761904761904763),\n ('Maryland Height, MO', 5.0),\n ('Willow Grove', 3.377670396744659),\n ('Blue Bell', 3.4898683626682443),\n ('Town and Country', 3.8623110151187907),\n ('Salem', 3.68),\n ('quakertown', 1.3181818181818181),\n ('Saint Davids', 2.6666666666666665),\n ('East Lansdowne', 3.292307692307692),\n ('Redington Beach', 4.529411764705882),\n ('Philadephia', 2.5700934579439254),\n ('South Burlington', 2.090909090909091),\n ('N Redngtn Bch', 3.103448275862069),\n ('Gibbsboro', 3.72635814889336),\n (\"O'fallon\", 3.612280701754386),\n ('Berry Hill', 4.403183023872679),\n ('Flanders', 2.9411764705882355),\n ('Wilmington Manor', 4.675),\n ('Bethel Township', 3.235294117647059),\n ('Belleville ', 5.0),\n ('Essington', 3.244868735083532),\n ('Pontoon Beach', 2.7743589743589743),\n ('BOISE', 2.4),\n ('boise', 4.7894736842105265),\n ('TUCSON', 3.7209302325581395),\n ('Oracle', 3.1818181818181817),\n ('Penllyn', 1.0),\n ('Dunnellon', 4.6923076923076925),\n ('TRENTON', 3.75),\n ('Palm harbor ', 3.6666666666666665),\n ('St. Albert', 3.8011363636363638),\n ('Trinity', 3.8451803984921917),\n ('Evesham', 3.474402730375427),\n ('Maplewood', 3.8014095142209916),\n ('Norwood', 3.8225806451612905),\n ('Wilimington', 2.855421686746988),\n ('Thonosassa', 4.0),\n ('SAINT LOUIS AP', 1.9333333333333333),\n ('Lower Southampton Township', 3.857142857142857),\n ('Woolwich Twp.', 3.4375),\n ('Upper Gwynedd', 2.7142857142857144),\n ('Southampton', 3.7601763907734056),\n ('Burlington Township', 2.025),\n ('Washoe Valley', 4.318840579710145),\n ('Oxnard', 4.3076923076923075),\n ('Newtown square', 1.75),\n ('Chalmette', 3.608454312553373),\n ('Wrightstown', 4.281818181818182),\n ('Belleair Blf', 2.842857142857143),\n ('Redington Shore', 3.08),\n ('Creve Couer', 3.807017543859649),\n ('Pinellas', 4.03125),\n ('Ivyland', 3.7429048414023374),\n ('Gwynedd', 3.730337078651685),\n ('Grenloch', 4.666666666666667),\n ('Newark', 3.439610342049366),\n ('Quakertown', 3.736086175942549),\n ('St.Ann', 4.233766233766234),\n ('Oaks', 3.0529612756264237),\n ('Collingdale', 3.529527559055118),\n ('Eastampton', 3.874429223744292),\n ('Cottage Hills', 3.1),\n ('Drexel', 1.0),\n ('Forest Hills', 3.5),\n ('TWN N CNTRY', 4.125),\n ('Troy', 3.522796352583587),\n ('Forest Grove', 4.0),\n ('St. Peters', 4.784313725490196),\n ('Gwynedd Valley', 4.32520325203252),\n ('East Edmonton', 2.9583333333333335),\n ('Nolensville', 3.8218884120171674),\n ('South Pasadena', 3.7884350619550253),\n ('East Norriton ', 3.2857142857142856),\n ('North Redington Bch', 3.995268138801262),\n ('Upland', 3.2051282051282053),\n ('Maryville ', 4.605263157894737),\n ('North Coventry Township', 4.555555555555555),\n ('Johnson', 3.6842105263157894),\n ('Madeira Beach', 3.8346094946401226),\n ('Clearwater Beach', 3.806122915238748),\n ('Saint Charles', 3.596709035372943),\n ('Gibsonton', 3.817014446227929),\n ('Pemberton', 3.542372881355932),\n ('Moorestown', 3.6148764698110716),\n ('Furlong', 3.928030303030303),\n ('Merchantville', 3.939273927392739),\n ('Earth City', 2.732283464566929),\n ('Thonotosassa', 3.9606126914660833),\n ('Edgemont', 1.95),\n ('NORRISTOWN', 3.303030303030303),\n ('Lakewood', 4.166666666666667),\n ('Santa Barbara', 4.003434335941846),\n ('West Deptford', 3.247978436657682),\n ('Apollo Beach', 3.7603406326034063),\n ('Ewing', 3.3364505844845906),\n ('TAMPA', 2.8096054888507718),\n ('Honey Brook', 4.333333333333333),\n ('Temple Terrace', 3.6632673465306937),\n ('King Of Prussia', 3.1841794569067297),\n ('Pilesgrove', 3.712121212121212),\n ('Wyndmoor', 4.093062605752961),\n ('maple shade nj', 2.090909090909091),\n ('Fallsington', 4.461538461538462),\n ('Mendenhall', 3.201117318435754),\n ('Bryn Athyn', 4.066666666666666),\n ('Mount Royal', 4.142857142857143),\n ('Sarasota', 2.3333333333333335),\n ('Horsham', 3.5491727332892125),\n ('Chadds Ford', 3.5878345498783455),\n ('Bala Cynwyd', 3.3305824472305985),\n ('Crum Lynne', 2.9759036144578315),\n ('Scott Air Force Base', 4.094594594594595),\n ('COLMAR', 5.0),\n ('Pilot Sound Area West Portion', 1.25),\n ('Town and Country ', 3.7788461538461537),\n ('Falls', 1.0),\n ('Trevose', 3.3475643130815547),\n ('Elsmere', 3.7971014492753623),\n ('Town N Country', 4.769230769230769),\n ('Rosewood Heights', 4.964285714285714),\n ('Hamilton', 3.9344994417566057),\n ('St Charles', 3.5806451612903225),\n ('Washington Township', 3.725663716814159),\n ('Mt  Juliet', 2.2083333333333335),\n ('Concordville', 2.5483870967741935),\n ('Montchanin', 3.88268156424581),\n ('Casa Adobes', 2.8048780487804876),\n ('Woodson Terrace', 3.5396825396825395),\n ('Pineville', 3.106194690265487),\n ('Morton', 3.3309608540925266),\n ('Jamison', 3.613485280151947),\n ('Roslyn', 3.190625),\n ('Woodbury Hts.', 1.5454545454545454),\n ('E Saint Louis', 2.0),\n ('Rillito', 3.9565217391304346),\n ('POTTSTOWN', 4.833333333333333),\n ('Summerhaven', 3.125),\n ('Reno', 3.748279873596664),\n ('Edwardsville', 3.7119399483931503),\n ('Plant City', 3.6150081566068515),\n ('East Lake', 2.6666666666666665),\n ('Talleyville', 3.494071146245059),\n ('St. Petersberg', 2.9047619047619047),\n ('Hurffville', 2.0),\n ('Thornton', 3.4607843137254903),\n ('Imperial', 3.505194805194805),\n ('Collegeville', 3.562404035972801),\n ('MADISON', 1.75),\n ('Knoxville', 2.8421052631578947),\n ('Mount Laurel Township', 4.043596730245231),\n ('Laurel Springs', 3.93205574912892),\n ('Bellville', 1.6666666666666667),\n ('Aliso Viejo', 5.0),\n ('Picture Rocks', 4.777777777777778),\n ('Center City Philadelphia', 5.0),\n ('Erdenheim Pa', 3.2857142857142856),\n ('Hermitage', 3.560964815224607),\n ('Tarpon Springs', 3.900308641975309),\n ('Radnor Township', 3.324324324324324),\n ('Runnemede', 3.342260310658811),\n ('Alloway', 3.8333333333333335),\n ('Terra Ceia', 4.777777777777778),\n ('Lansdale ', 3.7710843373493974),\n ('reno', 4.483443708609271),\n ('Lavergne', 3.230769230769231),\n ('BRANDON', 2.259259259259259),\n ('Tampa,', 4.0),\n ('Clifton Heights', 3.461400359066427),\n ('Pleasant View', 3.5389294403892944),\n ('Secane', 3.7717041800643085),\n ('Los Ranchitos', 1.5714285714285714),\n ('Saint Louis ', 4.636363636363637),\n (\"Town 'N' Country\", 4.377358490566038),\n ('Bellefontaine Neighbors', 2.5714285714285716),\n ('Saint Peters', 3.3529411764705883),\n ('Pennsville Township', 4.028846153846154),\n ('Redington Shores', 4.156351791530945),\n ('Winchester', 4.322274881516588),\n ('Roxborough', 2.7714285714285714),\n ('PINELLAS PARK', 2.782608695652174),\n ('Haddon Heights', 3.8881685575364666),\n ('High Ridge', 3.7095937770095073),\n ('Dresher', 3.5026535253980287),\n ('Greenbrier', 3.606060606060606),\n ('AB Edmonton', 4.333333333333333),\n ('Mc Cordsville', 3.230769230769231),\n ('Cornwells Heights', 1.9444444444444444),\n ('Port Hueneme', 2.5714285714285716),\n ('Nashville,', 4.36),\n ('St. Louis County', 3.3866666666666667),\n ('Maryland Heights', 3.3005036373810857),\n ('Riverton', 3.7636022514071295),\n ('Slidell', 4.222222222222222),\n ('Greater Carrollwood', 4.722222222222222),\n ('Charles', 3.857142857142857),\n ('Vineland', 3.4),\n ('meridian', 4.346153846153846),\n ('Nixa', 2.2857142857142856),\n ('Jenkintown', 3.5227768510201463),\n ('Valrico', 3.6972556991433136),\n ('Wesley Chapel', 3.5373392461197337),\n ('Boyertown', 3.915294117647059),\n ('Trappe', 3.7666666666666666),\n ('Elmer', 3.380952380952381),\n ('Upper Pottsgrove', 3.135593220338983),\n ('St Rose', 4.333333333333333),\n ('New Jersey', 3.4545454545454546),\n ('Huntingdon Valley', 3.8075296959935576),\n ('New Britain', 3.7211155378486054),\n ('Burlington', 3.374841972187105),\n ('Spanish Springs', 3.3987341772151898),\n ('Belle Chase', 3.0),\n ('Saint Louis,', 4.017241379310345),\n ('Parker Ford', 4.260869565217392),\n ('Overbrook', 5.0),\n ('Langhorne', 3.2073369565217393),\n ('Exton', 3.3126549004881714),\n ('Washington Crossing', 3.828125),\n ('Spruce Grove', 4.090909090909091),\n ('Monrovia', 5.0),\n ('Santa Clara', 2.08),\n ('Woolwich Twp', 3.324324324324324),\n ('New Port Richey', 3.600387185411853),\n ('Hatboro', 3.701996197718631),\n ('Mehlville', 3.5568181818181817),\n ('Ardmore', 3.6983781768470765),\n ('Belle Meade', 3.939914163090129),\n ('St Petersurg', 3.6),\n ('Glenoldan', 4.415384615384616),\n ('Dupo', 3.8974358974358974),\n ('Mt. Holly', 2.2962962962962963),\n ('Costa Mesa', 3.3333333333333335),\n ('Valley Park', 3.943916349809886),\n ('Gloucester City', 3.666110183639399),\n ('Frederick', 2.6),\n ('Chesilhurst', 3.825242718446602),\n ('Clarksboro', 3.843065693430657),\n ('Meterie', 4.4),\n ('Zionsville', 3.8552765093860986),\n ('Lower Gwynedd', 3.537037037037037),\n ('S Pasadena', 5.0),\n ('Upper Southampton', 3.65),\n ('Sahuarita', 3.322483725588383),\n ('Churchville', 3.1256830601092895),\n ('Riverside', 3.8460038986354776),\n ('Crystal Springs', 3.8),\n ('YARDLEY', 4.545454545454546),\n ('Lincoln', 1.8333333333333333),\n ('Upper Merion Township', 3.0),\n ('Feasterville Trev', 4.0),\n ('Mt. Juliet', 3.4785775492716366),\n ('Vail', 3.676780185758514),\n ('Stratford', 3.6206896551724137),\n ('Bennington', 4.6),\n ('Fairview Hts.', 2.2888888888888888),\n ('Sparks,', 5.0),\n ('Sauget', 2.857142857142857),\n ('Bristol Twp', 3.923076923076923),\n ('Unionville', 3.7761194029850746),\n ('Newtown Sq', 4.0),\n ('North Maple Shade', 3.3333333333333335),\n ('AVON', 3.4166666666666665),\n ('McCarran', 4.333333333333333),\n ('Lula Lula', 3.473684210526316),\n ('St. Pete', 4.09433962264151),\n ('Florissant', 3.5056211754660596),\n ('Gallatin', 3.3919712793733683),\n ('Dunedin', 3.9909951415647513),\n ('Downingtown', 3.5674520973588812),\n ('Glendora', 4.13963963963964),\n ('Lansdowne', 3.7068798449612403),\n ('St Louis County', 3.917948717948718),\n ('Lemay', 1.6363636363636365),\n ('Ewing Twp', 2.888888888888889),\n ('W Cherry Hill', 3.0091743119266057),\n ('Tampa - North', 3.380952380952381),\n ('Shiloh', 3.2794990112063283),\n ('Petersburg', 4.161764705882353),\n ('Tuscon', 3.7586685159500695),\n ('St Pete', 3.5864661654135337),\n ('Cane Ridge', 2.9682539682539684),\n ('Yorklyn', 4.587301587301587),\n ('Eddington', 4.5),\n ('INpolis', 3.5833333333333335),\n ('Levittown', 3.517366904292431),\n ('Hockessin', 3.7310565635005335),\n ('St. Petersburg', 3.877165932452276),\n ('Gulfport', 4.04620100722575),\n ('Glenside', 3.686223662884927),\n ('NEW PRT RCHY', 5.0),\n ('Meraux', 3.8974358974358974),\n ('South Tucson', 2.4468085106382977),\n ('Buckingham Township', 3.8421052631578947),\n ('Hillsborough', 4.208333333333333),\n ('Carversville', 3.9557522123893807),\n ('Bensalem', 3.259668104393596),\n ('Waterloo', 3.933605720122574),\n ('Belleair Bluffs', 3.8261515601783063),\n ('Ballwin', 3.377063711911357),\n ('Fort Washington', 3.2769390942217593),\n ('East Greenville', 3.6),\n ('Metairie ', 4.166666666666667),\n ('Carrollwood', 3.236714975845411),\n ('Blooming Glen', 4.71875),\n ('Rural Hill', 4.0),\n ('Evshm Twp', 4.676470588235294),\n ('Zieglerville', 3.1012658227848102),\n ('Pasadena', 2.3230769230769233),\n ('Town n Country', 4.645161290322581),\n ('Waggaman', 4.076923076923077),\n ('Belleair', 3.962025316455696),\n ('Winslow Township', 3.6095238095238096),\n ('Trolley Square', 4.0588235294117645),\n ('Tortola', 2.727272727272727),\n ('West Chester PA', 4.285714285714286),\n ('Echelon', 2.875),\n ('Arizona', 4.909090909090909),\n ('WEST CHESTER', 3.5762711864406778),\n ('New Hope', 3.6896112650737773),\n ('Lambertville', 3.886768975528826),\n ('Rosemont', 3.763440860215054),\n ('Crystal Beach', 5.0),\n ('Pilgrim Gardens', 3.888888888888889),\n ('Mango', 3.1219512195121952),\n ('Belleair Blufs', 4.428571428571429),\n ('College Place', 4.3076923076923075),\n ('Masaryktown', 4.3052631578947365),\n ('Safety  Harbor', 4.390625),\n ('Hatfield', 3.4918845807033363),\n ('Mooresville', 3.8002065049044913),\n ('St.Louis', 3.3870967741935485),\n ('Fairview Hts', 2.356589147286822),\n ('Caln', 4.333333333333333),\n ('Warrington Township', 3.173469387755102),\n ('Pike Creek', 3.741444866920152),\n ('Delran Twp', 3.8333333333333335),\n ('Pennsburg', 3.122916666666667),\n ('Lawrence', 3.081135902636917),\n ('San Antonio', 4.0220994475138125),\n ('Lima', 2.949367088607595),\n ('Swedesboro ', 1.7272727272727273),\n ('Oldmans', 2.3766233766233764),\n ('Old Strathcona', 3.142857142857143),\n ('philadelphia', 3.883817427385892),\n ('Webster Groves', 3.9256803907885556),\n ('Folcroft', 4.097465886939571),\n ('Croydon', 3.9022369511184753),\n ('Corona De Tucson', 3.962962962962963),\n ('elmwood', 5.0),\n ('Haddon', 4.5),\n ('W. Berlin', 2.825),\n ('Fort Saskatchewan', 1.8571428571428572),\n ('Cherry Hil', 4.4375),\n ('largo', 3.125),\n ('Santa Barbara,', 5.0),\n ('Norriton', 4.833333333333333),\n ('New castle', 3.0),\n ('Tampa', 3.75306503344772),\n ('Metairie', 3.606329920293345),\n ('Elkins Park', 3.926352705410822),\n ('Treasure Island', 3.803846966814627),\n ('Wenonah', 3.672514619883041),\n ('Elk Township', 4.166666666666667),\n ('North Marlton', 3.3333333333333335),\n ('Saint\\xa0Louis', 2.1),\n ('New Pt Richey', 3.7777777777777777),\n ('Fernley', 5.0),\n ('West Chester', 3.6514701808540106),\n ('Riverview', 3.59840823146601),\n ('St Louis', 3.865638942001275),\n ('Wimauma', 3.8055555555555554),\n ('Mullica Hill', 3.5995955510616784),\n ('Indianpolis', 2.9363636363636365),\n ('Zieglersville', 3.9473684210526314),\n ('Trainer', 4.333333333333333),\n ('Staint Albert', 2.25),\n ('St Petersberg', 4.833333333333333),\n ('Saint Leo', 3.7666666666666666),\n ('Bywater', 4.237623762376238),\n ('Fieldsboro', 3.64),\n ('Isla Vista', 3.7574838454437556),\n ('Atco', 3.4352941176470586),\n ('Bellevue', 3.404151404151404),\n ('Deptford Township', 3.388137356919875),\n ('Holland', 3.5356164383561643),\n ('Harahan', 3.6304149150063973),\n ('Westampton', 2.98661800486618),\n ('Primos-Secane', 2.4791666666666665),\n ('Freehold', 4.333333333333333),\n ('SEMINOLE', 3.875),\n ('Phonixville', 3.4),\n ('Zionsville In', 4.0),\n ('Wayne', 3.6845152895250486),\n ('Voorhees', 3.528334570650829),\n ('Media', 3.705738373674191),\n ('Drexel Hill', 3.6928031985784098),\n ('Centreville', 2.962962962962963),\n ('Tullytown', 4.533333333333333),\n ('Covington', 5.0),\n ('Mount Holly,', 3.6153846153846154),\n ('S.Pasadena', 1.6585365853658536),\n ('Pittsgrove', 3.391304347826087),\n ('Pleasant Township', 3.951219512195122),\n ('Concord Township', 2.9036144578313254),\n ('Wynnewood', 3.4503205128205128),\n ('Saintt Petersburg', 4.7272727272727275),\n ('Madiera Beach', 4.428571428571429),\n ('Fairview Village', 3.9078947368421053),\n ('Parkside', 3.435483870967742),\n ('Wilmington ', 4.590909090909091),\n ('Danville', 3.8031088082901556),\n ('Cerritos', 2.9044117647058822),\n ('Santa Barbara & Ventura Counties', 3.4523809523809526),\n ('N Redington Bch', 3.6666666666666665),\n ('Rancocas', 5.0),\n ('Chester Springs', 3.6926829268292685),\n ('Deptford', 3.1216179283957364),\n ('Caseyville', 3.334593572778828),\n ('Lawrenceville', 3.676),\n ('Casas Adobes', 3.1020408163265305),\n ('French Quarter', 4.463768115942029),\n ('CHELTENHAM', 3.4782608695652173),\n ('CONSHOHOCKEN', 3.6666666666666665),\n ('Had Twp', 4.333333333333333),\n ('St. Louis', 3.7631558210272495),\n ('Plumsteadville', 3.9925373134328357),\n ('St. Ann', 2.406926406926407),\n ('Ellisville', 5.0),\n ('Star', 1.8888888888888888),\n ('Royersford ', 4.235294117647059),\n ('Houston', 1.6153846153846154),\n ('Monroe', 3.1666666666666665),\n ('Malaga', 3.592814371257485),\n ('Mission Canyon', 4.421052631578948),\n ('Newport', 3.6319444444444446),\n ('Carson City', 3.142857142857143),\n ('Riverview Fl', 4.214285714285714),\n ('Goodletsville', 4.0495049504950495),\n ('Pine Forge', 3.4390243902439024),\n ('Catalina Foothills', 4.852459016393443),\n ('Downtown Indianapolis', 4.294117647058823),\n ('Charlack', 3.6),\n ('erdenheim', 3.2162162162162162),\n ('Pass-a-Grille Beach', 4.712643678160919),\n ('Pinecrest West Park', 4.555555555555555),\n ('BOISE AP', 2.111111111111111),\n ('South Cherry Hill', 2.3),\n ('Trenton', 3.7059201026792876),\n ('Truckee', 4.5353535353535355),\n ('Pine Hill', 3.0271493212669682),\n ('Philadelphia ', 4.462962962962963),\n ('Bridgeton ', 5.0),\n ('Stead', 3.3333333333333335),\n ('Tampa ', 4.875),\n ('Mt Laurel Township', 3.2134831460674156),\n ('Westmont - Haddon Towsship', 3.0),\n ('Boise (Meridian)', 2.6666666666666665),\n ('Indianapolis ', 4.518518518518518),\n ('Washington Park', 3.589041095890411),\n ('Hadden', 4.615384615384615),\n ('Tennesse', 3.6666666666666665),\n ('Balm', 4.558558558558558),\n ('santa Barbara', 4.6875),\n ('Sherwood', 3.7464788732394365),\n ('Charlotte', 3.375),\n ('Tampla', 3.272727272727273),\n ('Eagle', 3.852134923061245),\n ('Bordentown', 3.706370569762225),\n ('Chestnut Hill', 4.553571428571429),\n ('Palmetto', 3.5811088295687883),\n ('Mt Ephraim', 2.914285714285714),\n ('Chichester', 3.6595744680851063),\n ('LARGO', 3.161290322580645),\n ('Ybor City', 4.206611570247934),\n ('NORTH WALES', 4.037735849056604),\n ('Philadelphia', 3.785672501322926),\n ('Palm Harbor', 3.7185418541854185),\n ('Gloucester', 3.0),\n ('Flourtown', 3.078503688092729),\n ('Apopka', 2.4),\n ('Treasure Is', 3.576158940397351),\n ('Brooklyn', 2.3529411764705883),\n ('Fairview', 3.25),\n ('Saint Bernard', 4.414634146341464),\n ('St. Rose', 3.952054794520548),\n ('West Collingswood Heights', 3.3384615384615386),\n ('Spark', 5.0),\n ('Lynnfield', 1.3714285714285714),\n ('Nolenville', 4.533333333333333),\n ('Mount Laurel', 3.356852409638554),\n ('tucson', 3.5026178010471205),\n ('Creamery', 4.375),\n ('Riveridge', 2.5294117647058822),\n ('Santa Barbra', 3.84),\n ('Aston', 3.6015533980582526),\n ('Sun City', 2.5301204819277108),\n ('Haverford', 3.690983606557377),\n ('TUCSON AP', 1.6956521739130435),\n ('Beverly', 3.6323529411764706),\n ('Southampton Township', 3.372549019607843),\n ('Newfield', 3.838862559241706),\n ('Lederach', 3.8636363636363638),\n ('Belleair Beach', 3.9019607843137254),\n ('Rushland', 4.545454545454546),\n ('\\u200bClayton', 3.8333333333333335),\n ('Haddon township', 1.375),\n ('Devon', 3.5628778718258767),\n ('TEMPLE TERR', 4.7),\n ('Mccordsville', 3.9672131147540983),\n ('Franconia', 2.8260869565217392),\n ('Macdill Afb', 2.1538461538461537),\n ('LITHIA', 2.185185185185185),\n ('Willingboro Township', 3.4825174825174825),\n ('Boulevard', 4.0),\n ('Shady Hills', 3.5714285714285716),\n ('Corona de Tucson', 4.461538461538462),\n ('Saint Louis', 3.814853395518413),\n ('Carmel', 3.7863570741097208),\n ('Whitestown', 3.7451227186910008),\n ('Mount Juliet', 3.6451850036755697),\n ('Solebury', 3.2777777777777777),\n ('Kimberton', 4.299212598425197),\n ('Violet', 4.156028368794326),\n ('Bellefonte', 4.466666666666667),\n ('Norristown', 3.6562633604104318),\n ('Penndel', 3.7734265734265735),\n ('Lumberton', 3.0154405086285196),\n ('Castleton', 3.3735955056179776),\n ('St. Davids', 3.3333333333333335),\n ('Cherry Hill Mall', 2.875),\n ('Rose Valley', 2.918918918918919),\n ('Wayne/Radnor', 3.4782608695652173),\n ('Webster Grvs', 4.833333333333333),\n ('Fox Street', 3.0833333333333335),\n ('Wilmington', 3.5309724639621547),\n ('Glenmore', 4.090909090909091),\n ('McCordsville', 3.9415094339622643),\n ('West Conshohocken', 3.5842105263157893),\n ('PLYMOUTH MTNG', 3.4166666666666665),\n ('Inglewood', 2.090909090909091),\n ('Cumberland', 3.7096774193548385),\n ('Glenn Mills', 2.2857142857142856),\n ('Land-O-Lakes', 3.3333333333333335),\n ('Mississauga', 4.166666666666667),\n ('Indianapolis', 3.823646086049645),\n ('Indian Rocks Beach', 3.9996240248143624),\n ('Sun City Center', 3.250996015936255),\n ('Mount Ephraim', 3.331914893617021),\n ('Columbia', 3.7306967984934087),\n ('Feasterville-trevose', 3.24),\n ('Enoch', 3.122448979591837),\n ('St. Pete Beach', 3.8076796308503624),\n ('Collingswood', 3.9253074692530747),\n ('Westwego', 4.07905604719764),\n ('Speedway', 3.669746886299719),\n ('Williamsport', 3.6),\n ('Freeburg', 3.7816901408450705),\n ('CLIFTON HEIGHTS', 1.9365079365079365),\n ('Havertown', 3.686513042461107),\n ('Souderton', 3.8499440089585666),\n ('Cahokia', 3.357142857142857),\n ('Malvern', 3.7515130251732303),\n ('Villanova', 3.581845238095238),\n ('Whites Creek', 3.9682539682539684),\n ('Ofallon', 2.090909090909091),\n ('Whiteland', 3.3333333333333335),\n ('New orleans', 4.3125),\n ('HENDERSONVILLE', 5.0),\n ('Sparks ', 5.0),\n ('West Mount Holly', 3.4615384615384617),\n ('Hilltown', 4.301587301587301),\n ('TRINITY', 2.4339622641509435),\n ('Shamong', 4.17923186344239),\n ('Thorofare', 3.484848484848485),\n ('Mt. Airy', 4.52),\n ('Philadelphia PA', 4.416666666666667),\n ('Stone Harbor', 2.142857142857143),\n ('LOWER PROVIDENCE', 4.923076923076923),\n ('Morrisville', 3.7120060790273555),\n ('St Albert', 3.6202346041055717),\n ('Lutz fl', 4.888888888888889),\n ('Prospect Park', 3.7786688051323174),\n ('Haddon Twp', 1.925),\n ('Sanatoga', 3.119047619047619),\n ('Holland Southampton', 4.0),\n ('Edmundson', 2.4285714285714284),\n ('Newtown Sqaure', 3.5714285714285716),\n ('Jefferson', 3.565652522017614),\n ('Upper Darby', 3.590901598813252),\n ('Abington', 3.458970792767733),\n ('Hainesport', 3.4098018769551617),\n ('Ruskin', 3.619472789115646),\n ('Logan Township', 3.811224489795918),\n ('Berlin', 3.7182249030590264),\n ('Woolwich Township', 3.731707317073171),\n ('NEW ORLEANS', 4.25),\n ('Sumneytown', 4.16),\n ('Vincentown', 3.5051194539249146),\n ('Nampa', 3.264705882352941),\n ('Mantua Township', 3.738562091503268),\n ('Ridley Township', 4.3125),\n ('new orleans', 3.3333333333333335),\n ('Nashville', 3.8181659141087447),\n ('New Castle', 3.3690168818272097),\n ('O Fallon', 3.3221271393643033),\n ('New Palestine', 3.7630208333333335),\n ('Green Park', 2.5901639344262297),\n ('indianopolis', 3.857142857142857),\n ('lawrence', 4.387096774193548),\n ('Lester', 3.0458715596330275),\n ('NEW ORLEANS AP', 1.7037037037037037),\n ('E. Norristown', 2.642857142857143),\n ('Stroudsburg', 1.0),\n ('Tarpon springs', 3.6683291770573567),\n ('Pennsauken Township', 3.78125),\n ('Oakville', 3.678048780487805),\n ('Land o lakes', 2.9692307692307693),\n ('saint ann', 5.0),\n ('Indianapolis city (balance)', 4.857142857142857),\n ('Kalispell', 5.0),\n ('TARPON SPRINGS', 4.8),\n ('Pennsville', 3.425287356321839),\n ('Broomall', 3.477581053115659),\n ('Smithton', 3.5405405405405403),\n ('Ferguson', 3.894308943089431),\n ('Montgomeryville', 3.1940719830628086),\n ('OFallon', 2.6122448979591835),\n ('St.  Charles', 4.931034482758621),\n ('GARDEN CITY', 2.142857142857143),\n ('West Alton', 3.6666666666666665),\n ('West Bradford Township', 2.814814814814815),\n ('Pennsylvania', 3.9),\n ('San Anselmo', 4.647058823529412),\n ('West Hill', 4.96),\n ('Westhampton', 1.8),\n ('Boston', 1.0),\n ...]"
     },
     "execution_count": 195,
     "metadata": {},
     "output_type": "execute_result"
    }
   ],
   "source": [
    "combined_rdd"
   ],
   "metadata": {
    "collapsed": false,
    "pycharm": {
     "name": "#%%\n"
    }
   }
  },
  {
   "cell_type": "code",
   "execution_count": 196,
   "outputs": [
    {
     "data": {
      "text/plain": "1416"
     },
     "execution_count": 196,
     "metadata": {},
     "output_type": "execute_result"
    }
   ],
   "source": [
    "\n",
    "sorted_cities = sorted(sorted(combined_rdd, key=lambda x: x[0]), key=lambda x: x[1], reverse=True)\n",
    "len(sorted_cities)"
   ],
   "metadata": {
    "collapsed": false,
    "pycharm": {
     "name": "#%%\n"
    }
   }
  },
  {
   "cell_type": "markdown",
   "source": [
    "#3B\n"
   ],
   "metadata": {
    "collapsed": false
   }
  },
  {
   "cell_type": "code",
   "execution_count": 197,
   "outputs": [
    {
     "ename": "JSONDecodeError",
     "evalue": "Extra data: line 2 column 1 (char 340)",
     "output_type": "error",
     "traceback": [
      "\u001B[0;31m---------------------------------------------------------------------------\u001B[0m",
      "\u001B[0;31mJSONDecodeError\u001B[0m                           Traceback (most recent call last)",
      "\u001B[0;32m<ipython-input-197-379133f9b4eb>\u001B[0m in \u001B[0;36m<module>\u001B[0;34m\u001B[0m\n\u001B[1;32m      1\u001B[0m \u001B[0;32mwith\u001B[0m \u001B[0mopen\u001B[0m\u001B[0;34m(\u001B[0m\u001B[0;34m'business.json'\u001B[0m\u001B[0;34m,\u001B[0m \u001B[0;34m'r'\u001B[0m\u001B[0;34m)\u001B[0m \u001B[0;32mas\u001B[0m \u001B[0mfb\u001B[0m\u001B[0;34m:\u001B[0m\u001B[0;34m\u001B[0m\u001B[0;34m\u001B[0m\u001B[0m\n\u001B[0;32m----> 2\u001B[0;31m     \u001B[0mbiz\u001B[0m \u001B[0;34m=\u001B[0m \u001B[0mjson\u001B[0m\u001B[0;34m.\u001B[0m\u001B[0mload\u001B[0m\u001B[0;34m(\u001B[0m\u001B[0mfb\u001B[0m\u001B[0;34m)\u001B[0m\u001B[0;34m\u001B[0m\u001B[0;34m\u001B[0m\u001B[0m\n\u001B[0m\u001B[1;32m      3\u001B[0m \u001B[0;34m\u001B[0m\u001B[0m\n\u001B[1;32m      4\u001B[0m \u001B[0mbiz\u001B[0m\u001B[0;34m\u001B[0m\u001B[0;34m\u001B[0m\u001B[0m\n",
      "\u001B[0;32m~/.pyenv/versions/3.6.15/lib/python3.6/json/__init__.py\u001B[0m in \u001B[0;36mload\u001B[0;34m(fp, cls, object_hook, parse_float, parse_int, parse_constant, object_pairs_hook, **kw)\u001B[0m\n\u001B[1;32m    297\u001B[0m         \u001B[0mcls\u001B[0m\u001B[0;34m=\u001B[0m\u001B[0mcls\u001B[0m\u001B[0;34m,\u001B[0m \u001B[0mobject_hook\u001B[0m\u001B[0;34m=\u001B[0m\u001B[0mobject_hook\u001B[0m\u001B[0;34m,\u001B[0m\u001B[0;34m\u001B[0m\u001B[0;34m\u001B[0m\u001B[0m\n\u001B[1;32m    298\u001B[0m         \u001B[0mparse_float\u001B[0m\u001B[0;34m=\u001B[0m\u001B[0mparse_float\u001B[0m\u001B[0;34m,\u001B[0m \u001B[0mparse_int\u001B[0m\u001B[0;34m=\u001B[0m\u001B[0mparse_int\u001B[0m\u001B[0;34m,\u001B[0m\u001B[0;34m\u001B[0m\u001B[0;34m\u001B[0m\u001B[0m\n\u001B[0;32m--> 299\u001B[0;31m         parse_constant=parse_constant, object_pairs_hook=object_pairs_hook, **kw)\n\u001B[0m\u001B[1;32m    300\u001B[0m \u001B[0;34m\u001B[0m\u001B[0m\n\u001B[1;32m    301\u001B[0m \u001B[0;34m\u001B[0m\u001B[0m\n",
      "\u001B[0;32m~/.pyenv/versions/3.6.15/lib/python3.6/json/__init__.py\u001B[0m in \u001B[0;36mloads\u001B[0;34m(s, encoding, cls, object_hook, parse_float, parse_int, parse_constant, object_pairs_hook, **kw)\u001B[0m\n\u001B[1;32m    352\u001B[0m             \u001B[0mparse_int\u001B[0m \u001B[0;32mis\u001B[0m \u001B[0;32mNone\u001B[0m \u001B[0;32mand\u001B[0m \u001B[0mparse_float\u001B[0m \u001B[0;32mis\u001B[0m \u001B[0;32mNone\u001B[0m \u001B[0;32mand\u001B[0m\u001B[0;34m\u001B[0m\u001B[0;34m\u001B[0m\u001B[0m\n\u001B[1;32m    353\u001B[0m             parse_constant is None and object_pairs_hook is None and not kw):\n\u001B[0;32m--> 354\u001B[0;31m         \u001B[0;32mreturn\u001B[0m \u001B[0m_default_decoder\u001B[0m\u001B[0;34m.\u001B[0m\u001B[0mdecode\u001B[0m\u001B[0;34m(\u001B[0m\u001B[0ms\u001B[0m\u001B[0;34m)\u001B[0m\u001B[0;34m\u001B[0m\u001B[0;34m\u001B[0m\u001B[0m\n\u001B[0m\u001B[1;32m    355\u001B[0m     \u001B[0;32mif\u001B[0m \u001B[0mcls\u001B[0m \u001B[0;32mis\u001B[0m \u001B[0;32mNone\u001B[0m\u001B[0;34m:\u001B[0m\u001B[0;34m\u001B[0m\u001B[0;34m\u001B[0m\u001B[0m\n\u001B[1;32m    356\u001B[0m         \u001B[0mcls\u001B[0m \u001B[0;34m=\u001B[0m \u001B[0mJSONDecoder\u001B[0m\u001B[0;34m\u001B[0m\u001B[0;34m\u001B[0m\u001B[0m\n",
      "\u001B[0;32m~/.pyenv/versions/3.6.15/lib/python3.6/json/decoder.py\u001B[0m in \u001B[0;36mdecode\u001B[0;34m(self, s, _w)\u001B[0m\n\u001B[1;32m    340\u001B[0m         \u001B[0mend\u001B[0m \u001B[0;34m=\u001B[0m \u001B[0m_w\u001B[0m\u001B[0;34m(\u001B[0m\u001B[0ms\u001B[0m\u001B[0;34m,\u001B[0m \u001B[0mend\u001B[0m\u001B[0;34m)\u001B[0m\u001B[0;34m.\u001B[0m\u001B[0mend\u001B[0m\u001B[0;34m(\u001B[0m\u001B[0;34m)\u001B[0m\u001B[0;34m\u001B[0m\u001B[0;34m\u001B[0m\u001B[0m\n\u001B[1;32m    341\u001B[0m         \u001B[0;32mif\u001B[0m \u001B[0mend\u001B[0m \u001B[0;34m!=\u001B[0m \u001B[0mlen\u001B[0m\u001B[0;34m(\u001B[0m\u001B[0ms\u001B[0m\u001B[0;34m)\u001B[0m\u001B[0;34m:\u001B[0m\u001B[0;34m\u001B[0m\u001B[0;34m\u001B[0m\u001B[0m\n\u001B[0;32m--> 342\u001B[0;31m             \u001B[0;32mraise\u001B[0m \u001B[0mJSONDecodeError\u001B[0m\u001B[0;34m(\u001B[0m\u001B[0;34m\"Extra data\"\u001B[0m\u001B[0;34m,\u001B[0m \u001B[0ms\u001B[0m\u001B[0;34m,\u001B[0m \u001B[0mend\u001B[0m\u001B[0;34m)\u001B[0m\u001B[0;34m\u001B[0m\u001B[0;34m\u001B[0m\u001B[0m\n\u001B[0m\u001B[1;32m    343\u001B[0m         \u001B[0;32mreturn\u001B[0m \u001B[0mobj\u001B[0m\u001B[0;34m\u001B[0m\u001B[0;34m\u001B[0m\u001B[0m\n\u001B[1;32m    344\u001B[0m \u001B[0;34m\u001B[0m\u001B[0m\n",
      "\u001B[0;31mJSONDecodeError\u001B[0m: Extra data: line 2 column 1 (char 340)"
     ]
    }
   ],
   "source": [
    "with open('business.json', 'r') as fb:\n",
    "    biz = json.load(fb)\n",
    "\n",
    "biz"
   ],
   "metadata": {
    "collapsed": false,
    "pycharm": {
     "name": "#%%\n"
    }
   }
  },
  {
   "cell_type": "code",
   "execution_count": 117,
   "outputs": [],
   "source": [
    "start_py_sort_time = time.time()\n",
    "\n",
    "\n",
    "biz_city_rdd =  sc.textFile(input_biz_json).\\\n",
    "                map(lambda x: json.loads(x)).\\\n",
    "                map(lambda x:(x['business_id'],x['city']) if x['city'] is not None else (x['business_id'],\"NA\"))\n",
    "\n",
    "biz_stars_rdd = sc.textFile(input_review_json).map(lambda x: json.loads(x)).map(lambda x:(x['business_id'],x['stars']))\n",
    "\n",
    "combined_rdd =  biz_stars_rdd.rightOuterJoin(biz_city_rdd).map(lambda x: (x[1][1], (x[1][0],1))).\\\n",
    "                filter(lambda x: x[1][0] is not None). reduceByKey(lambda x,y: (x[0] + y[0], x[1]+y[1])).\\\n",
    "                map(lambda x: (x[0], float(x[1][0]/x[1][1]))).collect()\n",
    "\n",
    "# Sorted by Stars Desc and name Asc\n",
    "#sorted_cities =  sorted(sorted(combined_rdd, key = lambda x : x[0]), key = lambda x : x[1], reverse = True)\n",
    "sorted_cities =  sorted(combined_rdd, key = lambda x : (-x[1],x[0]))\n",
    "print(sorted_cities[:10])\n",
    "end_py_sort_time = time.time() - start_py_sort_time"
   ],
   "metadata": {
    "collapsed": false,
    "pycharm": {
     "name": "#%%\n"
    }
   }
  },
  {
   "cell_type": "code",
   "execution_count": 118,
   "outputs": [
    {
     "data": {
      "text/plain": "6.972905158996582"
     },
     "execution_count": 118,
     "metadata": {},
     "output_type": "execute_result"
    }
   ],
   "source": [
    "end_py_sort_time"
   ],
   "metadata": {
    "collapsed": false,
    "pycharm": {
     "name": "#%%\n"
    }
   }
  },
  {
   "cell_type": "code",
   "execution_count": 119,
   "outputs": [],
   "source": [
    "start_spark_sort_time = time.time()\n",
    "biz_city_rdd =  sc.textFile(input_biz_json).\\\n",
    "                map(lambda x: json.loads(x)).\\\n",
    "                map(lambda x:(x['business_id'],x['city']) if x['city'] is not None else (x['business_id'],\"NA\"))\n",
    "\n",
    "biz_stars_rdd = sc.textFile(input_review_json).map(lambda x: json.loads(x)).map(lambda x:(x['business_id'],x['stars']))\n",
    "\n",
    "combined_rdd =  biz_stars_rdd.rightOuterJoin(biz_city_rdd).map(lambda x: (x[1][1], (x[1][0],1))).\\\n",
    "                filter(lambda x: x[1][0] is not None). reduceByKey(lambda x,y: (x[0] + y[0], x[1]+y[1])).\\\n",
    "                map(lambda x: (x[0], float(x[1][0]/x[1][1]))).takeOrdered(10, lambda x: (-x[1],x[0]))\n",
    "\n",
    "print(combined_rdd[:10])\n",
    "\n",
    "end_spark_sort_time = time.time() - start_spark_sort_time"
   ],
   "metadata": {
    "collapsed": false,
    "pycharm": {
     "name": "#%%\n"
    }
   }
  },
  {
   "cell_type": "code",
   "execution_count": 122,
   "outputs": [
    {
     "data": {
      "text/plain": "[('Calgary', 5.0),\n ('Chandler', 5.0),\n ('Gilbert', 5.0),\n ('McKees Rocks', 5.0),\n ('Orange Village', 4.0),\n ('Las Vegas', 3.7),\n ('Markham', 3.0),\n ('Mesa', 3.0),\n ('Phoenix', 3.0),\n ('Pittsburgh', 3.0)]"
     },
     "execution_count": 122,
     "metadata": {},
     "output_type": "execute_result"
    }
   ],
   "source": [
    "combined_rdd[:10]"
   ],
   "metadata": {
    "collapsed": false,
    "pycharm": {
     "name": "#%%\n"
    }
   }
  },
  {
   "cell_type": "code",
   "execution_count": 120,
   "outputs": [
    {
     "data": {
      "text/plain": "7.429518938064575"
     },
     "execution_count": 120,
     "metadata": {},
     "output_type": "execute_result"
    }
   ],
   "source": [
    "end_spark_sort_time"
   ],
   "metadata": {
    "collapsed": false,
    "pycharm": {
     "name": "#%%\n"
    }
   }
  }
 ],
 "metadata": {
  "kernelspec": {
   "display_name": "Python 3",
   "language": "python",
   "name": "python3"
  },
  "language_info": {
   "codemirror_mode": {
    "name": "ipython",
    "version": 2
   },
   "file_extension": ".py",
   "mimetype": "text/x-python",
   "name": "python",
   "nbconvert_exporter": "python",
   "pygments_lexer": "ipython2",
   "version": "2.7.6"
  }
 },
 "nbformat": 4,
 "nbformat_minor": 0
}